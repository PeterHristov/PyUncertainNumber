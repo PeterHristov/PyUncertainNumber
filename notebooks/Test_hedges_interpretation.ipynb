{
 "cells": [
  {
   "cell_type": "code",
   "execution_count": 5,
   "id": "d7e98581-f4ec-49ab-b7c9-e9d124d39bee",
   "metadata": {},
   "outputs": [
    {
     "data": {
      "text/html": [
       "<pre style=\"white-space:pre;overflow-x:auto;line-height:normal;font-family:Menlo,'DejaVu Sans Mono',consolas,'Courier New',monospace\"><span style=\"color: #800000; text-decoration-color: #800000\">╭─────────────────────────────── </span><span style=\"color: #800000; text-decoration-color: #800000; font-weight: bold\">Traceback </span><span style=\"color: #bf7f7f; text-decoration-color: #bf7f7f; font-weight: bold\">(most recent call last)</span><span style=\"color: #800000; text-decoration-color: #800000\"> ────────────────────────────────╮</span>\n",
       "<span style=\"color: #800000; text-decoration-color: #800000\">│</span> in <span style=\"color: #00ff00; text-decoration-color: #00ff00\">&lt;module&gt;</span>:<span style=\"color: #0000ff; text-decoration-color: #0000ff\">1</span>                                                                                    <span style=\"color: #800000; text-decoration-color: #800000\">│</span>\n",
       "<span style=\"color: #800000; text-decoration-color: #800000\">│</span>                                                                                                  <span style=\"color: #800000; text-decoration-color: #800000\">│</span>\n",
       "<span style=\"color: #800000; text-decoration-color: #800000\">│</span> <span style=\"color: #800000; text-decoration-color: #800000\">❱ </span>1 <span style=\"color: #0000ff; text-decoration-color: #0000ff; font-weight: bold; text-decoration: underline\">from</span><span style=\"font-weight: bold; text-decoration: underline\"> </span><span style=\"color: #00ffff; text-decoration-color: #00ffff; font-weight: bold; text-decoration: underline\">pyuncertainnumber.nlp.language_parsing</span><span style=\"font-weight: bold; text-decoration: underline\"> </span><span style=\"color: #0000ff; text-decoration-color: #0000ff; font-weight: bold; text-decoration: underline\">import</span><span style=\"font-weight: bold; text-decoration: underline\"> *</span>                                         <span style=\"color: #800000; text-decoration-color: #800000\">│</span>\n",
       "<span style=\"color: #800000; text-decoration-color: #800000\">│</span>   <span style=\"color: #7f7f7f; text-decoration-color: #7f7f7f\">2 </span><span style=\"color: #0000ff; text-decoration-color: #0000ff\">from</span> <span style=\"color: #00ffff; text-decoration-color: #00ffff; text-decoration: underline\">rich</span> <span style=\"color: #0000ff; text-decoration-color: #0000ff\">import</span> <span style=\"color: #00ffff; text-decoration-color: #00ffff\">print</span> <span style=\"color: #0000ff; text-decoration-color: #0000ff\">as</span> rprint                                                             <span style=\"color: #800000; text-decoration-color: #800000\">│</span>\n",
       "<span style=\"color: #800000; text-decoration-color: #800000\">│</span>   <span style=\"color: #7f7f7f; text-decoration-color: #7f7f7f\">3 </span><span style=\"color: #0000ff; text-decoration-color: #0000ff\">import</span> <span style=\"color: #00ffff; text-decoration-color: #00ffff; text-decoration: underline\">matplotlib.pyplot</span> <span style=\"color: #0000ff; text-decoration-color: #0000ff\">as</span> <span style=\"color: #00ffff; text-decoration-color: #00ffff; text-decoration: underline\">plt</span>                                                              <span style=\"color: #800000; text-decoration-color: #800000\">│</span>\n",
       "<span style=\"color: #800000; text-decoration-color: #800000\">│</span>   <span style=\"color: #7f7f7f; text-decoration-color: #7f7f7f\">4 </span><span style=\"color: #0000ff; text-decoration-color: #0000ff\">from</span> <span style=\"color: #00ffff; text-decoration-color: #00ffff; text-decoration: underline\">PyUncertainNumber.pba.params</span> <span style=\"color: #0000ff; text-decoration-color: #0000ff\">import</span> *                                                   <span style=\"color: #800000; text-decoration-color: #800000\">│</span>\n",
       "<span style=\"color: #800000; text-decoration-color: #800000\">╰──────────────────────────────────────────────────────────────────────────────────────────────────╯</span>\n",
       "<span style=\"color: #ff0000; text-decoration-color: #ff0000; font-weight: bold\">ModuleNotFoundError: </span>No module named <span style=\"color: #008000; text-decoration-color: #008000\">'pyuncertainnumber'</span>\n",
       "</pre>\n"
      ],
      "text/plain": [
       "\u001b[31m╭─\u001b[0m\u001b[31m──────────────────────────────\u001b[0m\u001b[31m \u001b[0m\u001b[1;31mTraceback \u001b[0m\u001b[1;2;31m(most recent call last)\u001b[0m\u001b[31m \u001b[0m\u001b[31m───────────────────────────────\u001b[0m\u001b[31m─╮\u001b[0m\n",
       "\u001b[31m│\u001b[0m in \u001b[92m<module>\u001b[0m:\u001b[94m1\u001b[0m                                                                                    \u001b[31m│\u001b[0m\n",
       "\u001b[31m│\u001b[0m                                                                                                  \u001b[31m│\u001b[0m\n",
       "\u001b[31m│\u001b[0m \u001b[31m❱ \u001b[0m1 \u001b[1;4;94mfrom\u001b[0m\u001b[1;4m \u001b[0m\u001b[1;4;96mpyuncertainnumber\u001b[0m\u001b[1;4;96m.\u001b[0m\u001b[1;4;96mnlp\u001b[0m\u001b[1;4;96m.\u001b[0m\u001b[1;4;96mlanguage_parsing\u001b[0m\u001b[1;4m \u001b[0m\u001b[1;4;94mimport\u001b[0m\u001b[1;4m *\u001b[0m                                         \u001b[31m│\u001b[0m\n",
       "\u001b[31m│\u001b[0m   \u001b[2m2 \u001b[0m\u001b[94mfrom\u001b[0m \u001b[4;96mrich\u001b[0m \u001b[94mimport\u001b[0m \u001b[96mprint\u001b[0m \u001b[94mas\u001b[0m rprint                                                             \u001b[31m│\u001b[0m\n",
       "\u001b[31m│\u001b[0m   \u001b[2m3 \u001b[0m\u001b[94mimport\u001b[0m \u001b[4;96mmatplotlib\u001b[0m\u001b[4;96m.\u001b[0m\u001b[4;96mpyplot\u001b[0m \u001b[94mas\u001b[0m \u001b[4;96mplt\u001b[0m                                                              \u001b[31m│\u001b[0m\n",
       "\u001b[31m│\u001b[0m   \u001b[2m4 \u001b[0m\u001b[94mfrom\u001b[0m \u001b[4;96mPyUncertainNumber\u001b[0m\u001b[4;96m.\u001b[0m\u001b[4;96mpba\u001b[0m\u001b[4;96m.\u001b[0m\u001b[4;96mparams\u001b[0m \u001b[94mimport\u001b[0m *                                                   \u001b[31m│\u001b[0m\n",
       "\u001b[31m╰──────────────────────────────────────────────────────────────────────────────────────────────────╯\u001b[0m\n",
       "\u001b[1;91mModuleNotFoundError: \u001b[0mNo module named \u001b[32m'pyuncertainnumber'\u001b[0m\n"
      ]
     },
     "metadata": {},
     "output_type": "display_data"
    }
   ],
   "source": [
    "from pyuncertainnumber.nlp.language_parsing import *\n",
    "from rich import print as rprint\n",
    "import matplotlib.pyplot as plt\n",
    "from PyUncertainNumber.pba.params import *"
   ]
  },
  {
   "cell_type": "code",
   "execution_count": 2,
   "id": "7881b973-45ef-4971-a8e0-ce7c4ea653d4",
   "metadata": {},
   "outputs": [],
   "source": [
    "%load_ext autoreload\n",
    "%autoreload 2\n",
    "%load_ext rich\n",
    "%matplotlib inline"
   ]
  },
  {
   "cell_type": "markdown",
   "id": "45ea8286-83ae-4cde-93ca-d73d4e81c22a",
   "metadata": {
    "jp-MarkdownHeadingCollapsed": true
   },
   "source": [
    "# helper module"
   ]
  },
  {
   "cell_type": "code",
   "execution_count": null,
   "id": "ee3516ab-de90-495a-80cb-8764c76d98fd",
   "metadata": {},
   "outputs": [],
   "source": [
    "def test_hedge_interpretation(input_numstr):\n",
    "    \"\"\" a helper func to verify func 'hedge_interpretation \"\"\"\n",
    "\n",
    "    rprint(f\"With the input '{input_numstr}':\")\n",
    "    rprint(f'we get: {hedge_interpret(input_numstr)}')"
   ]
  },
  {
   "cell_type": "code",
   "execution_count": null,
   "id": "8a0428fe-4295-4591-a82b-cb98f922b86a",
   "metadata": {},
   "outputs": [],
   "source": [
    "# def test_func(text):\n",
    "#     splitted_list = text.split()\n",
    "#     kwd = [s for s in splitted_list if not is_number(s)]\n",
    "#     kwd = \" \".join(kwd)\n",
    "#     return kwd"
   ]
  },
  {
   "cell_type": "markdown",
   "id": "c74c703e-8a30-4cd4-afa0-443bf0a6c577",
   "metadata": {},
   "source": [
    "# inputs"
   ]
  },
  {
   "cell_type": "code",
   "execution_count": null,
   "id": "c77d7ac8-a7fd-4afa-a0d8-3bdb1d3a6ab4",
   "metadata": {},
   "outputs": [],
   "source": [
    "x1 = '7'\n",
    "x2 = '7.0'\n",
    "x3 = 'exactly 7'\n",
    "x4 = 'about 7'\n",
    "x5 = 'over 7'\n",
    "x6 = 'at most 7'"
   ]
  },
  {
   "cell_type": "markdown",
   "id": "f91021aa-3bf4-4d2d-99e8-5ba5e4b83a3a",
   "metadata": {
    "jp-MarkdownHeadingCollapsed": true
   },
   "source": [
    "# interval tests"
   ]
  },
  {
   "cell_type": "code",
   "execution_count": null,
   "id": "5db69de7-a715-4100-b9fc-bb4414235d83",
   "metadata": {},
   "outputs": [],
   "source": [
    "test_hedge_interpretation(x1)"
   ]
  },
  {
   "cell_type": "code",
   "execution_count": null,
   "id": "17a5fa06-e3e0-436a-9f69-d53bc16b6864",
   "metadata": {},
   "outputs": [],
   "source": [
    "test_hedge_interpretation(x2)"
   ]
  },
  {
   "cell_type": "code",
   "execution_count": null,
   "id": "eeab74b5-3450-4924-ad87-006204b4670f",
   "metadata": {},
   "outputs": [],
   "source": [
    "test_hedge_interpretation(x3)"
   ]
  },
  {
   "cell_type": "code",
   "execution_count": null,
   "id": "e6ca31c2-c17f-4495-be86-86897d003e4d",
   "metadata": {},
   "outputs": [],
   "source": [
    "test_hedge_interpretation(x4)"
   ]
  },
  {
   "cell_type": "code",
   "execution_count": null,
   "id": "489e52ad-0a01-4c04-95b4-da1bead6f939",
   "metadata": {},
   "outputs": [],
   "source": [
    "test_hedge_interpretation(x5)"
   ]
  },
  {
   "cell_type": "code",
   "execution_count": null,
   "id": "692189a0-4eeb-4626-87be-896f98317a28",
   "metadata": {},
   "outputs": [],
   "source": [
    "test_hedge_interpretation(x6)"
   ]
  },
  {
   "cell_type": "code",
   "execution_count": null,
   "id": "9fba22c5-2b30-4946-8b1a-1770316d01f6",
   "metadata": {},
   "outputs": [],
   "source": [
    "test_hedge_interpretation(\"about 200\")"
   ]
  },
  {
   "cell_type": "code",
   "execution_count": null,
   "id": "671bcd67-04d5-456a-b3c1-46cc9fe5c028",
   "metadata": {},
   "outputs": [],
   "source": [
    "# test check that input hedge must be a string\n",
    "hedge_interpret(7)"
   ]
  },
  {
   "cell_type": "markdown",
   "id": "23b81d95-03ed-419c-b448-5f439a13cc48",
   "metadata": {},
   "source": [
    "### top-level API test"
   ]
  },
  {
   "cell_type": "code",
   "execution_count": null,
   "id": "dacc415c-f9f0-449c-a6ab-a01f588e1280",
   "metadata": {},
   "outputs": [],
   "source": [
    "from PyUncertainNumber.pba.intervalOperators import parse_bounds"
   ]
  },
  {
   "cell_type": "code",
   "execution_count": null,
   "id": "7cc8f26b-92a3-4175-ae95-558db487b059",
   "metadata": {},
   "outputs": [],
   "source": [
    "for x in [x1,x2,x3,x4,x5,x6]:\n",
    "    print(parse_bounds(x))"
   ]
  },
  {
   "cell_type": "code",
   "execution_count": null,
   "id": "596f9fca-9401-4e5f-93b6-f8b211b56e97",
   "metadata": {},
   "outputs": [],
   "source": [
    "parse_bounds(x4)"
   ]
  },
  {
   "cell_type": "markdown",
   "id": "f78baab6-9d2f-49a0-9c0e-9ad2c3cd7772",
   "metadata": {},
   "source": [
    "# pbox tests"
   ]
  },
  {
   "cell_type": "code",
   "execution_count": 3,
   "id": "c79ac78b-f791-4130-8277-2561c29b1c4e",
   "metadata": {},
   "outputs": [],
   "source": [
    "h = hedge_interpret('about 200', return_type='pbox')"
   ]
  },
  {
   "cell_type": "code",
   "execution_count": 4,
   "id": "c0342948-89b0-43cc-8c2f-b70c061593f8",
   "metadata": {},
   "outputs": [
    {
     "data": {
      "text/html": [
       "<pre style=\"white-space:pre;overflow-x:auto;line-height:normal;font-family:Menlo,'DejaVu Sans Mono',consolas,'Courier New',monospace\"></pre>\n"
      ],
      "text/plain": []
     },
     "metadata": {},
     "output_type": "display_data"
    },
    {
     "data": {
      "image/png": "[encoded data removed]",
      "text/plain": [
       "\u001b[1m<\u001b[0m\u001b[1;95mFigure\u001b[0m\u001b[39m size 64\u001b[0m\u001b[1;36m0x480\u001b[0m\u001b[39m with \u001b[0m\u001b[1;36m1\u001b[0m\u001b[39m Axes\u001b[0m\u001b[1m>\u001b[0m"
      ]
     },
     "metadata": {},
     "output_type": "display_data"
    }
   ],
   "source": [
    "_ = h.display(title='about 200')"
   ]
  },
  {
   "cell_type": "markdown",
   "id": "645985a2-0038-40c5-bfb6-8c8094f902a1",
   "metadata": {
    "jp-MarkdownHeadingCollapsed": true
   },
   "source": [
    "# test finding significant figures (digits)"
   ]
  },
  {
   "cell_type": "code",
   "execution_count": null,
   "id": "081b5029-f6d6-4bf1-afd4-afd81c1c47a1",
   "metadata": {},
   "outputs": [],
   "source": [
    "a = '0.0034'"
   ]
  },
  {
   "cell_type": "code",
   "execution_count": null,
   "id": "38708faf-da0c-4c93-b0e0-10e36a2df530",
   "metadata": {},
   "outputs": [],
   "source": [
    "b = '0.0560'"
   ]
  },
  {
   "cell_type": "code",
   "execution_count": null,
   "id": "12420358-0759-4cf6-a465-15a478c00759",
   "metadata": {},
   "outputs": [],
   "source": [
    "count_sigfigs(a)"
   ]
  },
  {
   "cell_type": "code",
   "execution_count": null,
   "id": "887366bc-c048-4e67-9f55-8f16736bc94f",
   "metadata": {},
   "outputs": [],
   "source": [
    "count_sigfigs(b)"
   ]
  },
  {
   "cell_type": "code",
   "execution_count": null,
   "id": "8f6908fb-0178-44cf-8bc3-19daeeaa897e",
   "metadata": {},
   "outputs": [],
   "source": []
  }
 ],
 "metadata": {
  "kernelspec": {
   "display_name": "Python 3 (ipykernel)",
   "language": "python",
   "name": "python3"
  },
  "language_info": {
   "codemirror_mode": {
    "name": "ipython",
    "version": 3
   },
   "file_extension": ".py",
   "mimetype": "text/x-python",
   "name": "python",
   "nbconvert_exporter": "python",
   "pygments_lexer": "ipython3",
   "version": "3.11.10"
  }
 },
 "nbformat": 4,
 "nbformat_minor": 5
}
