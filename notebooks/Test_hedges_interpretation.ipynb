{
 "cells": [
  {
   "cell_type": "code",
   "execution_count": null,
   "id": "d7e98581-f4ec-49ab-b7c9-e9d124d39bee",
   "metadata": {},
   "outputs": [],
   "source": [
    "from PyUncertainNumber.nlp.language_parsing import *\n",
    "from rich import print as rprint"
   ]
  },
  {
   "cell_type": "code",
   "execution_count": null,
   "id": "7881b973-45ef-4971-a8e0-ce7c4ea653d4",
   "metadata": {},
   "outputs": [],
   "source": [
    "%load_ext autoreload\n",
    "%autoreload 2\n",
    "%load_ext rich\n",
    "%matplotlib inline"
   ]
  },
  {
   "cell_type": "markdown",
   "id": "45ea8286-83ae-4cde-93ca-d73d4e81c22a",
   "metadata": {},
   "source": [
    "# helper module"
   ]
  },
  {
   "cell_type": "code",
   "execution_count": null,
   "id": "ee3516ab-de90-495a-80cb-8764c76d98fd",
   "metadata": {},
   "outputs": [],
   "source": [
    "def test_hedge_interpretation(input_numstr):\n",
    "    \"\"\" a helper func to verify func 'hedge_interpretation \"\"\"\n",
    "\n",
    "    rprint(f\"With the input '{input_numstr}':\")\n",
    "    rprint(f'we get: {hedge_interpret(input_numstr)}')"
   ]
  },
  {
   "cell_type": "code",
   "execution_count": null,
   "id": "8a0428fe-4295-4591-a82b-cb98f922b86a",
   "metadata": {},
   "outputs": [],
   "source": [
    "# def test_func(text):\n",
    "#     splitted_list = text.split()\n",
    "#     kwd = [s for s in splitted_list if not is_number(s)]\n",
    "#     kwd = \" \".join(kwd)\n",
    "#     return kwd"
   ]
  },
  {
   "cell_type": "markdown",
   "id": "c74c703e-8a30-4cd4-afa0-443bf0a6c577",
   "metadata": {},
   "source": [
    "# inputs"
   ]
  },
  {
   "cell_type": "code",
   "execution_count": null,
   "id": "c77d7ac8-a7fd-4afa-a0d8-3bdb1d3a6ab4",
   "metadata": {},
   "outputs": [],
   "source": [
    "x1 = '7'\n",
    "x2 = '7.0'\n",
    "x3 = 'exactly 7'\n",
    "x4 = 'about 7'\n",
    "x5 = 'over 7'\n",
    "x6 = 'at most 7'"
   ]
  },
  {
   "cell_type": "markdown",
   "id": "ca60b32d-a65b-4307-b058-678c3da74284",
   "metadata": {},
   "source": [
    "# tmp tests"
   ]
  },
  {
   "cell_type": "code",
   "execution_count": null,
   "id": "f031211a-1c78-4240-b329-eda2439369cc",
   "metadata": {},
   "outputs": [],
   "source": [
    "''' test keyword parsing '''"
   ]
  },
  {
   "cell_type": "code",
   "execution_count": null,
   "id": "a1e7b99c-7702-4d76-9e16-71e5cdadbe98",
   "metadata": {},
   "outputs": [],
   "source": [
    "# splitted_list = x6.split()\n",
    "# kwd = [s for s in splitted_list if not is_number(s)]\n",
    "# print(kwd)"
   ]
  },
  {
   "cell_type": "code",
   "execution_count": null,
   "id": "ee232481-f2d3-4ee7-9005-b0f771dbd7ea",
   "metadata": {},
   "outputs": [],
   "source": [
    "# myTuple = (\"John\", \"Peter\", \"Vicky\")\n",
    "# x = \" \".join(myTuple)\n",
    "# print(x)\n"
   ]
  },
  {
   "cell_type": "markdown",
   "id": "f91021aa-3bf4-4d2d-99e8-5ba5e4b83a3a",
   "metadata": {},
   "source": [
    "# tests"
   ]
  },
  {
   "cell_type": "code",
   "execution_count": null,
   "id": "5db69de7-a715-4100-b9fc-bb4414235d83",
   "metadata": {},
   "outputs": [],
   "source": [
    "test_hedge_interpretation(x1)"
   ]
  },
  {
   "cell_type": "code",
   "execution_count": null,
   "id": "17a5fa06-e3e0-436a-9f69-d53bc16b6864",
   "metadata": {},
   "outputs": [],
   "source": [
    "test_hedge_interpretation(x2)"
   ]
  },
  {
   "cell_type": "code",
   "execution_count": null,
   "id": "eeab74b5-3450-4924-ad87-006204b4670f",
   "metadata": {},
   "outputs": [],
   "source": [
    "test_hedge_interpretation(x3)"
   ]
  },
  {
   "cell_type": "code",
   "execution_count": null,
   "id": "e6ca31c2-c17f-4495-be86-86897d003e4d",
   "metadata": {},
   "outputs": [],
   "source": [
    "test_hedge_interpretation(x4)"
   ]
  },
  {
   "cell_type": "code",
   "execution_count": null,
   "id": "489e52ad-0a01-4c04-95b4-da1bead6f939",
   "metadata": {},
   "outputs": [],
   "source": [
    "test_hedge_interpretation(x5)"
   ]
  },
  {
   "cell_type": "code",
   "execution_count": null,
   "id": "692189a0-4eeb-4626-87be-896f98317a28",
   "metadata": {},
   "outputs": [],
   "source": [
    "test_hedge_interpretation(x6)"
   ]
  },
  {
   "cell_type": "code",
   "execution_count": null,
   "id": "9fba22c5-2b30-4946-8b1a-1770316d01f6",
   "metadata": {},
   "outputs": [],
   "source": [
    "test_hedge_interpretation(\"about 200\")"
   ]
  },
  {
   "cell_type": "code",
   "execution_count": null,
   "id": "671bcd67-04d5-456a-b3c1-46cc9fe5c028",
   "metadata": {},
   "outputs": [],
   "source": [
    "# test check that input hedge must be a string\n",
    "hedge_interpret(7)"
   ]
  },
  {
   "cell_type": "markdown",
   "id": "23b81d95-03ed-419c-b448-5f439a13cc48",
   "metadata": {},
   "source": [
    "## top-level API test"
   ]
  },
  {
   "cell_type": "code",
   "execution_count": null,
   "id": "dacc415c-f9f0-449c-a6ab-a01f588e1280",
   "metadata": {},
   "outputs": [],
   "source": [
    "from PyUncertainNumber.pba.intervalOperators import parse_bounds"
   ]
  },
  {
   "cell_type": "code",
   "execution_count": null,
   "id": "7cc8f26b-92a3-4175-ae95-558db487b059",
   "metadata": {},
   "outputs": [],
   "source": [
    "for x in [x1,x2,x3,x4,x5,x6]:\n",
    "    print(parse_bounds(x))"
   ]
  },
  {
   "cell_type": "code",
   "execution_count": null,
   "id": "596f9fca-9401-4e5f-93b6-f8b211b56e97",
   "metadata": {},
   "outputs": [],
   "source": [
    "parse_bounds(x4)"
   ]
  },
  {
   "cell_type": "code",
   "execution_count": null,
   "id": "bd10fee2-81ac-4866-9cbc-2308e787356b",
   "metadata": {},
   "outputs": [],
   "source": []
  },
  {
   "cell_type": "markdown",
   "id": "645985a2-0038-40c5-bfb6-8c8094f902a1",
   "metadata": {
    "jp-MarkdownHeadingCollapsed": true
   },
   "source": [
    "# test finding significant figures (digits)"
   ]
  },
  {
   "cell_type": "code",
   "execution_count": null,
   "id": "081b5029-f6d6-4bf1-afd4-afd81c1c47a1",
   "metadata": {},
   "outputs": [],
   "source": [
    "a = '0.0034'"
   ]
  },
  {
   "cell_type": "code",
   "execution_count": null,
   "id": "38708faf-da0c-4c93-b0e0-10e36a2df530",
   "metadata": {},
   "outputs": [],
   "source": [
    "b = '0.0560'"
   ]
  },
  {
   "cell_type": "code",
   "execution_count": null,
   "id": "12420358-0759-4cf6-a465-15a478c00759",
   "metadata": {},
   "outputs": [],
   "source": [
    "count_sigfigs(a)"
   ]
  },
  {
   "cell_type": "code",
   "execution_count": null,
   "id": "887366bc-c048-4e67-9f55-8f16736bc94f",
   "metadata": {},
   "outputs": [],
   "source": [
    "count_sigfigs(b)"
   ]
  },
  {
   "cell_type": "code",
   "execution_count": null,
   "id": "8f6908fb-0178-44cf-8bc3-19daeeaa897e",
   "metadata": {},
   "outputs": [],
   "source": []
  }
 ],
 "metadata": {
  "kernelspec": {
   "display_name": "Python 3 (ipykernel)",
   "language": "python",
   "name": "python3"
  },
  "language_info": {
   "codemirror_mode": {
    "name": "ipython",
    "version": 3
   },
   "file_extension": ".py",
   "mimetype": "text/x-python",
   "name": "python",
   "nbconvert_exporter": "python",
   "pygments_lexer": "ipython3",
   "version": "3.11.10"
  }
 },
 "nbformat": 4,
 "nbformat_minor": 5
}
