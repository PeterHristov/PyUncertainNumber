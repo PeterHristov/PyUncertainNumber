{
 "cells": [
  {
   "cell_type": "markdown",
   "id": "6eb15e51-0abd-4976-bd3f-78678e6c35c2",
   "metadata": {},
   "source": [
    "# Introduction\n",
    "Testing the functionality of the `PyUncertainNumber` class along the way. I will show several different ways a user can create an UN object given various levels of information available."
   ]
  },
  {
   "cell_type": "code",
   "execution_count": 11,
   "id": "2624b15a-e6d1-44db-b2c4-13be5b82b143",
   "metadata": {},
   "outputs": [],
   "source": [
    "from PyUncertainNumber.UC.uncertainNumber import UncertainNumber as UN\n",
    "from PyUncertainNumber import pba \n",
    "from PyUncertainNumber.UC.utils import UNEncoder, cd_root_dir\n",
    "import dataclasses, json"
   ]
  },
  {
   "cell_type": "code",
   "execution_count": 2,
   "id": "8f1c631c-f99d-44ee-b707-441b267877ee",
   "metadata": {},
   "outputs": [],
   "source": [
    "from rich import print as rprint\n",
    "import matplotlib.pyplot as plt\n",
    "import numpy as np"
   ]
  },
  {
   "cell_type": "code",
   "execution_count": 3,
   "id": "255d7520-207f-4957-974f-9c38c7bc57f8",
   "metadata": {},
   "outputs": [],
   "source": [
    "%load_ext autoreload\n",
    "%autoreload 2\n",
    "%load_ext rich\n",
    "%matplotlib inline"
   ]
  },
  {
   "cell_type": "code",
   "execution_count": 4,
   "id": "62a5a6c9-96bf-43d5-ab7e-8fb7b6f6993f",
   "metadata": {},
   "outputs": [
    {
     "name": "stdout",
     "output_type": "stream",
     "text": [
      "current directory: /Users/lesliec/Documents/Github_repos/PyUncertainNumber\n"
     ]
    }
   ],
   "source": [
    "cd_root_dir(depth=1)"
   ]
  },
  {
   "cell_type": "markdown",
   "id": "420dede1-15e8-42dd-b2f2-57dcbf971dda",
   "metadata": {
    "jp-MarkdownHeadingCollapsed": true
   },
   "source": [
    "# a walk-through of Uncertainty characterisation (UC) usage\n",
    "\n",
    "- with a dummy example of elastic modulus"
   ]
  },
  {
   "cell_type": "markdown",
   "id": "b16fe0ef-ff13-417a-84b8-4e9db76279ec",
   "metadata": {
    "jp-MarkdownHeadingCollapsed": true
   },
   "source": [
    "# minimal speficication\n",
    "which leads to vacuous intervals"
   ]
  },
  {
   "cell_type": "code",
   "execution_count": 8,
   "id": "150464ed-3736-4562-85fa-eaeeb9ff6c58",
   "metadata": {},
   "outputs": [
    {
     "name": "stdout",
     "output_type": "stream",
     "text": [
      "a vacuous interval is created\n"
     ]
    }
   ],
   "source": [
    "# the most extreme when nothing is inputted\n",
    "un = UN()"
   ]
  },
  {
   "cell_type": "code",
   "execution_count": 9,
   "id": "64f03b92-4357-44fe-a62e-e3953a0ecfa5",
   "metadata": {},
   "outputs": [
    {
     "data": {
      "text/html": [
       "<pre style=\"white-space:pre;overflow-x:auto;line-height:normal;font-family:Menlo,'DejaVu Sans Mono',consolas,'Courier New',monospace\"></pre>\n"
      ],
      "text/plain": []
     },
     "metadata": {},
     "output_type": "display_data"
    },
    {
     "data": {
      "text/plain": [
       "\u001b[1;35mUncertainNumber\u001b[0m\u001b[1m(\u001b[0m\u001b[33messence\u001b[0m=\u001b[32m'interval'\u001b[0m, \u001b[33mbounds\u001b[0m=\u001b[1m[\u001b[0m-inf, inf\u001b[1m]\u001b[0m, \u001b[33mnaked_value\u001b[0m=\u001b[35mnan\u001b[0m\u001b[1m)\u001b[0m"
      ]
     },
     "execution_count": 9,
     "metadata": {},
     "output_type": "execute_result"
    }
   ],
   "source": [
    "un"
   ]
  },
  {
   "cell_type": "code",
   "execution_count": null,
   "id": "8a7f2ebd-c0dc-4d20-ba37-9f5b03a58367",
   "metadata": {},
   "outputs": [],
   "source": [
    "un = UN(\n",
    "    name='elas_modulus', \n",
    "    symbol='E', \n",
    "    units='Pa')"
   ]
  },
  {
   "cell_type": "code",
   "execution_count": null,
   "id": "a311724b-7972-4f18-a25d-aace97dc6f61",
   "metadata": {},
   "outputs": [],
   "source": [
    "# the verbose user-friendly string representation\n",
    "rprint(un.__str__()) # __str__"
   ]
  },
  {
   "cell_type": "code",
   "execution_count": null,
   "id": "b787ba92-5543-4c00-b8d0-08e56fb07627",
   "metadata": {},
   "outputs": [],
   "source": [
    "rprint(un)"
   ]
  },
  {
   "cell_type": "markdown",
   "id": "c1a52578-d9fa-47d9-aa85-3b9bffd243dc",
   "metadata": {},
   "source": [
    "# if specify an `interval`"
   ]
  },
  {
   "cell_type": "markdown",
   "id": "0d56291f-1572-40ab-ad0e-e1f18a6a649e",
   "metadata": {},
   "source": [
    "#### a quick way to just get an interval for quick computation"
   ]
  },
  {
   "cell_type": "code",
   "execution_count": 10,
   "id": "9dc07165-d614-4643-be92-e102bdfd95ca",
   "metadata": {},
   "outputs": [
    {
     "data": {
      "text/html": [
       "<pre style=\"white-space:pre;overflow-x:auto;line-height:normal;font-family:Menlo,'DejaVu Sans Mono',consolas,'Courier New',monospace\"></pre>\n"
      ],
      "text/plain": []
     },
     "metadata": {},
     "output_type": "display_data"
    },
    {
     "data": {
      "text/plain": [
       "\u001b[1;35mUncertainNumber\u001b[0m\u001b[1m(\u001b[0m\u001b[33messence\u001b[0m=\u001b[32m'interval'\u001b[0m, \u001b[33mbounds\u001b[0m=\u001b[1m[\u001b[0m\u001b[1;36m2\u001b[0m, \u001b[1;36m3\u001b[0m\u001b[1m]\u001b[0m, \u001b[33mnaked_value\u001b[0m=\u001b[1;36m2\u001b[0m\u001b[1;36m.5\u001b[0m\u001b[1m)\u001b[0m"
      ]
     },
     "execution_count": 10,
     "metadata": {},
     "output_type": "execute_result"
    }
   ],
   "source": [
    "a = UN.I([2,3])\n",
    "a"
   ]
  },
  {
   "cell_type": "code",
   "execution_count": 14,
   "id": "ad213dd5-4166-4a8d-93ae-498a5cd34d1f",
   "metadata": {},
   "outputs": [],
   "source": [
    "a = pba.normal([1,2], [2,4])"
   ]
  },
  {
   "cell_type": "code",
   "execution_count": 15,
   "id": "5150e048-40d0-4aed-a320-0d0a06aae261",
   "metadata": {},
   "outputs": [
    {
     "data": {
      "text/html": [
       "<pre style=\"white-space:pre;overflow-x:auto;line-height:normal;font-family:Menlo,'DejaVu Sans Mono',consolas,'Courier New',monospace\"></pre>\n"
      ],
      "text/plain": []
     },
     "metadata": {},
     "output_type": "display_data"
    },
    {
     "data": {
      "text/plain": [
       "Pbox: ~ \u001b[1;35mnorm\u001b[0m\u001b[1m(\u001b[0m\u001b[33mrange\u001b[0m=\u001b[1m[\u001b[0m\u001b[32m'-13.88'\u001b[0m, \u001b[32m'16.88'\u001b[0m\u001b[1m]\u001b[0m, \u001b[33mmean\u001b[0m=\u001b[1m[\u001b[0m\u001b[1;36m2.9323\u001b[0m, \u001b[1;36m20.8244\u001b[0m\u001b[1m]\u001b[0m, \u001b[33mvar\u001b[0m=\u001b[1m[\u001b[0m\u001b[1;36m4.0\u001b[0m, \u001b[1;36m16.0\u001b[0m\u001b[1m]\u001b[0m\u001b[1m)\u001b[0m"
      ]
     },
     "execution_count": 15,
     "metadata": {},
     "output_type": "execute_result"
    }
   ],
   "source": [
    "a"
   ]
  },
  {
   "cell_type": "code",
   "execution_count": 17,
   "id": "6753df37-75bd-4b3a-aaff-4f5578c4e917",
   "metadata": {},
   "outputs": [
    {
     "data": {
      "text/html": [
       "<pre style=\"white-space:pre;overflow-x:auto;line-height:normal;font-family:Menlo,'DejaVu Sans Mono',consolas,'Courier New',monospace\"></pre>\n"
      ],
      "text/plain": []
     },
     "metadata": {},
     "output_type": "display_data"
    },
    {
     "data": {
      "image/png": "[encoded data removed]",
      "text/plain": [
       "\u001b[1m<\u001b[0m\u001b[1;95mFigure\u001b[0m\u001b[39m size 64\u001b[0m\u001b[1;36m0x480\u001b[0m\u001b[39m with \u001b[0m\u001b[1;36m1\u001b[0m\u001b[39m Axes\u001b[0m\u001b[1m>\u001b[0m"
      ]
     },
     "metadata": {},
     "output_type": "display_data"
    }
   ],
   "source": [
    "_ = a.display(style='band')"
   ]
  },
  {
   "cell_type": "code",
   "execution_count": null,
   "id": "b594f034-9485-4f22-87b1-e8edd1f904db",
   "metadata": {},
   "outputs": [],
   "source": []
  },
  {
   "cell_type": "code",
   "execution_count": null,
   "id": "23817722-39fa-41b9-adda-5aed0437d022",
   "metadata": {},
   "outputs": [],
   "source": []
  },
  {
   "cell_type": "code",
   "execution_count": null,
   "id": "f8509624-138b-45c0-9bee-ad89e195350d",
   "metadata": {},
   "outputs": [],
   "source": []
  },
  {
   "cell_type": "code",
   "execution_count": null,
   "id": "bd6b6c1b-4f0c-4d53-b58b-e84634e65cf7",
   "metadata": {},
   "outputs": [],
   "source": []
  },
  {
   "cell_type": "code",
   "execution_count": null,
   "id": "39ffb807-00af-41d0-a06f-595a46e463b1",
   "metadata": {},
   "outputs": [],
   "source": [
    "a._math_object"
   ]
  },
  {
   "cell_type": "code",
   "execution_count": null,
   "id": "778b35fb-3aeb-4009-b365-e5c4f73708b8",
   "metadata": {},
   "outputs": [],
   "source": [
    "a.display(style='band')"
   ]
  },
  {
   "cell_type": "markdown",
   "id": "08eed10e-afed-4459-9b63-ac1b5891ac3b",
   "metadata": {},
   "source": [
    "#### a more verbose/informative way"
   ]
  },
  {
   "cell_type": "code",
   "execution_count": null,
   "id": "f52b2d31-2300-4494-a0c8-366c4e763b2f",
   "metadata": {},
   "outputs": [],
   "source": [
    "''' Example 1: if it is an interval '''\n",
    "\n",
    "interval_UN = UN(name='elas_modulus', \n",
    "                 symbol='E', \n",
    "                 units='Pa', \n",
    "                 essence='interval', # distribution \n",
    "                 bounds=[2,3])"
   ]
  },
  {
   "cell_type": "code",
   "execution_count": null,
   "id": "6bc86192-d87c-4e75-aeed-a1b38d30b243",
   "metadata": {},
   "outputs": [],
   "source": [
    "# check the verbose __str__\n",
    "\n",
    "rprint(interval_UN.__str__())\n",
    "# print(interval_UN)"
   ]
  },
  {
   "cell_type": "code",
   "execution_count": null,
   "id": "29ed9273-835f-42dd-9dc5-726a8b1ec793",
   "metadata": {},
   "outputs": [],
   "source": [
    "interval_UN._math_object"
   ]
  },
  {
   "cell_type": "code",
   "execution_count": null,
   "id": "84c6578b-8095-4f36-8aa9-75826d4a21f4",
   "metadata": {},
   "outputs": [],
   "source": [
    "# check the concise __repr__ representation\n",
    "interval_UN"
   ]
  },
  {
   "cell_type": "code",
   "execution_count": null,
   "id": "f8b9ef65-66d1-411f-945d-763cc8d57d15",
   "metadata": {},
   "outputs": [],
   "source": [
    "# ''' test the dumping functionality '''\n",
    "# TODO this shall be in another demo\n",
    "\n",
    "# test_intervalObj_json = json.dumps(interval_UN, cls=UNEncoder)\n",
    "# test_intervalObj_json"
   ]
  },
  {
   "cell_type": "markdown",
   "id": "b3ec2e7c-c682-4cda-903c-3008c9210b34",
   "metadata": {},
   "source": [
    "#### Example: specific test for parseing string-type of `self.interval_initialisation`"
   ]
  },
  {
   "cell_type": "code",
   "execution_count": null,
   "id": "b9552851-d721-46a2-86ad-f38b515ce65b",
   "metadata": {},
   "outputs": [],
   "source": [
    "# un = UN(name='elas_modulus', \n",
    "#                    symbol='E', \n",
    "#                    units='Pa', \n",
    "#                    essence='interval', \n",
    "#                    bounds='[3 +- 10%]')\n",
    "\n",
    "un = UN(name='elas_modulus', \n",
    "                   symbol='E', \n",
    "                   units='Pa', \n",
    "                   essence='interval', \n",
    "                   bounds='about 3')"
   ]
  },
  {
   "cell_type": "code",
   "execution_count": null,
   "id": "e32ecde1-0da7-40ad-aede-a08a459e01aa",
   "metadata": {},
   "outputs": [],
   "source": [
    "un"
   ]
  },
  {
   "cell_type": "code",
   "execution_count": null,
   "id": "1f08f2f5-47d6-455a-bb30-36788a8ecdc1",
   "metadata": {},
   "outputs": [],
   "source": [
    "un._math_object"
   ]
  },
  {
   "cell_type": "code",
   "execution_count": null,
   "id": "4b28dc1e-accb-4bfd-80ee-c9ba7b2dde9a",
   "metadata": {},
   "outputs": [],
   "source": [
    "un.display(style='band')"
   ]
  },
  {
   "cell_type": "markdown",
   "id": "715dc673-1429-4788-8559-c62431bed43c",
   "metadata": {
    "jp-MarkdownHeadingCollapsed": true
   },
   "source": [
    "# if specify a `distribution`"
   ]
  },
  {
   "cell_type": "code",
   "execution_count": null,
   "id": "f8d23a27-edfb-480d-ab33-491fb000a9db",
   "metadata": {},
   "outputs": [],
   "source": [
    "un = UN(\n",
    "    name='elas_modulus', \n",
    "    symbol='E', \n",
    "    units='Pa', \n",
    "    essence='distribution', \n",
    "    distribution_parameters=['gaussian', (1,2)])"
   ]
  },
  {
   "cell_type": "code",
   "execution_count": null,
   "id": "0ca92ddd-5da1-40d1-b079-ad4eb39e3e44",
   "metadata": {},
   "outputs": [],
   "source": [
    "un._math_object"
   ]
  },
  {
   "cell_type": "code",
   "execution_count": null,
   "id": "8bddfeac-87c2-40f6-8acc-99b0d0cabe27",
   "metadata": {},
   "outputs": [],
   "source": [
    "''' a verbose rep that shows almost everything '''\n",
    "\n",
    "rprint(un.__str__()) # __str__"
   ]
  },
  {
   "cell_type": "code",
   "execution_count": null,
   "id": "b12bac57-5820-4485-89ed-9dfd6d660008",
   "metadata": {},
   "outputs": [],
   "source": [
    "''' this one should resemble the JSON representation '''\n",
    "\n",
    "rprint(un.__repr__()) # __repr__"
   ]
  },
  {
   "cell_type": "code",
   "execution_count": null,
   "id": "e2f244a4-9e0b-41eb-92b4-03f1fb1e2df9",
   "metadata": {},
   "outputs": [],
   "source": [
    "un.display()"
   ]
  },
  {
   "cell_type": "code",
   "execution_count": null,
   "id": "c8473e84-0397-40d2-95c0-e786d306433b",
   "metadata": {},
   "outputs": [],
   "source": [
    "# ''' test the dumping functionality JSON representation '''\n",
    "\n",
    "# test_DistlObj_json = json.dumps(un, cls=UNEncoder)\n",
    "# test_DistlObj_json"
   ]
  },
  {
   "cell_type": "code",
   "execution_count": null,
   "id": "64150ffb-39a2-4008-8292-0cf59e15f183",
   "metadata": {},
   "outputs": [],
   "source": [
    "# ''' test dumping the univariate UN Dist object to the file system '''\n",
    "\n",
    "# un.JSON_dump(filename=\"un_uni.json\")"
   ]
  },
  {
   "cell_type": "code",
   "execution_count": null,
   "id": "3c7eaa82-3416-466a-ad73-01508e8a7c2e",
   "metadata": {},
   "outputs": [],
   "source": [
    "# in fact the upper bound and lower bound overlap\n",
    "un.display()"
   ]
  },
  {
   "cell_type": "markdown",
   "id": "cfdf62ae-4068-4d31-9980-1dd73bdd4025",
   "metadata": {},
   "source": [
    "# if specify a `pbox`\n",
    "\n",
    "You can explicitly call using argument essence='pbox' or implicitly call distribution with interval parameters"
   ]
  },
  {
   "cell_type": "code",
   "execution_count": 6,
   "id": "812362bb-cbc5-4a15-9e9d-5c1cb221168c",
   "metadata": {},
   "outputs": [
    {
     "data": {
      "text/html": [
       "<pre style=\"white-space:pre;overflow-x:auto;line-height:normal;font-family:Menlo,'DejaVu Sans Mono',consolas,'Courier New',monospace\"></pre>\n"
      ],
      "text/plain": []
     },
     "metadata": {},
     "output_type": "display_data"
    },
    {
     "data": {
      "image/png": "[encoded data removed]",
      "text/plain": [
       "\u001b[1m<\u001b[0m\u001b[1;95mFigure\u001b[0m\u001b[39m size 64\u001b[0m\u001b[1;36m0x480\u001b[0m\u001b[39m with \u001b[0m\u001b[1;36m1\u001b[0m\u001b[39m Axes\u001b[0m\u001b[1m>\u001b[0m"
      ]
     },
     "metadata": {},
     "output_type": "display_data"
    }
   ],
   "source": [
    "un = UN(\n",
    "    name='elas_modulus', \n",
    "    symbol='E', \n",
    "    units='Pa', \n",
    "    essence='pbox', \n",
    "    distribution_parameters=['gaussian', [(0,12),(1,4)]])\n",
    "\n",
    "_ = un.display(style='band')"
   ]
  },
  {
   "cell_type": "code",
   "execution_count": 7,
   "id": "91772bb5-66cb-4154-adc7-f6c92d6fae46",
   "metadata": {},
   "outputs": [
    {
     "data": {
      "text/html": [
       "<pre style=\"white-space:pre;overflow-x:auto;line-height:normal;font-family:Menlo,'DejaVu Sans Mono',consolas,'Courier New',monospace\"></pre>\n"
      ],
      "text/plain": []
     },
     "metadata": {},
     "output_type": "display_data"
    },
    {
     "data": {
      "text/plain": [
       "\u001b[1;35mUncertainNumber\u001b[0m\u001b[1m(\u001b[0m\u001b[33mname\u001b[0m=\u001b[32m'elas_modulus'\u001b[0m, \u001b[33msymbol\u001b[0m=\u001b[32m'E'\u001b[0m, \u001b[33munits\u001b[0m=\u001b[32m'Pa'\u001b[0m, \u001b[33messence\u001b[0m=\u001b[32m'pbox'\u001b[0m, \u001b[33mdistribution_parameters\u001b[0m=\u001b[1m[\u001b[0m\u001b[32m'gaussian'\u001b[0m, \u001b[1m[\u001b[0m\u001b[1m(\u001b[0m\u001b[1;36m0\u001b[0m, \u001b[1;36m12\u001b[0m\u001b[1m)\u001b[0m, \u001b[1m(\u001b[0m\u001b[1;36m1\u001b[0m, \u001b[1;36m4\u001b[0m\u001b[1m)\u001b[0m\u001b[1m]\u001b[0m\u001b[1m]\u001b[0m, \u001b[33mnaked_value\u001b[0m=\u001b[35mInterval\u001b[0m \u001b[1m[\u001b[0m\u001b[1;36m0\u001b[0m, \u001b[1;36m12\u001b[0m\u001b[1m]\u001b[0m\u001b[1m)\u001b[0m"
      ]
     },
     "execution_count": 7,
     "metadata": {},
     "output_type": "execute_result"
    }
   ],
   "source": [
    "un"
   ]
  },
  {
   "cell_type": "code",
   "execution_count": null,
   "id": "f215f34c-8868-4678-8d92-9749f59fe523",
   "metadata": {},
   "outputs": [],
   "source": []
  },
  {
   "cell_type": "code",
   "execution_count": null,
   "id": "01af03e9-b99c-49f1-bb3f-4aaa7551ba94",
   "metadata": {},
   "outputs": [],
   "source": [
    "un = UN(\n",
    "    name='elas_modulus', \n",
    "    symbol='E', \n",
    "    units='Pa', \n",
    "    essence='distribution', \n",
    "    distribution_parameters=['gaussian', [(0,12),(1,4)]])\n",
    "\n",
    "''' it will be same if you put in a list as the parameter interval (essentially, an iterable will work) \n",
    "- as shown below\n",
    "'''\n",
    "\n",
    "# un = UN(\n",
    "#     name='elas_modulus', \n",
    "#     symbol='E', \n",
    "#     units='Pa', \n",
    "#     essence='distribution', \n",
    "#     distribution_parameters=['uniform', [[0,1],[1,2]]])"
   ]
  },
  {
   "cell_type": "code",
   "execution_count": null,
   "id": "31e6b8f6-d467-40b6-8da1-a7fdc7f464e3",
   "metadata": {},
   "outputs": [],
   "source": [
    "_ = un.display(style='simple')"
   ]
  },
  {
   "cell_type": "code",
   "execution_count": null,
   "id": "2034a894-2bd9-4449-b447-c5a20b64988f",
   "metadata": {},
   "outputs": [],
   "source": [
    "un"
   ]
  },
  {
   "cell_type": "code",
   "execution_count": null,
   "id": "93c5c388-94be-4946-9cca-deae5a1d46b4",
   "metadata": {},
   "outputs": [],
   "source": [
    "# __repr__ to show not None"
   ]
  },
  {
   "cell_type": "code",
   "execution_count": null,
   "id": "8d4ae138-2dab-4096-bb79-142052785330",
   "metadata": {},
   "outputs": [],
   "source": [
    "un._math_object"
   ]
  },
  {
   "cell_type": "code",
   "execution_count": null,
   "id": "2211220a-cc71-4e7f-9aca-ca441879a114",
   "metadata": {},
   "outputs": [],
   "source": [
    "# the original plotting \n",
    "un._math_object.show()"
   ]
  },
  {
   "cell_type": "code",
   "execution_count": null,
   "id": "6c36968d-ddf6-4641-8ffb-29a59bc82cbb",
   "metadata": {},
   "outputs": [],
   "source": [
    "# # Leslie revised plotting\n",
    "# failed now\n",
    "un._math_object.display(style='band')"
   ]
  },
  {
   "cell_type": "code",
   "execution_count": null,
   "id": "5737151a-45da-428c-ac25-ee8a89cf7ee5",
   "metadata": {},
   "outputs": [],
   "source": [
    "# # a deliberate wrong case\n",
    "# Im thinking to deprecate this explicit pbox initialisation method but only keep distributional instantiation method\n",
    "\n",
    "# un = UN(name='elas_modulus', \n",
    "#             symbol='E', \n",
    "#             units='pa', \n",
    "#             essence='pbox',\n",
    "#             pbox_parameters=[1,2])"
   ]
  },
  {
   "cell_type": "markdown",
   "id": "7b1bc02b-a145-47f0-be55-20bbc3be25c5",
   "metadata": {},
   "source": [
    "### if specify a `pbox` with ancilllary information"
   ]
  },
  {
   "cell_type": "code",
   "execution_count": null,
   "id": "8eee910f-3a32-4483-931f-a1cc55e22996",
   "metadata": {},
   "outputs": [],
   "source": [
    "un = UN(\n",
    "    name='Elas_modulus', \n",
    "    symbol='E', \n",
    "    units='GPa', \n",
    "    essence='distribution', \n",
    "    distribution_parameters=['gaussian', [(0,1),(1,2)]],\n",
    "    measurand = \"unobservable parameter\",\n",
    "    nature = \"expert opinion\",\n",
    "    provenence = \"analyst\",\n",
    "    justification = \"reference\",\n",
    ")"
   ]
  },
  {
   "cell_type": "code",
   "execution_count": null,
   "id": "609930e8-a0b8-48ca-9e93-4ac6fed39c80",
   "metadata": {},
   "outputs": [],
   "source": [
    "un"
   ]
  },
  {
   "cell_type": "markdown",
   "id": "86324930-d507-4dcd-8542-ea5bba0496dd",
   "metadata": {},
   "source": [
    "**an example on how parameter bounds are based**\n",
    "\n",
    "- depending on what information do people characterise the parameter bounds"
   ]
  },
  {
   "cell_type": "code",
   "execution_count": null,
   "id": "cc19ac4f-29c4-472d-a757-9325e2fd2906",
   "metadata": {},
   "outputs": [],
   "source": [
    "# mannual specification based on existing knowledge \n",
    "UN(essence='distribution', \n",
    "    distribution_parameters=['gaussian', [(0,1),(1,2)]],\n",
    "    provenence = \"expert opinions\",\n",
    "    justification = \"authority\")"
   ]
  },
  {
   "cell_type": "code",
   "execution_count": null,
   "id": "a6688d45-93b4-4b84-acfa-f1449e88e4cd",
   "metadata": {},
   "outputs": [],
   "source": [
    "UN(essence='distribution', \n",
    "    distribution_parameters=['gaussian', [(0.5, 1.5),(1.3, 2.3)]],\n",
    "    provenence = \"estimates from samples\",\n",
    "    justification = \"data source\")"
   ]
  },
  {
   "cell_type": "code",
   "execution_count": null,
   "id": "edf38744-5647-4268-8be0-901ff9f5ea1d",
   "metadata": {},
   "outputs": [],
   "source": [
    "# un.JSON_dump(filename='ancillary_UN.json')"
   ]
  },
  {
   "cell_type": "code",
   "execution_count": null,
   "id": "fe0b015a-a0b4-48f6-be37-3c4a49639c38",
   "metadata": {},
   "outputs": [],
   "source": [
    "### json serializable"
   ]
  },
  {
   "cell_type": "markdown",
   "id": "b06931b4-ff85-476b-a398-cdc7d0b5177c",
   "metadata": {
    "jp-MarkdownHeadingCollapsed": true
   },
   "source": [
    "# from hedged specification"
   ]
  },
  {
   "cell_type": "code",
   "execution_count": null,
   "id": "5590bbb6-f75c-474c-9121-995d60b6fa68",
   "metadata": {},
   "outputs": [],
   "source": [
    "un = UncertainNumber.from_hedge(hedged_language='exactly 7')"
   ]
  },
  {
   "cell_type": "code",
   "execution_count": null,
   "id": "2d2d7c93-3202-4cd6-9b25-47103c3e647f",
   "metadata": {},
   "outputs": [],
   "source": [
    "un._math_object"
   ]
  },
  {
   "cell_type": "code",
   "execution_count": null,
   "id": "159166aa-e942-4452-a604-96fc2a7b6a44",
   "metadata": {},
   "outputs": [],
   "source": [
    "un"
   ]
  },
  {
   "cell_type": "markdown",
   "id": "66e47d1c-d626-428e-8859-6963c8d386ef",
   "metadata": {
    "jp-MarkdownHeadingCollapsed": true
   },
   "source": [
    "# Confidence box\n",
    "\n",
    "Confidence boxes tell you the confidence interval (CI) for a parameter ($\\theta$) at any confidence level you like. Confidence boxes account for the uncertainty about a parameter that comes from the inference from observations, including the effect of small sample size, but also the effects of imprecision in the data and demographic uncertainty which arises from trying to characterize a continuous parameter from discrete data observations. When confidence boxes have the form of probability boxes, they can be propagated through mathematical expressions using the ordinary machinery of probability bounds analysis, and this allows analysts to compute with confidence, both figuratively and literally, because the results also have this confidence interpretation.\n",
    "\n",
    "\n",
    "**some questions though**\n",
    "- why would one want to (or what computation can be done with cbox?)"
   ]
  },
  {
   "cell_type": "code",
   "execution_count": null,
   "id": "82ec2162-bc58-4f3d-8fd9-7b6d64157752",
   "metadata": {},
   "outputs": [],
   "source": [
    "from PyUncertainNumber.pba.cbox import *"
   ]
  },
  {
   "cell_type": "markdown",
   "id": "3b4a0845-b8a1-4414-952a-b77088ee98df",
   "metadata": {},
   "source": [
    "**cbox for the Binomial distribution**"
   ]
  },
  {
   "cell_type": "code",
   "execution_count": null,
   "id": "a012d667-e3df-48c7-b3e7-e7581436b50e",
   "metadata": {},
   "outputs": [],
   "source": [
    "# samples of Binomial distribution\n",
    "d = np.random.binomial(n=12, p=0.6, size=5)\n",
    "d"
   ]
  },
  {
   "cell_type": "code",
   "execution_count": null,
   "id": "eae06872-1d6a-47ef-934f-ad2f9fc07e56",
   "metadata": {},
   "outputs": [],
   "source": [
    "t_cbox = parameter_binomial(x=d, N=12)"
   ]
  },
  {
   "cell_type": "code",
   "execution_count": null,
   "id": "1b543c19-3a24-4b4c-841f-8ecad28d7000",
   "metadata": {},
   "outputs": [],
   "source": [
    "_ = t_cbox.display(title='$C(p)$', style='band')"
   ]
  },
  {
   "cell_type": "code",
   "execution_count": null,
   "id": "7460aa41-3f49-45c2-8edf-74a1b479e5a5",
   "metadata": {},
   "outputs": [],
   "source": [
    "t2_cbox = parameter_binomial(x=2, N=10)\n",
    "\n",
    "# double check the values of the bounds\n",
    "t2_cbox"
   ]
  },
  {
   "cell_type": "code",
   "execution_count": null,
   "id": "bc8961ed-8b50-4a1b-b538-3de0a97a4c57",
   "metadata": {},
   "outputs": [],
   "source": []
  },
  {
   "cell_type": "code",
   "execution_count": null,
   "id": "f4a11074-5d3a-4742-b2c2-38f688273e08",
   "metadata": {},
   "outputs": [],
   "source": []
  },
  {
   "cell_type": "code",
   "execution_count": null,
   "id": "2635b6ed-8401-44db-8586-d661b7eb0830",
   "metadata": {},
   "outputs": [],
   "source": [
    "_ = t2_cbox.display(style='band')"
   ]
  },
  {
   "cell_type": "code",
   "execution_count": null,
   "id": "406bc848-3845-4dc0-8483-06334afc9733",
   "metadata": {},
   "outputs": [],
   "source": [
    "# some tests for the Fig. 3"
   ]
  },
  {
   "cell_type": "code",
   "execution_count": null,
   "id": "ae758ace-2db0-47e2-b7cf-5722ab4c4c8e",
   "metadata": {},
   "outputs": [],
   "source": [
    "t3_cbox = parameter_binomial(x=1, N=3)\n",
    "_ = t3_cbox.display(style='band')"
   ]
  },
  {
   "cell_type": "markdown",
   "id": "16d629fd-9d8e-4094-9fa1-1c9a2d6469ab",
   "metadata": {},
   "source": [
    "**nextvalue Binomial**"
   ]
  },
  {
   "cell_type": "code",
   "execution_count": null,
   "id": "0d44308d-284a-4098-bf44-20e7ca73f352",
   "metadata": {},
   "outputs": [],
   "source": [
    "_ = nextvalue_binomial(x=d, N=12).display(style='band', title='$F(C(p))$')"
   ]
  },
  {
   "cell_type": "code",
   "execution_count": null,
   "id": "6a7e8625-9b1e-4af0-850d-286f0ec4388a",
   "metadata": {},
   "outputs": [],
   "source": []
  },
  {
   "cell_type": "code",
   "execution_count": null,
   "id": "ce2c91f9-62c0-46bb-ba84-c1d5cf5a344c",
   "metadata": {},
   "outputs": [],
   "source": [
    "# poisson"
   ]
  },
  {
   "cell_type": "code",
   "execution_count": null,
   "id": "534d5db2-c032-4c17-bde4-612b9fa1d2ae",
   "metadata": {},
   "outputs": [],
   "source": []
  },
  {
   "cell_type": "code",
   "execution_count": null,
   "id": "f782e27a-386d-48bb-9f6f-f4721070e444",
   "metadata": {},
   "outputs": [],
   "source": []
  },
  {
   "cell_type": "code",
   "execution_count": null,
   "id": "ea246fce-a1b5-46df-b745-13f3cac86510",
   "metadata": {},
   "outputs": [],
   "source": [
    "# normal distribution"
   ]
  },
  {
   "cell_type": "code",
   "execution_count": null,
   "id": "c24f94de-7218-4d86-817f-62c5c9dbd26b",
   "metadata": {},
   "outputs": [],
   "source": [
    "d = np.random.normal(loc=25, scale=5, size=6)\n",
    "d"
   ]
  },
  {
   "cell_type": "code",
   "execution_count": null,
   "id": "e0a645da-2f5d-477a-bee2-24608fe22291",
   "metadata": {},
   "outputs": [],
   "source": [
    "sth = parameter_normal_mu(d)"
   ]
  },
  {
   "cell_type": "code",
   "execution_count": null,
   "id": "c39f9f57-a5d0-4cbd-a0ca-b484b816dcd5",
   "metadata": {},
   "outputs": [],
   "source": [
    "sth.shape"
   ]
  },
  {
   "cell_type": "code",
   "execution_count": null,
   "id": "5d9e415f-6210-4585-9193-2e298ea3f488",
   "metadata": {},
   "outputs": [],
   "source": []
  },
  {
   "cell_type": "markdown",
   "id": "c19d0463-ab7d-4240-b795-d9580a6169cb",
   "metadata": {},
   "source": [
    "**cbox: normal data but interval-valued**"
   ]
  },
  {
   "cell_type": "code",
   "execution_count": null,
   "id": "dd2e01b8-d005-4257-a45c-541e14be6a22",
   "metadata": {},
   "outputs": [],
   "source": []
  },
  {
   "cell_type": "code",
   "execution_count": null,
   "id": "0f57d411-f941-4263-96d2-e30eb253929f",
   "metadata": {},
   "outputs": [],
   "source": []
  },
  {
   "cell_type": "code",
   "execution_count": null,
   "id": "d23e0090-416e-42e8-9bf9-6fb2f0e34dde",
   "metadata": {},
   "outputs": [],
   "source": []
  },
  {
   "cell_type": "markdown",
   "id": "c9b2ac01-1e4a-4ddd-9439-038814af1849",
   "metadata": {},
   "source": [
    "# create and serialise multiple UN objects into JSON"
   ]
  },
  {
   "cell_type": "code",
   "execution_count": null,
   "id": "8b8ed889-ba56-46c8-bb91-d21e15c9e7b6",
   "metadata": {},
   "outputs": [],
   "source": [
    "from PyUncertainNumber.multiple_UN import make_many_intervals, Deck"
   ]
  },
  {
   "cell_type": "code",
   "execution_count": null,
   "id": "f9a525c8-d879-4933-8d1a-e23a826c5725",
   "metadata": {},
   "outputs": [],
   "source": [
    "deck = Deck()"
   ]
  },
  {
   "cell_type": "code",
   "execution_count": null,
   "id": "660c7d65-1b83-43ce-98c5-6c814c89a009",
   "metadata": {},
   "outputs": [],
   "source": [
    "# # show __repr__ which is long\n",
    "# deck.JSON_dump(filename=\"./results/mulUN_data.json\")"
   ]
  },
  {
   "cell_type": "markdown",
   "id": "f689ffe3-1c7c-4dac-bc07-80537b1b2fa1",
   "metadata": {
    "jp-MarkdownHeadingCollapsed": true
   },
   "source": [
    "# pool"
   ]
  },
  {
   "cell_type": "code",
   "execution_count": null,
   "id": "36ab9c6d-255b-44a0-9812-1aeebe69b32a",
   "metadata": {},
   "outputs": [],
   "source": [
    "# interval_UN.__dict__\n",
    "# this thing is the starting point of dumping into JSON;\n",
    "# I have a few steps in order\n",
    "# 1. to remove all the None\n",
    "# modify a few things for the `_math_object`."
   ]
  },
  {
   "cell_type": "code",
   "execution_count": null,
   "id": "1c7513fb-a046-4714-8c9f-45f9e97738ed",
   "metadata": {},
   "outputs": [],
   "source": [
    "# json_mulUN_data = make_many_intervals()\n",
    "# type(json_mulUN_data)\n",
    "# json_mulUN_data[0]\n",
    "# with open('./results/mulUN_data.json', 'w') as fp:\n",
    "#     json.dump(json_mulUN_data, fp, cls=UNEncoder, indent=4)"
   ]
  },
  {
   "cell_type": "code",
   "execution_count": null,
   "id": "16ab905f-86f1-455a-9a40-eabac91c2351",
   "metadata": {},
   "outputs": [],
   "source": [
    "''' dumping to filesystem '''\n",
    "\n",
    "# with open('./results/un_object.json', 'w') as fp:\n",
    "#     json.dump(test_DistlObj_json, fp, indent=4)"
   ]
  }
 ],
 "metadata": {
  "kernelspec": {
   "display_name": "Python 3 (ipykernel)",
   "language": "python",
   "name": "python3"
  },
  "language_info": {
   "codemirror_mode": {
    "name": "ipython",
    "version": 3
   },
   "file_extension": ".py",
   "mimetype": "text/x-python",
   "name": "python",
   "nbconvert_exporter": "python",
   "pygments_lexer": "ipython3",
   "version": "3.10.14"
  }
 },
 "nbformat": 4,
 "nbformat_minor": 5
}
