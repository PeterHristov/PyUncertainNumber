{
 "cells": [
  {
   "cell_type": "markdown",
   "id": "752da43f-7536-4e5d-ad28-658d3d9b55fd",
   "metadata": {},
   "source": [
    "# Introduction\n",
    "\n",
    "- Test the Nick's implementation of the `Interval` module"
   ]
  },
  {
   "cell_type": "code",
   "execution_count": 8,
   "id": "80b5cb1b-b799-4e6f-8472-c6ffe3d4fad8",
   "metadata": {},
   "outputs": [],
   "source": [
    "from PyUncertainNumber.pba.interval import Interval as I\n",
    "from PyUncertainNumber.pba.interval import PM"
   ]
  },
  {
   "cell_type": "code",
   "execution_count": 10,
   "id": "c903fee8-3e40-45a7-ac33-266e1e106b13",
   "metadata": {},
   "outputs": [],
   "source": [
    "from PyUncertainNumber import pba"
   ]
  },
  {
   "cell_type": "code",
   "execution_count": 4,
   "id": "58bbfe1f-f339-4a9e-9b03-c5ce18b50bfe",
   "metadata": {},
   "outputs": [],
   "source": [
    "# help(I)"
   ]
  },
  {
   "cell_type": "code",
   "execution_count": 5,
   "id": "feb0970e-3451-4b8b-9ecd-31e3a980cf4c",
   "metadata": {},
   "outputs": [],
   "source": [
    "# the orthodox way of instantiate an `Interval` object is via endpoints\n",
    "some_interval = I(2.3, 4.2)"
   ]
  },
  {
   "cell_type": "code",
   "execution_count": 7,
   "id": "65e4da01-680c-4f3d-b8d8-669b8879e471",
   "metadata": {},
   "outputs": [
    {
     "data": {
      "text/plain": [
       "Interval [2.3, 4.2]"
      ]
     },
     "execution_count": 7,
     "metadata": {},
     "output_type": "execute_result"
    }
   ],
   "source": [
    "# see the repr\n",
    "some_interval"
   ]
  },
  {
   "cell_type": "code",
   "execution_count": 15,
   "id": "559de529-ce9d-4a0d-9fa4-356cb8cba137",
   "metadata": {},
   "outputs": [],
   "source": [
    "# the mid+range style of instantiating an `Interval` object using a constructor 'PM'\n",
    "# help(PM)"
   ]
  },
  {
   "cell_type": "code",
   "execution_count": 13,
   "id": "4ee33f16-6b3b-47a5-beb4-75cf73e70306",
   "metadata": {},
   "outputs": [],
   "source": [
    "another_interval = pba.PM(0,1)"
   ]
  },
  {
   "cell_type": "code",
   "execution_count": 14,
   "id": "7e8e4c18-08f4-4514-82e4-fe8deb2e467b",
   "metadata": {},
   "outputs": [
    {
     "data": {
      "text/plain": [
       "Interval [-1, 1]"
      ]
     },
     "execution_count": 14,
     "metadata": {},
     "output_type": "execute_result"
    }
   ],
   "source": [
    "another_interval"
   ]
  },
  {
   "cell_type": "code",
   "execution_count": null,
   "id": "ff975e8c-84b7-4693-a037-611d6cb40f42",
   "metadata": {},
   "outputs": [],
   "source": []
  }
 ],
 "metadata": {
  "kernelspec": {
   "display_name": "Python (daws2)",
   "language": "python",
   "name": "daws2"
  },
  "language_info": {
   "codemirror_mode": {
    "name": "ipython",
    "version": 3
   },
   "file_extension": ".py",
   "mimetype": "text/x-python",
   "name": "python",
   "nbconvert_exporter": "python",
   "pygments_lexer": "ipython3",
   "version": "3.10.14"
  }
 },
 "nbformat": 4,
 "nbformat_minor": 5
}
