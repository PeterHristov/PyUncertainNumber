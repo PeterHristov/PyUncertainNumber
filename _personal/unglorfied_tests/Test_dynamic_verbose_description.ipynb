{
 "cells": [
  {
   "cell_type": "markdown",
   "id": "805e9d9b-f311-484f-9590-66beb937a5aa",
   "metadata": {
    "jp-MarkdownHeadingCollapsed": true
   },
   "source": [
    "# Introduction\n",
    "\n",
    "To test the functionality of verbose description of the UN object"
   ]
  },
  {
   "cell_type": "code",
   "execution_count": 1,
   "id": "d7e98581-f4ec-49ab-b7c9-e9d124d39bee",
   "metadata": {},
   "outputs": [],
   "source": [
    "from PyUncertainNumber.NLP_constructor.language_parsing import is_number, count_sigfigs, hedge_interpret, count_sig_digits_bias\n",
    "from rich import print as rprint\n",
    "import matplotlib.pyplot as plt"
   ]
  },
  {
   "cell_type": "code",
   "execution_count": 2,
   "id": "ee3a56c2-2fd8-49c4-814a-1371073c43de",
   "metadata": {},
   "outputs": [],
   "source": [
    "from PyUncertainNumber.UC.uncertainNumber import UncertainNumber\n",
    "from PyUncertainNumber.UC.utils import UNEncoder, cd_root_dir\n",
    "import dataclasses, json"
   ]
  },
  {
   "cell_type": "code",
   "execution_count": 3,
   "id": "1a195de6-ae32-40fb-893f-64fabe125478",
   "metadata": {},
   "outputs": [],
   "source": [
    "%load_ext autoreload\n",
    "%autoreload 2"
   ]
  },
  {
   "cell_type": "code",
   "execution_count": 4,
   "id": "1bbad42c-54f2-49eb-820d-732d12c74133",
   "metadata": {},
   "outputs": [],
   "source": [
    "%load_ext rich"
   ]
  },
  {
   "cell_type": "code",
   "execution_count": 5,
   "id": "6d4dfede-8102-4319-a0fa-2fd99858d5b4",
   "metadata": {},
   "outputs": [],
   "source": [
    "from rich import print as rprint"
   ]
  },
  {
   "cell_type": "markdown",
   "id": "45ea8286-83ae-4cde-93ca-d73d4e81c22a",
   "metadata": {},
   "source": [
    "# if the `UN` is an Interval"
   ]
  },
  {
   "cell_type": "code",
   "execution_count": 6,
   "id": "9985420e-d4dd-41e7-bb3f-34e328677772",
   "metadata": {},
   "outputs": [],
   "source": [
    "# if it is an interval\n",
    "interval_UN = UncertainNumber(name='elas_modulus', \n",
    "                    symbol='E', units='pa', \n",
    "                    essence='interval', interval_initialisation=[2,3])"
   ]
  },
  {
   "cell_type": "code",
   "execution_count": 7,
   "id": "719e72b1-0b41-46b5-a7bf-6e212d8f512b",
   "metadata": {},
   "outputs": [
    {
     "data": {
      "text/html": [
       "<pre style=\"white-space:pre;overflow-x:auto;line-height:normal;font-family:Menlo,'DejaVu Sans Mono',consolas,'Courier New',monospace\"></pre>\n"
      ],
      "text/plain": []
     },
     "metadata": {},
     "output_type": "display_data"
    },
    {
     "data": {
      "text/plain": [
       "\u001b[32m\"UncertainNumber\u001b[0m\u001b[32m(\u001b[0m\u001b[32mname\u001b[0m\u001b[32m='elas_modulus', \u001b[0m\u001b[32msymbol\u001b[0m\u001b[32m='E', \u001b[0m\u001b[32munits\u001b[0m\u001b[32m='pa', \u001b[0m\u001b[32messence\u001b[0m\u001b[32m='interval', \u001b[0m\u001b[32minterval_initialisation\u001b[0m\u001b[32m=\u001b[0m\u001b[32m[\u001b[0m\u001b[32m2, 3\u001b[0m\u001b[32m]\u001b[0m\u001b[32m)\u001b[0m\u001b[32m\"\u001b[0m"
      ]
     },
     "execution_count": 7,
     "metadata": {},
     "output_type": "execute_result"
    }
   ],
   "source": [
    "interval_UN.description(type='concise') # == __repr__"
   ]
  },
  {
   "cell_type": "code",
   "execution_count": 8,
   "id": "273e2c8e-5b50-4571-8978-db1cc26d815e",
   "metadata": {},
   "outputs": [
    {
     "data": {
      "text/html": [
       "<pre style=\"white-space:pre;overflow-x:auto;line-height:normal;font-family:Menlo,'DejaVu Sans Mono',consolas,'Courier New',monospace\"></pre>\n"
      ],
      "text/plain": []
     },
     "metadata": {},
     "output_type": "display_data"
    },
    {
     "data": {
      "text/plain": [
       "\u001b[32m'This is an interval-type Uncertain Number whose min value is 2.00 and max value is 3.00.'\u001b[0m"
      ]
     },
     "execution_count": 8,
     "metadata": {},
     "output_type": "execute_result"
    }
   ],
   "source": [
    "interval_UN.description(type='range')"
   ]
  },
  {
   "cell_type": "code",
   "execution_count": 9,
   "id": "fb37b35a-0eb5-480e-a854-6a60f5dca559",
   "metadata": {},
   "outputs": [
    {
     "data": {
      "text/html": [
       "<pre style=\"white-space:pre;overflow-x:auto;line-height:normal;font-family:Menlo,'DejaVu Sans Mono',consolas,'Courier New',monospace\"></pre>\n"
      ],
      "text/plain": []
     },
     "metadata": {},
     "output_type": "display_data"
    },
    {
     "data": {
      "text/plain": [
       "\u001b[32m'This is an interval-type Uncertain Number whose min value is 2.00 and max value is 3.00. An interval is a range of values that are possible for the measurand whose value is unknown, which typically represents the epistemic uncertainty. The interval is defined by the minimum and maximum values \u001b[0m\u001b[32m(\u001b[0m\u001b[32mi.e. lower bound and upper bound\u001b[0m\u001b[32m)\u001b[0m\u001b[32m that the measurand could take on.'\u001b[0m"
      ]
     },
     "execution_count": 9,
     "metadata": {},
     "output_type": "execute_result"
    }
   ],
   "source": [
    "interval_UN.description(type='verbose')"
   ]
  },
  {
   "cell_type": "markdown",
   "id": "17da14a4-52e1-41c4-bcbc-c6bd48945d77",
   "metadata": {},
   "source": [
    "# if the `UN` is a Distribution"
   ]
  },
  {
   "cell_type": "code",
   "execution_count": 10,
   "id": "f2c9ddf0-caaa-475d-9c6b-9bc61462d33d",
   "metadata": {},
   "outputs": [],
   "source": [
    "''' create an distribution-type UN object '''\n",
    "\n",
    "UN_dist = UncertainNumber(\n",
    "    name='elas_modulus', symbol='E', units='Pa', essence='distribution', \n",
    "    distribution_initialisation=['normal', (0,1)])"
   ]
  },
  {
   "cell_type": "code",
   "execution_count": 11,
   "id": "4fcebf5d-b8bb-4d84-b74e-c135f108fe91",
   "metadata": {},
   "outputs": [
    {
     "data": {
      "text/html": [
       "<pre style=\"white-space:pre;overflow-x:auto;line-height:normal;font-family:Menlo,'DejaVu Sans Mono',consolas,'Courier New',monospace\"></pre>\n"
      ],
      "text/plain": []
     },
     "metadata": {},
     "output_type": "display_data"
    },
    {
     "data": {
      "text/plain": [
       "\u001b[32m'This is an distribution-type Uncertain Number whose naked value is 1.03'\u001b[0m"
      ]
     },
     "execution_count": 11,
     "metadata": {},
     "output_type": "execute_result"
    }
   ],
   "source": [
    "UN_dist.description(type='one-number')  \n",
    "# calling the `self.deter_value_rep` which implicitly calls 'pba's `self.mean_left` arrtribute\n",
    "# unsure how Nick named these atrributes ... also applies to the `range` below"
   ]
  },
  {
   "cell_type": "code",
   "execution_count": 12,
   "id": "0a4eac24-81f6-434d-a3a3-59cc36c1a15f",
   "metadata": {},
   "outputs": [
    {
     "data": {
      "text/html": [
       "<pre style=\"white-space:pre;overflow-x:auto;line-height:normal;font-family:Menlo,'DejaVu Sans Mono',consolas,'Courier New',monospace\"></pre>\n"
      ],
      "text/plain": []
     },
     "metadata": {},
     "output_type": "display_data"
    },
    {
     "data": {
      "text/plain": [
       "\u001b[32m\"UncertainNumber\u001b[0m\u001b[32m(\u001b[0m\u001b[32mname\u001b[0m\u001b[32m='elas_modulus', \u001b[0m\u001b[32msymbol\u001b[0m\u001b[32m='E', \u001b[0m\u001b[32munits\u001b[0m\u001b[32m='Pa', \u001b[0m\u001b[32messence\u001b[0m\u001b[32m='distribution', \u001b[0m\u001b[32mdistribution_initialisation\u001b[0m\u001b[32m=\u001b[0m\u001b[32m[\u001b[0m\u001b[32m'normal', \u001b[0m\u001b[32m(\u001b[0m\u001b[32m0, 1\u001b[0m\u001b[32m)\u001b[0m\u001b[32m]\u001b[0m\u001b[32m)\u001b[0m\u001b[32m\"\u001b[0m"
      ]
     },
     "execution_count": 12,
     "metadata": {},
     "output_type": "execute_result"
    }
   ],
   "source": [
    "UN_dist.description(type='concise')  # == __repr__"
   ]
  },
  {
   "cell_type": "code",
   "execution_count": 13,
   "id": "5344d65b-eacd-4ba4-8fe4-91a065f132b4",
   "metadata": {},
   "outputs": [
    {
     "data": {
      "text/html": [
       "<pre style=\"white-space:pre;overflow-x:auto;line-height:normal;font-family:Menlo,'DejaVu Sans Mono',consolas,'Courier New',monospace\"></pre>\n"
      ],
      "text/plain": []
     },
     "metadata": {},
     "output_type": "display_data"
    },
    {
     "data": {
      "text/plain": [
       "\u001b[32m\"This is an distribution-type Uncertain Number with 'some' range of -3.72 and 3.72.\"\u001b[0m"
      ]
     },
     "execution_count": 13,
     "metadata": {},
     "output_type": "execute_result"
    }
   ],
   "source": [
    "UN_dist.description(type='range')"
   ]
  },
  {
   "cell_type": "code",
   "execution_count": 14,
   "id": "1b55b7fc-ec26-4f08-85dd-a58f1b63984a",
   "metadata": {},
   "outputs": [
    {
     "data": {
      "text/html": [
       "<pre style=\"white-space:pre;overflow-x:auto;line-height:normal;font-family:Menlo,'DejaVu Sans Mono',consolas,'Courier New',monospace\"></pre>\n"
      ],
      "text/plain": []
     },
     "metadata": {},
     "output_type": "display_data"
    },
    {
     "data": {
      "text/plain": [
       "\u001b[32m'This is a distribution-type Uncertain Number that follows a normal distribution with parameters \u001b[0m\u001b[32m(\u001b[0m\u001b[32m0, 1\u001b[0m\u001b[32m)\u001b[0m\u001b[32m. Probability distributios are typically empolyed to model aleatoric uncertainty, which represents inherent randomness. The distribution is defined by the probability density function \u001b[0m\u001b[32m(\u001b[0m\u001b[32mpdf\u001b[0m\u001b[32m)\u001b[0m\u001b[32m or cumulative distribution function \u001b[0m\u001b[32m(\u001b[0m\u001b[32mcdf\u001b[0m\u001b[32m)\u001b[0m\u001b[32m.'\u001b[0m"
      ]
     },
     "execution_count": 14,
     "metadata": {},
     "output_type": "execute_result"
    }
   ],
   "source": [
    "UN_dist.description(type='verbose')"
   ]
  },
  {
   "cell_type": "code",
   "execution_count": 15,
   "id": "f6da97a0-746b-4d35-94a8-926fdf5fa4c8",
   "metadata": {},
   "outputs": [
    {
     "name": "stdout",
     "output_type": "stream",
     "text": [
      "This is an distribution-type Uncertain Number whose statistical description is shown below:\n",
      "- family: normal\n",
      "- min: -3.72\n",
      "- Q1: something\n",
      "- mean: 1.0283422989376214\n",
      "- Q3: something\n",
      "- variance: something\n"
     ]
    }
   ],
   "source": [
    "UN_dist.description(type='five-number')"
   ]
  },
  {
   "cell_type": "code",
   "execution_count": 16,
   "id": "65d1540b-8abc-40b4-83ce-c5c45cfa13f2",
   "metadata": {},
   "outputs": [
    {
     "name": "stdout",
     "output_type": "stream",
     "text": [
      "This is an distribution-type Uncertain Number of family 'normal' parameterised by (0, 1)\n"
     ]
    },
    {
     "data": {
      "text/html": [
       "<pre style=\"white-space:pre;overflow-x:auto;line-height:normal;font-family:Menlo,'DejaVu Sans Mono',consolas,'Courier New',monospace\"></pre>\n"
      ],
      "text/plain": []
     },
     "metadata": {},
     "output_type": "display_data"
    },
    {
     "data": {
      "image/png": "[encoded data removed]",
      "text/plain": [
       "\u001b[1m<\u001b[0m\u001b[1;95mFigure\u001b[0m\u001b[39m size 64\u001b[0m\u001b[1;36m0x480\u001b[0m\u001b[39m with \u001b[0m\u001b[1;36m1\u001b[0m\u001b[39m Axes\u001b[0m\u001b[1m>\u001b[0m"
      ]
     },
     "metadata": {},
     "output_type": "display_data"
    }
   ],
   "source": [
    "UN_dist.description(type='risk calc')"
   ]
  },
  {
   "cell_type": "code",
   "execution_count": null,
   "id": "bdd75023-4103-4a90-999a-20e1fc81d3a0",
   "metadata": {},
   "outputs": [],
   "source": []
  }
 ],
 "metadata": {
  "kernelspec": {
   "display_name": "Python (daws2)",
   "language": "python",
   "name": "daws2"
  },
  "language_info": {
   "codemirror_mode": {
    "name": "ipython",
    "version": 3
   },
   "file_extension": ".py",
   "mimetype": "text/x-python",
   "name": "python",
   "nbconvert_exporter": "python",
   "pygments_lexer": "ipython3",
   "version": "3.10.14"
  }
 },
 "nbformat": 4,
 "nbformat_minor": 5
}
