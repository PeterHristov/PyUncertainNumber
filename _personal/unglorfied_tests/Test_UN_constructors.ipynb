{
 "cells": [
  {
   "cell_type": "markdown",
   "id": "6eb15e51-0abd-4976-bd3f-78678e6c35c2",
   "metadata": {},
   "source": [
    "# Introduction\n",
    "\n",
    "This file is to show all the possible **constructors** to instantiate a UN object."
   ]
  },
  {
   "cell_type": "code",
   "execution_count": 1,
   "id": "8500c122-b52b-443a-9d0d-7db8dddecbaf",
   "metadata": {},
   "outputs": [],
   "source": [
    "from PyUncertainNumber import UncertainNumber as UN"
   ]
  },
  {
   "cell_type": "code",
   "execution_count": 2,
   "id": "255d7520-207f-4957-974f-9c38c7bc57f8",
   "metadata": {},
   "outputs": [],
   "source": [
    "%load_ext autoreload\n",
    "%autoreload 2\n",
    "\n",
    "%load_ext rich"
   ]
  },
  {
   "cell_type": "code",
   "execution_count": null,
   "id": "62a5a6c9-96bf-43d5-ab7e-8fb7b6f6993f",
   "metadata": {},
   "outputs": [],
   "source": [
    "# cd_root_dir()"
   ]
  },
  {
   "cell_type": "markdown",
   "id": "f8818d26-7cff-405a-bb52-b0517290e1bb",
   "metadata": {},
   "source": [
    "# the `base` Constructor\n",
    "\n",
    "- using the argument `distribution_parameters` which is a list combo of `['uniform', (1,2)]`"
   ]
  },
  {
   "cell_type": "code",
   "execution_count": null,
   "id": "0771a23a-6133-406c-96d7-8654a7d4c2bb",
   "metadata": {},
   "outputs": [],
   "source": [
    "# the defaut way (base constructor)\n",
    "\n",
    "E = UN(\n",
    "    name=\"elastic modulus\",\n",
    "    symbol=\"E\",\n",
    "    units=\"Pa\",\n",
    "    essence=\"distribution\",\n",
    "    distribution_parameters=['uniform', (1,2)],\n",
    ")"
   ]
  },
  {
   "cell_type": "code",
   "execution_count": null,
   "id": "5f7872c0-a207-46aa-9c3d-219e59eddab9",
   "metadata": {},
   "outputs": [],
   "source": [
    "E.describe(\"one-number\")"
   ]
  },
  {
   "cell_type": "code",
   "execution_count": null,
   "id": "dca3c30b-13c2-4a73-bd55-d441073e042b",
   "metadata": {},
   "outputs": [],
   "source": [
    "E.quick_plot()"
   ]
  },
  {
   "cell_type": "markdown",
   "id": "31fb65bf-de81-4f33-819b-aa0b9c35e189",
   "metadata": {},
   "source": [
    "# the `from_distribution` constructor"
   ]
  },
  {
   "cell_type": "code",
   "execution_count": null,
   "id": "79c9db71-f536-4beb-b791-197651f1d2c3",
   "metadata": {},
   "outputs": [],
   "source": [
    "un_obj = UN.from_distribution(\n",
    "            dist_family='gaussian', \n",
    "            dist_params=[0, 1], \n",
    "            name='elas_modulus', \n",
    "            symbol='E', \n",
    "            units='pa')"
   ]
  },
  {
   "cell_type": "code",
   "execution_count": 5,
   "id": "5eca2421-f034-4796-a6ab-e12c5cf7a0f5",
   "metadata": {},
   "outputs": [],
   "source": [
    "# ! it shall be noted that dist_params can be specified using text string\n",
    "\n",
    "# constructor 2 (.distributionSetup)\n",
    "\n",
    "un_obj = UN.from_distribution(\n",
    "            dist_family='gaussian', \n",
    "            dist_params='[0, 1]', \n",
    "            name='elas_modulus', \n",
    "            symbol='E', \n",
    "            units='pa')"
   ]
  },
  {
   "cell_type": "code",
   "execution_count": 6,
   "id": "0c854045-1f21-4cca-b917-33aa9afef77c",
   "metadata": {},
   "outputs": [
    {
     "data": {
      "text/html": [
       "<pre style=\"white-space:pre;overflow-x:auto;line-height:normal;font-family:Menlo,'DejaVu Sans Mono',consolas,'Courier New',monospace\"></pre>\n"
      ],
      "text/plain": []
     },
     "metadata": {},
     "output_type": "display_data"
    },
    {
     "data": {
      "text/plain": [
       "\u001b[1;35mUncertainNumber\u001b[0m\u001b[1m(\u001b[0m\u001b[33mname\u001b[0m=\u001b[32m'elas_modulus'\u001b[0m, \u001b[33msymbol\u001b[0m=\u001b[32m'E'\u001b[0m, \u001b[33munits\u001b[0m=\u001b[32m'pa'\u001b[0m, \u001b[33messence\u001b[0m=\u001b[32m'distribution'\u001b[0m, \u001b[33mdistribution_parameters\u001b[0m=\u001b[1m[\u001b[0m\u001b[32m'gaussian'\u001b[0m, \u001b[1m[\u001b[0m\u001b[1;36m0\u001b[0m, \u001b[1;36m1\u001b[0m\u001b[1m]\u001b[0m\u001b[1m]\u001b[0m\u001b[1m)\u001b[0m"
      ]
     },
     "execution_count": 6,
     "metadata": {},
     "output_type": "execute_result"
    }
   ],
   "source": [
    "un_obj"
   ]
  },
  {
   "cell_type": "code",
   "execution_count": null,
   "id": "cbb776b6-0206-456f-9fd1-80da03d41e20",
   "metadata": {},
   "outputs": [],
   "source": [
    "# ''' underlying test '''\n",
    "\n",
    "\n",
    "# from PyUncertainNumber.UC.check import DistributionSpecification\n",
    "# ds = DistributionSpecification(dist_family='uniform', dist_params='[1,2]')\n",
    "# ds.get_specification()\n",
    "\n",
    "# ds2 = DistributionSpecification(dist_family='uniform', dist_params=[1,2])\n",
    "# ds2.get_specification()"
   ]
  },
  {
   "cell_type": "markdown",
   "id": "b06931b4-ff85-476b-a398-cdc7d0b5177c",
   "metadata": {},
   "source": [
    "# from hedged specification"
   ]
  },
  {
   "cell_type": "code",
   "execution_count": null,
   "id": "5590bbb6-f75c-474c-9121-995d60b6fa68",
   "metadata": {},
   "outputs": [],
   "source": [
    "un_obj = UncertainNumber.from_hedge(hedged_language='exactly 7')"
   ]
  },
  {
   "cell_type": "code",
   "execution_count": null,
   "id": "2d2d7c93-3202-4cd6-9b25-47103c3e647f",
   "metadata": {},
   "outputs": [],
   "source": [
    "un_obj._math_object"
   ]
  },
  {
   "cell_type": "code",
   "execution_count": null,
   "id": "159166aa-e942-4452-a604-96fc2a7b6a44",
   "metadata": {},
   "outputs": [],
   "source": [
    "un_obj"
   ]
  }
 ],
 "metadata": {
  "kernelspec": {
   "display_name": "pyun",
   "language": "python",
   "name": "pyun"
  },
  "language_info": {
   "codemirror_mode": {
    "name": "ipython",
    "version": 3
   },
   "file_extension": ".py",
   "mimetype": "text/x-python",
   "name": "python",
   "nbconvert_exporter": "python",
   "pygments_lexer": "ipython3",
   "version": "3.10.14"
  }
 },
 "nbformat": 4,
 "nbformat_minor": 5
}
