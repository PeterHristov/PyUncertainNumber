{
 "cells": [
  {
   "cell_type": "markdown",
   "id": "1a5f42e3-7973-4f8e-8b4f-c1a8827a8c2f",
   "metadata": {},
   "source": [
    "# Introduction\n",
    "\n",
    "In this file, I put down all the features of UN for my own reference."
   ]
  },
  {
   "cell_type": "code",
   "execution_count": null,
   "id": "35453bbb-f535-4f70-b8a0-617f4d96cb72",
   "metadata": {},
   "outputs": [],
   "source": []
  },
  {
   "cell_type": "code",
   "execution_count": null,
   "id": "7da7c507-cec8-4146-b989-26562e3414e9",
   "metadata": {},
   "outputs": [],
   "source": []
  }
 ],
 "metadata": {
  "kernelspec": {
   "display_name": "pyun",
   "language": "python",
   "name": "pyun"
  },
  "language_info": {
   "codemirror_mode": {
    "name": "ipython",
    "version": 3
   },
   "file_extension": ".py",
   "mimetype": "text/x-python",
   "name": "python",
   "nbconvert_exporter": "python",
   "pygments_lexer": "ipython3",
   "version": "3.10.14"
  }
 },
 "nbformat": 4,
 "nbformat_minor": 5
}
