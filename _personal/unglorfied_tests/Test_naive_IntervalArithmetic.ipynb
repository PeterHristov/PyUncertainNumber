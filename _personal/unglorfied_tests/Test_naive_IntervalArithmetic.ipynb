{
 "cells": [
  {
   "cell_type": "code",
   "execution_count": 1,
   "id": "635c1dc1-e122-4d02-af88-30099b5c2baf",
   "metadata": {},
   "outputs": [],
   "source": [
    "%load_ext autoreload\n",
    "%autoreload 2\n",
    "%load_ext rich"
   ]
  },
  {
   "cell_type": "code",
   "execution_count": 2,
   "id": "619c896b-90f4-4efd-ad11-73a5b2c5db71",
   "metadata": {},
   "outputs": [],
   "source": [
    "from PyUncertainNumber.UP.vertex import vertexMethod\n",
    "from PyUncertainNumber.UP.performance_func import cantilever_beam_func, cantilever_beam_deflection, cantilever_beam_stress\n",
    "from PyUncertainNumber.UC.uncertainNumber import UncertainNumber as UN\n",
    "\n",
    "import numpy as np"
   ]
  },
  {
   "cell_type": "markdown",
   "id": "985f9f2c-d4f8-4d21-b6df-5f83e3bc171b",
   "metadata": {},
   "source": [
    "# naive interval arithmetic test"
   ]
  },
  {
   "cell_type": "code",
   "execution_count": 5,
   "id": "f123620d-5e24-44aa-9faa-5d348b1ef9c0",
   "metadata": {},
   "outputs": [],
   "source": [
    "y = UN(name='beam width', symbol='y', units='m', essence='interval', interval_initialisation=[0.145, 0.155])\n",
    "L = UN(name='beam length', symbol='L', units='m', essence='interval', interval_initialisation=[9.95, 10.05])\n",
    "I = UN(name='moment of inertia', symbol='I', units='m', essence='interval', interval_initialisation=[0.0003861591, 0.0005213425])\n",
    "F = UN(name='vertical force', symbol='F', units='kN', essence='interval', interval_initialisation=[11, 37])\n",
    "E = UN(name='elastic modulus', symbol='E', units='GPa', essence='interval', interval_initialisation=[200, 220])"
   ]
  },
  {
   "cell_type": "code",
   "execution_count": 6,
   "id": "f6a3661a-1baf-4cb6-bce9-ee108540e021",
   "metadata": {
    "collapsed": true,
    "jupyter": {
     "outputs_hidden": true
    }
   },
   "outputs": [
    {
     "data": {
      "text/html": [
       "<pre style=\"white-space:pre;overflow-x:auto;line-height:normal;font-family:Menlo,'DejaVu Sans Mono',consolas,'Courier New',monospace\"></pre>\n"
      ],
      "text/plain": []
     },
     "metadata": {},
     "output_type": "display_data"
    },
    {
     "data": {
      "text/plain": [
       "\u001b[1;35mUncertainNumber\u001b[0m\u001b[1m(\u001b[0m\u001b[33messence\u001b[0m=\u001b[32m'interval'\u001b[0m, \u001b[33minterval_initialisation\u001b[0m=\u001b[1m[\u001b[0m\u001b[1;36m10.094999999999999\u001b[0m, \u001b[1;36m10.205\u001b[0m\u001b[1m]\u001b[0m\u001b[1m)\u001b[0m"
      ]
     },
     "execution_count": 6,
     "metadata": {},
     "output_type": "execute_result"
    }
   ],
   "source": [
    "y + L"
   ]
  },
  {
   "cell_type": "code",
   "execution_count": 7,
   "id": "d52d1fee-9504-4742-99e4-6473fef607ab",
   "metadata": {},
   "outputs": [
    {
     "data": {
      "text/html": [
       "<pre style=\"white-space:pre;overflow-x:auto;line-height:normal;font-family:Menlo,'DejaVu Sans Mono',consolas,'Courier New',monospace\"></pre>\n"
      ],
      "text/plain": []
     },
     "metadata": {},
     "output_type": "display_data"
    },
    {
     "data": {
      "text/plain": [
       "\u001b[1;35mUncertainNumber\u001b[0m\u001b[1m(\u001b[0m\u001b[33messence\u001b[0m=\u001b[32m'interval'\u001b[0m, \u001b[33minterval_initialisation\u001b[0m=\u001b[1m[\u001b[0m\u001b[1;36m21.0953861591\u001b[0m, \u001b[1;36m47.2055213425\u001b[0m\u001b[1m]\u001b[0m\u001b[1m)\u001b[0m"
      ]
     },
     "execution_count": 7,
     "metadata": {},
     "output_type": "execute_result"
    }
   ],
   "source": [
    "y + L + I + F"
   ]
  },
  {
   "cell_type": "code",
   "execution_count": 8,
   "id": "0fe2bfb6-574b-4358-b133-e46f731a8382",
   "metadata": {},
   "outputs": [
    {
     "data": {
      "text/plain": [
       "\u001b[0;31mSignature:\u001b[0m \u001b[0mcantilever_beam_deflection\u001b[0m\u001b[0;34m(\u001b[0m\u001b[0mbeam_length\u001b[0m\u001b[0;34m,\u001b[0m \u001b[0mI\u001b[0m\u001b[0;34m,\u001b[0m \u001b[0mF\u001b[0m\u001b[0;34m,\u001b[0m \u001b[0mE\u001b[0m\u001b[0;34m)\u001b[0m\u001b[0;34m\u001b[0m\u001b[0;34m\u001b[0m\u001b[0m\n",
       "\u001b[0;31mDocstring:\u001b[0m to compute the deflection in the cantilever beam example\n",
       "\u001b[0;31mFile:\u001b[0m      ~/Documents/Github_repos/daws2/src/PyUncertainNumber/UP/performance_func.py\n",
       "\u001b[0;31mType:\u001b[0m      function"
      ]
     },
     "metadata": {},
     "output_type": "display_data"
    }
   ],
   "source": [
    "cantilever_beam_deflection?"
   ]
  },
  {
   "cell_type": "code",
   "execution_count": 9,
   "id": "51613979-04ea-47e2-8610-eff229a760f1",
   "metadata": {},
   "outputs": [],
   "source": [
    "naive_ari_result = cantilever_beam_deflection(L, I, F, E)\n",
    "\n",
    "# numer_ = F * L**3\n",
    "# denominator_ = 3 * E * 10**6 * I\n",
    "# numer_ / denominator_"
   ]
  },
  {
   "cell_type": "code",
   "execution_count": 10,
   "id": "35adddba-eebf-431a-89e0-704e78634116",
   "metadata": {},
   "outputs": [
    {
     "data": {
      "text/html": [
       "<pre style=\"white-space:pre;overflow-x:auto;line-height:normal;font-family:Menlo,'DejaVu Sans Mono',consolas,'Courier New',monospace\"></pre>\n"
      ],
      "text/plain": []
     },
     "metadata": {},
     "output_type": "display_data"
    },
    {
     "data": {
      "text/plain": [
       "\u001b[1;35mUncertainNumber\u001b[0m\u001b[1m(\u001b[0m\u001b[33messence\u001b[0m=\u001b[32m'interval'\u001b[0m, \u001b[33minterval_initialisation\u001b[0m=\u001b[1m[\u001b[0m\u001b[1;36m0.031491609802257306\u001b[0m, \u001b[1;36m0.16209976503208137\u001b[0m\u001b[1m]\u001b[0m\u001b[1m)\u001b[0m"
      ]
     },
     "execution_count": 10,
     "metadata": {},
     "output_type": "execute_result"
    }
   ],
   "source": [
    "naive_ari_result"
   ]
  },
  {
   "cell_type": "code",
   "execution_count": null,
   "id": "8c892ce6-d4d5-4a53-8ac7-fec4a5b0ce2b",
   "metadata": {},
   "outputs": [],
   "source": []
  }
 ],
 "metadata": {
  "kernelspec": {
   "display_name": "Python (daws2)",
   "language": "python",
   "name": "daws2"
  },
  "language_info": {
   "codemirror_mode": {
    "name": "ipython",
    "version": 3
   },
   "file_extension": ".py",
   "mimetype": "text/x-python",
   "name": "python",
   "nbconvert_exporter": "python",
   "pygments_lexer": "ipython3",
   "version": "3.10.14"
  }
 },
 "nbformat": 4,
 "nbformat_minor": 5
}
