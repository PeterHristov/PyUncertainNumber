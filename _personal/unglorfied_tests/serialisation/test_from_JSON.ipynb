{
 "cells": [
  {
   "cell_type": "code",
   "execution_count": 1,
   "id": "289f1e12-edf6-4774-b637-fca1d3e319f4",
   "metadata": {},
   "outputs": [],
   "source": [
    "from PyUncertainNumber.UC.uncertainNumber import UncertainNumber as UN"
   ]
  },
  {
   "cell_type": "code",
   "execution_count": 5,
   "id": "0eeccebd-a05d-44cf-bbbe-c9e1e9c8eb27",
   "metadata": {},
   "outputs": [],
   "source": [
    "import json"
   ]
  },
  {
   "cell_type": "code",
   "execution_count": 13,
   "id": "ce188cd7-1765-4eb5-b12b-9e9eccbc2fdb",
   "metadata": {},
   "outputs": [],
   "source": [
    "json_data = {'essence': 'interval', 'name': \n",
    "             'modulus', 'symbol': 'E', 'units': 'Pa', \"interval_initialisation\":[2,3], \"family\":\"\"}"
   ]
  },
  {
   "cell_type": "code",
   "execution_count": 15,
   "id": "3ad1cab2-2ee4-4a82-9380-451487ce7214",
   "metadata": {},
   "outputs": [
    {
     "data": {
      "text/plain": [
       "{'essence': 'interval',\n",
       " 'name': 'modulus',\n",
       " 'symbol': 'E',\n",
       " 'units': 'Pa',\n",
       " 'interval_initialisation': [2, 3]}"
      ]
     },
     "execution_count": 15,
     "metadata": {},
     "output_type": "execute_result"
    }
   ],
   "source": [
    "new_jsondata = {k: v for k, v in json_data.items() if v}\n",
    "new_jsondata"
   ]
  },
  {
   "cell_type": "code",
   "execution_count": null,
   "id": "eaac15ed-5746-4da8-9cc4-d04739058ffe",
   "metadata": {},
   "outputs": [],
   "source": []
  },
  {
   "cell_type": "code",
   "execution_count": 14,
   "id": "3f5d551b-5662-4553-838e-a7b20ac116d3",
   "metadata": {},
   "outputs": [
    {
     "ename": "TypeError",
     "evalue": "UncertainNumber.__init__() got an unexpected keyword argument 'family'",
     "output_type": "error",
     "traceback": [
      "\u001b[0;31m---------------------------------------------------------------------------\u001b[0m",
      "\u001b[0;31mTypeError\u001b[0m                                 Traceback (most recent call last)",
      "Cell \u001b[0;32mIn[14], line 1\u001b[0m\n\u001b[0;32m----> 1\u001b[0m \u001b[43mUN\u001b[49m\u001b[43m(\u001b[49m\u001b[38;5;241;43m*\u001b[39;49m\u001b[38;5;241;43m*\u001b[39;49m\u001b[43mjson_data\u001b[49m\u001b[43m)\u001b[49m\n",
      "\u001b[0;31mTypeError\u001b[0m: UncertainNumber.__init__() got an unexpected keyword argument 'family'"
     ]
    }
   ],
   "source": [
    "# UN(**json_data)"
   ]
  },
  {
   "cell_type": "code",
   "execution_count": null,
   "id": "d414ce0a-5165-4d73-a620-1a8a5e543ae5",
   "metadata": {},
   "outputs": [],
   "source": []
  }
 ],
 "metadata": {
  "kernelspec": {
   "display_name": "Python (daws2)",
   "language": "python",
   "name": "daws2"
  },
  "language_info": {
   "codemirror_mode": {
    "name": "ipython",
    "version": 3
   },
   "file_extension": ".py",
   "mimetype": "text/x-python",
   "name": "python",
   "nbconvert_exporter": "python",
   "pygments_lexer": "ipython3",
   "version": "3.10.14"
  }
 },
 "nbformat": 4,
 "nbformat_minor": 5
}
