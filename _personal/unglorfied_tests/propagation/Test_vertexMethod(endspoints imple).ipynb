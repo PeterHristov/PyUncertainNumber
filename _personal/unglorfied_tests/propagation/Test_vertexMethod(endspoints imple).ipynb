{
 "cells": [
  {
   "cell_type": "code",
   "execution_count": 1,
   "id": "081fc088-f17b-473b-a007-c972012f6ece",
   "metadata": {},
   "outputs": [],
   "source": [
    "%load_ext autoreload\n",
    "%autoreload 2\n",
    "%load_ext rich"
   ]
  },
  {
   "cell_type": "code",
   "execution_count": 35,
   "id": "cccf3f01-66bd-4ba1-b70f-22ab79287691",
   "metadata": {},
   "outputs": [],
   "source": [
    "from PyUncertainNumber.UP.vertex import vertexMethod\n",
    "from PyUncertainNumber.UP.performance_func import cantilever_beam_func, cantilever_beam_deflection, cantilever_beam_stress\n",
    "from PyUncertainNumber.UC.uncertainNumber import UncertainNumber as UN\n",
    "from PyUncertainNumber.UC.utils import UNEncoder, cd_root_dir, to_database\n",
    "import numpy as np\n",
    "import json"
   ]
  },
  {
   "cell_type": "code",
   "execution_count": 3,
   "id": "e0f103a6-3cb0-4d23-a5ad-988da9e462d3",
   "metadata": {},
   "outputs": [
    {
     "name": "stdout",
     "output_type": "stream",
     "text": [
      "current directory: /Users/lesliec/Documents/Github_repos/daws2\n"
     ]
    }
   ],
   "source": [
    "cd_root_dir()"
   ]
  },
  {
   "cell_type": "markdown",
   "id": "131526f6-8ccb-4577-889d-82f3563515ac",
   "metadata": {},
   "source": [
    "## test marco's `endpoints` implementation\n",
    "\n",
    "- The implemention below is based on Marco's `endpoints` function. For another similar implementation of the VertexMethod by Ioanna, refer to the other file named \"Test_vertex_method.ipynb\"."
   ]
  },
  {
   "cell_type": "markdown",
   "id": "90c7004e-609a-4763-95c5-e59ef3b1ecc9",
   "metadata": {},
   "source": [
    "#### inputs"
   ]
  },
  {
   "cell_type": "code",
   "execution_count": 4,
   "id": "d898c607-147c-4023-bd39-e5b4674eddd8",
   "metadata": {},
   "outputs": [],
   "source": [
    "y = UN(name='beam width', symbol='y', units='m', essence='interval', interval_initialisation=[0.145, 0.155])\n",
    "L = UN(name='beam length', symbol='L', units='m', essence='interval', interval_initialisation=[9.95, 10.05])\n",
    "I = UN(name='moment of inertia', symbol='I', units='m', essence='interval', interval_initialisation=[0.0003861591, 0.0005213425])\n",
    "F = UN(name='vertical force', symbol='F', units='kN', essence='interval', interval_initialisation=[11, 37])\n",
    "E = UN(name='elastic modulus', symbol='E', units='GPa', essence='interval', interval_initialisation=[200, 220])"
   ]
  },
  {
   "cell_type": "markdown",
   "id": "bfdd0a47-b6a7-420f-8415-e090277699df",
   "metadata": {},
   "source": [
    "#### outputs"
   ]
  },
  {
   "cell_type": "code",
   "execution_count": 5,
   "id": "aa3f626a-25eb-45ad-97b2-d79e148ee10b",
   "metadata": {},
   "outputs": [
    {
     "data": {
      "text/html": [
       "<pre style=\"white-space:pre;overflow-x:auto;line-height:normal;font-family:Menlo,'DejaVu Sans Mono',consolas,'Courier New',monospace\"></pre>\n"
      ],
      "text/plain": []
     },
     "metadata": {},
     "output_type": "display_data"
    },
    {
     "data": {
      "text/plain": [
       "\u001b[1;35mUncertainNumber\u001b[0m\u001b[1m(\u001b[0m\u001b[33mname\u001b[0m=\u001b[32m'deflection'\u001b[0m, \u001b[33msymbol\u001b[0m=\u001b[32m'D'\u001b[0m, \u001b[33messence\u001b[0m=\u001b[32m'interval'\u001b[0m, \u001b[33minterval_initialisation\u001b[0m=\u001b[1m(\u001b[0m\u001b[1;35mnp.float64\u001b[0m\u001b[1m(\u001b[0m\u001b[1;36m0.031491609802257306\u001b[0m\u001b[1m)\u001b[0m, \u001b[1;35mnp.float64\u001b[0m\u001b[1m(\u001b[0m\u001b[1;36m0.16209976503208137\u001b[0m\u001b[1m)\u001b[0m\u001b[1m)\u001b[0m\u001b[1m)\u001b[0m"
      ]
     },
     "execution_count": 5,
     "metadata": {},
     "output_type": "execute_result"
    }
   ],
   "source": [
    "deflection_bounds_e = UN.endpointsMethod(vars=['L', 'I', 'F', 'E'], func=cantilever_beam_deflection, name='deflection', symbol='D')\n",
    "deflection_bounds_e"
   ]
  },
  {
   "cell_type": "code",
   "execution_count": 6,
   "id": "ba03494f-134d-4629-9d92-50fb827ed9b4",
   "metadata": {},
   "outputs": [
    {
     "data": {
      "text/html": [
       "<pre style=\"white-space:pre;overflow-x:auto;line-height:normal;font-family:Menlo,'DejaVu Sans Mono',consolas,'Courier New',monospace\"></pre>\n"
      ],
      "text/plain": []
     },
     "metadata": {},
     "output_type": "display_data"
    },
    {
     "data": {
      "text/plain": [
       "\u001b[1;35mUncertainNumber\u001b[0m\u001b[1m(\u001b[0m\u001b[33mname\u001b[0m=\u001b[32m'stress'\u001b[0m, \u001b[33msymbol\u001b[0m=\u001b[32m'S'\u001b[0m, \u001b[33messence\u001b[0m=\u001b[32m'interval'\u001b[0m, \u001b[33minterval_initialisation\u001b[0m=\u001b[1m(\u001b[0m\u001b[1;35mnp.float64\u001b[0m\u001b[1m(\u001b[0m\u001b[1;36m30.44112076034468\u001b[0m\u001b[1m)\u001b[0m, \u001b[1;35mnp.float64\u001b[0m\u001b[1m(\u001b[0m\u001b[1;36m149.25648521554976\u001b[0m\u001b[1m)\u001b[0m\u001b[1m)\u001b[0m\u001b[1m)\u001b[0m"
      ]
     },
     "execution_count": 6,
     "metadata": {},
     "output_type": "execute_result"
    }
   ],
   "source": [
    "stress_bounds_e = UN.endpointsMethod(vars=['y', 'L', 'I', 'F'], func=cantilever_beam_stress, name='stress', symbol='S')\n",
    "stress_bounds_e"
   ]
  },
  {
   "cell_type": "markdown",
   "id": "397b98d8-2c5c-4ec5-aaa5-207ea09703a0",
   "metadata": {},
   "source": [
    "# serialisation into JSON file or into database\n",
    "\n",
    "\n",
    "**steps**\n",
    "\n",
    "1. get json representation\n",
    "2. from json into database"
   ]
  },
  {
   "cell_type": "markdown",
   "id": "ca986050-1dd0-4734-bc0f-3786572ec351",
   "metadata": {},
   "source": [
    "#### into Json"
   ]
  },
  {
   "cell_type": "code",
   "execution_count": 10,
   "id": "ff4eba91-f75f-4e88-a596-b8d133fee777",
   "metadata": {},
   "outputs": [],
   "source": [
    "# a list of UN objects\n",
    "input_UN_data = [y, L, I, F, E]\n",
    "output_UN_data = [deflection_bounds_e, stress_bounds_e]"
   ]
  },
  {
   "cell_type": "code",
   "execution_count": 9,
   "id": "b454c44b-2427-4539-b9e6-ecae8361b57d",
   "metadata": {},
   "outputs": [],
   "source": [
    "# json dump to filesystem\n",
    "\n",
    "with open('./results/cantiliver_ex_inputs_data.json', 'w') as fp:\n",
    "    json.dump(input_UN_data, fp, cls=UNEncoder, indent=4)\n",
    "\n",
    "\n",
    "def json_dump(style='concise/verbose')\n",
    "    \"\"\" inform the user about which fields are available \"\"\"\n",
    "    pass"
   ]
  },
  {
   "cell_type": "markdown",
   "id": "cbd24b10-0789-449b-b6f8-118c10ac694c",
   "metadata": {},
   "source": [
    "#### into database"
   ]
  },
  {
   "cell_type": "code",
   "execution_count": 11,
   "id": "4664f86f-c847-47d9-8937-9222de6c0ce8",
   "metadata": {},
   "outputs": [],
   "source": [
    "from pymongo import MongoClient"
   ]
  },
  {
   "cell_type": "code",
   "execution_count": 16,
   "id": "9e5d5b0d-979d-4f98-ba7f-db2c54fcb745",
   "metadata": {},
   "outputs": [],
   "source": [
    "# a verbose way to save into the database\n",
    "# create a JSON file containing all the input UNs\n",
    "\n",
    "inputs_json_rep = json.dumps(input_UN_data, cls=UNEncoder)\n",
    "\n",
    "lb = json.loads(inputs_json_rep)\n",
    "\n",
    "# client = MongoClient()\n",
    "# db = client.cantilever_beam_ex\n",
    "\n",
    "# collection\n",
    "inputs = db.inputs\n",
    "\n",
    "# insert documents\n",
    "new_result = inputs.insert_many(lb)\n",
    "\n",
    "client.close()"
   ]
  },
  {
   "cell_type": "code",
   "execution_count": 36,
   "id": "e5299f0d-f479-4084-883b-c2e6807a0211",
   "metadata": {},
   "outputs": [
    {
     "data": {
      "text/html": [
       "<pre style=\"white-space:pre;overflow-x:auto;line-height:normal;font-family:Menlo,'DejaVu Sans Mono',consolas,'Courier New',monospace\"></pre>\n"
      ],
      "text/plain": []
     },
     "metadata": {},
     "output_type": "display_data"
    },
    {
     "data": {
      "text/plain": [
       "\u001b[1;35mInsertManyResult\u001b[0m\u001b[1m(\u001b[0m\u001b[1m[\u001b[0m\u001b[1;35mObjectId\u001b[0m\u001b[1m(\u001b[0m\u001b[32m'66ba1138a737572b48f62717'\u001b[0m\u001b[1m)\u001b[0m, \u001b[1;35mObjectId\u001b[0m\u001b[1m(\u001b[0m\u001b[32m'66ba1138a737572b48f62718'\u001b[0m\u001b[1m)\u001b[0m\u001b[1m]\u001b[0m, \u001b[33macknowledged\u001b[0m=\u001b[3;92mTrue\u001b[0m\u001b[1m)\u001b[0m"
      ]
     },
     "execution_count": 36,
     "metadata": {},
     "output_type": "execute_result"
    }
   ],
   "source": [
    "''' a streamlined func to save to a database '''\n",
    "\n",
    "to_database(dict_list=output_UN_data, db_name='cantilever_beam_ex', col_name='outputs')"
   ]
  },
  {
   "cell_type": "markdown",
   "id": "d378231f-e93d-4992-8fe2-b4621521c3cc",
   "metadata": {
    "jp-MarkdownHeadingCollapsed": true
   },
   "source": [
    "# Pool"
   ]
  },
  {
   "cell_type": "code",
   "execution_count": null,
   "id": "edc33000-8df6-4b9a-919c-57a55c3f8cf3",
   "metadata": {},
   "outputs": [],
   "source": [
    "# type(inputs_json_rep)\n",
    "\n",
    "# some_dict = dict(inputs_json_rep)\n",
    "# some_dict"
   ]
  },
  {
   "cell_type": "code",
   "execution_count": null,
   "id": "64e75ec7-a283-4609-9670-cc6ff4340850",
   "metadata": {},
   "outputs": [],
   "source": [
    "''' from a list of dict to a dict '''\n",
    "\n",
    "# new_dict = {item['symbol']:item for item in lb}\n",
    "# new_dict"
   ]
  }
 ],
 "metadata": {
  "kernelspec": {
   "display_name": "Python 3 (ipykernel)",
   "language": "python",
   "name": "python3"
  },
  "language_info": {
   "codemirror_mode": {
    "name": "ipython",
    "version": 3
   },
   "file_extension": ".py",
   "mimetype": "text/x-python",
   "name": "python",
   "nbconvert_exporter": "python",
   "pygments_lexer": "ipython3",
   "version": "3.10.14"
  }
 },
 "nbformat": 4,
 "nbformat_minor": 5
}
