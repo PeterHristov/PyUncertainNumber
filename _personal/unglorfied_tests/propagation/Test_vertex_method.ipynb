{
 "cells": [
  {
   "cell_type": "code",
   "execution_count": 1,
   "id": "081fc088-f17b-473b-a007-c972012f6ece",
   "metadata": {},
   "outputs": [],
   "source": [
    "%load_ext autoreload\n",
    "%autoreload 2\n",
    "%load_ext rich"
   ]
  },
  {
   "cell_type": "code",
   "execution_count": 2,
   "id": "cccf3f01-66bd-4ba1-b70f-22ab79287691",
   "metadata": {},
   "outputs": [],
   "source": [
    "from PyUncertainNumber.UP.vertex import vertexMethod\n",
    "from PyUncertainNumber.UP.performance_func import cantilever_beam_func, cantilever_beam_deflection, cantilever_beam_stress\n",
    "from PyUncertainNumber.UC.uncertainNumber import UncertainNumber as UN\n",
    "\n",
    "import numpy as np"
   ]
  },
  {
   "cell_type": "markdown",
   "id": "1f203200-ed02-492d-8e18-e537d20cd69c",
   "metadata": {},
   "source": [
    "# module"
   ]
  },
  {
   "cell_type": "code",
   "execution_count": 3,
   "id": "5768724d-4542-4e52-bd0f-c72d96186e5e",
   "metadata": {},
   "outputs": [],
   "source": [
    "# get the final interval ouputs\n",
    "\n",
    "def postProcess_vertex(df):\n",
    "    \"\"\" postprocess Ioanna's vertexMethod to get the bounds of final outputs \"\"\"\n",
    "    \n",
    "    lb = df[['y0', 'y1']].min()\n",
    "    ub = df[['y0', 'y1']].max()\n",
    "    return (lb.iloc[0], ub.iloc[0]), (lb.iloc[1], ub.iloc[1])"
   ]
  },
  {
   "cell_type": "markdown",
   "id": "fb7f913a-d043-4cdf-88c6-5b99425cab29",
   "metadata": {},
   "source": [
    "### test the original API `vertexMethod` of Ioanna"
   ]
  },
  {
   "cell_type": "code",
   "execution_count": 4,
   "id": "4157193c-bd9e-44a6-9eda-c0bd86a7531b",
   "metadata": {},
   "outputs": [],
   "source": [
    "y = [0.145, 0.155]  # in m\n",
    "beam_length = [9.95, 10.05]  # in m\n",
    "I = [0.0003861591, 0.0005213425]  # in m^4\n",
    "F = [11, 37]  # kN\n",
    "E = [200, 220]  # GPa"
   ]
  },
  {
   "cell_type": "code",
   "execution_count": 5,
   "id": "f3e7ed69-4cef-4c1f-bc3b-87a8a4841454",
   "metadata": {},
   "outputs": [],
   "source": [
    "# the overhead\n",
    "\n",
    "intervals = [y, beam_length, I, F, E]"
   ]
  },
  {
   "cell_type": "code",
   "execution_count": 6,
   "id": "fb468afa-385c-4a34-aec9-3578f33f1b44",
   "metadata": {},
   "outputs": [
    {
     "data": {
      "text/html": [
       "<pre style=\"white-space:pre;overflow-x:auto;line-height:normal;font-family:Menlo,'DejaVu Sans Mono',consolas,'Courier New',monospace\"><span style=\"color: #800000; text-decoration-color: #800000\">╭─────────────────────────────── </span><span style=\"color: #800000; text-decoration-color: #800000; font-weight: bold\">Traceback </span><span style=\"color: #bf7f7f; text-decoration-color: #bf7f7f; font-weight: bold\">(most recent call last)</span><span style=\"color: #800000; text-decoration-color: #800000\"> ────────────────────────────────╮</span>\n",
       "<span style=\"color: #800000; text-decoration-color: #800000\">│</span> in <span style=\"color: #00ff00; text-decoration-color: #00ff00\">&lt;module&gt;</span>:<span style=\"color: #0000ff; text-decoration-color: #0000ff\">1</span>                                                                                    <span style=\"color: #800000; text-decoration-color: #800000\">│</span>\n",
       "<span style=\"color: #800000; text-decoration-color: #800000\">│</span>                                                                                                  <span style=\"color: #800000; text-decoration-color: #800000\">│</span>\n",
       "<span style=\"color: #800000; text-decoration-color: #800000\">│</span> <span style=\"color: #800000; text-decoration-color: #800000\">❱ </span>1 df = vertexMethod(intervals, cantilever_beam_func)                                           <span style=\"color: #800000; text-decoration-color: #800000\">│</span>\n",
       "<span style=\"color: #800000; text-decoration-color: #800000\">│</span>   <span style=\"color: #7f7f7f; text-decoration-color: #7f7f7f\">2 </span>                                                                                             <span style=\"color: #800000; text-decoration-color: #800000\">│</span>\n",
       "<span style=\"color: #800000; text-decoration-color: #800000\">│</span>                                                                                                  <span style=\"color: #800000; text-decoration-color: #800000\">│</span>\n",
       "<span style=\"color: #800000; text-decoration-color: #800000\">│</span> <span style=\"color: #bfbf7f; text-decoration-color: #bfbf7f\">/Users/lesliec/Documents/Github_repos/daws2/src/PyUncertainNumber/UP/</span><span style=\"color: #808000; text-decoration-color: #808000; font-weight: bold\">vertex.py</span>:<span style=\"color: #0000ff; text-decoration-color: #0000ff\">208</span> in            <span style=\"color: #800000; text-decoration-color: #800000\">│</span>\n",
       "<span style=\"color: #800000; text-decoration-color: #800000\">│</span> <span style=\"color: #00ff00; text-decoration-color: #00ff00\">vertexMethod</span>                                                                                     <span style=\"color: #800000; text-decoration-color: #800000\">│</span>\n",
       "<span style=\"color: #800000; text-decoration-color: #800000\">│</span>                                                                                                  <span style=\"color: #800000; text-decoration-color: #800000\">│</span>\n",
       "<span style=\"color: #800000; text-decoration-color: #800000\">│</span>   <span style=\"color: #7f7f7f; text-decoration-color: #7f7f7f\">205 </span><span style=\"color: #7f7f7f; text-decoration-color: #7f7f7f\">│   </span><span style=\"color: #7f7f7f; text-decoration-color: #7f7f7f\"># x.shape -&gt; (5, 2) Interval object....</span>                                                <span style=\"color: #800000; text-decoration-color: #800000\">│</span>\n",
       "<span style=\"color: #800000; text-decoration-color: #800000\">│</span>   <span style=\"color: #7f7f7f; text-decoration-color: #7f7f7f\">206 </span><span style=\"color: #7f7f7f; text-decoration-color: #7f7f7f\">│   </span><span style=\"color: #7f7f7f; text-decoration-color: #7f7f7f\"># TODO a short-cut herein to get x</span>                                                     <span style=\"color: #800000; text-decoration-color: #800000\">│</span>\n",
       "<span style=\"color: #800000; text-decoration-color: #800000\">│</span>   <span style=\"color: #7f7f7f; text-decoration-color: #7f7f7f\">207 </span><span style=\"color: #7f7f7f; text-decoration-color: #7f7f7f\">│   </span>                                                                                       <span style=\"color: #800000; text-decoration-color: #800000\">│</span>\n",
       "<span style=\"color: #800000; text-decoration-color: #800000\">│</span> <span style=\"color: #800000; text-decoration-color: #800000\">❱ </span>208 <span style=\"color: #7f7f7f; text-decoration-color: #7f7f7f\">│   </span>total = <span style=\"color: #0000ff; text-decoration-color: #0000ff\">2</span> ** x.shape[<span style=\"color: #0000ff; text-decoration-color: #0000ff\">0</span>]                                                                <span style=\"color: #800000; text-decoration-color: #800000\">│</span>\n",
       "<span style=\"color: #800000; text-decoration-color: #800000\">│</span>   <span style=\"color: #7f7f7f; text-decoration-color: #7f7f7f\">209 </span><span style=\"color: #7f7f7f; text-decoration-color: #7f7f7f\">│   </span>                                                                                       <span style=\"color: #800000; text-decoration-color: #800000\">│</span>\n",
       "<span style=\"color: #800000; text-decoration-color: #800000\">│</span>   <span style=\"color: #7f7f7f; text-decoration-color: #7f7f7f\">210 </span><span style=\"color: #7f7f7f; text-decoration-color: #7f7f7f\">│   </span>y = []                                                                                 <span style=\"color: #800000; text-decoration-color: #800000\">│</span>\n",
       "<span style=\"color: #800000; text-decoration-color: #800000\">│</span>   <span style=\"color: #7f7f7f; text-decoration-color: #7f7f7f\">211 </span><span style=\"color: #7f7f7f; text-decoration-color: #7f7f7f\">│   </span>i = <span style=\"color: #0000ff; text-decoration-color: #0000ff\">0</span>                                                                                  <span style=\"color: #800000; text-decoration-color: #800000\">│</span>\n",
       "<span style=\"color: #800000; text-decoration-color: #800000\">╰──────────────────────────────────────────────────────────────────────────────────────────────────╯</span>\n",
       "<span style=\"color: #ff0000; text-decoration-color: #ff0000; font-weight: bold\">AttributeError: </span><span style=\"color: #008000; text-decoration-color: #008000\">'list'</span> object has no attribute <span style=\"color: #008000; text-decoration-color: #008000\">'shape'</span>\n",
       "</pre>\n"
      ],
      "text/plain": [
       "\u001b[31m╭─\u001b[0m\u001b[31m──────────────────────────────\u001b[0m\u001b[31m \u001b[0m\u001b[1;31mTraceback \u001b[0m\u001b[1;2;31m(most recent call last)\u001b[0m\u001b[31m \u001b[0m\u001b[31m───────────────────────────────\u001b[0m\u001b[31m─╮\u001b[0m\n",
       "\u001b[31m│\u001b[0m in \u001b[92m<module>\u001b[0m:\u001b[94m1\u001b[0m                                                                                    \u001b[31m│\u001b[0m\n",
       "\u001b[31m│\u001b[0m                                                                                                  \u001b[31m│\u001b[0m\n",
       "\u001b[31m│\u001b[0m \u001b[31m❱ \u001b[0m1 df = vertexMethod(intervals, cantilever_beam_func)                                           \u001b[31m│\u001b[0m\n",
       "\u001b[31m│\u001b[0m   \u001b[2m2 \u001b[0m                                                                                             \u001b[31m│\u001b[0m\n",
       "\u001b[31m│\u001b[0m                                                                                                  \u001b[31m│\u001b[0m\n",
       "\u001b[31m│\u001b[0m \u001b[2;33m/Users/lesliec/Documents/Github_repos/daws2/src/PyUncertainNumber/UP/\u001b[0m\u001b[1;33mvertex.py\u001b[0m:\u001b[94m208\u001b[0m in            \u001b[31m│\u001b[0m\n",
       "\u001b[31m│\u001b[0m \u001b[92mvertexMethod\u001b[0m                                                                                     \u001b[31m│\u001b[0m\n",
       "\u001b[31m│\u001b[0m                                                                                                  \u001b[31m│\u001b[0m\n",
       "\u001b[31m│\u001b[0m   \u001b[2m205 \u001b[0m\u001b[2m│   \u001b[0m\u001b[2m# x.shape -> (5, 2) Interval object....\u001b[0m                                                \u001b[31m│\u001b[0m\n",
       "\u001b[31m│\u001b[0m   \u001b[2m206 \u001b[0m\u001b[2m│   \u001b[0m\u001b[2m# TODO a short-cut herein to get x\u001b[0m                                                     \u001b[31m│\u001b[0m\n",
       "\u001b[31m│\u001b[0m   \u001b[2m207 \u001b[0m\u001b[2m│   \u001b[0m                                                                                       \u001b[31m│\u001b[0m\n",
       "\u001b[31m│\u001b[0m \u001b[31m❱ \u001b[0m208 \u001b[2m│   \u001b[0mtotal = \u001b[94m2\u001b[0m ** x.shape[\u001b[94m0\u001b[0m]                                                                \u001b[31m│\u001b[0m\n",
       "\u001b[31m│\u001b[0m   \u001b[2m209 \u001b[0m\u001b[2m│   \u001b[0m                                                                                       \u001b[31m│\u001b[0m\n",
       "\u001b[31m│\u001b[0m   \u001b[2m210 \u001b[0m\u001b[2m│   \u001b[0my = []                                                                                 \u001b[31m│\u001b[0m\n",
       "\u001b[31m│\u001b[0m   \u001b[2m211 \u001b[0m\u001b[2m│   \u001b[0mi = \u001b[94m0\u001b[0m                                                                                  \u001b[31m│\u001b[0m\n",
       "\u001b[31m╰──────────────────────────────────────────────────────────────────────────────────────────────────╯\u001b[0m\n",
       "\u001b[1;91mAttributeError: \u001b[0m\u001b[32m'list'\u001b[0m object has no attribute \u001b[32m'shape'\u001b[0m\n"
      ]
     },
     "metadata": {},
     "output_type": "display_data"
    }
   ],
   "source": [
    "df = vertexMethod(intervals, cantilever_beam_func)"
   ]
  },
  {
   "cell_type": "code",
   "execution_count": null,
   "id": "dcf8da70-64d6-4fbb-9322-e19e64fd282b",
   "metadata": {},
   "outputs": [],
   "source": [
    "df"
   ]
  },
  {
   "cell_type": "markdown",
   "id": "4776d1dd-a333-44d5-8ec5-6b1147ff8b56",
   "metadata": {},
   "source": [
    "# `UN` implementation"
   ]
  },
  {
   "cell_type": "markdown",
   "id": "8693040e-3942-4c3e-8e39-42c42a998991",
   "metadata": {},
   "source": [
    "## test Ioanna's `vertexMethod` implementation"
   ]
  },
  {
   "cell_type": "markdown",
   "id": "28a9e801-6b45-4138-bf8b-bc27504f2a1d",
   "metadata": {},
   "source": [
    "#### call signature with interval-type UNs "
   ]
  },
  {
   "cell_type": "code",
   "execution_count": 7,
   "id": "8606b390-9b53-4398-9bfe-8d23f80a2b27",
   "metadata": {},
   "outputs": [],
   "source": [
    "y = UN(name='beam width', symbol='y', units='m', essence='interval', interval_initialisation=[0.145, 0.155])\n",
    "L = UN(name='beam length', symbol='L', units='m', essence='interval', interval_initialisation=[9.95, 10.05])\n",
    "I = UN(name='moment of inertia', symbol='I', units='m', essence='interval', interval_initialisation=[0.0003861591, 0.0005213425])\n",
    "F = UN(name='vertical force', symbol='F', units='kN', essence='interval', interval_initialisation=[11, 37])\n",
    "E = UN(name='elastic modulus', symbol='E', units='GPa', essence='interval', interval_initialisation=[200, 220])"
   ]
  },
  {
   "cell_type": "code",
   "execution_count": 8,
   "id": "8e130225-064f-48be-acb5-a980736c2b1c",
   "metadata": {},
   "outputs": [],
   "source": [
    "# a cls variable that tracks all the UN objects\n",
    "# UncertainNumber.instances"
   ]
  },
  {
   "cell_type": "code",
   "execution_count": 9,
   "id": "471646cb-bc36-48e9-8f3d-23678b82a770",
   "metadata": {},
   "outputs": [
    {
     "name": "stderr",
     "output_type": "stream",
     "text": [
      "32it [00:00, 156067.13it/s]\n"
     ]
    }
   ],
   "source": [
    "df = UN.vertexMethod(vars=['y', 'L', 'I', 'F', 'E'], func=cantilever_beam_func) \n",
    "\n",
    "# dropdown list for UP methods\n",
    "# for the func: user specify \"a**2 + b\" in a certain box ... see sympy...\n",
    "# user designed import a file.. call a python function."
   ]
  },
  {
   "cell_type": "code",
   "execution_count": 14,
   "id": "6aab843d-4dd5-453f-bedb-f25bace58453",
   "metadata": {},
   "outputs": [],
   "source": [
    "# for constructing surrogate ... \n",
    "\n",
    "# df"
   ]
  },
  {
   "cell_type": "code",
   "execution_count": null,
   "id": "8320f6c4-f13c-459c-97d9-b02fafaeedec",
   "metadata": {},
   "outputs": [],
   "source": [
    "# \n",
    "df.to_csv(filename)"
   ]
  },
  {
   "cell_type": "code",
   "execution_count": 11,
   "id": "e5517239-9334-4c7d-af0c-fb19fa5a5490",
   "metadata": {},
   "outputs": [],
   "source": [
    "deflection_bounds, stress_bounds = postProcess_vertex(df)"
   ]
  },
  {
   "cell_type": "code",
   "execution_count": 12,
   "id": "3bfa5994-2337-43d9-8c37-0f192d009389",
   "metadata": {},
   "outputs": [
    {
     "data": {
      "text/html": [
       "<pre style=\"white-space:pre;overflow-x:auto;line-height:normal;font-family:Menlo,'DejaVu Sans Mono',consolas,'Courier New',monospace\"></pre>\n"
      ],
      "text/plain": []
     },
     "metadata": {},
     "output_type": "display_data"
    },
    {
     "data": {
      "text/plain": [
       "\u001b[1m(\u001b[0m\u001b[1;35mnp.float64\u001b[0m\u001b[1m(\u001b[0m\u001b[1;36m0.031491609802257306\u001b[0m\u001b[1m)\u001b[0m, \u001b[1;35mnp.float64\u001b[0m\u001b[1m(\u001b[0m\u001b[1;36m0.16209976503208137\u001b[0m\u001b[1m)\u001b[0m\u001b[1m)\u001b[0m"
      ]
     },
     "execution_count": 12,
     "metadata": {},
     "output_type": "execute_result"
    }
   ],
   "source": [
    "deflection_bounds"
   ]
  },
  {
   "cell_type": "code",
   "execution_count": null,
   "id": "f7a34300-e8d7-4f36-bfad-ac2110adce33",
   "metadata": {},
   "outputs": [],
   "source": [
    "stress_bounds"
   ]
  },
  {
   "cell_type": "markdown",
   "id": "0b13d9ce-9398-402b-9b98-f22db268998d",
   "metadata": {},
   "source": [
    "#### call signature with scalars argument"
   ]
  },
  {
   "cell_type": "code",
   "execution_count": null,
   "id": "355908b3-fc22-46af-9f91-1716874536bc",
   "metadata": {},
   "outputs": [],
   "source": [
    "df = UN.vertexMethod(vars=[1.0, 2, 3.3, 5, 4], func=cantilever_beam_func)\n",
    "\n",
    "# speicy if want scalars"
   ]
  },
  {
   "cell_type": "code",
   "execution_count": null,
   "id": "f9a24fec-1171-43a3-a196-2f9e1a19b58e",
   "metadata": {},
   "outputs": [],
   "source": [
    "# # UN(1.0)\n",
    "# df"
   ]
  },
  {
   "cell_type": "markdown",
   "id": "937689d7-ff2c-4f78-80f9-907978493607",
   "metadata": {},
   "source": [
    "#### call signature with noninterval-type UNs "
   ]
  },
  {
   "cell_type": "code",
   "execution_count": null,
   "id": "7d8f1877-c958-4731-9698-cf1040e66e06",
   "metadata": {},
   "outputs": [],
   "source": [
    "y_pbox = UN(essence='distribution', symbol='y', distribution_initialisation=['normal', [(0,1),(1,2)]])\n",
    "L_pbox = UN(essence='distribution', symbol='L', distribution_initialisation=['normal', [(2,3),(1,2)]])\n",
    "I_pbox = UN(essence='distribution', symbol='I', distribution_initialisation=['normal', [(0,0),(1,2)]])\n",
    "F_pbox = UN(essence='distribution', symbol='F', distribution_initialisation=['normal', [(0,0),(3,2)]])\n",
    "E_pbox = UN(essence='distribution', symbol='E', distribution_initialisation=['normal', [(0,0),(5,2)]])"
   ]
  },
  {
   "cell_type": "code",
   "execution_count": null,
   "id": "9e820414-fcbf-44ca-ab93-ca5d776bcd64",
   "metadata": {},
   "outputs": [],
   "source": [
    "UN.instances"
   ]
  },
  {
   "cell_type": "code",
   "execution_count": null,
   "id": "259e03a9-cc68-4523-83a4-88e0cd90e121",
   "metadata": {},
   "outputs": [],
   "source": [
    "# y_pbox._math_object.rangel"
   ]
  },
  {
   "cell_type": "code",
   "execution_count": null,
   "id": "2759f31a-dcd4-491f-a4b7-aa99e8eeaf64",
   "metadata": {},
   "outputs": [],
   "source": [
    "df = UN.vertexMethod(vars=['y', 'L', 'I', 'F', 'E'], func=cantilever_beam_func)"
   ]
  },
  {
   "cell_type": "code",
   "execution_count": null,
   "id": "683edd2e-d142-4520-9644-6be8adcf997d",
   "metadata": {},
   "outputs": [],
   "source": [
    "# _UNintervals = UN._toIntervalBackend(vars=['y', 'L', 'I', 'F', 'E'])\n",
    "# _UNintervals"
   ]
  },
  {
   "cell_type": "code",
   "execution_count": null,
   "id": "1f0f66bb-3e21-46e5-8865-e8bcf3aa62aa",
   "metadata": {},
   "outputs": [],
   "source": [
    "# df"
   ]
  },
  {
   "cell_type": "markdown",
   "id": "131526f6-8ccb-4577-889d-82f3563515ac",
   "metadata": {},
   "source": [
    "## test marco's `endpoints` implementation\n",
    "\n",
    "- The implemention below is based on Ioanna's `vertexMethod` function. For another similar implementation of the endpoints propagation by Marco, refer to the other file named [Test_vertexMethod(endspoints imple).ipynb]('test/Test_vertexMethod(endspoints imple).ipynb')."
   ]
  },
  {
   "cell_type": "markdown",
   "id": "b59db950-0c78-41e3-bbe4-2c15cacf2447",
   "metadata": {},
   "source": [
    "### tests"
   ]
  },
  {
   "cell_type": "code",
   "execution_count": null,
   "id": "ace8fe11-6f67-4771-bc54-620686717eb4",
   "metadata": {},
   "outputs": [],
   "source": [
    "# a list of lists into nd.array\n",
    "\n",
    "x = np.array(intervals).reshape(-1, 2)"
   ]
  },
  {
   "cell_type": "code",
   "execution_count": null,
   "id": "0afa424d-be29-4e10-a00b-9acf36f7779b",
   "metadata": {},
   "outputs": [],
   "source": [
    "x.shape"
   ]
  },
  {
   "cell_type": "code",
   "execution_count": null,
   "id": "eb135415-8180-4dd0-a3c4-ea5cdd9d28a8",
   "metadata": {},
   "outputs": [],
   "source": [
    "x"
   ]
  },
  {
   "cell_type": "code",
   "execution_count": null,
   "id": "0c34705e-f63c-463a-97f5-99bf7e3a020f",
   "metadata": {},
   "outputs": [],
   "source": [
    "# Leslie: `UN()` -> 5 UN  objects -> UN.parsing() -> Interval (vector) object in Marco's `Interval` package -> vector intervals object\n",
    "# + \n",
    "# Ioanna: input: vector intervals object, `vetexInterval()` func"
   ]
  },
  {
   "cell_type": "code",
   "execution_count": null,
   "id": "f33f3780-c78d-4929-8d9a-a4bb1676a4f7",
   "metadata": {},
   "outputs": [],
   "source": []
  }
 ],
 "metadata": {
  "kernelspec": {
   "display_name": "Python 3 (ipykernel)",
   "language": "python",
   "name": "python3"
  },
  "language_info": {
   "codemirror_mode": {
    "name": "ipython",
    "version": 3
   },
   "file_extension": ".py",
   "mimetype": "text/x-python",
   "name": "python",
   "nbconvert_exporter": "python",
   "pygments_lexer": "ipython3",
   "version": "3.10.14"
  }
 },
 "nbformat": 4,
 "nbformat_minor": 5
}
