{
 "cells": [
  {
   "cell_type": "code",
   "execution_count": 1,
   "id": "a9eb0b4f-c418-4d2a-9176-1d82dcb2f3f9",
   "metadata": {},
   "outputs": [],
   "source": [
    "import numpy as np\n",
    "import matplotlib.pyplot as plt\n",
    "from PyUncertainNumber.pba.pbox_base import Pbox\n",
    "from PyUncertainNumber.pba.cbox import *\n",
    "from PyUncertainNumber.pba.params import Params\n",
    "from intervals import Interval as I, intervalise"
   ]
  },
  {
   "cell_type": "code",
   "execution_count": 2,
   "id": "04a545b9-f194-424d-b490-5771277720d2",
   "metadata": {},
   "outputs": [],
   "source": [
    "from PyUncertainNumber.pba.cbox.cbox import *\n",
    "import random\n",
    "random.seed(30)"
   ]
  },
  {
   "cell_type": "code",
   "execution_count": 3,
   "id": "018532df-a14f-44f8-949a-cd1db69080aa",
   "metadata": {},
   "outputs": [],
   "source": [
    "%matplotlib inline\n",
    "%load_ext autoreload\n",
    "%autoreload 2"
   ]
  },
  {
   "cell_type": "markdown",
   "id": "2b91caa0-8ca6-4ede-b0a7-af5707d6fda3",
   "metadata": {
    "jp-MarkdownHeadingCollapsed": true
   },
   "source": [
    "### Bernoulli"
   ]
  },
  {
   "cell_type": "code",
   "execution_count": null,
   "id": "4dfe220c-bd51-4e50-95f5-991f4fda4802",
   "metadata": {},
   "outputs": [],
   "source": [
    "bdata = np.random.uniform(size=25) > 0.35"
   ]
  },
  {
   "cell_type": "code",
   "execution_count": null,
   "id": "c82338ff-051d-4d13-9e4b-c68a4cbe61f2",
   "metadata": {},
   "outputs": [],
   "source": [
    "cbox_bernoulli = CBbernoulli_p(bdata)"
   ]
  },
  {
   "cell_type": "code",
   "execution_count": null,
   "id": "3ff5f8ef-6088-4ded-8d7f-1f61a5ac504f",
   "metadata": {},
   "outputs": [],
   "source": [
    "cbox_bernoulli"
   ]
  },
  {
   "cell_type": "code",
   "execution_count": null,
   "id": "5fafc782-4dfb-4d07-bb00-d895d33e5073",
   "metadata": {},
   "outputs": [],
   "source": [
    "cbox_bernoulli.bound_params"
   ]
  },
  {
   "cell_type": "code",
   "execution_count": null,
   "id": "64feab77-a67b-4f58-a2d6-1e6374737abb",
   "metadata": {},
   "outputs": [],
   "source": [
    "_ = cbox_bernoulli.display(style='band', parameter_name='Bernoulli p')"
   ]
  },
  {
   "cell_type": "code",
   "execution_count": null,
   "id": "754f43c7-e15a-49c1-9db9-8522de01b99d",
   "metadata": {},
   "outputs": [],
   "source": [
    "# nextvalue\n",
    "nextvalue_bernoulli = CBbernoulli(bdata)\n",
    "nextvalue_bernoulli"
   ]
  },
  {
   "cell_type": "code",
   "execution_count": null,
   "id": "2fd78629-4f61-4f7d-bf18-6aead85abc81",
   "metadata": {},
   "outputs": [],
   "source": [
    "_ = nextvalue_bernoulli.display(style='band', title='pbox for Bernoulli next value')"
   ]
  },
  {
   "cell_type": "markdown",
   "id": "8b54960d-ca2a-4b92-86c5-b99be2d943ba",
   "metadata": {
    "jp-MarkdownHeadingCollapsed": true
   },
   "source": [
    "### Bionomial ND"
   ]
  },
  {
   "cell_type": "code",
   "execution_count": null,
   "id": "5e685ad3-fc50-4fca-a29b-b0b256a202be",
   "metadata": {},
   "outputs": [],
   "source": [
    "# Drawn samples from the parameterized binomial distribution, where each sample is equal to the number of successes over the n trials.\n",
    "# get a sample named `d` from a binomial of n=12, p=0.6\n",
    "d = np.random.binomial(12, 0.6, 5)\n",
    "# d"
   ]
  },
  {
   "cell_type": "code",
   "execution_count": null,
   "id": "5fc630cf-9464-4223-9cec-08861ceb4430",
   "metadata": {},
   "outputs": [],
   "source": [
    "cbox_binomial = CBbinomial_p(d, 12)"
   ]
  },
  {
   "cell_type": "code",
   "execution_count": null,
   "id": "ff3190ab-f635-41a9-aafd-09698f0b0462",
   "metadata": {},
   "outputs": [],
   "source": [
    "cbox_binomial"
   ]
  },
  {
   "cell_type": "code",
   "execution_count": null,
   "id": "7936c859-a33e-40b5-abf5-330036d31f18",
   "metadata": {},
   "outputs": [],
   "source": [
    "_ = cbox_binomial.display(style='band', parameter_name='Bionomial p')"
   ]
  },
  {
   "cell_type": "code",
   "execution_count": null,
   "id": "610e28c5-a711-4f31-bd99-df4514569144",
   "metadata": {},
   "outputs": [],
   "source": [
    "# nextvalue\n",
    "nextvalue_bernoulli = CBbinomial(d, 12)\n",
    "nextvalue_bernoulli"
   ]
  },
  {
   "cell_type": "code",
   "execution_count": null,
   "id": "a8b2acd1-2191-4b66-8df5-49d0507aff28",
   "metadata": {},
   "outputs": [],
   "source": [
    "_ = nextvalue_bernoulli.display(style='band', title='pbox for Bionomial next value')"
   ]
  },
  {
   "cell_type": "markdown",
   "id": "480f2805-a4ac-46a8-bec6-b6fa416e6e1f",
   "metadata": {
    "jp-MarkdownHeadingCollapsed": true
   },
   "source": [
    "### Possion"
   ]
  },
  {
   "cell_type": "code",
   "execution_count": null,
   "id": "3580e16a-7db9-44aa-be55-c4d8be68b7c2",
   "metadata": {},
   "outputs": [],
   "source": [
    "idata = np.round(np.random.uniform(size=25) * 16)\n",
    "# idata"
   ]
  },
  {
   "cell_type": "code",
   "execution_count": null,
   "id": "f74becda-5684-4670-a8f5-c8fd7ef3b9a5",
   "metadata": {},
   "outputs": [],
   "source": [
    "cbox_poisson = CBpoisson_mean(idata)\n",
    "cbox_poisson"
   ]
  },
  {
   "cell_type": "code",
   "execution_count": null,
   "id": "c088a374-7327-41d2-8dfe-ea6faffc62a1",
   "metadata": {},
   "outputs": [],
   "source": [
    "_ = cbox_poisson.display(style='band', parameter_name = 'Poisson lambda')"
   ]
  },
  {
   "cell_type": "code",
   "execution_count": null,
   "id": "ea890082-ea4d-46e0-ad29-0212347939da",
   "metadata": {},
   "outputs": [],
   "source": [
    "nextvalue_poisson = CBpoisson(idata)\n",
    "nextvalue_poisson"
   ]
  },
  {
   "cell_type": "code",
   "execution_count": null,
   "id": "8f8317a4-34c5-42f4-bf9b-afe4ae17a781",
   "metadata": {},
   "outputs": [],
   "source": [
    "_ = nextvalue_poisson.display(style='band', title='pbox for Poisson next value')"
   ]
  },
  {
   "cell_type": "markdown",
   "id": "4e7ba64b-5ac7-41cb-bc62-05c1f34d042c",
   "metadata": {},
   "source": [
    "### Exponential\n",
    "\n",
    "- note: lamba returns a confidence distribution as opposed to a cbox;\n",
    "- nextvalue distribution is not analytic but sample based."
   ]
  },
  {
   "cell_type": "code",
   "execution_count": 4,
   "id": "3c8b58a8-0b82-4ff9-8598-3d7158f26b41",
   "metadata": {},
   "outputs": [],
   "source": [
    "data = np.random.uniform(size=25) * 30"
   ]
  },
  {
   "cell_type": "code",
   "execution_count": 5,
   "id": "2c727338-d7de-452e-8cd2-c897b32e506c",
   "metadata": {},
   "outputs": [
    {
     "data": {
      "text/plain": [
       "Cbox ~ gamma(25, np.float64(0.0024085386981132478))"
      ]
     },
     "execution_count": 5,
     "metadata": {},
     "output_type": "execute_result"
    }
   ],
   "source": [
    "cbox_exponential = CBexponential_lambda(data)\n",
    "cbox_exponential"
   ]
  },
  {
   "cell_type": "code",
   "execution_count": 6,
   "id": "42ed1522-e00a-425f-b243-a47c7550ea13",
   "metadata": {},
   "outputs": [
    {
     "data": {
      "image/png": "[encoded data removed]",
      "text/plain": [
       "<Figure size 640x480 with 1 Axes>"
      ]
     },
     "metadata": {},
     "output_type": "display_data"
    }
   ],
   "source": [
    "_ = cbox_exponential.display(style='band')"
   ]
  },
  {
   "cell_type": "code",
   "execution_count": 7,
   "id": "38a15f00-96cd-4427-899b-6fe5b8f3c617",
   "metadata": {},
   "outputs": [],
   "source": [
    "# samples-based CDF\n",
    "nextvalue_exponential = CBexponential(data)"
   ]
  },
  {
   "cell_type": "code",
   "execution_count": 8,
   "id": "84d0311e-d54a-4cb0-893b-34d4658af052",
   "metadata": {},
   "outputs": [
    {
     "data": {
      "text/plain": [
       "PyUncertainNumber.pba.pbox_base.Pbox"
      ]
     },
     "execution_count": 8,
     "metadata": {},
     "output_type": "execute_result"
    }
   ],
   "source": [
    "type(nextvalue_exponential)"
   ]
  },
  {
   "cell_type": "code",
   "execution_count": 9,
   "id": "ad47b42f-683a-48d6-b3d4-430bab7a36c8",
   "metadata": {},
   "outputs": [
    {
     "data": {
      "image/png": "[encoded data removed]",
      "text/plain": [
       "<Figure size 640x480 with 1 Axes>"
      ]
     },
     "metadata": {},
     "output_type": "display_data"
    }
   ],
   "source": [
    "_ = nextvalue_exponential.display(style='band')"
   ]
  },
  {
   "cell_type": "code",
   "execution_count": null,
   "id": "64649791-676f-4d79-9276-34d4af1cbc35",
   "metadata": {},
   "outputs": [],
   "source": [
    "# tst_pbox = Pbox(left = nextvalue_exponential)\n",
    "# _ = tst_pbox.display(style='band')\n",
    "\n",
    "# samples-based ..."
   ]
  },
  {
   "cell_type": "code",
   "execution_count": null,
   "id": "3827e49a-a78f-4bc4-b965-89008702d4a7",
   "metadata": {},
   "outputs": [],
   "source": [
    "# x_sup = tranform_ecdf(nextvalue_exponential, display=False)\n",
    "# nextvalue_exponential_pbox = Pbox(x_sup)\n",
    "# _ = nextvalue_exponential_pbox.display(style='band')"
   ]
  },
  {
   "cell_type": "code",
   "execution_count": null,
   "id": "fcc0af79-f363-421d-b093-656a199f5666",
   "metadata": {},
   "outputs": [],
   "source": []
  },
  {
   "cell_type": "code",
   "execution_count": null,
   "id": "9dc448b4-9ddd-4e56-a3e1-8ee0a5101f54",
   "metadata": {},
   "outputs": [],
   "source": []
  },
  {
   "cell_type": "code",
   "execution_count": null,
   "id": "fe2ba640-032e-48d5-a4b1-8b1f00383174",
   "metadata": {},
   "outputs": [],
   "source": []
  },
  {
   "cell_type": "markdown",
   "id": "37cd6215-66dd-4c44-9096-f07ee045fce7",
   "metadata": {},
   "source": [
    "### Gaussian"
   ]
  },
  {
   "cell_type": "markdown",
   "id": "6a362084-7a0e-46c9-96bb-173dcb155bc6",
   "metadata": {},
   "source": [
    "**Confidence distribution**"
   ]
  },
  {
   "cell_type": "code",
   "execution_count": null,
   "id": "aa79fac0-7172-4974-8b3b-3b329183f8e9",
   "metadata": {},
   "outputs": [],
   "source": [
    "data = np.random.normal(size=25)"
   ]
  },
  {
   "cell_type": "code",
   "execution_count": null,
   "id": "1718abe4-4e25-4826-8d9d-7961126d99dd",
   "metadata": {},
   "outputs": [],
   "source": [
    "# mc_samples based cdf\n",
    "scott_mu = CBnormal_mu(data, style='samples')"
   ]
  },
  {
   "cell_type": "code",
   "execution_count": null,
   "id": "240999c5-0cd8-4cd5-9fb0-ef4576f408c1",
   "metadata": {},
   "outputs": [],
   "source": [
    "scott_mu.shape"
   ]
  },
  {
   "cell_type": "code",
   "execution_count": null,
   "id": "1f476533-71f9-4718-a28e-02b893f9ffda",
   "metadata": {},
   "outputs": [],
   "source": [
    "# from scipy.stats import ecdf\n",
    "\n",
    "# def plot_ecdf(s, **kwargs):\n",
    "#     \"\"\" plot the CDF\n",
    "    \n",
    "#     args:\n",
    "#         s: sample\n",
    "#     \"\"\"\n",
    "#     sth = ecdf(s)\n",
    "#     fig, ax = plt.subplots()\n",
    "#     # ax.plot(x_support, p_values, color='g')\n",
    "#     ax.step(sth.cdf.quantiles, sth.cdf.probabilities, color='red', zorder=10, **kwargs)\n",
    "#     return ax"
   ]
  },
  {
   "cell_type": "code",
   "execution_count": null,
   "id": "323dbe43-b7ca-4260-b8c8-ab7a410a313c",
   "metadata": {},
   "outputs": [],
   "source": [
    "_, ax = tranform_ecdf(s=scott_mu, display=True)\n",
    "analytical_mu = CBnormal_mu(data)\n",
    "analytical_mu.display(ax=ax, style='band')"
   ]
  },
  {
   "cell_type": "code",
   "execution_count": null,
   "id": "e09f4b11-2176-452c-b432-cfbbb50c8883",
   "metadata": {},
   "outputs": [],
   "source": [
    "# axe = plot_ecdf(scott_mu, label='Monte Carlo samples based')\n",
    "# axe.plot(x_support, analytical_mu, label='analytical based')\n",
    "# axe.set_title('confidence distribution for normal mean from sample data')\n",
    "# axe.legend()"
   ]
  },
  {
   "cell_type": "code",
   "execution_count": null,
   "id": "1087fce0-38c6-4b41-9d94-14b2aa762f40",
   "metadata": {},
   "outputs": [],
   "source": [
    "# Cbox for mu based on analytic solution"
   ]
  },
  {
   "cell_type": "code",
   "execution_count": null,
   "id": "5cd8f5e9-7e3c-4a78-9f81-9df42c03dba2",
   "metadata": {},
   "outputs": [],
   "source": []
  },
  {
   "cell_type": "code",
   "execution_count": null,
   "id": "1cdf378e-0d1a-4fdb-91f1-755bacade3d7",
   "metadata": {},
   "outputs": [],
   "source": [
    "# Cbox for mu based on samples-based solution"
   ]
  },
  {
   "cell_type": "code",
   "execution_count": null,
   "id": "3a54e126-2196-4315-9d21-fd17b4e36675",
   "metadata": {},
   "outputs": [],
   "source": []
  },
  {
   "cell_type": "code",
   "execution_count": null,
   "id": "8726aba4-871a-461f-8838-f83c7927e2c1",
   "metadata": {},
   "outputs": [],
   "source": [
    "# ''' test '''\n",
    "\n",
    "# from PyUncertainNumber import pba\n",
    "\n",
    "# n = 20\n",
    "# # rv = t(n-1, loc=xm, scale = s/np.sqrt(n))\n",
    "\n",
    "# test_pbox = pba.t(20-1, [2,3],[4,5])\n",
    "\n",
    "# _ = test_pbox.display(style='band')"
   ]
  },
  {
   "cell_type": "code",
   "execution_count": null,
   "id": "f2bc617b-dde7-4242-93dd-864f6b2490b8",
   "metadata": {},
   "outputs": [],
   "source": [
    "interval_censored_data = [[8,11], [5.5,6.9], [1.3,0.3], [3.5,7.5], [0.8,1], [2.8,4.2], [1.8,5.2], [2.2,5.2], [3.5,5.7], [5.3,6.1]]\n",
    "interval_censored_data_i = intervalise(interval_censored_data)\n",
    "# interval_censored_data_i"
   ]
  },
  {
   "cell_type": "code",
   "execution_count": null,
   "id": "bacd8047-1e99-47a4-b425-1413616a2235",
   "metadata": {},
   "outputs": [],
   "source": [
    "# for interval-valued data\n",
    "iv_cbox = CBnormal_mu(interval_censored_data_i)"
   ]
  },
  {
   "cell_type": "code",
   "execution_count": null,
   "id": "a432830b-472d-4f54-8b0c-40af138bb7bd",
   "metadata": {},
   "outputs": [],
   "source": [
    "iv_cbox"
   ]
  },
  {
   "cell_type": "code",
   "execution_count": null,
   "id": "0aafde6a-e61c-41bd-b616-e45924ce3868",
   "metadata": {},
   "outputs": [],
   "source": [
    "_ = iv_cbox.display(style='band', parameter_name=r'Gaussian $\\mu$ given interval data')"
   ]
  },
  {
   "cell_type": "code",
   "execution_count": null,
   "id": "6773b93f-f08d-4889-acaa-ac4d309e2ea9",
   "metadata": {},
   "outputs": [],
   "source": [
    "# test for precise data \n",
    "lowbound_cbox = CBnormal_mu(interval_censored_data_i.lo)\n",
    "_ = lowbound_cbox.display(style='band', parameter_name=r'Gaussian $\\mu$ given precise data')"
   ]
  },
  {
   "cell_type": "code",
   "execution_count": null,
   "id": "0a93770c-c3d0-4a44-9436-d7f6b5ecc3e6",
   "metadata": {},
   "outputs": [],
   "source": []
  },
  {
   "cell_type": "markdown",
   "id": "5156a274-bdc6-4e6d-a7c3-772e07b18774",
   "metadata": {},
   "source": [
    "### Uniform\n",
    "\n",
    "- sample based"
   ]
  },
  {
   "cell_type": "code",
   "execution_count": null,
   "id": "0c6a00be-43cb-425d-8600-d6786a9e2f7e",
   "metadata": {},
   "outputs": [],
   "source": []
  },
  {
   "cell_type": "code",
   "execution_count": null,
   "id": "898caf9b-9026-4163-a15f-f9fedb48db6f",
   "metadata": {},
   "outputs": [],
   "source": []
  },
  {
   "cell_type": "code",
   "execution_count": null,
   "id": "bf15b0d7-aecc-4110-a8fc-62a97261ae21",
   "metadata": {},
   "outputs": [],
   "source": []
  },
  {
   "cell_type": "code",
   "execution_count": null,
   "id": "efd72740-8bd5-4740-8658-74e05f748acf",
   "metadata": {},
   "outputs": [],
   "source": []
  },
  {
   "cell_type": "markdown",
   "id": "88cfd171-ada5-404d-b4b8-714a9f68347e",
   "metadata": {
    "jp-MarkdownHeadingCollapsed": true
   },
   "source": [
    "# pool"
   ]
  },
  {
   "cell_type": "code",
   "execution_count": null,
   "id": "39de2ffb-ad78-46ee-83ea-33b3554c5292",
   "metadata": {},
   "outputs": [],
   "source": [
    "# p_values = np.linspace(0.01, 0.99, 200)\n",
    "p_values = np.linspace(0.0001, 0.9999, 200)"
   ]
  },
  {
   "cell_type": "code",
   "execution_count": null,
   "id": "0e0e261d-718c-41db-8774-d33bf565e881",
   "metadata": {},
   "outputs": [],
   "source": [
    "left_b = cdf2[0].ppf(p_values)"
   ]
  },
  {
   "cell_type": "code",
   "execution_count": null,
   "id": "98610816-553f-4a84-862e-4f3dfaa4231a",
   "metadata": {},
   "outputs": [],
   "source": [
    "# left_b"
   ]
  },
  {
   "cell_type": "code",
   "execution_count": null,
   "id": "7166f635-4cee-43d6-86f3-e915c2aab5fb",
   "metadata": {},
   "outputs": [],
   "source": [
    "right_b = cdf2[1].ppf(p_values)"
   ]
  },
  {
   "cell_type": "code",
   "execution_count": null,
   "id": "9d37a855-f471-4d2f-ac45-6606b24da416",
   "metadata": {},
   "outputs": [],
   "source": [
    "# fig, ax = plt.subplots()\n",
    "# ax.plot(left_b, p_values, 'x')\n",
    "# ax.plot(right_b, p_values, '.')"
   ]
  },
  {
   "cell_type": "code",
   "execution_count": null,
   "id": "c5a11eb9-fbe3-4918-aee8-73f5b6868203",
   "metadata": {},
   "outputs": [],
   "source": [
    "test_cbox = Pbox(\n",
    "    left=left_b,\n",
    "    right=right_b,\n",
    "    steps=200,\n",
    "    shape=\"beta\",\n",
    ")"
   ]
  },
  {
   "cell_type": "code",
   "execution_count": null,
   "id": "76e324c8-40af-475a-89c9-c2f43baffe17",
   "metadata": {},
   "outputs": [],
   "source": []
  },
  {
   "cell_type": "code",
   "execution_count": null,
   "id": "1d49585c-9737-459c-90aa-1c5e7d6a5bbd",
   "metadata": {},
   "outputs": [],
   "source": []
  }
 ],
 "metadata": {
  "kernelspec": {
   "display_name": "pyun",
   "language": "python",
   "name": "pyun"
  },
  "language_info": {
   "codemirror_mode": {
    "name": "ipython",
    "version": 3
   },
   "file_extension": ".py",
   "mimetype": "text/x-python",
   "name": "python",
   "nbconvert_exporter": "python",
   "pygments_lexer": "ipython3",
   "version": "3.10.14"
  }
 },
 "nbformat": 4,
 "nbformat_minor": 5
}
