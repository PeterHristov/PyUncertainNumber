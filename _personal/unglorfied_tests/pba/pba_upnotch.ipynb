{
 "cells": [
  {
   "cell_type": "code",
   "execution_count": 1,
   "id": "3755db50-0230-4ee6-a5fb-c839cae349cc",
   "metadata": {},
   "outputs": [],
   "source": [
    "from PyUncertainNumber.pba.pbox import norm\n",
    "from PyUncertainNumber.pba.params import Params\n",
    "import numpy as np\n",
    "import scipy.stats as sps\n",
    "from PyUncertainNumber import pba "
   ]
  },
  {
   "cell_type": "code",
   "execution_count": 2,
   "id": "6ea206ea-47e2-40e0-b984-7a6faa08f43f",
   "metadata": {},
   "outputs": [],
   "source": [
    "from PyUncertainNumber.UC.utils import pl_ecdf, pl_pcdf\n",
    "import matplotlib.pyplot as plt\n",
    "from PyUncertainNumber.pba.utils import find_nearest\n",
    "from PyUncertainNumber.pba.params import Params"
   ]
  },
  {
   "cell_type": "code",
   "execution_count": 3,
   "id": "8ee0df79-e53a-44c8-9af2-4694693f2924",
   "metadata": {},
   "outputs": [],
   "source": [
    "%matplotlib inline"
   ]
  },
  {
   "cell_type": "code",
   "execution_count": null,
   "id": "08d7c627-7e78-4e19-9bc6-ed4799036166",
   "metadata": {},
   "outputs": [],
   "source": [
    "# # uniform deviates\n",
    "# s = np.random.uniform(low=3, high=5, size=1000)\n",
    "# pl_ecdf(s)\n",
    "# dist = sps.uniform(3, 5)\n",
    "# pl_pcdf(dist)"
   ]
  },
  {
   "cell_type": "code",
   "execution_count": null,
   "id": "cf7a1326-5893-444e-937f-809d4a8b74b0",
   "metadata": {},
   "outputs": [],
   "source": []
  },
  {
   "cell_type": "code",
   "execution_count": null,
   "id": "027304c3-6b2c-4719-9383-31d18a8fbf21",
   "metadata": {},
   "outputs": [],
   "source": [
    "# uniform_pbox = pba.uniform([0,1], 3)\n",
    "# uniform_pbox.display(style='band')"
   ]
  },
  {
   "cell_type": "code",
   "execution_count": null,
   "id": "ff26e0cd-ccaa-4d04-b5df-5f06ece29c37",
   "metadata": {},
   "outputs": [],
   "source": [
    "''' some tests on find nearest values '''"
   ]
  },
  {
   "cell_type": "code",
   "execution_count": null,
   "id": "85d5604f-e551-4056-b149-228e9df357d9",
   "metadata": {},
   "outputs": [],
   "source": [
    "t_arr = np.arange(0,100)\n",
    "value = 54.2\n",
    "a = find_nearest(t_arr, value)\n",
    "print(a)\n",
    "# print(b)"
   ]
  },
  {
   "cell_type": "code",
   "execution_count": null,
   "id": "ee24ca78-32e5-4d80-820b-f8519d4b55c8",
   "metadata": {},
   "outputs": [],
   "source": []
  },
  {
   "cell_type": "code",
   "execution_count": null,
   "id": "279a4d57-b12e-4f4f-bced-42b9b677526a",
   "metadata": {},
   "outputs": [],
   "source": []
  },
  {
   "cell_type": "code",
   "execution_count": null,
   "id": "66165b55-3846-4b43-9811-7a159716ae22",
   "metadata": {},
   "outputs": [],
   "source": [
    "a = find_nearest(Params.p_values, 0.2)\n",
    "print(a)\n",
    "# print(b)"
   ]
  },
  {
   "cell_type": "code",
   "execution_count": null,
   "id": "8668c1f2-380c-443b-ac6d-680a454c0f20",
   "metadata": {},
   "outputs": [],
   "source": [
    "p_values = np.linspace(0, 1, 10)"
   ]
  },
  {
   "cell_type": "code",
   "execution_count": null,
   "id": "1563956a-d337-4298-8782-e3c3d5278057",
   "metadata": {},
   "outputs": [],
   "source": [
    "p_values"
   ]
  },
  {
   "cell_type": "code",
   "execution_count": null,
   "id": "e444ad84-f356-452b-9b62-f20527560d9d",
   "metadata": {},
   "outputs": [],
   "source": [
    "find_nearest(p_values, 0.235)"
   ]
  },
  {
   "cell_type": "code",
   "execution_count": null,
   "id": "0f214aea-55b7-4f54-86bb-8f3e103fc589",
   "metadata": {},
   "outputs": [],
   "source": []
  },
  {
   "cell_type": "code",
   "execution_count": null,
   "id": "947776ac-3cef-49fc-b414-ae570dca1b36",
   "metadata": {},
   "outputs": [],
   "source": []
  },
  {
   "cell_type": "code",
   "execution_count": 4,
   "id": "5b90cc9b-eaef-4a21-a1d4-e450c2b7070f",
   "metadata": {},
   "outputs": [],
   "source": [
    "gaussian_pbox = pba.norm([0,1], [2,3])"
   ]
  },
  {
   "cell_type": "code",
   "execution_count": 5,
   "id": "30046a55-87a8-4557-91e4-ffeba841d110",
   "metadata": {},
   "outputs": [
    {
     "data": {
      "image/png": "[encoded data removed]",
      "text/plain": [
       "<Figure size 640x480 with 1 Axes>"
      ]
     },
     "metadata": {},
     "output_type": "display_data"
    }
   ],
   "source": [
    "_ = gaussian_pbox.display(style='band')"
   ]
  },
  {
   "cell_type": "code",
   "execution_count": null,
   "id": "370bb86c-7c15-41b7-acea-b358573ec78a",
   "metadata": {},
   "outputs": [],
   "source": [
    "gaussian_pbox.rangel"
   ]
  },
  {
   "cell_type": "code",
   "execution_count": null,
   "id": "3d335c5e-8233-4af4-a6d5-7c3dd5cb7f45",
   "metadata": {},
   "outputs": [],
   "source": [
    "gaussian_pbox.lo()"
   ]
  },
  {
   "cell_type": "code",
   "execution_count": 8,
   "id": "c94878d1-dfae-404f-b20b-f1e7f72ec505",
   "metadata": {},
   "outputs": [
    {
     "data": {
      "text/plain": [
       "Interval [0.306533, 0.497487]"
      ]
     },
     "execution_count": 8,
     "metadata": {},
     "output_type": "execute_result"
    }
   ],
   "source": [
    "gaussian_pbox.get_probability(val=0)"
   ]
  },
  {
   "cell_type": "code",
   "execution_count": null,
   "id": "a4628d6a-6db1-4f9d-9c12-63cf1d97aa37",
   "metadata": {},
   "outputs": [],
   "source": []
  },
  {
   "cell_type": "code",
   "execution_count": null,
   "id": "ae8b1ad4-1bff-41c4-a6d4-6d32e886ee80",
   "metadata": {},
   "outputs": [],
   "source": []
  },
  {
   "cell_type": "code",
   "execution_count": 6,
   "id": "abc47ea5-2a1a-40b7-a27f-f9f5dc29d535",
   "metadata": {},
   "outputs": [
    {
     "data": {
      "text/plain": [
       "Interval [-2.51347, -0.675648]"
      ]
     },
     "execution_count": 6,
     "metadata": {},
     "output_type": "execute_result"
    }
   ],
   "source": [
    "gaussian_pbox.cuth(p=0.2)"
   ]
  },
  {
   "cell_type": "code",
   "execution_count": 7,
   "id": "bc8029f3-49a1-48c4-bc01-94c91844d5d5",
   "metadata": {},
   "outputs": [
    {
     "data": {
      "text/plain": [
       "Interval [0.306571, 0.502512]"
      ]
     },
     "execution_count": 7,
     "metadata": {},
     "output_type": "execute_result"
    }
   ],
   "source": [
    "gaussian_pbox.cutv(x=0)"
   ]
  },
  {
   "cell_type": "code",
   "execution_count": null,
   "id": "208c7a3e-89c4-42e9-8747-b0cfd3225e0a",
   "metadata": {},
   "outputs": [],
   "source": []
  },
  {
   "cell_type": "code",
   "execution_count": null,
   "id": "a58f9785-7e25-4b7e-bcc9-c781fce95b35",
   "metadata": {},
   "outputs": [],
   "source": []
  },
  {
   "cell_type": "code",
   "execution_count": null,
   "id": "0af8a3d9-c311-4718-8c8d-62fdaa7c6421",
   "metadata": {},
   "outputs": [],
   "source": []
  },
  {
   "cell_type": "code",
   "execution_count": null,
   "id": "47a6625b-b9da-48a7-af1c-a548d45e369b",
   "metadata": {},
   "outputs": [],
   "source": [
    "''' test the left and right arrtribute '''"
   ]
  },
  {
   "cell_type": "code",
   "execution_count": null,
   "id": "aa195da0-1c56-4241-b08d-13b5a0c20f71",
   "metadata": {},
   "outputs": [],
   "source": []
  },
  {
   "cell_type": "code",
   "execution_count": null,
   "id": "b85cf523-364a-4f36-9259-f7275ca6a8a8",
   "metadata": {},
   "outputs": [],
   "source": [
    "fig, ax = plt.subplots()\n",
    "ax.plot(gaussian_pbox.left, Params.p_values)\n",
    "ax.plot(gaussian_pbox.right, Params.p_values)"
   ]
  },
  {
   "cell_type": "code",
   "execution_count": null,
   "id": "183d6f20-8838-4c50-8fb1-a63c239d8eaf",
   "metadata": {},
   "outputs": [],
   "source": []
  },
  {
   "cell_type": "code",
   "execution_count": null,
   "id": "7ea1f194-8798-4b33-bd18-0aa3d4ccf453",
   "metadata": {},
   "outputs": [],
   "source": []
  },
  {
   "cell_type": "code",
   "execution_count": null,
   "id": "2dd64635-6bbc-4a07-8121-b9e4f13d0fe5",
   "metadata": {},
   "outputs": [],
   "source": []
  },
  {
   "cell_type": "code",
   "execution_count": null,
   "id": "6b83d729-5489-45ca-a162-6acd290dfcc2",
   "metadata": {},
   "outputs": [],
   "source": [
    "import itertools\n",
    "a = itertools.product(\n",
    "   arg\n",
    ")\n",
    "\n",
    "for x in a:\n",
    "    print(x)"
   ]
  },
  {
   "cell_type": "code",
   "execution_count": null,
   "id": "4bc68b9b-3cd0-470b-b04b-f5d7c25fc469",
   "metadata": {},
   "outputs": [],
   "source": []
  },
  {
   "cell_type": "code",
   "execution_count": null,
   "id": "45c58030-bc80-4ac3-b4d6-504f07375381",
   "metadata": {},
   "outputs": [],
   "source": [
    "# a test on uniform dist"
   ]
  },
  {
   "cell_type": "code",
   "execution_count": null,
   "id": "4a9743d8-c1bd-4120-be7f-6a419e213243",
   "metadata": {},
   "outputs": [],
   "source": []
  }
 ],
 "metadata": {
  "kernelspec": {
   "display_name": "Python 3 (ipykernel)",
   "language": "python",
   "name": "python3"
  },
  "language_info": {
   "codemirror_mode": {
    "name": "ipython",
    "version": 3
   },
   "file_extension": ".py",
   "mimetype": "text/x-python",
   "name": "python",
   "nbconvert_exporter": "python",
   "pygments_lexer": "ipython3",
   "version": "3.11.10"
  }
 },
 "nbformat": 4,
 "nbformat_minor": 5
}
