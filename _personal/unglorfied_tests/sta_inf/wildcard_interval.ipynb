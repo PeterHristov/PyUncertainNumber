{
 "cells": [
  {
   "cell_type": "code",
   "execution_count": 1,
   "id": "5739deb9-a0e4-4638-b55c-d9e112808ad6",
   "metadata": {},
   "outputs": [],
   "source": [
    "from PyUncertainNumber.UC.intervalOperators import wc_interval\n",
    "from intervals import Interval\n",
    "from PyUncertainNumber.pba.interval import Interval as nInterval"
   ]
  },
  {
   "cell_type": "code",
   "execution_count": 2,
   "id": "e46f4a05-aa74-4095-beff-787353451b77",
   "metadata": {},
   "outputs": [],
   "source": [
    "from PyUncertainNumber import pba"
   ]
  },
  {
   "cell_type": "code",
   "execution_count": 3,
   "id": "5987311a-6dd9-4744-a927-eecaa9073431",
   "metadata": {},
   "outputs": [],
   "source": [
    "import numpy as np"
   ]
  },
  {
   "cell_type": "code",
   "execution_count": 4,
   "id": "00408036-cf4f-4058-8089-dcafbbeb8c31",
   "metadata": {},
   "outputs": [],
   "source": [
    "a = [0, 1]\n",
    "b = [2, 3]\n",
    "\n",
    "a_i = pba.I(a)\n",
    "b_i = pba.I(b)\n",
    "\n",
    "a_mi = Interval(*a)\n",
    "b_mi = Interval(*b)\n",
    "\n",
    "# some other wierd representation of an `interval`\n",
    "st_a = (0, 1)"
   ]
  },
  {
   "cell_type": "code",
   "execution_count": null,
   "id": "91c3781c-ea83-4ab9-bbf2-004a132644db",
   "metadata": {},
   "outputs": [],
   "source": [
    "# take a peek"
   ]
  },
  {
   "cell_type": "code",
   "execution_count": 5,
   "id": "7d2c55c7-4dd8-463f-bafa-801eab8c3b2d",
   "metadata": {},
   "outputs": [
    {
     "data": {
      "text/plain": [
       "[0, 1]"
      ]
     },
     "execution_count": 5,
     "metadata": {},
     "output_type": "execute_result"
    }
   ],
   "source": [
    "a"
   ]
  },
  {
   "cell_type": "code",
   "execution_count": 6,
   "id": "0c7c91af-afc2-4137-b88b-e39b84491eb1",
   "metadata": {},
   "outputs": [
    {
     "data": {
      "text/plain": [
       "Interval [0, 1]"
      ]
     },
     "execution_count": 6,
     "metadata": {},
     "output_type": "execute_result"
    }
   ],
   "source": [
    "a_i"
   ]
  },
  {
   "cell_type": "code",
   "execution_count": 7,
   "id": "9b49e5c6-cfc0-4911-bf89-b2732bc47345",
   "metadata": {},
   "outputs": [
    {
     "data": {
      "text/plain": [
       "[0.0,1.0]"
      ]
     },
     "execution_count": 7,
     "metadata": {},
     "output_type": "execute_result"
    }
   ],
   "source": [
    "a_mi"
   ]
  },
  {
   "cell_type": "code",
   "execution_count": 8,
   "id": "47984ce9-bbe9-4963-9c6f-0755dedb240c",
   "metadata": {},
   "outputs": [
    {
     "data": {
      "text/plain": [
       "(0, 1)"
      ]
     },
     "execution_count": 8,
     "metadata": {},
     "output_type": "execute_result"
    }
   ],
   "source": [
    "st_a"
   ]
  },
  {
   "cell_type": "code",
   "execution_count": null,
   "id": "fdbcccbe-7416-44a1-8799-e74812105c92",
   "metadata": {},
   "outputs": [],
   "source": [
    "# transform them"
   ]
  },
  {
   "cell_type": "code",
   "execution_count": 9,
   "id": "7372f839-b617-4b14-8fa5-4e0d7b60ec59",
   "metadata": {},
   "outputs": [
    {
     "data": {
      "text/plain": [
       "Interval [0, 1]"
      ]
     },
     "execution_count": 9,
     "metadata": {},
     "output_type": "execute_result"
    }
   ],
   "source": [
    "wc_interval(a)"
   ]
  },
  {
   "cell_type": "code",
   "execution_count": 10,
   "id": "acc9fcdb-5de1-4415-acaa-9e558494d517",
   "metadata": {},
   "outputs": [
    {
     "data": {
      "text/plain": [
       "Interval [0, 1]"
      ]
     },
     "execution_count": 10,
     "metadata": {},
     "output_type": "execute_result"
    }
   ],
   "source": [
    "wc_interval(a_mi)"
   ]
  },
  {
   "cell_type": "code",
   "execution_count": 12,
   "id": "4796d818-bdb0-44c2-8775-74135d801dc4",
   "metadata": {},
   "outputs": [
    {
     "data": {
      "text/plain": [
       "Interval [0, 1]"
      ]
     },
     "execution_count": 12,
     "metadata": {},
     "output_type": "execute_result"
    }
   ],
   "source": [
    "wc_interval(st_a)"
   ]
  },
  {
   "cell_type": "code",
   "execution_count": null,
   "id": "b05e1b9e-c478-4f14-87d5-f53d7dba3db6",
   "metadata": {},
   "outputs": [],
   "source": []
  },
  {
   "cell_type": "code",
   "execution_count": null,
   "id": "165ff38a-b83f-4c9f-8533-6057a59905d3",
   "metadata": {},
   "outputs": [],
   "source": []
  },
  {
   "cell_type": "code",
   "execution_count": null,
   "id": "5945d436-65b9-490c-8eeb-0d2da5035c84",
   "metadata": {},
   "outputs": [],
   "source": []
  },
  {
   "cell_type": "code",
   "execution_count": null,
   "id": "a36698ec-c67b-4bc9-883b-6c16f473443f",
   "metadata": {},
   "outputs": [],
   "source": [
    "np.ndarray.item(a_mi.lo) "
   ]
  },
  {
   "cell_type": "code",
   "execution_count": null,
   "id": "957ff09a-9852-46d0-8211-c0bdef39e01b",
   "metadata": {},
   "outputs": [],
   "source": [
    "# vec_bound = Interval(lo=[1,2,3,4],hi=[2,3,4,5])"
   ]
  },
  {
   "cell_type": "code",
   "execution_count": null,
   "id": "ae8cb7c7-e6cf-47ab-bd62-a36b8eefe3e5",
   "metadata": {},
   "outputs": [],
   "source": [
    "# vec_bound"
   ]
  },
  {
   "cell_type": "code",
   "execution_count": null,
   "id": "1adc9e7a-435f-4df4-ad87-e0f7e6249b02",
   "metadata": {},
   "outputs": [],
   "source": [
    "# np.ndarray.item(vec_bound.lo)"
   ]
  },
  {
   "cell_type": "code",
   "execution_count": null,
   "id": "e6f034f4-1048-423d-8cb9-7c50b87be926",
   "metadata": {},
   "outputs": [],
   "source": [
    "# vec_bound.lo"
   ]
  },
  {
   "cell_type": "code",
   "execution_count": null,
   "id": "a2c62ddb-d0b9-4f54-8cf6-1a8a871c2215",
   "metadata": {},
   "outputs": [],
   "source": []
  }
 ],
 "metadata": {
  "kernelspec": {
   "display_name": "Python 3 (ipykernel)",
   "language": "python",
   "name": "python3"
  },
  "language_info": {
   "codemirror_mode": {
    "name": "ipython",
    "version": 3
   },
   "file_extension": ".py",
   "mimetype": "text/x-python",
   "name": "python",
   "nbconvert_exporter": "python",
   "pygments_lexer": "ipython3",
   "version": "3.11.10"
  }
 },
 "nbformat": 4,
 "nbformat_minor": 5
}
