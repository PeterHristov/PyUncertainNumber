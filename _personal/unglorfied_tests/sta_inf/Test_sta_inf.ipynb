{
 "cells": [
  {
   "cell_type": "code",
   "execution_count": 1,
   "id": "208c9880-d052-42da-bfb7-ecf873ee2e51",
   "metadata": {},
   "outputs": [],
   "source": [
    "from PyUncertainNumber.UC.uncertainNumber import UncertainNumber as UN\n",
    "from PyUncertainNumber.UC.statisticalInference import *\n",
    "from PyUncertainNumber.UC.utils import pl_ecdf, pl_pcdf"
   ]
  },
  {
   "cell_type": "code",
   "execution_count": 2,
   "id": "1df94591-75f6-46bd-8df0-9566e966a84c",
   "metadata": {},
   "outputs": [],
   "source": [
    "from scipy.stats import CensoredData"
   ]
  },
  {
   "cell_type": "code",
   "execution_count": 3,
   "id": "18b50506-88ca-4f9c-96f8-31fe4dbcac16",
   "metadata": {},
   "outputs": [],
   "source": [
    "%load_ext autoreload\n",
    "%autoreload 2\n",
    "%load_ext rich\n",
    "%matplotlib inline"
   ]
  },
  {
   "cell_type": "markdown",
   "id": "1da0b302-a8c2-40e5-881f-2c57ab98ae7e",
   "metadata": {},
   "source": [
    "# precise data"
   ]
  },
  {
   "cell_type": "markdown",
   "id": "9ddc173e-6a6a-4e4c-876a-6c1383f06981",
   "metadata": {},
   "source": [
    "## MLE method"
   ]
  },
  {
   "cell_type": "code",
   "execution_count": null,
   "id": "ed68e81c-7102-4494-9718-b227fd465c4b",
   "metadata": {},
   "outputs": [],
   "source": [
    "# test data from Scott\n",
    "\n",
    "datat = 2 * np.random.normal(size=25)"
   ]
  },
  {
   "cell_type": "code",
   "execution_count": null,
   "id": "06e9cef0-83e7-4c5f-b05b-b4a0e156aecc",
   "metadata": {},
   "outputs": [],
   "source": [
    "dist = MLnormal(datat)"
   ]
  },
  {
   "cell_type": "code",
   "execution_count": null,
   "id": "eefce489-2dd4-4d20-95dc-271d9514d187",
   "metadata": {},
   "outputs": [],
   "source": [
    "dist"
   ]
  },
  {
   "cell_type": "code",
   "execution_count": null,
   "id": "504c6763-58e5-4a2d-9249-b448abf6f3aa",
   "metadata": {},
   "outputs": [],
   "source": [
    "_ = pl_pcdf(dist, title='Gaussian MLE estimated dist given precise data')"
   ]
  },
  {
   "cell_type": "markdown",
   "id": "c1452767-22e9-4f83-9cae-dca3c642b5cd",
   "metadata": {},
   "source": [
    "# imprecise data\n",
    "\n",
    "My current idea will be:\n",
    "\n",
    "- UN produces pbox via MLE and MoM\n",
    "- sps still returns precise distribution object anyway."
   ]
  },
  {
   "cell_type": "code",
   "execution_count": 4,
   "id": "6696721d-a439-4e94-8fe0-3f89c79c9981",
   "metadata": {},
   "outputs": [],
   "source": [
    "scott_rawData = [[8,11], [5.5,6.9], [0.3, 1.3], [3.5,7.5], [0.8,1], [2.8,4.2], [1.8,5.2], [2.2,5.2], [3.5,5.7], [5.3,6.1]]"
   ]
  },
  {
   "cell_type": "code",
   "execution_count": 5,
   "id": "ad56ea1e-e535-4375-9411-252d637fa902",
   "metadata": {},
   "outputs": [
    {
     "data": {
      "text/html": [
       "<pre style=\"white-space:pre;overflow-x:auto;line-height:normal;font-family:Menlo,'DejaVu Sans Mono',consolas,'Courier New',monospace\"></pre>\n"
      ],
      "text/plain": []
     },
     "metadata": {},
     "output_type": "display_data"
    },
    {
     "data": {
      "text/plain": [
       "\u001b[32m' vanilla scipy imp which looks weird '\u001b[0m"
      ]
     },
     "execution_count": 5,
     "metadata": {},
     "output_type": "execute_result"
    }
   ],
   "source": [
    "''' vanilla scipy imp which looks weird '''\n",
    "# data_imp = CensoredData(interval=scott_rawData)\n",
    "# data_imp"
   ]
  },
  {
   "cell_type": "code",
   "execution_count": 6,
   "id": "fc84b67a-6eed-40bb-82b0-a943af73decc",
   "metadata": {},
   "outputs": [],
   "source": [
    "lo_endpoints = [it[0] for it in scott_rawData] # Low ends of the intervals\n",
    "hi_endpoints = [it[1] for it in scott_rawData] # High ends of the intervals"
   ]
  },
  {
   "cell_type": "code",
   "execution_count": 7,
   "id": "66d706de-fc29-47b2-abc0-8fa3719d8302",
   "metadata": {},
   "outputs": [
    {
     "name": "stdout",
     "output_type": "stream",
     "text": [
      "CensoredData(10 values: 0 not censored, 10 interval-censored)\n"
     ]
    }
   ],
   "source": [
    "data_i = CensoredData.interval_censored(low=lo_endpoints, high=hi_endpoints)\n",
    "print(data_i)"
   ]
  },
  {
   "cell_type": "code",
   "execution_count": 8,
   "id": "6bb213dc-0e37-4dbd-be63-e7d5acbf3b9d",
   "metadata": {},
   "outputs": [
    {
     "data": {
      "text/html": [
       "<pre style=\"white-space:pre;overflow-x:auto;line-height:normal;font-family:Menlo,'DejaVu Sans Mono',consolas,'Courier New',monospace\"></pre>\n"
      ],
      "text/plain": []
     },
     "metadata": {},
     "output_type": "display_data"
    },
    {
     "data": {
      "text/plain": [
       "\u001b[1;35mCensoredData\u001b[0m\u001b[1m(\u001b[0m\u001b[33muncensored\u001b[0m=\u001b[1;35marray\u001b[0m\u001b[1m(\u001b[0m\u001b[1m[\u001b[0m\u001b[1m]\u001b[0m, \u001b[33mdtype\u001b[0m=\u001b[35mfloat64\u001b[0m\u001b[1m)\u001b[0m, \u001b[33mleft\u001b[0m=\u001b[1;35marray\u001b[0m\u001b[1m(\u001b[0m\u001b[1m[\u001b[0m\u001b[1m]\u001b[0m, \u001b[33mdtype\u001b[0m=\u001b[35mfloat64\u001b[0m\u001b[1m)\u001b[0m, \u001b[33mright\u001b[0m=\u001b[1;35marray\u001b[0m\u001b[1m(\u001b[0m\u001b[1m[\u001b[0m\u001b[1m]\u001b[0m, \u001b[33mdtype\u001b[0m=\u001b[35mfloat64\u001b[0m\u001b[1m)\u001b[0m, \u001b[33minterval\u001b[0m=\u001b[1;35marray\u001b[0m\u001b[1m(\u001b[0m\u001b[1m[\u001b[0m\u001b[1m[\u001b[0m \u001b[1;36m8\u001b[0m. , \u001b[1;36m11\u001b[0m. \u001b[1m]\u001b[0m, \u001b[1m[\u001b[0m \u001b[1;36m5.5\u001b[0m, \u001b[1;36m6.9\u001b[0m\u001b[1m]\u001b[0m, \u001b[1m[\u001b[0m \u001b[1;36m0.3\u001b[0m, \u001b[1;36m1.3\u001b[0m\u001b[1m]\u001b[0m, \u001b[1m[\u001b[0m \u001b[1;36m3.5\u001b[0m, \u001b[1;36m7.5\u001b[0m\u001b[1m]\u001b[0m, \u001b[1m[\u001b[0m \u001b[1;36m0.8\u001b[0m, \u001b[1;36m1\u001b[0m. \u001b[1m]\u001b[0m, \u001b[1m[\u001b[0m \u001b[1;36m2.8\u001b[0m, \u001b[1;36m4.2\u001b[0m\u001b[1m]\u001b[0m, \u001b[1m[\u001b[0m \u001b[1;36m1.8\u001b[0m, \u001b[1;36m5.2\u001b[0m\u001b[1m]\u001b[0m, \u001b[1m[\u001b[0m \u001b[1;36m2.2\u001b[0m, \u001b[1;36m5.2\u001b[0m\u001b[1m]\u001b[0m, \u001b[1m[\u001b[0m \u001b[1;36m3.5\u001b[0m, \u001b[1;36m5.7\u001b[0m\u001b[1m]\u001b[0m, \u001b[1m[\u001b[0m \u001b[1;36m5.3\u001b[0m, \u001b[1;36m6.1\u001b[0m\u001b[1m]\u001b[0m\u001b[1m]\u001b[0m\u001b[1m)\u001b[0m\u001b[1m)\u001b[0m"
      ]
     },
     "execution_count": 8,
     "metadata": {},
     "output_type": "execute_result"
    }
   ],
   "source": [
    "''' the same as data_imp '''\n",
    "data_i"
   ]
  },
  {
   "cell_type": "code",
   "execution_count": 26,
   "id": "ee160b78-cce5-49eb-96c7-ee4aad1ca8b3",
   "metadata": {},
   "outputs": [
    {
     "data": {
      "text/html": [
       "<pre style=\"white-space:pre;overflow-x:auto;line-height:normal;font-family:Menlo,'DejaVu Sans Mono',consolas,'Courier New',monospace\"></pre>\n"
      ],
      "text/plain": []
     },
     "metadata": {},
     "output_type": "display_data"
    },
    {
     "data": {
      "text/plain": [
       "\u001b[1m<\u001b[0m\u001b[1;95mclass\u001b[0m\u001b[39m \u001b[0m\u001b[32m'scipy.stats._censored_data.CensoredData'\u001b[0m\u001b[1m>\u001b[0m"
      ]
     },
     "execution_count": 26,
     "metadata": {},
     "output_type": "execute_result"
    }
   ],
   "source": [
    "type(data_i)"
   ]
  },
  {
   "cell_type": "code",
   "execution_count": 10,
   "id": "7af25a29-be45-4a37-9594-9925a69b5f77",
   "metadata": {},
   "outputs": [],
   "source": [
    "dist_i_scipy = MLnormal(data_i)"
   ]
  },
  {
   "cell_type": "code",
   "execution_count": 23,
   "id": "e231f525-3afc-4095-95f7-bf45d8a2b7f0",
   "metadata": {},
   "outputs": [
    {
     "data": {
      "text/html": [
       "<pre style=\"white-space:pre;overflow-x:auto;line-height:normal;font-family:Menlo,'DejaVu Sans Mono',consolas,'Courier New',monospace\"></pre>\n"
      ],
      "text/plain": []
     },
     "metadata": {},
     "output_type": "display_data"
    },
    {
     "data": {
      "text/plain": [
       "\u001b[1m(\u001b[0m\u001b[1;35mnp.float64\u001b[0m\u001b[1m(\u001b[0m\u001b[1;36m4.326522375417396\u001b[0m\u001b[1m)\u001b[0m, \u001b[1;35mnp.float64\u001b[0m\u001b[1m(\u001b[0m\u001b[1;36m2.376818076563358\u001b[0m\u001b[1m)\u001b[0m\u001b[1m)\u001b[0m"
      ]
     },
     "execution_count": 23,
     "metadata": {},
     "output_type": "execute_result"
    }
   ],
   "source": [
    "# we do get to see the params of a scipy.stats.frozon object\n",
    "dist_i_scipy.args"
   ]
  },
  {
   "cell_type": "code",
   "execution_count": 24,
   "id": "54615475-dc08-4d9a-954d-8c649f39680a",
   "metadata": {},
   "outputs": [],
   "source": [
    "# dir(dist_i_scipy)"
   ]
  },
  {
   "cell_type": "code",
   "execution_count": 25,
   "id": "b8d595cd-db16-4a80-8665-73c57022e435",
   "metadata": {},
   "outputs": [
    {
     "data": {
      "text/html": [
       "<pre style=\"white-space:pre;overflow-x:auto;line-height:normal;font-family:Menlo,'DejaVu Sans Mono',consolas,'Courier New',monospace\"></pre>\n"
      ],
      "text/plain": []
     },
     "metadata": {},
     "output_type": "display_data"
    },
    {
     "data": {
      "image/png": "[encoded data removed]",
      "text/plain": [
       "\u001b[1m<\u001b[0m\u001b[1;95mFigure\u001b[0m\u001b[39m size 64\u001b[0m\u001b[1;36m0x480\u001b[0m\u001b[39m with \u001b[0m\u001b[1;36m1\u001b[0m\u001b[39m Axes\u001b[0m\u001b[1m>\u001b[0m"
      ]
     },
     "metadata": {},
     "output_type": "display_data"
    }
   ],
   "source": [
    "_ = pl_pcdf(dist_i_scipy, title='Gaussian MLE estimated dist given imprecise data')"
   ]
  },
  {
   "cell_type": "code",
   "execution_count": null,
   "id": "c0625279-2c8c-4dc0-9c71-15e3efbbbdaa",
   "metadata": {},
   "outputs": [],
   "source": []
  }
 ],
 "metadata": {
  "kernelspec": {
   "display_name": "Python 3 (ipykernel)",
   "language": "python",
   "name": "python3"
  },
  "language_info": {
   "codemirror_mode": {
    "name": "ipython",
    "version": 3
   },
   "file_extension": ".py",
   "mimetype": "text/x-python",
   "name": "python",
   "nbconvert_exporter": "python",
   "pygments_lexer": "ipython3",
   "version": "3.11.10"
  }
 },
 "nbformat": 4,
 "nbformat_minor": 5
}
