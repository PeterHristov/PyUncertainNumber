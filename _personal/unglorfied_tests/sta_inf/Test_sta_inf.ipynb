{
 "cells": [
  {
   "cell_type": "code",
   "execution_count": 1,
   "id": "208c9880-d052-42da-bfb7-ecf873ee2e51",
   "metadata": {},
   "outputs": [],
   "source": [
    "from PyUncertainNumber.UC.uncertainNumber import UncertainNumber as UN\n",
    "from PyUncertainNumber.UC.statisticalInference import *\n",
    "from PyUncertainNumber.UC.utils import pl_ecdf, pl_pcdf"
   ]
  },
  {
   "cell_type": "code",
   "execution_count": 2,
   "id": "1df94591-75f6-46bd-8df0-9566e966a84c",
   "metadata": {},
   "outputs": [],
   "source": [
    "from intervals import Interval as I\n",
    "from scipy.stats import CensoredData\n",
    "import scipy.stats as sps\n",
    "import matplotlib.pyplot as plt"
   ]
  },
  {
   "cell_type": "code",
   "execution_count": 3,
   "id": "18b50506-88ca-4f9c-96f8-31fe4dbcac16",
   "metadata": {},
   "outputs": [],
   "source": [
    "%load_ext autoreload\n",
    "%autoreload 2\n",
    "%load_ext rich\n",
    "%matplotlib inline"
   ]
  },
  {
   "cell_type": "markdown",
   "id": "1da0b302-a8c2-40e5-881f-2c57ab98ae7e",
   "metadata": {},
   "source": [
    "# precise data"
   ]
  },
  {
   "cell_type": "markdown",
   "id": "9ddc173e-6a6a-4e4c-876a-6c1383f06981",
   "metadata": {},
   "source": [
    "## MLE method"
   ]
  },
  {
   "cell_type": "code",
   "execution_count": 4,
   "id": "ed68e81c-7102-4494-9718-b227fd465c4b",
   "metadata": {},
   "outputs": [],
   "source": [
    "# test data from Scott\n",
    "\n",
    "datat = 2 * np.random.normal(size=25)"
   ]
  },
  {
   "cell_type": "code",
   "execution_count": 5,
   "id": "06e9cef0-83e7-4c5f-b05b-b4a0e156aecc",
   "metadata": {},
   "outputs": [],
   "source": [
    "dist = MLnormal(datat)"
   ]
  },
  {
   "cell_type": "code",
   "execution_count": 6,
   "id": "eefce489-2dd4-4d20-95dc-271d9514d187",
   "metadata": {},
   "outputs": [
    {
     "data": {
      "text/html": [
       "<pre style=\"white-space:pre;overflow-x:auto;line-height:normal;font-family:Menlo,'DejaVu Sans Mono',consolas,'Courier New',monospace\"></pre>\n"
      ],
      "text/plain": []
     },
     "metadata": {},
     "output_type": "display_data"
    },
    {
     "data": {
      "text/plain": [
       "\u001b[1m<\u001b[0m\u001b[1;95mscipy.stats._distn_infrastructure.rv_continuous_frozen\u001b[0m\u001b[39m object at \u001b[0m\u001b[1;36m0x10ecaf490\u001b[0m\u001b[1m>\u001b[0m"
      ]
     },
     "execution_count": 6,
     "metadata": {},
     "output_type": "execute_result"
    }
   ],
   "source": [
    "dist"
   ]
  },
  {
   "cell_type": "code",
   "execution_count": 7,
   "id": "504c6763-58e5-4a2d-9249-b448abf6f3aa",
   "metadata": {},
   "outputs": [
    {
     "data": {
      "text/html": [
       "<pre style=\"white-space:pre;overflow-x:auto;line-height:normal;font-family:Menlo,'DejaVu Sans Mono',consolas,'Courier New',monospace\"></pre>\n"
      ],
      "text/plain": []
     },
     "metadata": {},
     "output_type": "display_data"
    },
    {
     "data": {
      "image/png": "[encoded data removed]",
      "text/plain": [
       "\u001b[1m<\u001b[0m\u001b[1;95mFigure\u001b[0m\u001b[39m size 64\u001b[0m\u001b[1;36m0x480\u001b[0m\u001b[39m with \u001b[0m\u001b[1;36m1\u001b[0m\u001b[39m Axes\u001b[0m\u001b[1m>\u001b[0m"
      ]
     },
     "metadata": {},
     "output_type": "display_data"
    }
   ],
   "source": [
    "_ = pl_pcdf(dist, title='Gaussian MLE estimated dist given precise data')"
   ]
  },
  {
   "cell_type": "code",
   "execution_count": null,
   "id": "ebd14157-2349-4375-9343-5ebf184c640c",
   "metadata": {},
   "outputs": [],
   "source": []
  },
  {
   "cell_type": "code",
   "execution_count": null,
   "id": "22cfa7b8-c386-4027-9fcc-a7781c3543af",
   "metadata": {},
   "outputs": [],
   "source": []
  },
  {
   "cell_type": "code",
   "execution_count": null,
   "id": "481aa9b9-9e79-41d9-b57a-7a5ce4825c51",
   "metadata": {},
   "outputs": [],
   "source": []
  },
  {
   "cell_type": "code",
   "execution_count": null,
   "id": "c5dd904e-3828-40b4-b9db-1ffa74cc969b",
   "metadata": {},
   "outputs": [],
   "source": []
  },
  {
   "cell_type": "code",
   "execution_count": null,
   "id": "5deabc3c-e1a6-436b-b459-531eee3ffc05",
   "metadata": {},
   "outputs": [],
   "source": []
  },
  {
   "cell_type": "code",
   "execution_count": null,
   "id": "85639cb6-0532-4ff5-9d5e-cd70787737a0",
   "metadata": {},
   "outputs": [],
   "source": []
  },
  {
   "cell_type": "markdown",
   "id": "c1452767-22e9-4f83-9cae-dca3c642b5cd",
   "metadata": {},
   "source": [
    "# imprecise data\n",
    "\n",
    "My current idea will be:\n",
    "\n",
    "- UN produces pbox via MLE and MoM\n",
    "- sps still returns precise distribution object anyway."
   ]
  },
  {
   "cell_type": "code",
   "execution_count": null,
   "id": "6696721d-a439-4e94-8fe0-3f89c79c9981",
   "metadata": {},
   "outputs": [],
   "source": [
    "scott_rawData = [[8,11], [5.5,6.9], [0.3, 1.3], [3.5,7.5], [0.8,1], [2.8,4.2], [1.8,5.2], [2.2,5.2], [3.5,5.7], [5.3,6.1]]"
   ]
  },
  {
   "cell_type": "code",
   "execution_count": null,
   "id": "ad56ea1e-e535-4375-9411-252d637fa902",
   "metadata": {},
   "outputs": [],
   "source": [
    "''' vanilla scipy imp which looks weird '''\n",
    "# data_imp = CensoredData(interval=scott_rawData)\n",
    "# data_imp"
   ]
  },
  {
   "cell_type": "code",
   "execution_count": null,
   "id": "fc84b67a-6eed-40bb-82b0-a943af73decc",
   "metadata": {},
   "outputs": [],
   "source": [
    "lo_endpoints = [it[0] for it in scott_rawData] # Low ends of the intervals\n",
    "hi_endpoints = [it[1] for it in scott_rawData] # High ends of the intervals"
   ]
  },
  {
   "cell_type": "code",
   "execution_count": null,
   "id": "66d706de-fc29-47b2-abc0-8fa3719d8302",
   "metadata": {},
   "outputs": [],
   "source": [
    "data_i = CensoredData.interval_censored(low=lo_endpoints, high=hi_endpoints)\n",
    "print(data_i)"
   ]
  },
  {
   "cell_type": "code",
   "execution_count": null,
   "id": "6bb213dc-0e37-4dbd-be63-e7d5acbf3b9d",
   "metadata": {},
   "outputs": [],
   "source": [
    "''' the same as data_imp '''\n",
    "data_i"
   ]
  },
  {
   "cell_type": "code",
   "execution_count": null,
   "id": "ee160b78-cce5-49eb-96c7-ee4aad1ca8b3",
   "metadata": {},
   "outputs": [],
   "source": [
    "type(data_i)"
   ]
  },
  {
   "cell_type": "code",
   "execution_count": null,
   "id": "7af25a29-be45-4a37-9594-9925a69b5f77",
   "metadata": {},
   "outputs": [],
   "source": [
    "dist_i_scipy = MLnormal(data_i)\n",
    "# we do get to see the params of a scipy.stats.frozon object\n",
    "dist_i_scipy.args\n",
    "# dir(dist_i_scipy)\n",
    "_ = pl_pcdf(dist_i_scipy, title='Gaussian MLE estimated dist given imprecise data')"
   ]
  },
  {
   "cell_type": "markdown",
   "id": "d0061984-04bb-4e12-82bc-25cf0013298a",
   "metadata": {},
   "source": [
    "#### Exponential distribution tet"
   ]
  },
  {
   "cell_type": "code",
   "execution_count": 8,
   "id": "70d7d006-9b35-4ca8-89b2-ad001dc3dbd6",
   "metadata": {},
   "outputs": [
    {
     "data": {
      "text/html": [
       "<pre style=\"white-space:pre;overflow-x:auto;line-height:normal;font-family:Menlo,'DejaVu Sans Mono',consolas,'Courier New',monospace\"></pre>\n"
      ],
      "text/plain": []
     },
     "metadata": {},
     "output_type": "display_data"
    },
    {
     "data": {
      "text/plain": [
       "\n",
       "\u001b[1m[\u001b[0m\u001b[1;36m1.0\u001b[0m,\u001b[1;36m2.0\u001b[0m\u001b[1m]\u001b[0m\n",
       "\u001b[1m[\u001b[0m\u001b[1;36m3.0\u001b[0m,\u001b[1;36m4.0\u001b[0m\u001b[1m]\u001b[0m"
      ]
     },
     "execution_count": 8,
     "metadata": {},
     "output_type": "execute_result"
    }
   ],
   "source": [
    "x = I(lo=[1,3], hi=[2,4])\n",
    "x"
   ]
  },
  {
   "cell_type": "markdown",
   "id": "75d2799a-c7c2-4df4-9abe-63fa8735aa20",
   "metadata": {},
   "source": [
    "## MLE method"
   ]
  },
  {
   "cell_type": "code",
   "execution_count": null,
   "id": "f3c700ea-dac0-490d-adde-fb6bd0b4b7a2",
   "metadata": {},
   "outputs": [],
   "source": [
    "mle_expon = MLexponential(x)"
   ]
  },
  {
   "cell_type": "code",
   "execution_count": null,
   "id": "00f91c33-82c2-4d3f-971c-86a284db3988",
   "metadata": {},
   "outputs": [],
   "source": [
    "_ = mle_expon.display(style='band')"
   ]
  },
  {
   "cell_type": "markdown",
   "id": "b39d85be-a609-47f5-97d4-8b147d9416fa",
   "metadata": {},
   "source": [
    "## MoM method"
   ]
  },
  {
   "cell_type": "code",
   "execution_count": 9,
   "id": "66976ca7-c965-4ae0-a141-4d861d51e00d",
   "metadata": {},
   "outputs": [],
   "source": [
    "mom_expon = MMexponential(x)"
   ]
  },
  {
   "cell_type": "code",
   "execution_count": 11,
   "id": "5d2a87ef-4ddc-4dfb-927a-b3b51bd312a5",
   "metadata": {},
   "outputs": [
    {
     "data": {
      "text/html": [
       "<pre style=\"white-space:pre;overflow-x:auto;line-height:normal;font-family:Menlo,'DejaVu Sans Mono',consolas,'Courier New',monospace\"></pre>\n"
      ],
      "text/plain": []
     },
     "metadata": {},
     "output_type": "display_data"
    },
    {
     "data": {
      "image/png": "[encoded data removed]",
      "text/plain": [
       "\u001b[1m<\u001b[0m\u001b[1;95mFigure\u001b[0m\u001b[39m size 64\u001b[0m\u001b[1;36m0x480\u001b[0m\u001b[39m with \u001b[0m\u001b[1;36m1\u001b[0m\u001b[39m Axes\u001b[0m\u001b[1m>\u001b[0m"
      ]
     },
     "metadata": {},
     "output_type": "display_data"
    }
   ],
   "source": [
    "_ = mom_expon.display(style='band', title='exponential with imprecise data')"
   ]
  },
  {
   "cell_type": "code",
   "execution_count": null,
   "id": "faf56489-9f0a-4af3-bee9-65d83254ecd4",
   "metadata": {},
   "outputs": [],
   "source": []
  }
 ],
 "metadata": {
  "kernelspec": {
   "display_name": "Python 3 (ipykernel)",
   "language": "python",
   "name": "python3"
  },
  "language_info": {
   "codemirror_mode": {
    "name": "ipython",
    "version": 3
   },
   "file_extension": ".py",
   "mimetype": "text/x-python",
   "name": "python",
   "nbconvert_exporter": "python",
   "pygments_lexer": "ipython3",
   "version": "3.11.10"
  }
 },
 "nbformat": 4,
 "nbformat_minor": 5
}
