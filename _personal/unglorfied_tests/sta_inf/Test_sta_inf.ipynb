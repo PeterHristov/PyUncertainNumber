{
 "cells": [
  {
   "cell_type": "code",
   "execution_count": 1,
   "id": "208c9880-d052-42da-bfb7-ecf873ee2e51",
   "metadata": {},
   "outputs": [],
   "source": [
    "from PyUncertainNumber.UC.uncertainNumber import UncertainNumber as UN\n",
    "from PyUncertainNumber.UC.statisticalInference import *\n",
    "from PyUncertainNumber.UC.utils import pl_ecdf, pl_pcdf"
   ]
  },
  {
   "cell_type": "code",
   "execution_count": 2,
   "id": "1df94591-75f6-46bd-8df0-9566e966a84c",
   "metadata": {},
   "outputs": [],
   "source": [
    "from intervals import Interval as I\n",
    "from scipy.stats import CensoredData\n",
    "import scipy.stats as sps\n",
    "import matplotlib.pyplot as plt"
   ]
  },
  {
   "cell_type": "code",
   "execution_count": 3,
   "id": "18b50506-88ca-4f9c-96f8-31fe4dbcac16",
   "metadata": {},
   "outputs": [],
   "source": [
    "%load_ext autoreload\n",
    "%autoreload 2\n",
    "%load_ext rich\n",
    "%matplotlib inline"
   ]
  },
  {
   "cell_type": "markdown",
   "id": "1da0b302-a8c2-40e5-881f-2c57ab98ae7e",
   "metadata": {
    "jp-MarkdownHeadingCollapsed": true
   },
   "source": [
    "# precise data"
   ]
  },
  {
   "cell_type": "markdown",
   "id": "9ddc173e-6a6a-4e4c-876a-6c1383f06981",
   "metadata": {},
   "source": [
    "## MLE method"
   ]
  },
  {
   "cell_type": "code",
   "execution_count": null,
   "id": "ed68e81c-7102-4494-9718-b227fd465c4b",
   "metadata": {},
   "outputs": [],
   "source": [
    "# test data from Scott\n",
    "\n",
    "datat = 2 * np.random.normal(size=25)"
   ]
  },
  {
   "cell_type": "code",
   "execution_count": null,
   "id": "06e9cef0-83e7-4c5f-b05b-b4a0e156aecc",
   "metadata": {},
   "outputs": [],
   "source": [
    "dist = MLnormal(datat)"
   ]
  },
  {
   "cell_type": "code",
   "execution_count": null,
   "id": "eefce489-2dd4-4d20-95dc-271d9514d187",
   "metadata": {},
   "outputs": [],
   "source": [
    "dist"
   ]
  },
  {
   "cell_type": "code",
   "execution_count": null,
   "id": "504c6763-58e5-4a2d-9249-b448abf6f3aa",
   "metadata": {},
   "outputs": [],
   "source": [
    "_ = pl_pcdf(dist, title='Gaussian MLE estimated dist given precise data')"
   ]
  },
  {
   "cell_type": "markdown",
   "id": "c1452767-22e9-4f83-9cae-dca3c642b5cd",
   "metadata": {},
   "source": [
    "# imprecise data\n",
    "\n",
    "My current idea will be:\n",
    "\n",
    "- UN produces pbox via MLE and MoM\n",
    "- sps still returns precise distribution object anyway."
   ]
  },
  {
   "cell_type": "code",
   "execution_count": null,
   "id": "6696721d-a439-4e94-8fe0-3f89c79c9981",
   "metadata": {},
   "outputs": [],
   "source": [
    "scott_rawData = [[8,11], [5.5,6.9], [0.3, 1.3], [3.5,7.5], [0.8,1], [2.8,4.2], [1.8,5.2], [2.2,5.2], [3.5,5.7], [5.3,6.1]]"
   ]
  },
  {
   "cell_type": "code",
   "execution_count": null,
   "id": "ad56ea1e-e535-4375-9411-252d637fa902",
   "metadata": {},
   "outputs": [],
   "source": [
    "''' vanilla scipy imp which looks weird '''\n",
    "# data_imp = CensoredData(interval=scott_rawData)\n",
    "# data_imp"
   ]
  },
  {
   "cell_type": "code",
   "execution_count": null,
   "id": "fc84b67a-6eed-40bb-82b0-a943af73decc",
   "metadata": {},
   "outputs": [],
   "source": [
    "lo_endpoints = [it[0] for it in scott_rawData] # Low ends of the intervals\n",
    "hi_endpoints = [it[1] for it in scott_rawData] # High ends of the intervals"
   ]
  },
  {
   "cell_type": "code",
   "execution_count": null,
   "id": "66d706de-fc29-47b2-abc0-8fa3719d8302",
   "metadata": {},
   "outputs": [],
   "source": [
    "data_i = CensoredData.interval_censored(low=lo_endpoints, high=hi_endpoints)\n",
    "print(data_i)"
   ]
  },
  {
   "cell_type": "code",
   "execution_count": null,
   "id": "6bb213dc-0e37-4dbd-be63-e7d5acbf3b9d",
   "metadata": {},
   "outputs": [],
   "source": [
    "''' the same as data_imp '''\n",
    "data_i"
   ]
  },
  {
   "cell_type": "code",
   "execution_count": null,
   "id": "ee160b78-cce5-49eb-96c7-ee4aad1ca8b3",
   "metadata": {},
   "outputs": [],
   "source": [
    "type(data_i)"
   ]
  },
  {
   "cell_type": "code",
   "execution_count": null,
   "id": "7af25a29-be45-4a37-9594-9925a69b5f77",
   "metadata": {},
   "outputs": [],
   "source": [
    "dist_i_scipy = MLnormal(data_i)\n",
    "# we do get to see the params of a scipy.stats.frozon object\n",
    "dist_i_scipy.args\n",
    "# dir(dist_i_scipy)\n",
    "_ = pl_pcdf(dist_i_scipy, title='Gaussian MLE estimated dist given imprecise data')"
   ]
  },
  {
   "cell_type": "markdown",
   "id": "d0061984-04bb-4e12-82bc-25cf0013298a",
   "metadata": {},
   "source": [
    "#### Exponential distribution tet"
   ]
  },
  {
   "cell_type": "code",
   "execution_count": null,
   "id": "70d7d006-9b35-4ca8-89b2-ad001dc3dbd6",
   "metadata": {},
   "outputs": [],
   "source": [
    "x = I(lo=[1,3], hi=[2,4])\n",
    "x"
   ]
  },
  {
   "cell_type": "markdown",
   "id": "75d2799a-c7c2-4df4-9abe-63fa8735aa20",
   "metadata": {},
   "source": [
    "## MLE method"
   ]
  },
  {
   "cell_type": "code",
   "execution_count": null,
   "id": "f3c700ea-dac0-490d-adde-fb6bd0b4b7a2",
   "metadata": {},
   "outputs": [],
   "source": [
    "# sth = MLexponential(x)"
   ]
  },
  {
   "cell_type": "code",
   "execution_count": null,
   "id": "00f91c33-82c2-4d3f-971c-86a284db3988",
   "metadata": {},
   "outputs": [],
   "source": [
    "type(sth)"
   ]
  },
  {
   "cell_type": "code",
   "execution_count": null,
   "id": "40824199-e4c7-4d63-ac12-248fdcfa20eb",
   "metadata": {},
   "outputs": [],
   "source": [
    "from PyUncertainNumber.UC.intervalOperators import mean"
   ]
  },
  {
   "cell_type": "code",
   "execution_count": null,
   "id": "880cc743-f014-4f5e-b73a-9ab0ec710b00",
   "metadata": {},
   "outputs": [],
   "source": [
    "mean_value = mean(x)\n",
    "print(type(mean_value))\n",
    "print(mean_value)"
   ]
  },
  {
   "cell_type": "code",
   "execution_count": null,
   "id": "458ddc2d-9e7f-47d1-aeb1-5b353e4f54cd",
   "metadata": {},
   "outputs": [],
   "source": [
    "pba.expon(mean_value).display() "
   ]
  },
  {
   "cell_type": "code",
   "execution_count": null,
   "id": "e63d4a39-39fc-48f7-b655-0a4643f0f2b9",
   "metadata": {},
   "outputs": [],
   "source": []
  },
  {
   "cell_type": "markdown",
   "id": "a48466a6-8c1d-40fc-82ee-bf7c98a2baf4",
   "metadata": {},
   "source": [
    "### bebugging module"
   ]
  },
  {
   "cell_type": "code",
   "execution_count": null,
   "id": "4d8bfb8b-b603-4fed-a2cc-2b3b1b0ab98d",
   "metadata": {},
   "outputs": [],
   "source": [
    "from PyUncertainNumber.pba.interval import Interval as nInterval\n",
    "\n",
    "\n",
    "def wrapper_decorator(*args, **kwargs):\n",
    "    i_args = [nInterval(arg)\n",
    "              for arg in args if not isinstance(arg, nInterval | Interval)]\n",
    "    if i_args == []:\n",
    "        i_args = list(args)\n",
    "    return i_args"
   ]
  },
  {
   "cell_type": "code",
   "execution_count": null,
   "id": "5739ee47-bdb9-4450-997f-85d37baf53f7",
   "metadata": {},
   "outputs": [],
   "source": [
    "mean_value"
   ]
  },
  {
   "cell_type": "code",
   "execution_count": null,
   "id": "00c3473a-bdba-44bc-be62-882eef7de904",
   "metadata": {},
   "outputs": [],
   "source": [
    "sth = wrapper_decorator([2,3])\n",
    "sth"
   ]
  },
  {
   "cell_type": "code",
   "execution_count": null,
   "id": "ea7c0c2e-48f8-4d1a-8148-690f15686644",
   "metadata": {},
   "outputs": [],
   "source": [
    "sth2 = wrapper_decorator(mean_value)"
   ]
  },
  {
   "cell_type": "code",
   "execution_count": null,
   "id": "327cbf1b-e827-4031-8706-c4c222144f85",
   "metadata": {},
   "outputs": [],
   "source": []
  },
  {
   "cell_type": "code",
   "execution_count": null,
   "id": "f8d89d2c-a56f-4806-82ed-acf49f86aa26",
   "metadata": {},
   "outputs": [],
   "source": []
  },
  {
   "cell_type": "code",
   "execution_count": null,
   "id": "5e4725ab-b84d-4fe7-a0c9-6284ed85b559",
   "metadata": {},
   "outputs": [],
   "source": []
  },
  {
   "cell_type": "code",
   "execution_count": null,
   "id": "39bd14de-8043-4037-92e0-36725ec0ba5b",
   "metadata": {},
   "outputs": [],
   "source": []
  },
  {
   "cell_type": "code",
   "execution_count": null,
   "id": "b9d33421-5bde-4d90-bb54-952707e8f95e",
   "metadata": {},
   "outputs": [],
   "source": []
  },
  {
   "cell_type": "code",
   "execution_count": null,
   "id": "dd2b34d9-13eb-4b96-a090-bc2ba0e45c2f",
   "metadata": {},
   "outputs": [],
   "source": [
    "from PyUncertainNumber.pba.pbox import _get_bounds\n",
    "from PyUncertainNumber.pba.pbox_base import Pbox"
   ]
  },
  {
   "cell_type": "code",
   "execution_count": null,
   "id": "4c06cd11-3d31-4f8a-811c-f338bcfc902d",
   "metadata": {},
   "outputs": [],
   "source": [
    "_get_bounds(sth2)"
   ]
  },
  {
   "cell_type": "code",
   "execution_count": null,
   "id": "cdc978d6-407b-4f7f-8eb4-f7dd7da7230a",
   "metadata": {},
   "outputs": [],
   "source": [
    "Left, Right, mean, var = _get_bounds(function_name='expon')\n",
    "\n",
    "Pbox(\n",
    "    Left,\n",
    "    Right,\n",
    "    shape='expon',\n",
    "    mean_left=mean.left,\n",
    "    mean_right=mean.right,\n",
    "    var_left=var.left,\n",
    "    var_right=var.right,\n",
    ").display()"
   ]
  },
  {
   "cell_type": "code",
   "execution_count": null,
   "id": "40814907-55f6-46a7-a69c-dc539e7a7777",
   "metadata": {},
   "outputs": [],
   "source": []
  },
  {
   "cell_type": "code",
   "execution_count": null,
   "id": "f7810d99-2f94-4eb6-b93d-3cff8fb23979",
   "metadata": {},
   "outputs": [],
   "source": []
  },
  {
   "cell_type": "code",
   "execution_count": null,
   "id": "27fefcd6-1d0c-4afb-b5c0-dfabc8de0de4",
   "metadata": {},
   "outputs": [],
   "source": []
  },
  {
   "cell_type": "code",
   "execution_count": null,
   "id": "1695790f-b1da-4fa2-9d1c-c26713b4023b",
   "metadata": {},
   "outputs": [],
   "source": [
    "''' test the mean function '''\n",
    "# mean([1,2])"
   ]
  },
  {
   "cell_type": "code",
   "execution_count": null,
   "id": "ce8a005b-593f-4572-846f-ffc1518dac16",
   "metadata": {},
   "outputs": [],
   "source": [
    "# test nInterval compatibility\n",
    "\n",
    "ni = pba.I([2,3])\n",
    "ni"
   ]
  },
  {
   "cell_type": "code",
   "execution_count": null,
   "id": "2a959057-d2b1-477c-84af-ab2ec1974881",
   "metadata": {},
   "outputs": [],
   "source": [
    "# pba.expon([2,3]).display()    # worked\n",
    "# pba.expon(mean(x)).display()  # not working\n",
    "pba.expon(ni).display()"
   ]
  },
  {
   "cell_type": "code",
   "execution_count": 4,
   "id": "76732220-2d76-49bf-909d-e76bf4e4c29a",
   "metadata": {},
   "outputs": [],
   "source": [
    "a = [0, 1]\n",
    "b = [2, 3]\n",
    "\n",
    "a_i = pba.I(a)\n",
    "b_i = pba.I(b)"
   ]
  },
  {
   "cell_type": "code",
   "execution_count": null,
   "id": "ab5697c6-2d57-4ae3-89ef-a9518c5edded",
   "metadata": {},
   "outputs": [],
   "source": []
  },
  {
   "cell_type": "code",
   "execution_count": 5,
   "id": "4b98f316-8755-4961-b354-a7633c6b0808",
   "metadata": {},
   "outputs": [
    {
     "data": {
      "text/html": [
       "<pre style=\"white-space:pre;overflow-x:auto;line-height:normal;font-family:Menlo,'DejaVu Sans Mono',consolas,'Courier New',monospace\"></pre>\n"
      ],
      "text/plain": []
     },
     "metadata": {},
     "output_type": "display_data"
    },
    {
     "data": {
      "text/plain": [
       "Interval \u001b[1m[\u001b[0m\u001b[1;36m2\u001b[0m, \u001b[1;36m3\u001b[0m\u001b[1m]\u001b[0m"
      ]
     },
     "execution_count": 5,
     "metadata": {},
     "output_type": "execute_result"
    }
   ],
   "source": [
    "b_i"
   ]
  },
  {
   "cell_type": "code",
   "execution_count": 6,
   "id": "f9dd4055-c302-4cfd-99b2-0172a7c87790",
   "metadata": {},
   "outputs": [
    {
     "name": "stdout",
     "output_type": "stream",
     "text": [
      "Pbox: ~ norm(range=['-11.16', '12.16'], mean=[2.9323, 12.4343], var=[4.0, 9.0])\n"
     ]
    },
    {
     "data": {
      "text/html": [
       "<pre style=\"white-space:pre;overflow-x:auto;line-height:normal;font-family:Menlo,'DejaVu Sans Mono',consolas,'Courier New',monospace\"></pre>\n"
      ],
      "text/plain": []
     },
     "metadata": {},
     "output_type": "display_data"
    },
    {
     "data": {
      "image/png": "[encoded data removed]",
      "text/plain": [
       "\u001b[1m<\u001b[0m\u001b[1;95mFigure\u001b[0m\u001b[39m size 64\u001b[0m\u001b[1;36m0x480\u001b[0m\u001b[39m with \u001b[0m\u001b[1;36m1\u001b[0m\u001b[39m Axes\u001b[0m\u001b[1m>\u001b[0m"
      ]
     },
     "metadata": {},
     "output_type": "display_data"
    }
   ],
   "source": [
    "print(pba.norm(a,b))\n",
    "_ = pba.norm(a,b).display()"
   ]
  },
  {
   "cell_type": "code",
   "execution_count": 7,
   "id": "ebc78666-607a-4fb6-ac65-ce8125c2735d",
   "metadata": {},
   "outputs": [
    {
     "data": {
      "text/html": [
       "<pre style=\"white-space:pre;overflow-x:auto;line-height:normal;font-family:Menlo,'DejaVu Sans Mono',consolas,'Courier New',monospace\"></pre>\n"
      ],
      "text/plain": []
     },
     "metadata": {},
     "output_type": "display_data"
    },
    {
     "data": {
      "text/plain": [
       "Pbox: ~ \u001b[1;35mnorm\u001b[0m\u001b[1m(\u001b[0m\u001b[33mrange\u001b[0m=\u001b[1m[\u001b[0m\u001b[32m'-3.72'\u001b[0m, \u001b[32m'3.72'\u001b[0m\u001b[1m]\u001b[0m, \u001b[33mmean\u001b[0m=\u001b[1;36m1\u001b[0m\u001b[1;36m.0822\u001b[0m, \u001b[33mvar\u001b[0m=\u001b[1;36m1\u001b[0m\u001b[1;36m.0822\u001b[0m\u001b[1m)\u001b[0m"
      ]
     },
     "execution_count": 7,
     "metadata": {},
     "output_type": "execute_result"
    }
   ],
   "source": [
    "pba.norm(a_i, b_i)"
   ]
  },
  {
   "cell_type": "code",
   "execution_count": null,
   "id": "4654d89b-687c-4b0f-8406-20219a3c0dd6",
   "metadata": {},
   "outputs": [],
   "source": [
    "print(pba.norm([a,b]))  # incorrect\n",
    "_ = pba.norm([a,b]).display()"
   ]
  },
  {
   "cell_type": "code",
   "execution_count": null,
   "id": "0503dacc-2e4d-4988-9bbb-2e09e66c358f",
   "metadata": {},
   "outputs": [],
   "source": [
    "pba.norm((a,b)) # incorrect"
   ]
  },
  {
   "cell_type": "code",
   "execution_count": 8,
   "id": "cca1f19d-7b3e-4acc-bea0-f7c149e135af",
   "metadata": {},
   "outputs": [
    {
     "data": {
      "text/html": [
       "<pre style=\"white-space:pre;overflow-x:auto;line-height:normal;font-family:Menlo,'DejaVu Sans Mono',consolas,'Courier New',monospace\"></pre>\n"
      ],
      "text/plain": []
     },
     "metadata": {},
     "output_type": "display_data"
    },
    {
     "data": {
      "text/plain": [
       "Pbox: ~ \u001b[1;35mnorm\u001b[0m\u001b[1m(\u001b[0m\u001b[33mrange\u001b[0m=\u001b[1m[\u001b[0m\u001b[32m'-11.16'\u001b[0m, \u001b[32m'12.16'\u001b[0m\u001b[1m]\u001b[0m, \u001b[33mmean\u001b[0m=\u001b[1m[\u001b[0m\u001b[1;36m2.9323\u001b[0m, \u001b[1;36m12.4343\u001b[0m\u001b[1m]\u001b[0m, \u001b[33mvar\u001b[0m=\u001b[1m[\u001b[0m\u001b[1;36m4.0\u001b[0m, \u001b[1;36m9.0\u001b[0m\u001b[1m]\u001b[0m\u001b[1m)\u001b[0m"
      ]
     },
     "execution_count": 8,
     "metadata": {},
     "output_type": "execute_result"
    }
   ],
   "source": [
    "norm(a,b)"
   ]
  },
  {
   "cell_type": "code",
   "execution_count": 9,
   "id": "acb97182-17e3-49b2-8843-cef466e70f76",
   "metadata": {},
   "outputs": [
    {
     "data": {
      "text/html": [
       "<pre style=\"white-space:pre;overflow-x:auto;line-height:normal;font-family:Menlo,'DejaVu Sans Mono',consolas,'Courier New',monospace\"></pre>\n"
      ],
      "text/plain": []
     },
     "metadata": {},
     "output_type": "display_data"
    },
    {
     "data": {
      "text/plain": [
       "Pbox: ~ \u001b[1;35mnorm\u001b[0m\u001b[1m(\u001b[0m\u001b[33mrange\u001b[0m=\u001b[1m[\u001b[0m\u001b[32m'-11.16'\u001b[0m, \u001b[32m'12.16'\u001b[0m\u001b[1m]\u001b[0m, \u001b[33mmean\u001b[0m=\u001b[1m[\u001b[0m\u001b[1;36m2.9323\u001b[0m, \u001b[1;36m12.4343\u001b[0m\u001b[1m]\u001b[0m, \u001b[33mvar\u001b[0m=\u001b[1m[\u001b[0m\u001b[1;36m4.0\u001b[0m, \u001b[1;36m9.0\u001b[0m\u001b[1m]\u001b[0m\u001b[1m)\u001b[0m"
      ]
     },
     "execution_count": 9,
     "metadata": {},
     "output_type": "execute_result"
    }
   ],
   "source": [
    "norm(a_i, b_i)"
   ]
  },
  {
   "cell_type": "code",
   "execution_count": null,
   "id": "49f5245f-72ac-4482-8e69-54957f5c7963",
   "metadata": {},
   "outputs": [],
   "source": []
  },
  {
   "cell_type": "code",
   "execution_count": null,
   "id": "8167f05c-e8bb-4509-ae7f-487f6a872f64",
   "metadata": {},
   "outputs": [],
   "source": []
  },
  {
   "cell_type": "code",
   "execution_count": null,
   "id": "72bfd38e-b6e0-43e4-9ef2-6ce05ef1ba53",
   "metadata": {},
   "outputs": [],
   "source": [
    "# lb = sps.expon(loc=2)\n",
    "# ub = sps.expon(loc=3)\n",
    "\n",
    "# fig, ax = plt.subplots()\n",
    "# ax = pl_pcdf(lb, ax=ax)\n",
    "# _ = pl_pcdf(ub, ax=ax)"
   ]
  },
  {
   "cell_type": "code",
   "execution_count": null,
   "id": "4048af1e-ba5f-4e8d-a7fb-eef02789289b",
   "metadata": {},
   "outputs": [],
   "source": []
  },
  {
   "cell_type": "code",
   "execution_count": null,
   "id": "fc9415a0-abcf-4fbb-985c-b36038d70bff",
   "metadata": {},
   "outputs": [],
   "source": []
  },
  {
   "cell_type": "code",
   "execution_count": null,
   "id": "476c7cf1-35bd-469c-b894-74a0eaa01325",
   "metadata": {},
   "outputs": [],
   "source": []
  },
  {
   "cell_type": "markdown",
   "id": "b39d85be-a609-47f5-97d4-8b147d9416fa",
   "metadata": {},
   "source": [
    "## MoM method"
   ]
  },
  {
   "cell_type": "code",
   "execution_count": null,
   "id": "66976ca7-c965-4ae0-a141-4d861d51e00d",
   "metadata": {},
   "outputs": [],
   "source": []
  },
  {
   "cell_type": "code",
   "execution_count": null,
   "id": "5d2a87ef-4ddc-4dfb-927a-b3b51bd312a5",
   "metadata": {},
   "outputs": [],
   "source": []
  },
  {
   "cell_type": "code",
   "execution_count": null,
   "id": "faf56489-9f0a-4af3-bee9-65d83254ecd4",
   "metadata": {},
   "outputs": [],
   "source": []
  }
 ],
 "metadata": {
  "kernelspec": {
   "display_name": "Python 3 (ipykernel)",
   "language": "python",
   "name": "python3"
  },
  "language_info": {
   "codemirror_mode": {
    "name": "ipython",
    "version": 3
   },
   "file_extension": ".py",
   "mimetype": "text/x-python",
   "name": "python",
   "nbconvert_exporter": "python",
   "pygments_lexer": "ipython3",
   "version": "3.11.10"
  }
 },
 "nbformat": 4,
 "nbformat_minor": 5
}
