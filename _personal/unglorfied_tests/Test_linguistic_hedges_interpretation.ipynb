{
 "cells": [
  {
   "cell_type": "code",
   "execution_count": 1,
   "id": "d7e98581-f4ec-49ab-b7c9-e9d124d39bee",
   "metadata": {},
   "outputs": [],
   "source": [
    "from PyUncertainNumber.NLP_constructor.language_parsing import is_number, count_sigfigs, hedge_interpret, count_sig_digits_bias\n",
    "from rich import print as rprint"
   ]
  },
  {
   "cell_type": "code",
   "execution_count": 2,
   "id": "1a195de6-ae32-40fb-893f-64fabe125478",
   "metadata": {},
   "outputs": [],
   "source": [
    "%load_ext autoreload\n",
    "%autoreload 2"
   ]
  },
  {
   "cell_type": "code",
   "execution_count": 3,
   "id": "1bbad42c-54f2-49eb-820d-732d12c74133",
   "metadata": {},
   "outputs": [],
   "source": [
    "%load_ext rich"
   ]
  },
  {
   "cell_type": "markdown",
   "id": "45ea8286-83ae-4cde-93ca-d73d4e81c22a",
   "metadata": {},
   "source": [
    "# module"
   ]
  },
  {
   "cell_type": "code",
   "execution_count": 4,
   "id": "ee3516ab-de90-495a-80cb-8764c76d98fd",
   "metadata": {},
   "outputs": [],
   "source": [
    "def test_hedge_interpretation(input_numstr):\n",
    "    \"\"\" a helper func to verify func 'hedge_interpretation \"\"\"\n",
    "\n",
    "    rprint(f\"With the input '{input_numstr}':\")\n",
    "    rprint(f'we get: {hedge_interpret(input_numstr)}')"
   ]
  },
  {
   "cell_type": "code",
   "execution_count": 5,
   "id": "8a0428fe-4295-4591-a82b-cb98f922b86a",
   "metadata": {},
   "outputs": [],
   "source": [
    "# def test_func(text):\n",
    "#     splitted_list = text.split()\n",
    "#     kwd = [s for s in splitted_list if not is_number(s)]\n",
    "#     kwd = \" \".join(kwd)\n",
    "#     return kwd"
   ]
  },
  {
   "cell_type": "markdown",
   "id": "c74c703e-8a30-4cd4-afa0-443bf0a6c577",
   "metadata": {},
   "source": [
    "# inputs"
   ]
  },
  {
   "cell_type": "code",
   "execution_count": 6,
   "id": "9e762505-f6e4-4cfe-871e-d63bde10098d",
   "metadata": {},
   "outputs": [],
   "source": [
    "x1 = '7'"
   ]
  },
  {
   "cell_type": "code",
   "execution_count": 7,
   "id": "c77d7ac8-a7fd-4afa-a0d8-3bdb1d3a6ab4",
   "metadata": {},
   "outputs": [],
   "source": [
    "x2 = '7.0'"
   ]
  },
  {
   "cell_type": "code",
   "execution_count": 8,
   "id": "73ba4b65-7ddc-4007-8d09-ad274cb9e6b1",
   "metadata": {},
   "outputs": [],
   "source": [
    "x3 = 'exactly 7'"
   ]
  },
  {
   "cell_type": "code",
   "execution_count": 9,
   "id": "b9d9d0b3-b80d-40e9-ab00-bdfaf47b5b57",
   "metadata": {},
   "outputs": [],
   "source": [
    "x4 = 'about 7'"
   ]
  },
  {
   "cell_type": "code",
   "execution_count": 10,
   "id": "1fc34645-6ad8-44e3-bf66-c7b7b09eafcb",
   "metadata": {},
   "outputs": [],
   "source": [
    "x5 = 'over 7'"
   ]
  },
  {
   "cell_type": "code",
   "execution_count": 11,
   "id": "aa6d6cb0-71ef-41af-9ceb-8c697f065a18",
   "metadata": {},
   "outputs": [],
   "source": [
    "x6 = 'at most 7'"
   ]
  },
  {
   "cell_type": "markdown",
   "id": "ca60b32d-a65b-4307-b058-678c3da74284",
   "metadata": {},
   "source": [
    "# tmp tests"
   ]
  },
  {
   "cell_type": "code",
   "execution_count": 12,
   "id": "f031211a-1c78-4240-b329-eda2439369cc",
   "metadata": {},
   "outputs": [
    {
     "data": {
      "text/html": [
       "<pre style=\"white-space:pre;overflow-x:auto;line-height:normal;font-family:Menlo,'DejaVu Sans Mono',consolas,'Courier New',monospace\"></pre>\n"
      ],
      "text/plain": []
     },
     "metadata": {},
     "output_type": "display_data"
    },
    {
     "data": {
      "text/plain": [
       "\u001b[32m' test keyword parsing '\u001b[0m"
      ]
     },
     "execution_count": 12,
     "metadata": {},
     "output_type": "execute_result"
    }
   ],
   "source": [
    "''' test keyword parsing '''"
   ]
  },
  {
   "cell_type": "code",
   "execution_count": 13,
   "id": "a1e7b99c-7702-4d76-9e16-71e5cdadbe98",
   "metadata": {},
   "outputs": [],
   "source": [
    "# splitted_list = x6.split()\n",
    "# kwd = [s for s in splitted_list if not is_number(s)]\n",
    "# print(kwd)"
   ]
  },
  {
   "cell_type": "code",
   "execution_count": 14,
   "id": "ee232481-f2d3-4ee7-9005-b0f771dbd7ea",
   "metadata": {},
   "outputs": [],
   "source": [
    "# myTuple = (\"John\", \"Peter\", \"Vicky\")\n",
    "# x = \" \".join(myTuple)\n",
    "# print(x)\n"
   ]
  },
  {
   "cell_type": "markdown",
   "id": "f91021aa-3bf4-4d2d-99e8-5ba5e4b83a3a",
   "metadata": {},
   "source": [
    "# tests"
   ]
  },
  {
   "cell_type": "code",
   "execution_count": 15,
   "id": "5db69de7-a715-4100-b9fc-bb4414235d83",
   "metadata": {},
   "outputs": [
    {
     "data": {
      "text/html": [
       "<pre style=\"white-space:pre;overflow-x:auto;line-height:normal;font-family:Menlo,'DejaVu Sans Mono',consolas,'Courier New',monospace\">With the input <span style=\"color: #008000; text-decoration-color: #008000\">'7'</span>:\n",
       "</pre>\n"
      ],
      "text/plain": [
       "With the input \u001b[32m'7'\u001b[0m:\n"
      ]
     },
     "metadata": {},
     "output_type": "display_data"
    },
    {
     "data": {
      "text/html": [
       "<pre style=\"white-space:pre;overflow-x:auto;line-height:normal;font-family:Menlo,'DejaVu Sans Mono',consolas,'Courier New',monospace\">we get: <span style=\"font-weight: bold\">[</span><span style=\"color: #008080; text-decoration-color: #008080; font-weight: bold\">6.5</span>,<span style=\"color: #008080; text-decoration-color: #008080; font-weight: bold\">7.5</span><span style=\"font-weight: bold\">]</span>\n",
       "</pre>\n"
      ],
      "text/plain": [
       "we get: \u001b[1m[\u001b[0m\u001b[1;36m6.5\u001b[0m,\u001b[1;36m7.5\u001b[0m\u001b[1m]\u001b[0m\n"
      ]
     },
     "metadata": {},
     "output_type": "display_data"
    }
   ],
   "source": [
    "test_hedge_interpretation(x1)"
   ]
  },
  {
   "cell_type": "code",
   "execution_count": 16,
   "id": "17a5fa06-e3e0-436a-9f69-d53bc16b6864",
   "metadata": {},
   "outputs": [
    {
     "data": {
      "text/html": [
       "<pre style=\"white-space:pre;overflow-x:auto;line-height:normal;font-family:Menlo,'DejaVu Sans Mono',consolas,'Courier New',monospace\">With the input <span style=\"color: #008000; text-decoration-color: #008000\">'7.0'</span>:\n",
       "</pre>\n"
      ],
      "text/plain": [
       "With the input \u001b[32m'7.0'\u001b[0m:\n"
      ]
     },
     "metadata": {},
     "output_type": "display_data"
    },
    {
     "data": {
      "text/html": [
       "<pre style=\"white-space:pre;overflow-x:auto;line-height:normal;font-family:Menlo,'DejaVu Sans Mono',consolas,'Courier New',monospace\">we get: <span style=\"font-weight: bold\">[</span><span style=\"color: #008080; text-decoration-color: #008080; font-weight: bold\">6.95</span>,<span style=\"color: #008080; text-decoration-color: #008080; font-weight: bold\">7.05</span><span style=\"font-weight: bold\">]</span>\n",
       "</pre>\n"
      ],
      "text/plain": [
       "we get: \u001b[1m[\u001b[0m\u001b[1;36m6.95\u001b[0m,\u001b[1;36m7.05\u001b[0m\u001b[1m]\u001b[0m\n"
      ]
     },
     "metadata": {},
     "output_type": "display_data"
    }
   ],
   "source": [
    "test_hedge_interpretation(x2)"
   ]
  },
  {
   "cell_type": "code",
   "execution_count": 17,
   "id": "eeab74b5-3450-4924-ad87-006204b4670f",
   "metadata": {},
   "outputs": [
    {
     "data": {
      "text/html": [
       "<pre style=\"white-space:pre;overflow-x:auto;line-height:normal;font-family:Menlo,'DejaVu Sans Mono',consolas,'Courier New',monospace\">With the input <span style=\"color: #008000; text-decoration-color: #008000\">'exactly 7'</span>:\n",
       "</pre>\n"
      ],
      "text/plain": [
       "With the input \u001b[32m'exactly 7'\u001b[0m:\n"
      ]
     },
     "metadata": {},
     "output_type": "display_data"
    },
    {
     "data": {
      "text/html": [
       "<pre style=\"white-space:pre;overflow-x:auto;line-height:normal;font-family:Menlo,'DejaVu Sans Mono',consolas,'Courier New',monospace\">we get: <span style=\"font-weight: bold\">[</span><span style=\"color: #008080; text-decoration-color: #008080; font-weight: bold\">6.9</span>,<span style=\"color: #008080; text-decoration-color: #008080; font-weight: bold\">7.1</span><span style=\"font-weight: bold\">]</span>\n",
       "</pre>\n"
      ],
      "text/plain": [
       "we get: \u001b[1m[\u001b[0m\u001b[1;36m6.9\u001b[0m,\u001b[1;36m7.1\u001b[0m\u001b[1m]\u001b[0m\n"
      ]
     },
     "metadata": {},
     "output_type": "display_data"
    }
   ],
   "source": [
    "test_hedge_interpretation(x3)"
   ]
  },
  {
   "cell_type": "code",
   "execution_count": 18,
   "id": "e6ca31c2-c17f-4495-be86-86897d003e4d",
   "metadata": {},
   "outputs": [
    {
     "data": {
      "text/html": [
       "<pre style=\"white-space:pre;overflow-x:auto;line-height:normal;font-family:Menlo,'DejaVu Sans Mono',consolas,'Courier New',monospace\">With the input <span style=\"color: #008000; text-decoration-color: #008000\">'about 7'</span>:\n",
       "</pre>\n"
      ],
      "text/plain": [
       "With the input \u001b[32m'about 7'\u001b[0m:\n"
      ]
     },
     "metadata": {},
     "output_type": "display_data"
    },
    {
     "data": {
      "text/html": [
       "<pre style=\"white-space:pre;overflow-x:auto;line-height:normal;font-family:Menlo,'DejaVu Sans Mono',consolas,'Courier New',monospace\">we get: <span style=\"font-weight: bold\">[</span><span style=\"color: #008080; text-decoration-color: #008080; font-weight: bold\">5</span>,<span style=\"color: #008080; text-decoration-color: #008080; font-weight: bold\">9</span><span style=\"font-weight: bold\">]</span>\n",
       "</pre>\n"
      ],
      "text/plain": [
       "we get: \u001b[1m[\u001b[0m\u001b[1;36m5\u001b[0m,\u001b[1;36m9\u001b[0m\u001b[1m]\u001b[0m\n"
      ]
     },
     "metadata": {},
     "output_type": "display_data"
    }
   ],
   "source": [
    "test_hedge_interpretation(x4)"
   ]
  },
  {
   "cell_type": "code",
   "execution_count": 19,
   "id": "489e52ad-0a01-4c04-95b4-da1bead6f939",
   "metadata": {},
   "outputs": [
    {
     "data": {
      "text/html": [
       "<pre style=\"white-space:pre;overflow-x:auto;line-height:normal;font-family:Menlo,'DejaVu Sans Mono',consolas,'Courier New',monospace\">With the input <span style=\"color: #008000; text-decoration-color: #008000\">'over 7'</span>:\n",
       "</pre>\n"
      ],
      "text/plain": [
       "With the input \u001b[32m'over 7'\u001b[0m:\n"
      ]
     },
     "metadata": {},
     "output_type": "display_data"
    },
    {
     "data": {
      "text/html": [
       "<pre style=\"white-space:pre;overflow-x:auto;line-height:normal;font-family:Menlo,'DejaVu Sans Mono',consolas,'Courier New',monospace\">we get: <span style=\"font-weight: bold\">[</span><span style=\"color: #008080; text-decoration-color: #008080; font-weight: bold\">7</span>,<span style=\"color: #008080; text-decoration-color: #008080; font-weight: bold\">7.5</span><span style=\"font-weight: bold\">]</span>\n",
       "</pre>\n"
      ],
      "text/plain": [
       "we get: \u001b[1m[\u001b[0m\u001b[1;36m7\u001b[0m,\u001b[1;36m7.5\u001b[0m\u001b[1m]\u001b[0m\n"
      ]
     },
     "metadata": {},
     "output_type": "display_data"
    }
   ],
   "source": [
    "test_hedge_interpretation(x5)"
   ]
  },
  {
   "cell_type": "code",
   "execution_count": 20,
   "id": "692189a0-4eeb-4626-87be-896f98317a28",
   "metadata": {},
   "outputs": [
    {
     "data": {
      "text/html": [
       "<pre style=\"white-space:pre;overflow-x:auto;line-height:normal;font-family:Menlo,'DejaVu Sans Mono',consolas,'Courier New',monospace\">With the input <span style=\"color: #008000; text-decoration-color: #008000\">'at most 7'</span>:\n",
       "</pre>\n"
      ],
      "text/plain": [
       "With the input \u001b[32m'at most 7'\u001b[0m:\n"
      ]
     },
     "metadata": {},
     "output_type": "display_data"
    },
    {
     "data": {
      "text/html": [
       "<pre style=\"white-space:pre;overflow-x:auto;line-height:normal;font-family:Menlo,'DejaVu Sans Mono',consolas,'Courier New',monospace\">we get: <span style=\"font-weight: bold\">[</span>-inf,<span style=\"color: #008080; text-decoration-color: #008080; font-weight: bold\">7</span><span style=\"font-weight: bold\">]</span>\n",
       "</pre>\n"
      ],
      "text/plain": [
       "we get: \u001b[1m[\u001b[0m-inf,\u001b[1;36m7\u001b[0m\u001b[1m]\u001b[0m\n"
      ]
     },
     "metadata": {},
     "output_type": "display_data"
    }
   ],
   "source": [
    "test_hedge_interpretation(x6)"
   ]
  },
  {
   "cell_type": "code",
   "execution_count": 25,
   "id": "9fba22c5-2b30-4946-8b1a-1770316d01f6",
   "metadata": {},
   "outputs": [
    {
     "data": {
      "text/html": [
       "<pre style=\"white-space:pre;overflow-x:auto;line-height:normal;font-family:Menlo,'DejaVu Sans Mono',consolas,'Courier New',monospace\">With the input <span style=\"color: #008000; text-decoration-color: #008000\">'about 200'</span>:\n",
       "</pre>\n"
      ],
      "text/plain": [
       "With the input \u001b[32m'about 200'\u001b[0m:\n"
      ]
     },
     "metadata": {},
     "output_type": "display_data"
    },
    {
     "data": {
      "text/html": [
       "<pre style=\"white-space:pre;overflow-x:auto;line-height:normal;font-family:Menlo,'DejaVu Sans Mono',consolas,'Courier New',monospace\">we get: <span style=\"font-weight: bold\">[</span><span style=\"color: #008080; text-decoration-color: #008080; font-weight: bold\">198</span>,<span style=\"color: #008080; text-decoration-color: #008080; font-weight: bold\">202</span><span style=\"font-weight: bold\">]</span>\n",
       "</pre>\n"
      ],
      "text/plain": [
       "we get: \u001b[1m[\u001b[0m\u001b[1;36m198\u001b[0m,\u001b[1;36m202\u001b[0m\u001b[1m]\u001b[0m\n"
      ]
     },
     "metadata": {},
     "output_type": "display_data"
    }
   ],
   "source": [
    "test_hedge_interpretation(\"about 200\")"
   ]
  },
  {
   "cell_type": "code",
   "execution_count": null,
   "id": "5f452cb8-01be-48d8-a3d1-91fdad6ab547",
   "metadata": {},
   "outputs": [],
   "source": []
  },
  {
   "cell_type": "code",
   "execution_count": null,
   "id": "97edbac2-cac2-4605-8632-c543a1f3ae72",
   "metadata": {},
   "outputs": [],
   "source": [
    "# def relativeUncertainty(m, M, e):\n",
    "\n",
    "#     return "
   ]
  },
  {
   "cell_type": "code",
   "execution_count": null,
   "id": "31590943-e744-4858-91b3-76ea0f1ba6f3",
   "metadata": {},
   "outputs": [],
   "source": []
  },
  {
   "cell_type": "code",
   "execution_count": null,
   "id": "93b04ae7-a014-4252-9aed-e94b1fee35ee",
   "metadata": {},
   "outputs": [],
   "source": []
  },
  {
   "cell_type": "code",
   "execution_count": null,
   "id": "671bcd67-04d5-456a-b3c1-46cc9fe5c028",
   "metadata": {},
   "outputs": [],
   "source": []
  },
  {
   "cell_type": "markdown",
   "id": "645985a2-0038-40c5-bfb6-8c8094f902a1",
   "metadata": {},
   "source": [
    "# test finding significant figures (digits)"
   ]
  },
  {
   "cell_type": "code",
   "execution_count": 21,
   "id": "081b5029-f6d6-4bf1-afd4-afd81c1c47a1",
   "metadata": {},
   "outputs": [],
   "source": [
    "a = '0.0034'"
   ]
  },
  {
   "cell_type": "code",
   "execution_count": 22,
   "id": "38708faf-da0c-4c93-b0e0-10e36a2df530",
   "metadata": {},
   "outputs": [],
   "source": [
    "b = '0.0560'"
   ]
  },
  {
   "cell_type": "code",
   "execution_count": 23,
   "id": "12420358-0759-4cf6-a465-15a478c00759",
   "metadata": {},
   "outputs": [
    {
     "data": {
      "text/html": [
       "<pre style=\"white-space:pre;overflow-x:auto;line-height:normal;font-family:Menlo,'DejaVu Sans Mono',consolas,'Courier New',monospace\"></pre>\n"
      ],
      "text/plain": []
     },
     "metadata": {},
     "output_type": "display_data"
    },
    {
     "data": {
      "text/plain": [
       "\u001b[1;36m2\u001b[0m"
      ]
     },
     "execution_count": 23,
     "metadata": {},
     "output_type": "execute_result"
    }
   ],
   "source": [
    "count_sigfigs(a)"
   ]
  },
  {
   "cell_type": "code",
   "execution_count": 24,
   "id": "887366bc-c048-4e67-9f55-8f16736bc94f",
   "metadata": {},
   "outputs": [
    {
     "data": {
      "text/html": [
       "<pre style=\"white-space:pre;overflow-x:auto;line-height:normal;font-family:Menlo,'DejaVu Sans Mono',consolas,'Courier New',monospace\"></pre>\n"
      ],
      "text/plain": []
     },
     "metadata": {},
     "output_type": "display_data"
    },
    {
     "data": {
      "text/plain": [
       "\u001b[1;36m3\u001b[0m"
      ]
     },
     "execution_count": 24,
     "metadata": {},
     "output_type": "execute_result"
    }
   ],
   "source": [
    "count_sigfigs(b)"
   ]
  }
 ],
 "metadata": {
  "kernelspec": {
   "display_name": "Python 3 (ipykernel)",
   "language": "python",
   "name": "python3"
  },
  "language_info": {
   "codemirror_mode": {
    "name": "ipython",
    "version": 3
   },
   "file_extension": ".py",
   "mimetype": "text/x-python",
   "name": "python",
   "nbconvert_exporter": "python",
   "pygments_lexer": "ipython3",
   "version": "3.10.14"
  }
 },
 "nbformat": 4,
 "nbformat_minor": 5
}
