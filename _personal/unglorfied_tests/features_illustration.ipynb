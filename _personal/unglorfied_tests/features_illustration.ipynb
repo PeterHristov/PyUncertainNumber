{
 "cells": [
  {
   "cell_type": "markdown",
   "id": "6eb15e51-0abd-4976-bd3f-78678e6c35c2",
   "metadata": {},
   "source": [
    "# What this is\n",
    "\n",
    "- This serves as a notebook where we illustrate all the functionalities of the `PyUncertainNumber` package.\n",
    "- It is aimed to show to others\n",
    "- This will be a list features for reference and it will be a concise document (this is not a documentation or a tutorial).\n",
    "-  \n"
   ]
  },
  {
   "cell_type": "code",
   "execution_count": null,
   "id": "31c02e5f-7aef-487b-b936-56858e844294",
   "metadata": {},
   "outputs": [],
   "source": []
  },
  {
   "cell_type": "code",
   "execution_count": null,
   "id": "ee6a87e6-ad99-415e-a06e-b005c3b383dc",
   "metadata": {},
   "outputs": [],
   "source": []
  },
  {
   "cell_type": "code",
   "execution_count": null,
   "id": "35470a4c-0cae-4b1d-8cbc-df8129a3ed2f",
   "metadata": {},
   "outputs": [],
   "source": []
  },
  {
   "cell_type": "code",
   "execution_count": 1,
   "id": "2624b15a-e6d1-44db-b2c4-13be5b82b143",
   "metadata": {},
   "outputs": [],
   "source": [
    "from PyUncertainNumber.UC.uncertainNumber import UncertainNumber as UN\n",
    "from PyUncertainNumber.UC.utils import UNEncoder, cd_root_dir\n",
    "import dataclasses, json"
   ]
  },
  {
   "cell_type": "code",
   "execution_count": 2,
   "id": "255d7520-207f-4957-974f-9c38c7bc57f8",
   "metadata": {},
   "outputs": [],
   "source": [
    "%load_ext autoreload\n",
    "%autoreload 2\n",
    "%load_ext rich"
   ]
  },
  {
   "cell_type": "code",
   "execution_count": 3,
   "id": "fbf6cd5d-7d87-4e30-8889-94381115560f",
   "metadata": {},
   "outputs": [],
   "source": [
    "from rich import print as rprint"
   ]
  },
  {
   "cell_type": "code",
   "execution_count": 4,
   "id": "62a5a6c9-96bf-43d5-ab7e-8fb7b6f6993f",
   "metadata": {},
   "outputs": [
    {
     "name": "stdout",
     "output_type": "stream",
     "text": [
      "current directory: /Users/lesliec/Documents/Github_repos/PyUncertainNumber\n"
     ]
    }
   ],
   "source": [
    "cd_root_dir(depth=1)"
   ]
  },
  {
   "cell_type": "markdown",
   "id": "420dede1-15e8-42dd-b2f2-57dcbf971dda",
   "metadata": {
    "jp-MarkdownHeadingCollapsed": true
   },
   "source": [
    "# ~~UC: Uncertainty characterisation~~\n",
    "\n",
    "- with a dummy example of elastic modulus"
   ]
  },
  {
   "cell_type": "markdown",
   "id": "b16fe0ef-ff13-417a-84b8-4e9db76279ec",
   "metadata": {
    "jp-MarkdownHeadingCollapsed": true
   },
   "source": [
    "### minimal speficication"
   ]
  },
  {
   "cell_type": "code",
   "execution_count": null,
   "id": "8a7f2ebd-c0dc-4d20-ba37-9f5b03a58367",
   "metadata": {},
   "outputs": [],
   "source": [
    "un_obj = UN(\n",
    "    name='elas_modulus', \n",
    "    symbol='E', \n",
    "    units='Pa')"
   ]
  },
  {
   "cell_type": "code",
   "execution_count": null,
   "id": "a311724b-7972-4f18-a25d-aace97dc6f61",
   "metadata": {},
   "outputs": [],
   "source": [
    "# the verbose user-friendly string representation\n",
    "rprint(un_obj.__str__()) # __str__"
   ]
  },
  {
   "cell_type": "code",
   "execution_count": null,
   "id": "1e10e5fc-884a-48a9-b8be-84b5e8ce0d40",
   "metadata": {},
   "outputs": [],
   "source": [
    "un_obj # __repr__"
   ]
  },
  {
   "cell_type": "markdown",
   "id": "c1a52578-d9fa-47d9-aa85-3b9bffd243dc",
   "metadata": {
    "jp-MarkdownHeadingCollapsed": true
   },
   "source": [
    "### if specify an `interval`"
   ]
  },
  {
   "cell_type": "code",
   "execution_count": null,
   "id": "f52b2d31-2300-4494-a0c8-366c4e763b2f",
   "metadata": {},
   "outputs": [],
   "source": [
    "''' Example 1: if it is an interval '''\n",
    "\n",
    "interval_UN = UN(name='elas_modulus', \n",
    "                 symbol='E', \n",
    "                 units='Pa', \n",
    "                 essence='interval', \n",
    "                 bounds=[2,3])"
   ]
  },
  {
   "cell_type": "code",
   "execution_count": null,
   "id": "6bc86192-d87c-4e75-aeed-a1b38d30b243",
   "metadata": {},
   "outputs": [],
   "source": [
    "# check the verbose __str__\n",
    "\n",
    "rprint(interval_UN.__str__())\n",
    "# print(interval_UN)"
   ]
  },
  {
   "cell_type": "code",
   "execution_count": null,
   "id": "29ed9273-835f-42dd-9dc5-726a8b1ec793",
   "metadata": {},
   "outputs": [],
   "source": [
    "interval_UN._math_object"
   ]
  },
  {
   "cell_type": "code",
   "execution_count": null,
   "id": "84c6578b-8095-4f36-8aa9-75826d4a21f4",
   "metadata": {},
   "outputs": [],
   "source": [
    "# check the concise __repr__ representation\n",
    "interval_UN"
   ]
  },
  {
   "cell_type": "code",
   "execution_count": null,
   "id": "f8b9ef65-66d1-411f-945d-763cc8d57d15",
   "metadata": {},
   "outputs": [],
   "source": [
    "# ''' test the dumping functionality '''\n",
    "# TODO this shall be in another demo\n",
    "\n",
    "# test_intervalObj_json = json.dumps(interval_UN, cls=UNEncoder)\n",
    "# test_intervalObj_json"
   ]
  },
  {
   "cell_type": "code",
   "execution_count": null,
   "id": "b9552851-d721-46a2-86ad-f38b515ce65b",
   "metadata": {},
   "outputs": [],
   "source": [
    "''' Example 2: specific test for parseing string-type of `self.interval_initialisation` '''\n",
    "\n",
    "interval_UN2 = UN(name='elas_modulus', \n",
    "                               symbol='E', \n",
    "                               units='Pa', \n",
    "                               essence='interval', \n",
    "                               bounds='[15 +- 10%]')"
   ]
  },
  {
   "cell_type": "code",
   "execution_count": null,
   "id": "e32ecde1-0da7-40ad-aede-a08a459e01aa",
   "metadata": {},
   "outputs": [],
   "source": [
    "interval_UN2"
   ]
  },
  {
   "cell_type": "code",
   "execution_count": null,
   "id": "1f08f2f5-47d6-455a-bb30-36788a8ecdc1",
   "metadata": {},
   "outputs": [],
   "source": [
    "interval_UN2._math_object"
   ]
  },
  {
   "cell_type": "code",
   "execution_count": null,
   "id": "4b28dc1e-accb-4bfd-80ee-c9ba7b2dde9a",
   "metadata": {},
   "outputs": [],
   "source": [
    "interval_UN2.quick_plot(style='band')"
   ]
  },
  {
   "cell_type": "markdown",
   "id": "715dc673-1429-4788-8559-c62431bed43c",
   "metadata": {
    "jp-MarkdownHeadingCollapsed": true
   },
   "source": [
    "### if specify a `distribution`"
   ]
  },
  {
   "cell_type": "code",
   "execution_count": null,
   "id": "f8d23a27-edfb-480d-ab33-491fb000a9db",
   "metadata": {},
   "outputs": [],
   "source": [
    "UN_dist = UN(\n",
    "    name='elas_modulus', \n",
    "    symbol='E', \n",
    "    units='Pa', \n",
    "    essence='distribution', \n",
    "    distribution_parameters=['uniform', (1,2)])"
   ]
  },
  {
   "cell_type": "code",
   "execution_count": null,
   "id": "0ca92ddd-5da1-40d1-b079-ad4eb39e3e44",
   "metadata": {},
   "outputs": [],
   "source": [
    "UN_dist._math_object"
   ]
  },
  {
   "cell_type": "code",
   "execution_count": null,
   "id": "8bddfeac-87c2-40f6-8acc-99b0d0cabe27",
   "metadata": {},
   "outputs": [],
   "source": [
    "''' a verbose rep that shows almost everything '''\n",
    "\n",
    "rprint(UN_dist.__str__()) # __str__"
   ]
  },
  {
   "cell_type": "code",
   "execution_count": null,
   "id": "b12bac57-5820-4485-89ed-9dfd6d660008",
   "metadata": {},
   "outputs": [],
   "source": [
    "''' this one should resemble the JSON representation '''\n",
    "\n",
    "rprint(UN_dist.__repr__()) # __repr__"
   ]
  },
  {
   "cell_type": "code",
   "execution_count": null,
   "id": "c8473e84-0397-40d2-95c0-e786d306433b",
   "metadata": {},
   "outputs": [],
   "source": [
    "# ''' test the dumping functionality JSON representation '''\n",
    "\n",
    "# test_DistlObj_json = json.dumps(UN_dist, cls=UNEncoder)\n",
    "# test_DistlObj_json"
   ]
  },
  {
   "cell_type": "code",
   "execution_count": null,
   "id": "64150ffb-39a2-4008-8292-0cf59e15f183",
   "metadata": {},
   "outputs": [],
   "source": [
    "# ''' test dumping the univariate UN Dist object to the file system '''\n",
    "\n",
    "# UN_dist.JSON_dump(filename=\"UN_dist_uni.json\")"
   ]
  },
  {
   "cell_type": "code",
   "execution_count": null,
   "id": "3c7eaa82-3416-466a-ad73-01508e8a7c2e",
   "metadata": {},
   "outputs": [],
   "source": [
    "UN_dist.quick_plot()"
   ]
  },
  {
   "cell_type": "markdown",
   "id": "cfdf62ae-4068-4d31-9980-1dd73bdd4025",
   "metadata": {},
   "source": [
    "### if specify a `pbox`"
   ]
  },
  {
   "cell_type": "code",
   "execution_count": 5,
   "id": "01af03e9-b99c-49f1-bb3f-4aaa7551ba94",
   "metadata": {},
   "outputs": [],
   "source": [
    "un_obj = UN(\n",
    "    name='elas_modulus', \n",
    "    symbol='E', \n",
    "    units='Pa', \n",
    "    essence='distribution', \n",
    "    distribution_parameters=['uniform', [(0,1),(1,2)]])"
   ]
  },
  {
   "cell_type": "code",
   "execution_count": 6,
   "id": "2034a894-2bd9-4449-b447-c5a20b64988f",
   "metadata": {},
   "outputs": [
    {
     "data": {
      "text/html": [
       "<pre style=\"white-space:pre;overflow-x:auto;line-height:normal;font-family:Menlo,'DejaVu Sans Mono',consolas,'Courier New',monospace\"></pre>\n"
      ],
      "text/plain": []
     },
     "metadata": {},
     "output_type": "display_data"
    },
    {
     "data": {
      "text/plain": [
       "\u001b[1;35mUncertainNumber\u001b[0m\u001b[1m(\u001b[0m\u001b[33mname\u001b[0m=\u001b[32m'elas_modulus'\u001b[0m, \u001b[33msymbol\u001b[0m=\u001b[32m'E'\u001b[0m, \u001b[33munits\u001b[0m=\u001b[32m'Pa'\u001b[0m, \u001b[33messence\u001b[0m=\u001b[32m'distribution'\u001b[0m, \u001b[33mdistribution_parameters\u001b[0m=\u001b[1m[\u001b[0m\u001b[32m'uniform'\u001b[0m, \u001b[1m[\u001b[0m\u001b[1m(\u001b[0m\u001b[1;36m0\u001b[0m, \u001b[1;36m1\u001b[0m\u001b[1m)\u001b[0m, \u001b[1m(\u001b[0m\u001b[1;36m1\u001b[0m, \u001b[1;36m2\u001b[0m\u001b[1m)\u001b[0m\u001b[1m]\u001b[0m\u001b[1m]\u001b[0m, \u001b[33mnaked_value\u001b[0m=\u001b[1;35mnp\u001b[0m\u001b[1;35m.float64\u001b[0m\u001b[1m(\u001b[0m\u001b[1;36m0.5\u001b[0m\u001b[1m)\u001b[0m\u001b[1m)\u001b[0m"
      ]
     },
     "execution_count": 6,
     "metadata": {},
     "output_type": "execute_result"
    }
   ],
   "source": [
    "un_obj"
   ]
  },
  {
   "cell_type": "code",
   "execution_count": 7,
   "id": "93c5c388-94be-4946-9cca-deae5a1d46b4",
   "metadata": {},
   "outputs": [],
   "source": [
    "# __repr__ to show not None"
   ]
  },
  {
   "cell_type": "code",
   "execution_count": 8,
   "id": "8d4ae138-2dab-4096-bb79-142052785330",
   "metadata": {},
   "outputs": [
    {
     "data": {
      "text/html": [
       "<pre style=\"white-space:pre;overflow-x:auto;line-height:normal;font-family:Menlo,'DejaVu Sans Mono',consolas,'Courier New',monospace\"></pre>\n"
      ],
      "text/plain": []
     },
     "metadata": {},
     "output_type": "display_data"
    },
    {
     "data": {
      "text/plain": [
       "Pbox: ~ \u001b[1;35muniform\u001b[0m\u001b[1m(\u001b[0m\u001b[33mrange\u001b[0m=\u001b[1m[\u001b[0m\u001b[32m'0.00'\u001b[0m, \u001b[32m'2.00'\u001b[0m\u001b[1m]\u001b[0m, \u001b[33mmean\u001b[0m=\u001b[1m[\u001b[0m\u001b[1;36m0.5\u001b[0m, \u001b[1;36m0.5842\u001b[0m\u001b[1m]\u001b[0m, \u001b[33mvar\u001b[0m=\u001b[1m[\u001b[0m\u001b[1;36m0.0\u001b[0m, \u001b[1;36m0.3333\u001b[0m\u001b[1m]\u001b[0m\u001b[1m)\u001b[0m"
      ]
     },
     "execution_count": 8,
     "metadata": {},
     "output_type": "execute_result"
    }
   ],
   "source": [
    "un_obj._math_object"
   ]
  },
  {
   "cell_type": "code",
   "execution_count": 9,
   "id": "2211220a-cc71-4e7f-9aca-ca441879a114",
   "metadata": {},
   "outputs": [
    {
     "data": {
      "text/html": [
       "<pre style=\"white-space:pre;overflow-x:auto;line-height:normal;font-family:Menlo,'DejaVu Sans Mono',consolas,'Courier New',monospace\"></pre>\n"
      ],
      "text/plain": []
     },
     "metadata": {},
     "output_type": "display_data"
    },
    {
     "data": {
      "image/png": "[encoded data removed]",
      "text/plain": [
       "\u001b[1m<\u001b[0m\u001b[1;95mFigure\u001b[0m\u001b[39m size 64\u001b[0m\u001b[1;36m0x480\u001b[0m\u001b[39m with \u001b[0m\u001b[1;36m1\u001b[0m\u001b[39m Axes\u001b[0m\u001b[1m>\u001b[0m"
      ]
     },
     "metadata": {},
     "output_type": "display_data"
    }
   ],
   "source": [
    "# the original plotting \n",
    "# un_obj._math_object.show()\n",
    "\n",
    "# Leslie revised plotting\n",
    "un_obj._math_object.quick_plot(style='band')"
   ]
  },
  {
   "cell_type": "code",
   "execution_count": 13,
   "id": "5737151a-45da-428c-ac25-ee8a89cf7ee5",
   "metadata": {},
   "outputs": [],
   "source": [
    "# # a deliberate wrong case\n",
    "\n",
    "# un_obj = UN(name='elas_modulus', \n",
    "#             symbol='E', \n",
    "#             units='pa', \n",
    "#             essence='pbox',\n",
    "#             pbox_parameters=[1,2])"
   ]
  },
  {
   "cell_type": "markdown",
   "id": "7b1bc02b-a145-47f0-be55-20bbc3be25c5",
   "metadata": {},
   "source": [
    "### if specify a `pbox` with ancilllary information"
   ]
  },
  {
   "cell_type": "code",
   "execution_count": 14,
   "id": "8eee910f-3a32-4483-931f-a1cc55e22996",
   "metadata": {},
   "outputs": [],
   "source": [
    "un_obj = UN(\n",
    "    name='Elas_modulus', \n",
    "    symbol='E', \n",
    "    units='GPa', \n",
    "    essence='distribution', \n",
    "    distribution_parameters=['gaussian', [(0,1),(1,2)]],\n",
    "    measurand = \"unobservable parameter\",\n",
    "    nature = \"expert opinion\",\n",
    "    provenence = \"analyst\",\n",
    "    justification = \"reference\",\n",
    ")"
   ]
  },
  {
   "cell_type": "code",
   "execution_count": 15,
   "id": "609930e8-a0b8-48ca-9e93-4ac6fed39c80",
   "metadata": {},
   "outputs": [
    {
     "data": {
      "text/html": [
       "<pre style=\"white-space:pre;overflow-x:auto;line-height:normal;font-family:Menlo,'DejaVu Sans Mono',consolas,'Courier New',monospace\"></pre>\n"
      ],
      "text/plain": []
     },
     "metadata": {},
     "output_type": "display_data"
    },
    {
     "data": {
      "text/plain": [
       "\u001b[1;35mUncertainNumber\u001b[0m\u001b[1m(\u001b[0m\u001b[33mname\u001b[0m=\u001b[32m'Elas_modulus'\u001b[0m, \u001b[33msymbol\u001b[0m=\u001b[32m'E'\u001b[0m, \u001b[33munits\u001b[0m=\u001b[32m'GPa'\u001b[0m, \u001b[33messence\u001b[0m=\u001b[32m'distribution'\u001b[0m, \u001b[33mdistribution_parameters\u001b[0m=\u001b[1m[\u001b[0m\u001b[32m'gaussian'\u001b[0m, \u001b[1m[\u001b[0m\u001b[1m(\u001b[0m\u001b[1;36m0\u001b[0m, \u001b[1;36m1\u001b[0m\u001b[1m)\u001b[0m, \u001b[1m(\u001b[0m\u001b[1;36m1\u001b[0m, \u001b[1;36m2\u001b[0m\u001b[1m)\u001b[0m\u001b[1m]\u001b[0m\u001b[1m]\u001b[0m, \u001b[33mnaked_value\u001b[0m=\u001b[1;35mnp\u001b[0m\u001b[1;35m.float64\u001b[0m\u001b[1m(\u001b[0m\u001b[1;36m0.44166886889266493\u001b[0m\u001b[1m)\u001b[0m, \u001b[33mmeasurand\u001b[0m=\u001b[32m'unobservable parameter'\u001b[0m, \u001b[33mnature\u001b[0m=\u001b[32m'expert opinion'\u001b[0m, \u001b[33mprovenence\u001b[0m=\u001b[32m'analyst'\u001b[0m, \u001b[33mjustification\u001b[0m=\u001b[32m'reference'\u001b[0m\u001b[1m)\u001b[0m"
      ]
     },
     "execution_count": 15,
     "metadata": {},
     "output_type": "execute_result"
    }
   ],
   "source": [
    "un_obj"
   ]
  },
  {
   "cell_type": "code",
   "execution_count": null,
   "id": "edf38744-5647-4268-8be0-901ff9f5ea1d",
   "metadata": {},
   "outputs": [],
   "source": [
    "# un_obj.JSON_dump(filename='ancillary_UN.json')"
   ]
  },
  {
   "cell_type": "code",
   "execution_count": null,
   "id": "fe0b015a-a0b4-48f6-be37-3c4a49639c38",
   "metadata": {},
   "outputs": [],
   "source": [
    "### json serializable"
   ]
  },
  {
   "cell_type": "markdown",
   "id": "b06931b4-ff85-476b-a398-cdc7d0b5177c",
   "metadata": {
    "jp-MarkdownHeadingCollapsed": true
   },
   "source": [
    "### from hedged specification"
   ]
  },
  {
   "cell_type": "code",
   "execution_count": null,
   "id": "5590bbb6-f75c-474c-9121-995d60b6fa68",
   "metadata": {},
   "outputs": [],
   "source": [
    "un_obj = UncertainNumber.from_hedge(hedged_language='exactly 7')"
   ]
  },
  {
   "cell_type": "code",
   "execution_count": null,
   "id": "2d2d7c93-3202-4cd6-9b25-47103c3e647f",
   "metadata": {},
   "outputs": [],
   "source": [
    "un_obj._math_object"
   ]
  },
  {
   "cell_type": "code",
   "execution_count": null,
   "id": "159166aa-e942-4452-a604-96fc2a7b6a44",
   "metadata": {},
   "outputs": [],
   "source": [
    "un_obj"
   ]
  },
  {
   "cell_type": "markdown",
   "id": "c9b2ac01-1e4a-4ddd-9439-038814af1849",
   "metadata": {},
   "source": [
    "# ~~create and serialise multiple UN objects into JSON~~"
   ]
  },
  {
   "cell_type": "code",
   "execution_count": null,
   "id": "8b8ed889-ba56-46c8-bb91-d21e15c9e7b6",
   "metadata": {},
   "outputs": [],
   "source": [
    "from PyUncertainNumber.multiple_UN import make_many_intervals, Deck"
   ]
  },
  {
   "cell_type": "code",
   "execution_count": null,
   "id": "f9a525c8-d879-4933-8d1a-e23a826c5725",
   "metadata": {},
   "outputs": [],
   "source": [
    "deck = Deck()"
   ]
  },
  {
   "cell_type": "code",
   "execution_count": null,
   "id": "660c7d65-1b83-43ce-98c5-6c814c89a009",
   "metadata": {},
   "outputs": [],
   "source": [
    "# # show __repr__ which is long\n",
    "# deck.JSON_dump(filename=\"./results/mulUN_data.json\")"
   ]
  }
 ],
 "metadata": {
  "kernelspec": {
   "display_name": "Python 3 (ipykernel)",
   "language": "python",
   "name": "python3"
  },
  "language_info": {
   "codemirror_mode": {
    "name": "ipython",
    "version": 3
   },
   "file_extension": ".py",
   "mimetype": "text/x-python",
   "name": "python",
   "nbconvert_exporter": "python",
   "pygments_lexer": "ipython3",
   "version": "3.10.14"
  }
 },
 "nbformat": 4,
 "nbformat_minor": 5
}
