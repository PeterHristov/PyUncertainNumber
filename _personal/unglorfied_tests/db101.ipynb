{
 "cells": [
  {
   "cell_type": "code",
   "execution_count": 1,
   "id": "e820b674-119b-4408-af90-954a6e44b2ca",
   "metadata": {},
   "outputs": [],
   "source": [
    "from pymongo import MongoClient"
   ]
  },
  {
   "cell_type": "code",
   "execution_count": 2,
   "id": "8a17d903-d33d-44a8-b50c-f726731b7403",
   "metadata": {},
   "outputs": [],
   "source": [
    "%load_ext autoreload\n",
    "%autoreload 2\n",
    "%load_ext rich"
   ]
  },
  {
   "cell_type": "markdown",
   "id": "f49d63ec-36db-4008-8833-f23844a70ff7",
   "metadata": {},
   "source": [
    "# create a database"
   ]
  },
  {
   "cell_type": "markdown",
   "id": "da6bd8e5-12a1-4251-9e67-bfb75aab5aab",
   "metadata": {},
   "source": [
    "`to create a **client** object that establishes a connection to the default host (localhost) and port (27017).`"
   ]
  },
  {
   "cell_type": "code",
   "execution_count": null,
   "id": "116d1fdd-ca5a-44e5-85b8-d5facda9b239",
   "metadata": {},
   "outputs": [],
   "source": [
    "client = MongoClient()\n",
    "client"
   ]
  },
  {
   "cell_type": "markdown",
   "id": "7b1458d7-91c5-4348-8fb4-587c77951636",
   "metadata": {},
   "source": [
    "`To define a new database if not existed`"
   ]
  },
  {
   "cell_type": "code",
   "execution_count": null,
   "id": "49df6150-8d7b-49a6-952a-255a27e64358",
   "metadata": {},
   "outputs": [],
   "source": [
    "db = client.rptutorials"
   ]
  },
  {
   "cell_type": "code",
   "execution_count": null,
   "id": "d47502e7-62e8-4fbf-9b3f-851621e02935",
   "metadata": {},
   "outputs": [],
   "source": [
    "db"
   ]
  },
  {
   "cell_type": "markdown",
   "id": "cc7bd901-ac3d-416a-b232-f26e2e76ffdd",
   "metadata": {},
   "source": [
    "`To create a collection`"
   ]
  },
  {
   "cell_type": "code",
   "execution_count": null,
   "id": "0fff3f77-cd08-41d0-9697-da813c1db323",
   "metadata": {},
   "outputs": [],
   "source": [
    "tutorial = db.tutorial\n",
    "tutorial"
   ]
  },
  {
   "cell_type": "markdown",
   "id": "3f5918cf-57a9-483e-ba16-7ba825a96e5a",
   "metadata": {},
   "source": [
    "`You can insert documents into tutorial by calling .insert_one() on it with a document as an argument:`"
   ]
  },
  {
   "cell_type": "code",
   "execution_count": null,
   "id": "81641190-c710-4bd8-a25e-6584ac5388eb",
   "metadata": {},
   "outputs": [],
   "source": [
    "tutorial1 = {\n",
    "    \"title\": \"Working With JSON Data in Python\",\n",
    "    \"author\": \"Lucas\",\n",
    "    \"contributors\": [\n",
    "        \"Aldren\",\n",
    "        \"Dan\",\n",
    "        \"Joanna\"\n",
    "    ],\n",
    "    \"url\": \"https://realpython.com/python-json/\"\n",
    "}"
   ]
  },
  {
   "cell_type": "code",
   "execution_count": null,
   "id": "a20c16d4-a3d0-4811-8394-b6b00265589a",
   "metadata": {},
   "outputs": [],
   "source": [
    "result = tutorial.insert_one(tutorial1)\n",
    "result"
   ]
  },
  {
   "cell_type": "code",
   "execution_count": null,
   "id": "4f9d209d-8266-4481-9d05-def7c66db82e",
   "metadata": {},
   "outputs": [],
   "source": [
    "print(f\"One tutorial: {result.inserted_id}\")"
   ]
  },
  {
   "cell_type": "markdown",
   "id": "9f0b50b2-a649-47d5-a60d-c061fe28f658",
   "metadata": {},
   "source": [
    "`If you have many documents to add to the database, then you can use .insert_many() to insert them in one go:`"
   ]
  },
  {
   "cell_type": "code",
   "execution_count": null,
   "id": "a6c6ec97-da14-4227-834a-1f6240d73120",
   "metadata": {},
   "outputs": [],
   "source": [
    "tutorial2 = {\n",
    "    \"title\": \"Python's Requests Library (Guide)\",\n",
    "    \"author\": \"Alex\",\n",
    "    \"contributors\": [\n",
    "        \"Aldren\",\n",
    "        \"Brad\",\n",
    "        \"Joanna\"\n",
    "    ],\n",
    "    \"url\": \"https://realpython.com/python-requests/\"\n",
    "}\n",
    "\n",
    "tutorial3 = {\n",
    "    \"title\": \"Object-Oriented Programming (OOP) in Python 3\",\n",
    "    \"author\": \"David\",\n",
    "    \"contributors\": [\n",
    "        \"Aldren\",\n",
    "        \"Joanna\",\n",
    "        \"Jacob\"\n",
    "    ],\n",
    "    \"url\": \"https://realpython.com/python3-object-oriented-programming/\"\n",
    "}\n",
    "\n",
    "new_result = tutorial.insert_many([tutorial2, tutorial3])\n",
    "\n",
    "print(f\"Multiple tutorials: {new_result.inserted_ids}\")"
   ]
  },
  {
   "cell_type": "markdown",
   "id": "d130f002-b01e-49cd-b47d-c83f18e89e7f",
   "metadata": {},
   "source": [
    "#### close the connection "
   ]
  },
  {
   "cell_type": "code",
   "execution_count": null,
   "id": "e45bf934-2ee9-448b-b717-5b2166d6cab7",
   "metadata": {},
   "outputs": [],
   "source": [
    "client.close()"
   ]
  },
  {
   "cell_type": "markdown",
   "id": "437067e9-4f20-40d4-97a5-be5ca8e55564",
   "metadata": {
    "jp-MarkdownHeadingCollapsed": true
   },
   "source": [
    "# RUD (retrival, update, delete) operation in a database"
   ]
  },
  {
   "cell_type": "code",
   "execution_count": 3,
   "id": "0833cb48-c413-40b2-a165-9e39eb2a30fb",
   "metadata": {},
   "outputs": [
    {
     "data": {
      "text/html": [
       "<pre style=\"white-space:pre;overflow-x:auto;line-height:normal;font-family:Menlo,'DejaVu Sans Mono',consolas,'Courier New',monospace\"></pre>\n"
      ],
      "text/plain": []
     },
     "metadata": {},
     "output_type": "display_data"
    },
    {
     "data": {
      "text/plain": [
       "\u001b[1;35mMongoClient\u001b[0m\u001b[1m(\u001b[0m\u001b[33mhost\u001b[0m=\u001b[1m[\u001b[0m\u001b[32m'localhost:27017'\u001b[0m\u001b[1m]\u001b[0m, \u001b[33mdocument_class\u001b[0m=\u001b[35mdict\u001b[0m, \u001b[33mtz_aware\u001b[0m=\u001b[3;91mFalse\u001b[0m, \u001b[33mconnect\u001b[0m=\u001b[3;92mTrue\u001b[0m\u001b[1m)\u001b[0m"
      ]
     },
     "execution_count": 3,
     "metadata": {},
     "output_type": "execute_result"
    }
   ],
   "source": [
    "client = MongoClient()\n",
    "client"
   ]
  },
  {
   "cell_type": "code",
   "execution_count": 4,
   "id": "fe7dbd4b-c460-4170-9046-12ad9fa2cff8",
   "metadata": {},
   "outputs": [
    {
     "data": {
      "text/html": [
       "<pre style=\"white-space:pre;overflow-x:auto;line-height:normal;font-family:Menlo,'DejaVu Sans Mono',consolas,'Courier New',monospace\"></pre>\n"
      ],
      "text/plain": []
     },
     "metadata": {},
     "output_type": "display_data"
    },
    {
     "data": {
      "text/plain": [
       "\u001b[1m[\u001b[0m\u001b[32m'admin'\u001b[0m, \u001b[32m'config'\u001b[0m, \u001b[32m'local'\u001b[0m, \u001b[32m'rptutorials'\u001b[0m\u001b[1m]\u001b[0m"
      ]
     },
     "execution_count": 4,
     "metadata": {},
     "output_type": "execute_result"
    }
   ],
   "source": [
    "client.list_database_names()"
   ]
  },
  {
   "cell_type": "code",
   "execution_count": 5,
   "id": "a1ea08cf-3b77-4994-b0ce-d3e1117bddd4",
   "metadata": {},
   "outputs": [
    {
     "data": {
      "text/html": [
       "<pre style=\"white-space:pre;overflow-x:auto;line-height:normal;font-family:Menlo,'DejaVu Sans Mono',consolas,'Courier New',monospace\"></pre>\n"
      ],
      "text/plain": []
     },
     "metadata": {},
     "output_type": "display_data"
    },
    {
     "data": {
      "text/plain": [
       "\u001b[1;35mDatabase\u001b[0m\u001b[1m(\u001b[0m\u001b[1;35mMongoClient\u001b[0m\u001b[1m(\u001b[0m\u001b[33mhost\u001b[0m=\u001b[1m[\u001b[0m\u001b[32m'localhost:27017'\u001b[0m\u001b[1m]\u001b[0m, \u001b[33mdocument_class\u001b[0m=\u001b[35mdict\u001b[0m, \u001b[33mtz_aware\u001b[0m=\u001b[3;91mFalse\u001b[0m, \u001b[33mconnect\u001b[0m=\u001b[3;92mTrue\u001b[0m\u001b[1m)\u001b[0m, \u001b[32m'rptutorials'\u001b[0m\u001b[1m)\u001b[0m"
      ]
     },
     "execution_count": 5,
     "metadata": {},
     "output_type": "execute_result"
    }
   ],
   "source": [
    "# access a certain database with dot notation or dict notation\n",
    "\n",
    "db = client.rptutorials\n",
    "db"
   ]
  },
  {
   "cell_type": "code",
   "execution_count": 6,
   "id": "0c48c9b2-f090-4076-85fc-84cfec9be416",
   "metadata": {},
   "outputs": [
    {
     "data": {
      "text/html": [
       "<pre style=\"white-space:pre;overflow-x:auto;line-height:normal;font-family:Menlo,'DejaVu Sans Mono',consolas,'Courier New',monospace\"></pre>\n"
      ],
      "text/plain": []
     },
     "metadata": {},
     "output_type": "display_data"
    },
    {
     "data": {
      "text/plain": [
       "\u001b[1m[\u001b[0m\u001b[32m'tutorial'\u001b[0m\u001b[1m]\u001b[0m"
      ]
     },
     "execution_count": 6,
     "metadata": {},
     "output_type": "execute_result"
    }
   ],
   "source": [
    "db.list_collection_names()"
   ]
  },
  {
   "cell_type": "code",
   "execution_count": null,
   "id": "c295dd68-4edd-4fe1-abdb-2b3648e8dd31",
   "metadata": {},
   "outputs": [],
   "source": []
  }
 ],
 "metadata": {
  "kernelspec": {
   "display_name": "Python (daws2)",
   "language": "python",
   "name": "daws2"
  },
  "language_info": {
   "codemirror_mode": {
    "name": "ipython",
    "version": 3
   },
   "file_extension": ".py",
   "mimetype": "text/x-python",
   "name": "python",
   "nbconvert_exporter": "python",
   "pygments_lexer": "ipython3",
   "version": "3.10.14"
  }
 },
 "nbformat": 4,
 "nbformat_minor": 5
}
