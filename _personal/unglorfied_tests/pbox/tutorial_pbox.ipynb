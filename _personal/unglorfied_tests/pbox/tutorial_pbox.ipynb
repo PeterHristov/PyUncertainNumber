{
 "cells": [
  {
   "cell_type": "markdown",
   "id": "90963ca5-b9a4-4078-ad7c-f8e1bcebec69",
   "metadata": {},
   "source": [
    "# Introduction\n",
    "\n",
    "\n",
    "- This file contains the all the computations one can do with pbox, from construction to propagation\n",
    "- It is demonstrated from the APIs of the UN package"
   ]
  },
  {
   "cell_type": "code",
   "execution_count": null,
   "id": "717bc1b5-7b7f-455b-81f7-c666c801c097",
   "metadata": {},
   "outputs": [],
   "source": [
    "from PyUncertainNumber.UC.uncertainNumber import UncertainNumber as UN\n",
    "from PyUncertainNumber import pba\n",
    "import numpy as np"
   ]
  },
  {
   "cell_type": "code",
   "execution_count": null,
   "id": "7708d763-66cd-4ef9-be85-d9552d9a7aa5",
   "metadata": {},
   "outputs": [],
   "source": [
    "from PyUncertainNumber.pba.pbox_nonparam import KS_bounds, d_alpha\n",
    "from PyUncertainNumber.pba.params import Params, Data\n",
    "from intervals import Interval, intervalise"
   ]
  },
  {
   "cell_type": "code",
   "execution_count": null,
   "id": "1dabcfc3-0af6-4c82-a5cb-ed452d8ac487",
   "metadata": {},
   "outputs": [],
   "source": [
    "%load_ext autoreload\n",
    "%autoreload 2\n",
    "%load_ext rich\n",
    "%matplotlib inline"
   ]
  },
  {
   "cell_type": "markdown",
   "id": "188bf6f8-e652-4b7d-968f-37af19e6e0e7",
   "metadata": {},
   "source": [
    "# Construct probability boxes\n",
    "\n",
    "There are several situations where you could construct a pbox given various levels of information regarding the distribution properties, given the nature of the pbox (parametric or nonparametric)"
   ]
  },
  {
   "cell_type": "markdown",
   "id": "783c8392-0870-4037-8733-787f5bd48aff",
   "metadata": {},
   "source": [
    "## construct parametric pboxes"
   ]
  },
  {
   "cell_type": "code",
   "execution_count": null,
   "id": "f1a7a749-ffee-4fcc-a1f4-e6c8be497e52",
   "metadata": {},
   "outputs": [],
   "source": [
    "mu_i, sigma_i = pba.I([0,1]), pba.I([1,2])"
   ]
  },
  {
   "cell_type": "code",
   "execution_count": null,
   "id": "14a4396a-d642-40e3-9792-923fa4a2b17e",
   "metadata": {},
   "outputs": [],
   "source": [
    "''' a short-cut for parametric pbox specification '''\n",
    "# note: any iterable will work\n",
    "\n",
    "pba.normal([0,1], [1,2]).display()\n",
    "# pba.normal((0,1), (1,2)).display()\n",
    "# pba.normal((0,1), [1,2]).display()\n",
    "\n",
    "# or you can use an Interval object\n",
    "# pba.normal(mu_i, sigma_i)"
   ]
  },
  {
   "cell_type": "code",
   "execution_count": null,
   "id": "108d4acb-8b5b-48a8-8b78-b6cbeb3cf700",
   "metadata": {},
   "outputs": [],
   "source": [
    "foo = UN(essence='distribution', \n",
    "         distribution_parameters=['uniform', [(0,1),(1,2)]])\n",
    "\n",
    "foo.display()"
   ]
  },
  {
   "cell_type": "code",
   "execution_count": null,
   "id": "740f722c-9798-420f-b363-4cc6820b35fa",
   "metadata": {},
   "outputs": [],
   "source": [
    "verbo_pbox = UN(\n",
    "    name='Elas_modulus', \n",
    "    symbol='E', \n",
    "    units='GPa', \n",
    "    essence='distribution', \n",
    "    distribution_parameters=['gaussian', [(0,1),(1,2)]]\n",
    ")"
   ]
  },
  {
   "cell_type": "code",
   "execution_count": null,
   "id": "92120b00-aee1-421e-af2d-1177eaecae7f",
   "metadata": {},
   "outputs": [],
   "source": [
    "verbo_pbox.display(style='band')"
   ]
  },
  {
   "cell_type": "markdown",
   "id": "d42ec2b8-fe5a-4c76-913f-f1d04528b605",
   "metadata": {},
   "source": [
    "### implementation of parametric pbox constructions\n",
    "\n",
    "> see [pbox_signature.ipynb](.pbox_signature.ipynb) for additional details.\n",
    "\n",
    "1. shortcut via `pba.norm(args)` where args could be either Interval, list, or nInterval objects;\n",
    "2. UN(essence='pbox', ...). Essentially I'd like this to call e.g. pba.norm()"
   ]
  },
  {
   "cell_type": "code",
   "execution_count": null,
   "id": "85495087-62f6-4023-9db6-a5206f88c625",
   "metadata": {},
   "outputs": [],
   "source": [
    "_ = pba.norm([0,1], [2,3]).display()"
   ]
  },
  {
   "cell_type": "code",
   "execution_count": null,
   "id": "6e11025c-5fbe-46bf-966e-a757494bf25e",
   "metadata": {},
   "outputs": [],
   "source": []
  },
  {
   "cell_type": "code",
   "execution_count": null,
   "id": "f3ad2aea-e12d-45a4-8153-64f334db0be7",
   "metadata": {},
   "outputs": [],
   "source": [
    "# ''' test what left and right are '''\n",
    "\n",
    "# un_left == Left\n",
    "# fig, ax = plt.subplots()\n",
    "# ax.plot(Left, Params.p_values)\n",
    "# ax.plot(Right, Params.p_values)\n",
    "\n",
    "# l, r = zip(*[(min(i), max(i)) for i in zip(Left, Right)])\n",
    "# l == Left\n",
    "# r == Right"
   ]
  },
  {
   "cell_type": "code",
   "execution_count": null,
   "id": "1af0252e-c8cb-416e-88b9-d6aadb08b971",
   "metadata": {},
   "outputs": [],
   "source": []
  },
  {
   "cell_type": "code",
   "execution_count": null,
   "id": "ec90d552-18c4-43d7-bbb8-4017ea70b9a2",
   "metadata": {},
   "outputs": [],
   "source": []
  },
  {
   "attachments": {},
   "cell_type": "markdown",
   "id": "6b6d5cc7-0698-4cc7-89a2-eb2a7aaf0e57",
   "metadata": {},
   "source": [
    "## construct nonparametric free pbox\n",
    "\n",
    "- let's test on existing nonparametric constructers\n"
   ]
  },
  {
   "cell_type": "markdown",
   "id": "369d47c3-ac26-4397-b199-e17a82608b2c",
   "metadata": {
    "jp-MarkdownHeadingCollapsed": true
   },
   "source": [
    "### partial information"
   ]
  },
  {
   "cell_type": "code",
   "execution_count": null,
   "id": "b690fc54-b574-4090-98c5-5205303b3816",
   "metadata": {},
   "outputs": [],
   "source": [
    "pba.I(1,2)"
   ]
  },
  {
   "cell_type": "code",
   "execution_count": null,
   "id": "7caeefe0-f2b9-49b0-be0e-9a319f1d95f2",
   "metadata": {},
   "outputs": [],
   "source": [
    "from_percentiles(\n",
    "    {0: 0,\n",
    "    0.25: 0.5,\n",
    "    0.5: pba.I(1,2),\n",
    "    0.75: pba.I(1.5,2.5),\n",
    "    1: 3}\n",
    ").show()"
   ]
  },
  {
   "cell_type": "code",
   "execution_count": null,
   "id": "997b9872-57c3-4e8b-95e6-c6d67a25f5d3",
   "metadata": {},
   "outputs": [],
   "source": [
    "box(1,2).show()"
   ]
  },
  {
   "cell_type": "code",
   "execution_count": null,
   "id": "23847887-166c-48b7-bd83-44f098d80d99",
   "metadata": {},
   "outputs": [],
   "source": [
    "mean_var(0,1).show()"
   ]
  },
  {
   "cell_type": "code",
   "execution_count": null,
   "id": "d779ae7a-4908-473e-adbc-5666fcaaaf6a",
   "metadata": {},
   "outputs": [],
   "source": [
    "min_mean(0,1).show()"
   ]
  },
  {
   "cell_type": "code",
   "execution_count": null,
   "id": "98db0cc7-1938-49b8-a7aa-bb61332fea49",
   "metadata": {},
   "outputs": [],
   "source": [
    "min_max_mean(0,2,1).show()"
   ]
  },
  {
   "cell_type": "code",
   "execution_count": null,
   "id": "947296a7-d568-4a42-b0de-392cbf7ac77f",
   "metadata": {},
   "outputs": [],
   "source": [
    "min_max_mean_var(0, 2, 1, 0.5).show()"
   ]
  },
  {
   "cell_type": "markdown",
   "id": "b5b5d1da-2eb6-49d2-ae0d-aacaa9944164",
   "metadata": {
    "jp-MarkdownHeadingCollapsed": true
   },
   "source": [
    "### KS bounds for precise data"
   ]
  },
  {
   "cell_type": "code",
   "execution_count": null,
   "id": "605e811c-6645-4718-98ad-afc826d59fa0",
   "metadata": {},
   "outputs": [],
   "source": [
    "# ''' compute dn '''\n",
    "# # n = len(Params.s)\n",
    "# # dn = d_alpha(30, alpha=0.025)\n",
    "# # dn"
   ]
  },
  {
   "cell_type": "code",
   "execution_count": null,
   "id": "448fccc0-21b7-4e6c-8698-1c8dff6b1475",
   "metadata": {},
   "outputs": [],
   "source": [
    "_, _= KS_bounds(Data.s, alpha=0.025,  display=True)"
   ]
  },
  {
   "cell_type": "markdown",
   "id": "3fb5da2e-459b-4b23-8946-f478baaa3b9d",
   "metadata": {
    "jp-MarkdownHeadingCollapsed": true
   },
   "source": [
    "### KS bounds for imprecise data"
   ]
  },
  {
   "cell_type": "code",
   "execution_count": null,
   "id": "7d70ed4b-0622-4684-a038-2bb99e4d16aa",
   "metadata": {},
   "outputs": [],
   "source": [
    "v_skinny = intervalise(Data.skinny)"
   ]
  },
  {
   "cell_type": "code",
   "execution_count": null,
   "id": "b9e1f534-f203-4f58-84c1-f5937729646f",
   "metadata": {},
   "outputs": [],
   "source": [
    "_, _ = KS_bounds(v_skinny, alpha=0.025,  display=True)"
   ]
  },
  {
   "cell_type": "code",
   "execution_count": null,
   "id": "43944142-aa6e-46a5-8d32-65bea47faa9a",
   "metadata": {},
   "outputs": [],
   "source": [
    "v_puffy = intervalise(Data.puffy)\n",
    "_, _ = KS_bounds(v_puffy, alpha=0.025,  display=True)"
   ]
  },
  {
   "cell_type": "code",
   "execution_count": null,
   "id": "9d2e9f12-4318-470d-955a-f37fe3c9ad8d",
   "metadata": {},
   "outputs": [],
   "source": []
  },
  {
   "cell_type": "markdown",
   "id": "85536fe0-17f4-4a89-a6ef-18c797823419",
   "metadata": {},
   "source": [
    "# propagation of pbox\n",
    "\n",
    "- slice method\n",
    "- interval Monte Carlo\n",
    "- surrogate"
   ]
  },
  {
   "cell_type": "code",
   "execution_count": null,
   "id": "0ad20046-779a-4a2c-a6e1-f13b0d115632",
   "metadata": {},
   "outputs": [],
   "source": []
  },
  {
   "cell_type": "code",
   "execution_count": null,
   "id": "a5bf06f4-ded5-4565-b7fe-19abb2627264",
   "metadata": {},
   "outputs": [],
   "source": []
  },
  {
   "cell_type": "code",
   "execution_count": null,
   "id": "c4a678ac-2103-4e92-a34e-e1d3af58cca6",
   "metadata": {},
   "outputs": [],
   "source": []
  }
 ],
 "metadata": {
  "kernelspec": {
   "display_name": "Python 3 (ipykernel)",
   "language": "python",
   "name": "python3"
  },
  "language_info": {
   "codemirror_mode": {
    "name": "ipython",
    "version": 3
   },
   "file_extension": ".py",
   "mimetype": "text/x-python",
   "name": "python",
   "nbconvert_exporter": "python",
   "pygments_lexer": "ipython3",
   "version": "3.11.10"
  }
 },
 "nbformat": 4,
 "nbformat_minor": 5
}
