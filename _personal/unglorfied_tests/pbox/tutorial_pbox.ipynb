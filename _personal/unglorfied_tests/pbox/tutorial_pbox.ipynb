{
 "cells": [
  {
   "cell_type": "markdown",
   "id": "90963ca5-b9a4-4078-ad7c-f8e1bcebec69",
   "metadata": {},
   "source": [
    "# Introduction\n",
    "\n",
    "\n",
    "- This file contains the all the computations one can do with pbox, from construction to propagation\n",
    "- It is demonstrated from the APIs of the UN package"
   ]
  },
  {
   "cell_type": "code",
   "execution_count": 1,
   "id": "717bc1b5-7b7f-455b-81f7-c666c801c097",
   "metadata": {},
   "outputs": [],
   "source": [
    "from PyUncertainNumber.UC.uncertainNumber import UncertainNumber as UN\n",
    "# from PyUncertainNumber.pba.pbox_np import *\n",
    "import PyUncertainNumber.pba as pba"
   ]
  },
  {
   "cell_type": "code",
   "execution_count": 2,
   "id": "afe2c9b7-ab33-4c7f-a08a-e773483a35da",
   "metadata": {},
   "outputs": [],
   "source": [
    "import numpy as np"
   ]
  },
  {
   "cell_type": "code",
   "execution_count": 3,
   "id": "1dabcfc3-0af6-4c82-a5cb-ed452d8ac487",
   "metadata": {},
   "outputs": [],
   "source": [
    "%load_ext autoreload\n",
    "%autoreload 2\n",
    "%load_ext rich\n",
    "%matplotlib inline"
   ]
  },
  {
   "cell_type": "markdown",
   "id": "188bf6f8-e652-4b7d-968f-37af19e6e0e7",
   "metadata": {},
   "source": [
    "# Construct probability boxes\n",
    "\n",
    "There are several situations where you could construct a pbox given various levels of information regarding the distribution properties, given the nature of the pbox (parametric or nonparametric)"
   ]
  },
  {
   "cell_type": "markdown",
   "id": "783c8392-0870-4037-8733-787f5bd48aff",
   "metadata": {},
   "source": [
    "## construct parametric pboxes"
   ]
  },
  {
   "cell_type": "code",
   "execution_count": null,
   "id": "f1a7a749-ffee-4fcc-a1f4-e6c8be497e52",
   "metadata": {},
   "outputs": [],
   "source": [
    "mu_i, sigma_i = pba.I([0,1]), pba.I([1,2])"
   ]
  },
  {
   "cell_type": "code",
   "execution_count": null,
   "id": "14a4396a-d642-40e3-9792-923fa4a2b17e",
   "metadata": {},
   "outputs": [],
   "source": [
    "''' a short-cut for parametric pbox specification '''\n",
    "# note: any iterable will work\n",
    "\n",
    "pba.normal([0,1], [1,2]).display()\n",
    "# pba.normal((0,1), (1,2)).display()\n",
    "# pba.normal((0,1), [1,2]).display()\n",
    "\n",
    "# or you can use an Interval object\n",
    "# pba.normal(mu_i, sigma_i)"
   ]
  },
  {
   "cell_type": "code",
   "execution_count": null,
   "id": "108d4acb-8b5b-48a8-8b78-b6cbeb3cf700",
   "metadata": {},
   "outputs": [],
   "source": [
    "foo = UN(essence='distribution', \n",
    "         distribution_parameters=['uniform', [(0,1),(1,2)]])\n",
    "\n",
    "foo.display()"
   ]
  },
  {
   "cell_type": "code",
   "execution_count": 4,
   "id": "740f722c-9798-420f-b363-4cc6820b35fa",
   "metadata": {},
   "outputs": [],
   "source": [
    "verbo_pbox = UN(\n",
    "    name='Elas_modulus', \n",
    "    symbol='E', \n",
    "    units='GPa', \n",
    "    essence='distribution', \n",
    "    distribution_parameters=['gaussian', [(0,1),(1,2)]]\n",
    ")"
   ]
  },
  {
   "cell_type": "code",
   "execution_count": 5,
   "id": "92120b00-aee1-421e-af2d-1177eaecae7f",
   "metadata": {},
   "outputs": [
    {
     "data": {
      "text/html": [
       "<pre style=\"white-space:pre;overflow-x:auto;line-height:normal;font-family:Menlo,'DejaVu Sans Mono',consolas,'Courier New',monospace\"></pre>\n"
      ],
      "text/plain": []
     },
     "metadata": {},
     "output_type": "display_data"
    },
    {
     "data": {
      "image/png": "[encoded data removed]",
      "text/plain": [
       "\u001b[1m<\u001b[0m\u001b[1;95mFigure\u001b[0m\u001b[39m size 64\u001b[0m\u001b[1;36m0x480\u001b[0m\u001b[39m with \u001b[0m\u001b[1;36m1\u001b[0m\u001b[39m Axes\u001b[0m\u001b[1m>\u001b[0m"
      ]
     },
     "metadata": {},
     "output_type": "display_data"
    }
   ],
   "source": [
    "verbo_pbox.display(style='band')"
   ]
  },
  {
   "cell_type": "code",
   "execution_count": null,
   "id": "9d4bd364-0149-4505-aa40-41ea0452a54d",
   "metadata": {},
   "outputs": [],
   "source": []
  },
  {
   "cell_type": "code",
   "execution_count": null,
   "id": "6e11025c-5fbe-46bf-966e-a757494bf25e",
   "metadata": {},
   "outputs": [],
   "source": []
  },
  {
   "cell_type": "code",
   "execution_count": null,
   "id": "ec90d552-18c4-43d7-bbb8-4017ea70b9a2",
   "metadata": {},
   "outputs": [],
   "source": []
  },
  {
   "attachments": {},
   "cell_type": "markdown",
   "id": "6b6d5cc7-0698-4cc7-89a2-eb2a7aaf0e57",
   "metadata": {},
   "source": [
    "## construct nonparametric free pbox\n",
    "\n",
    "\n"
   ]
  },
  {
   "cell_type": "code",
   "execution_count": null,
   "id": "34f0f3dc-7fb6-4cb7-92c7-e0a5f68f2725",
   "metadata": {},
   "outputs": [],
   "source": [
    "''' let's test on existing nonparametric constructers '''"
   ]
  },
  {
   "cell_type": "code",
   "execution_count": null,
   "id": "b690fc54-b574-4090-98c5-5205303b3816",
   "metadata": {},
   "outputs": [],
   "source": [
    "pba.I(1,2)"
   ]
  },
  {
   "cell_type": "code",
   "execution_count": null,
   "id": "7caeefe0-f2b9-49b0-be0e-9a319f1d95f2",
   "metadata": {},
   "outputs": [],
   "source": [
    "from_percentiles(\n",
    "    {0: 0,\n",
    "    0.25: 0.5,\n",
    "    0.5: pba.I(1,2),\n",
    "    0.75: pba.I(1.5,2.5),\n",
    "    1: 3}\n",
    ").show()"
   ]
  },
  {
   "cell_type": "code",
   "execution_count": null,
   "id": "997b9872-57c3-4e8b-95e6-c6d67a25f5d3",
   "metadata": {},
   "outputs": [],
   "source": [
    "box(1,2).show()"
   ]
  },
  {
   "cell_type": "code",
   "execution_count": null,
   "id": "23847887-166c-48b7-bd83-44f098d80d99",
   "metadata": {},
   "outputs": [],
   "source": [
    "mean_var(0,1).show()"
   ]
  },
  {
   "cell_type": "code",
   "execution_count": null,
   "id": "d779ae7a-4908-473e-adbc-5666fcaaaf6a",
   "metadata": {},
   "outputs": [],
   "source": [
    "min_mean(0,1).show()"
   ]
  },
  {
   "cell_type": "code",
   "execution_count": null,
   "id": "98db0cc7-1938-49b8-a7aa-bb61332fea49",
   "metadata": {},
   "outputs": [],
   "source": [
    "min_max_mean(0,2,1).show()"
   ]
  },
  {
   "cell_type": "code",
   "execution_count": null,
   "id": "947296a7-d568-4a42-b0de-392cbf7ac77f",
   "metadata": {},
   "outputs": [],
   "source": [
    "min_max_mean_var(0, 2, 1, 0.5).show()"
   ]
  },
  {
   "cell_type": "code",
   "execution_count": null,
   "id": "40617665-c9fb-4d69-bff5-658a3f690312",
   "metadata": {},
   "outputs": [],
   "source": []
  },
  {
   "cell_type": "markdown",
   "id": "34397036-2cd1-449e-ab4c-a11e04895528",
   "metadata": {},
   "source": [
    "### parametric pbox\n",
    "\n",
    "- Confidence bounds"
   ]
  },
  {
   "cell_type": "code",
   "execution_count": null,
   "id": "5788c965-56a9-462a-af8d-c85889c646d3",
   "metadata": {},
   "outputs": [],
   "source": []
  },
  {
   "cell_type": "markdown",
   "id": "85536fe0-17f4-4a89-a6ef-18c797823419",
   "metadata": {
    "jp-MarkdownHeadingCollapsed": true
   },
   "source": [
    "# propagation of pbox\n",
    "\n",
    "- slice method\n",
    "- interval Monte Carlo\n",
    "- surrogate"
   ]
  },
  {
   "cell_type": "code",
   "execution_count": null,
   "id": "0ad20046-779a-4a2c-a6e1-f13b0d115632",
   "metadata": {},
   "outputs": [],
   "source": []
  },
  {
   "cell_type": "code",
   "execution_count": null,
   "id": "a5bf06f4-ded5-4565-b7fe-19abb2627264",
   "metadata": {},
   "outputs": [],
   "source": []
  },
  {
   "cell_type": "code",
   "execution_count": null,
   "id": "c4a678ac-2103-4e92-a34e-e1d3af58cca6",
   "metadata": {},
   "outputs": [],
   "source": []
  }
 ],
 "metadata": {
  "kernelspec": {
   "display_name": "pyun",
   "language": "python",
   "name": "pyun"
  },
  "language_info": {
   "codemirror_mode": {
    "name": "ipython",
    "version": 3
   },
   "file_extension": ".py",
   "mimetype": "text/x-python",
   "name": "python",
   "nbconvert_exporter": "python",
   "pygments_lexer": "ipython3",
   "version": "3.10.14"
  }
 },
 "nbformat": 4,
 "nbformat_minor": 5
}
