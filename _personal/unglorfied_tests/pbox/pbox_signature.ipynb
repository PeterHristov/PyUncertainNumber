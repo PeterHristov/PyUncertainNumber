{
 "cells": [
  {
   "cell_type": "markdown",
   "id": "f031abe3-de8b-4fb1-8520-13169c262bd2",
   "metadata": {},
   "source": [
    "# Introduction\n",
    "\n",
    "This file discusses several signatures of UN to consruct parametric pboxes, either from UN or pba. Various types of interval object types are supported for these constructors."
   ]
  },
  {
   "cell_type": "code",
   "execution_count": 2,
   "id": "7ab7e63e-b4c7-488f-be8c-8ecf3eab0ce0",
   "metadata": {},
   "outputs": [],
   "source": [
    "from PyUncertainNumber.UC.uncertainNumber import UncertainNumber as UN\n",
    "from PyUncertainNumber.UC.statisticalInference import *\n",
    "from PyUncertainNumber.UC.utils import pl_ecdf, pl_pcdf"
   ]
  },
  {
   "cell_type": "code",
   "execution_count": 3,
   "id": "5dbf5d92-e453-47a0-81c7-7446ba9f4264",
   "metadata": {},
   "outputs": [],
   "source": [
    "from intervals import Interval\n",
    "from PyUncertainNumber.pba.interval import Interval as nInterval\n",
    "from scipy.stats import CensoredData\n",
    "import scipy.stats as sps\n",
    "import matplotlib.pyplot as plt"
   ]
  },
  {
   "cell_type": "code",
   "execution_count": 4,
   "id": "7a01eafb-16f9-4f92-a5b5-372c859d4e6f",
   "metadata": {},
   "outputs": [],
   "source": [
    "%load_ext autoreload\n",
    "%autoreload 2\n",
    "%load_ext rich\n",
    "%matplotlib inline"
   ]
  },
  {
   "cell_type": "markdown",
   "id": "34cf1cde-0818-4d36-a094-7a8b7be07d53",
   "metadata": {},
   "source": [
    "# `pba` signature"
   ]
  },
  {
   "cell_type": "markdown",
   "id": "5dc06ee6-6ba8-4f5b-ac8a-d1d706e4b1aa",
   "metadata": {
    "jp-MarkdownHeadingCollapsed": true
   },
   "source": [
    "### single param distributions"
   ]
  },
  {
   "cell_type": "code",
   "execution_count": null,
   "id": "25aae847-7049-4389-8a5b-c32f16c43cbd",
   "metadata": {},
   "outputs": [],
   "source": [
    "_ = expon([0.4, 0.6]).display()"
   ]
  },
  {
   "cell_type": "code",
   "execution_count": null,
   "id": "978f104e-7a12-4926-acd3-2aeafe3ebb36",
   "metadata": {},
   "outputs": [],
   "source": [
    "''' new signature '''\n",
    "_ = pba.expon([0.4, 0.6]).display()  # correct"
   ]
  },
  {
   "cell_type": "markdown",
   "id": "65a9d752-fb85-40cb-a259-b4647479b9a0",
   "metadata": {
    "jp-MarkdownHeadingCollapsed": true
   },
   "source": [
    "### two parms distributions\n",
    "\n",
    "- Gaussian"
   ]
  },
  {
   "cell_type": "code",
   "execution_count": null,
   "id": "5365ed5b-4c5c-425e-b7a9-98764992237e",
   "metadata": {},
   "outputs": [],
   "source": [
    "a = [0, 1]\n",
    "b = [2, 3]\n",
    "\n",
    "a_i = pba.I(a)\n",
    "b_i = pba.I(b)\n",
    "\n",
    "a_mi = Interval(*a)\n",
    "b_mi = Interval(*b)"
   ]
  },
  {
   "cell_type": "code",
   "execution_count": null,
   "id": "47d8b356-03e2-4997-8d2a-6ae0633cfb4c",
   "metadata": {},
   "outputs": [],
   "source": [
    "a_i"
   ]
  },
  {
   "cell_type": "code",
   "execution_count": null,
   "id": "7f0c37b3-f564-4bcf-aeac-364245e7f252",
   "metadata": {},
   "outputs": [],
   "source": [
    "# double check\n",
    "a_mi"
   ]
  },
  {
   "cell_type": "code",
   "execution_count": null,
   "id": "f8da8cd8-21e1-49ad-b1d3-ed3068d55687",
   "metadata": {},
   "outputs": [],
   "source": [
    "# # old\n",
    "_ = norm(a, b).display()  # correct"
   ]
  },
  {
   "cell_type": "code",
   "execution_count": null,
   "id": "e75e1b41-dad7-439c-beab-4970318f61f3",
   "metadata": {},
   "outputs": [],
   "source": [
    "_ = norm(a_i, b_i).display()  # correct\n"
   ]
  },
  {
   "cell_type": "code",
   "execution_count": null,
   "id": "90d941ed-b97b-450e-9330-f9905bc5e9d9",
   "metadata": {},
   "outputs": [],
   "source": [
    "# # new\n",
    "_ = pba.norm(a, b).display() # correct"
   ]
  },
  {
   "cell_type": "code",
   "execution_count": null,
   "id": "7b0e39e9-0877-4afe-838a-056adc911336",
   "metadata": {},
   "outputs": [],
   "source": [
    "_ = pba.norm(a_i, b_i).display()  # correct"
   ]
  },
  {
   "cell_type": "code",
   "execution_count": null,
   "id": "e47fc058-3089-47cf-842d-ef86394ed12b",
   "metadata": {},
   "outputs": [],
   "source": [
    "_ = pba.norm(a_mi, b_mi).display()  # correct"
   ]
  },
  {
   "cell_type": "code",
   "execution_count": null,
   "id": "1e6dfb1a-c2d9-48c4-bdf6-5f88d021fc4e",
   "metadata": {},
   "outputs": [],
   "source": [
    "from PyUncertainNumber.pba.pbox import _bound_pcdf"
   ]
  },
  {
   "cell_type": "code",
   "execution_count": null,
   "id": "d53268ed-e565-404b-8221-c37d2bfd94b9",
   "metadata": {},
   "outputs": [],
   "source": [
    "_  = _bound_pcdf('norm', [0,1], [2,3]).display()  # correct"
   ]
  },
  {
   "cell_type": "code",
   "execution_count": null,
   "id": "a91b5c0b-5241-4e30-b2c4-b9271f0e9dd4",
   "metadata": {},
   "outputs": [],
   "source": [
    "_  = _bound_pcdf('norm', a_i, b_i).display()  # correct"
   ]
  },
  {
   "cell_type": "code",
   "execution_count": null,
   "id": "05a01abf-2249-4e5b-b636-06e750904532",
   "metadata": {},
   "outputs": [],
   "source": [
    "# _  = _bound_pcdf('norm', [0,1], 2).display()  # incorrect as `_bound_pcdf` only supports fully bounded parameters"
   ]
  },
  {
   "cell_type": "code",
   "execution_count": null,
   "id": "5c85b02e-c3a2-4d6b-aebf-5c37a7f98529",
   "metadata": {},
   "outputs": [],
   "source": []
  },
  {
   "cell_type": "markdown",
   "id": "88392b24-d5d2-46e5-82fa-42976da44ccd",
   "metadata": {},
   "source": [
    "# `UncertainNumber` signature"
   ]
  },
  {
   "cell_type": "code",
   "execution_count": null,
   "id": "665a18db-496a-4fa9-b337-49e8f92aa7e2",
   "metadata": {},
   "outputs": [],
   "source": []
  },
  {
   "cell_type": "code",
   "execution_count": null,
   "id": "e6d3d85a-e4cd-4819-8f0a-b0684e55f1c2",
   "metadata": {},
   "outputs": [],
   "source": []
  },
  {
   "cell_type": "markdown",
   "id": "ebb735f7-a157-4249-a705-4156b10e2370",
   "metadata": {
    "jp-MarkdownHeadingCollapsed": true
   },
   "source": [
    "# other test"
   ]
  },
  {
   "cell_type": "code",
   "execution_count": null,
   "id": "4d99f3c8-7d39-4aa9-94ef-228b9241d560",
   "metadata": {},
   "outputs": [],
   "source": [
    "def foo(*args):\n",
    "    # print(args)\n",
    "    return args"
   ]
  },
  {
   "cell_type": "code",
   "execution_count": null,
   "id": "35db15b4-e06a-4b32-b970-2d5ce39595a2",
   "metadata": {},
   "outputs": [],
   "source": [
    "foo(1,3)"
   ]
  },
  {
   "cell_type": "code",
   "execution_count": null,
   "id": "f1dd192b-a7be-4ed5-bd5c-216145f82119",
   "metadata": {},
   "outputs": [],
   "source": [
    "sth = foo(a, b)\n",
    "sth"
   ]
  },
  {
   "cell_type": "code",
   "execution_count": null,
   "id": "b51cc270-c124-4f59-a7a2-fc386e607f1d",
   "metadata": {},
   "outputs": [],
   "source": [
    "print(sth)"
   ]
  },
  {
   "cell_type": "code",
   "execution_count": null,
   "id": "0e00b440-b659-4cb8-9a29-8059fe593fa0",
   "metadata": {},
   "outputs": [],
   "source": [
    "print(*sth)"
   ]
  },
  {
   "cell_type": "code",
   "execution_count": null,
   "id": "7fe37cf1-ba3f-4b46-a29d-7ece7cda9c40",
   "metadata": {},
   "outputs": [],
   "source": [
    "list(sth)"
   ]
  },
  {
   "cell_type": "code",
   "execution_count": null,
   "id": "fd085809-45ca-4cd5-b864-62274b401d46",
   "metadata": {},
   "outputs": [],
   "source": [
    "foo(a_i, b_i)"
   ]
  },
  {
   "cell_type": "code",
   "execution_count": null,
   "id": "db013c09-198b-4f21-a2fe-8b1d622b2cc4",
   "metadata": {},
   "outputs": [],
   "source": []
  },
  {
   "cell_type": "code",
   "execution_count": null,
   "id": "44bb4cfb-7111-48b4-8669-c7a9946be819",
   "metadata": {},
   "outputs": [],
   "source": [
    "def wrapper_decorator(*args, **kwargs):\n",
    "    # args = list(args)\n",
    "    i_args = [arg if isinstance(\n",
    "                arg, nInterval | Interval) else nInterval(arg) for arg in args]\n",
    "    return i_args"
   ]
  },
  {
   "cell_type": "code",
   "execution_count": null,
   "id": "c5d96eae-f6f9-40b5-9b5f-1fea60778fe9",
   "metadata": {},
   "outputs": [],
   "source": [
    "wrapper_decorator(a, b)"
   ]
  },
  {
   "cell_type": "code",
   "execution_count": null,
   "id": "910d06a8-ae58-4adc-bbac-138ab52ed195",
   "metadata": {},
   "outputs": [],
   "source": [
    "wrapper_decorator(a_i, b_i)"
   ]
  },
  {
   "cell_type": "code",
   "execution_count": null,
   "id": "4f2cbed1-a601-429b-b4de-983700c92c72",
   "metadata": {},
   "outputs": [],
   "source": [
    "wrapper_decorator(a_mi, b_mi)"
   ]
  },
  {
   "cell_type": "code",
   "execution_count": null,
   "id": "06abddb9-b98c-4c58-9a84-cfe0b96e43ed",
   "metadata": {},
   "outputs": [],
   "source": [
    "nInterval(2)"
   ]
  },
  {
   "cell_type": "code",
   "execution_count": null,
   "id": "fabbcc6e-fc79-43b7-a59d-a936a380c19d",
   "metadata": {},
   "outputs": [],
   "source": [
    "Interval(2)"
   ]
  },
  {
   "cell_type": "code",
   "execution_count": null,
   "id": "65f9a0f7-ea91-49ed-aef2-10a0c77e2208",
   "metadata": {},
   "outputs": [],
   "source": [
    "a_mi"
   ]
  },
  {
   "cell_type": "code",
   "execution_count": null,
   "id": "530fa0a3-ca82-4256-8a25-9685e41021c9",
   "metadata": {},
   "outputs": [],
   "source": [
    "# a_mi"
   ]
  },
  {
   "cell_type": "code",
   "execution_count": null,
   "id": "084ae88d-81d2-4a50-a4c7-f685dc1b1933",
   "metadata": {},
   "outputs": [],
   "source": [
    "a_mi"
   ]
  },
  {
   "cell_type": "code",
   "execution_count": null,
   "id": "e0e2f27e-712a-43e7-ae5d-9a42a3980c7c",
   "metadata": {},
   "outputs": [],
   "source": [
    "# a = nInterval(*a_mi)"
   ]
  },
  {
   "cell_type": "code",
   "execution_count": null,
   "id": "5bf6575a-fdab-4b30-bf49-8bb2353544eb",
   "metadata": {},
   "outputs": [],
   "source": [
    "import itertools"
   ]
  },
  {
   "cell_type": "code",
   "execution_count": null,
   "id": "13b790c9-1272-4865-964b-d5effbb33e0c",
   "metadata": {},
   "outputs": [],
   "source": [
    "it = itertools.product(*wrapper_decorator(a_i, b_i))\n",
    "for itt in it:\n",
    "    print(itt)"
   ]
  },
  {
   "cell_type": "code",
   "execution_count": null,
   "id": "9013f0eb-f926-4aa3-b0a0-27a940111bc6",
   "metadata": {},
   "outputs": [],
   "source": [
    "wrapper_decorator(a_mi, b_mi)"
   ]
  },
  {
   "cell_type": "code",
   "execution_count": null,
   "id": "0c9b9db5-2274-409a-9922-70f673bf5a94",
   "metadata": {},
   "outputs": [],
   "source": [
    "it = itertools.product(*wrapper_decorator(a_mi, b_mi))\n",
    "for itt in it:\n",
    "    print(itt)"
   ]
  },
  {
   "cell_type": "code",
   "execution_count": null,
   "id": "13a2f9de-9ccc-40f5-b081-798e412cae05",
   "metadata": {},
   "outputs": [],
   "source": []
  }
 ],
 "metadata": {
  "kernelspec": {
   "display_name": "Python 3 (ipykernel)",
   "language": "python",
   "name": "python3"
  },
  "language_info": {
   "codemirror_mode": {
    "name": "ipython",
    "version": 3
   },
   "file_extension": ".py",
   "mimetype": "text/x-python",
   "name": "python",
   "nbconvert_exporter": "python",
   "pygments_lexer": "ipython3",
   "version": "3.11.10"
  }
 },
 "nbformat": 4,
 "nbformat_minor": 5
}
