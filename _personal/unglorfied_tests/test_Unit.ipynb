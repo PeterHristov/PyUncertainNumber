{
 "cells": [
  {
   "cell_type": "markdown",
   "id": "f5ef851a-1760-411a-bce0-cc08f7b8ee35",
   "metadata": {},
   "source": [
    "# Introduction\n",
    "\n",
    "- This file works on the functionality of \"units\". Currently there are two candidate packages to be considered under the use of 'composition'. These two are [`Astropy`](https://learn.astropy.org/tutorials/quantities.html) and [`Pint`](https://pint.readthedocs.io/en/0.6/tutorial.html)\n",
    "\n",
    "- I'm more inclined to keep note of the \"unit\" in a string format as specified in the UC dialog, do the computation and after we have access to a result then create a Quantity object and return or show.\n",
    "\n",
    "- But note that Astropy do provide the functionality to directly compute with Numpy arrays."
   ]
  },
  {
   "cell_type": "code",
   "execution_count": 1,
   "id": "f2f415c7-e591-4f24-862f-992b78a99022",
   "metadata": {},
   "outputs": [],
   "source": [
    "import astropy.units as u"
   ]
  },
  {
   "cell_type": "code",
   "execution_count": 2,
   "id": "30a0e4e4-baf5-44d9-b46d-86d9f9b6fa57",
   "metadata": {},
   "outputs": [],
   "source": [
    "# the most direct way to instantiate a Quantity object\n",
    "length = 26.2 * u.meter"
   ]
  },
  {
   "cell_type": "code",
   "execution_count": 4,
   "id": "93278203-032c-47f3-9101-dee6409d9c43",
   "metadata": {},
   "outputs": [
    {
     "name": "stdout",
     "output_type": "stream",
     "text": [
      "26.2 m\n"
     ]
    }
   ],
   "source": [
    "print(length)"
   ]
  },
  {
   "cell_type": "code",
   "execution_count": 5,
   "id": "c349d004-db52-474f-ae5c-94f3ad812474",
   "metadata": {},
   "outputs": [
    {
     "data": {
      "text/latex": [
       "$26.2 \\; \\mathrm{m}$"
      ],
      "text/plain": [
       "<Quantity 26.2 m>"
      ]
     },
     "execution_count": 5,
     "metadata": {},
     "output_type": "execute_result"
    }
   ],
   "source": [
    "length"
   ]
  },
  {
   "cell_type": "code",
   "execution_count": 7,
   "id": "004d9fad-e8d6-49ca-8ea2-2d6921cf644d",
   "metadata": {},
   "outputs": [],
   "source": [
    "# a verbose way of instantiating\n",
    "length2 = u.Quantity(26.2, unit=u.meter)"
   ]
  },
  {
   "cell_type": "code",
   "execution_count": 8,
   "id": "c46d4994-24ff-4b99-88bf-d2425a1289c0",
   "metadata": {},
   "outputs": [
    {
     "data": {
      "text/latex": [
       "$26.2 \\; \\mathrm{m}$"
      ],
      "text/plain": [
       "<Quantity 26.2 m>"
      ]
     },
     "execution_count": 8,
     "metadata": {},
     "output_type": "execute_result"
    }
   ],
   "source": [
    "length2"
   ]
  },
  {
   "cell_type": "code",
   "execution_count": 10,
   "id": "8c8b0a74-2a5e-4a83-8c52-eb78eda1ced9",
   "metadata": {},
   "outputs": [],
   "source": [
    "length3 = u.Quantity(26.2, unit='meter')"
   ]
  },
  {
   "cell_type": "code",
   "execution_count": 11,
   "id": "7de3773d-871a-4d25-8592-c05dee45a351",
   "metadata": {},
   "outputs": [
    {
     "data": {
      "text/latex": [
       "$26.2 \\; \\mathrm{m}$"
      ],
      "text/plain": [
       "<Quantity 26.2 m>"
      ]
     },
     "execution_count": 11,
     "metadata": {},
     "output_type": "execute_result"
    }
   ],
   "source": [
    "length3"
   ]
  },
  {
   "cell_type": "code",
   "execution_count": null,
   "id": "b30bf0cf-a214-4209-9431-6c4b198de252",
   "metadata": {},
   "outputs": [],
   "source": []
  }
 ],
 "metadata": {
  "kernelspec": {
   "display_name": "pyun",
   "language": "python",
   "name": "pyun"
  },
  "language_info": {
   "codemirror_mode": {
    "name": "ipython",
    "version": 3
   },
   "file_extension": ".py",
   "mimetype": "text/x-python",
   "name": "python",
   "nbconvert_exporter": "python",
   "pygments_lexer": "ipython3",
   "version": "3.10.14"
  }
 },
 "nbformat": 4,
 "nbformat_minor": 5
}
