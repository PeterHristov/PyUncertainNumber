{
 "cells": [
  {
   "cell_type": "markdown",
   "id": "ce632960-5194-4611-b73a-5bae67c481f4",
   "metadata": {},
   "source": [
    "# Introduction\n",
    "\n",
    "- Testing Scott's desired constructor with PyUncertainNumber methods"
   ]
  },
  {
   "cell_type": "code",
   "execution_count": 1,
   "id": "48448bca-ddd1-45d8-b4a7-96b62a844a89",
   "metadata": {},
   "outputs": [],
   "source": [
    "from PyUncertainNumber.utils import *\n",
    "from PyUncertainNumber.pba.interval import Interval as I\n",
    "from PyUncertainNumber.pba.interval import PM"
   ]
  },
  {
   "cell_type": "code",
   "execution_count": 2,
   "id": "c574d9b2-c56b-4f8b-adee-b6cec98c269b",
   "metadata": {},
   "outputs": [],
   "source": [
    "from PyUncertainNumber.UN import parse_description"
   ]
  },
  {
   "cell_type": "code",
   "execution_count": 3,
   "id": "af45541b-baa6-4a3d-a4c3-ce840844432f",
   "metadata": {},
   "outputs": [],
   "source": [
    "%load_ext autoreload\n",
    "%autoreload 2"
   ]
  },
  {
   "cell_type": "code",
   "execution_count": null,
   "id": "22c2acb3-9749-4dfb-98ef-1be0d3cdb4fb",
   "metadata": {},
   "outputs": [],
   "source": []
  },
  {
   "cell_type": "code",
   "execution_count": 4,
   "id": "128616a2-eab2-405a-a5ec-422360d30489",
   "metadata": {},
   "outputs": [],
   "source": [
    "%load_ext rich"
   ]
  },
  {
   "cell_type": "code",
   "execution_count": 5,
   "id": "335417c7-64a0-4297-bcde-72c1951f5d04",
   "metadata": {},
   "outputs": [],
   "source": [
    "# from rich import print as rprint"
   ]
  },
  {
   "cell_type": "markdown",
   "id": "af59761c-15ec-457f-a29d-a5e2b86e19d3",
   "metadata": {},
   "source": [
    "### the test inputs"
   ]
  },
  {
   "cell_type": "code",
   "execution_count": 6,
   "id": "537bd087-e4cc-471a-b84a-d3283b6a1904",
   "metadata": {},
   "outputs": [],
   "source": [
    "text1 = '12//'"
   ]
  },
  {
   "cell_type": "code",
   "execution_count": 7,
   "id": "9fd42a50-7480-4909-8364-ded295072e80",
   "metadata": {},
   "outputs": [],
   "source": [
    "text2 = '[12//]'"
   ]
  },
  {
   "cell_type": "code",
   "execution_count": 8,
   "id": "bcf44116-da0f-4be4-aa71-eefc1b1e6e80",
   "metadata": {},
   "outputs": [],
   "source": [
    "text3 = '[12,3]'"
   ]
  },
  {
   "cell_type": "code",
   "execution_count": 9,
   "id": "026b80cd-fecb-4ea4-9118-48ae18ae2538",
   "metadata": {},
   "outputs": [],
   "source": [
    "text4 = \"h3110 23 cat 444.4 rabbit 11 2 dog\""
   ]
  },
  {
   "cell_type": "code",
   "execution_count": 10,
   "id": "6c8060b9-ca9c-4f2e-a8d2-220369c15660",
   "metadata": {},
   "outputs": [],
   "source": [
    "text5 = '[5 +- 1]'"
   ]
  },
  {
   "cell_type": "code",
   "execution_count": 11,
   "id": "11761820-cebe-4128-9aad-6bfee8fab243",
   "metadata": {},
   "outputs": [],
   "source": [
    "# tricky\n",
    "text5_2 = '[5+-1]'"
   ]
  },
  {
   "cell_type": "code",
   "execution_count": 12,
   "id": "c2df9061-baa4-4af7-852a-86064b244111",
   "metadata": {},
   "outputs": [],
   "source": [
    "text6 = '[15 +- 10%]'"
   ]
  },
  {
   "cell_type": "code",
   "execution_count": 13,
   "id": "e77f26ba-7f37-48f7-a545-2862ecfdf844",
   "metadata": {},
   "outputs": [],
   "source": [
    "text6_2 = '[15+-10%]'"
   ]
  },
  {
   "cell_type": "code",
   "execution_count": 14,
   "id": "5d88032b-03fd-4734-85eb-e8930ca065d2",
   "metadata": {},
   "outputs": [],
   "source": [
    "text7 = '[15.3]'"
   ]
  },
  {
   "cell_type": "markdown",
   "id": "37fb2a31-b042-4c35-982c-2ef0dacd9a46",
   "metadata": {},
   "source": [
    "### testing main modules"
   ]
  },
  {
   "cell_type": "code",
   "execution_count": 15,
   "id": "ff18dd73-1944-4df6-81cc-ca01117d0f1d",
   "metadata": {},
   "outputs": [],
   "source": [
    "# def testing_parsing(input):\n",
    "#     print(f'Input: {input}')\n",
    "#     print(parse_description(input))"
   ]
  },
  {
   "cell_type": "code",
   "execution_count": 16,
   "id": "b7056cef-b8d9-4327-9615-174168c10958",
   "metadata": {},
   "outputs": [],
   "source": [
    "# testing_parsing(text3)"
   ]
  },
  {
   "cell_type": "code",
   "execution_count": 17,
   "id": "a57f2cf0-edbd-4e7a-805c-dcb8229b3c37",
   "metadata": {},
   "outputs": [
    {
     "data": {
      "text/html": [
       "<pre style=\"white-space:pre;overflow-x:auto;line-height:normal;font-family:Menlo,'DejaVu Sans Mono',consolas,'Courier New',monospace\"></pre>\n"
      ],
      "text/plain": []
     },
     "metadata": {},
     "output_type": "display_data"
    },
    {
     "data": {
      "text/plain": [
       "\u001b[32m'\u001b[0m\u001b[32m[\u001b[0m\u001b[32m12,3\u001b[0m\u001b[32m]\u001b[0m\u001b[32m'\u001b[0m"
      ]
     },
     "execution_count": 17,
     "metadata": {},
     "output_type": "execute_result"
    }
   ],
   "source": [
    "text3"
   ]
  },
  {
   "cell_type": "code",
   "execution_count": 18,
   "id": "4a07c799-f258-4676-8c90-a1c209e13008",
   "metadata": {},
   "outputs": [
    {
     "data": {
      "text/html": [
       "<pre style=\"white-space:pre;overflow-x:auto;line-height:normal;font-family:Menlo,'DejaVu Sans Mono',consolas,'Courier New',monospace\"></pre>\n"
      ],
      "text/plain": []
     },
     "metadata": {},
     "output_type": "display_data"
    },
    {
     "data": {
      "text/plain": [
       "Interval \u001b[1m[\u001b[0m\u001b[1;36m3\u001b[0m, \u001b[1;36m12\u001b[0m\u001b[1m]\u001b[0m"
      ]
     },
     "execution_count": 18,
     "metadata": {},
     "output_type": "execute_result"
    }
   ],
   "source": [
    "parse_description(text3)"
   ]
  },
  {
   "cell_type": "code",
   "execution_count": 19,
   "id": "ec807f00-2b4a-448d-b7f3-5ac17d9680fd",
   "metadata": {},
   "outputs": [
    {
     "data": {
      "text/html": [
       "<pre style=\"white-space:pre;overflow-x:auto;line-height:normal;font-family:Menlo,'DejaVu Sans Mono',consolas,'Courier New',monospace\"></pre>\n"
      ],
      "text/plain": []
     },
     "metadata": {},
     "output_type": "display_data"
    },
    {
     "data": {
      "text/plain": [
       "\u001b[32m'\u001b[0m\u001b[32m[\u001b[0m\u001b[32m15.3\u001b[0m\u001b[32m]\u001b[0m\u001b[32m'\u001b[0m"
      ]
     },
     "execution_count": 19,
     "metadata": {},
     "output_type": "execute_result"
    }
   ],
   "source": [
    "text7"
   ]
  },
  {
   "cell_type": "code",
   "execution_count": 20,
   "id": "1a3cfa06-30e9-4454-87a2-9cadf0f7ef6f",
   "metadata": {},
   "outputs": [
    {
     "data": {
      "text/html": [
       "<pre style=\"white-space:pre;overflow-x:auto;line-height:normal;font-family:Menlo,'DejaVu Sans Mono',consolas,'Courier New',monospace\"></pre>\n"
      ],
      "text/plain": []
     },
     "metadata": {},
     "output_type": "display_data"
    },
    {
     "data": {
      "text/plain": [
       "Interval \u001b[1m[\u001b[0m\u001b[1;36m14.8\u001b[0m, \u001b[1;36m15.8\u001b[0m\u001b[1m]\u001b[0m"
      ]
     },
     "execution_count": 20,
     "metadata": {},
     "output_type": "execute_result"
    }
   ],
   "source": [
    "parse_description(text7)"
   ]
  },
  {
   "cell_type": "code",
   "execution_count": 21,
   "id": "2bc25c3f-72c7-4935-9694-6c0fd1bd574a",
   "metadata": {},
   "outputs": [
    {
     "name": "stdout",
     "output_type": "stream",
     "text": [
      "[5 +- 1]\n"
     ]
    }
   ],
   "source": [
    "print(text5)"
   ]
  },
  {
   "cell_type": "code",
   "execution_count": 22,
   "id": "5649a25e-4a06-4f58-91c7-67c83af98eda",
   "metadata": {},
   "outputs": [
    {
     "data": {
      "text/html": [
       "<pre style=\"white-space:pre;overflow-x:auto;line-height:normal;font-family:Menlo,'DejaVu Sans Mono',consolas,'Courier New',monospace\"></pre>\n"
      ],
      "text/plain": []
     },
     "metadata": {},
     "output_type": "display_data"
    },
    {
     "data": {
      "text/plain": [
       "Interval \u001b[1m[\u001b[0m\u001b[1;36m4\u001b[0m, \u001b[1;36m6\u001b[0m\u001b[1m]\u001b[0m"
      ]
     },
     "execution_count": 22,
     "metadata": {},
     "output_type": "execute_result"
    }
   ],
   "source": [
    "parse_description(text5)"
   ]
  },
  {
   "cell_type": "code",
   "execution_count": 23,
   "id": "1a7dd1e0-ef2a-4f5b-acb8-d6fd12eb6492",
   "metadata": {},
   "outputs": [
    {
     "data": {
      "text/html": [
       "<pre style=\"white-space:pre;overflow-x:auto;line-height:normal;font-family:Menlo,'DejaVu Sans Mono',consolas,'Courier New',monospace\"></pre>\n"
      ],
      "text/plain": []
     },
     "metadata": {},
     "output_type": "display_data"
    },
    {
     "data": {
      "text/plain": [
       "\u001b[32m'\u001b[0m\u001b[32m[\u001b[0m\u001b[32m15 +- 10%\u001b[0m\u001b[32m]\u001b[0m\u001b[32m'\u001b[0m"
      ]
     },
     "execution_count": 23,
     "metadata": {},
     "output_type": "execute_result"
    }
   ],
   "source": [
    "text6"
   ]
  },
  {
   "cell_type": "code",
   "execution_count": 24,
   "id": "bcded498-560e-48cd-9b44-66a8a9ebd959",
   "metadata": {},
   "outputs": [
    {
     "data": {
      "text/html": [
       "<pre style=\"white-space:pre;overflow-x:auto;line-height:normal;font-family:Menlo,'DejaVu Sans Mono',consolas,'Courier New',monospace\"></pre>\n"
      ],
      "text/plain": []
     },
     "metadata": {},
     "output_type": "display_data"
    },
    {
     "data": {
      "text/plain": [
       "Interval \u001b[1m[\u001b[0m\u001b[1;36m13.5\u001b[0m, \u001b[1;36m16.5\u001b[0m\u001b[1m]\u001b[0m"
      ]
     },
     "execution_count": 24,
     "metadata": {},
     "output_type": "execute_result"
    }
   ],
   "source": [
    "parse_description(text6)"
   ]
  },
  {
   "cell_type": "markdown",
   "id": "9c53d464-87cd-403d-bc02-5c817f0593ef",
   "metadata": {
    "jp-MarkdownHeadingCollapsed": true
   },
   "source": [
    "### testing simple modules"
   ]
  },
  {
   "cell_type": "code",
   "execution_count": null,
   "id": "fc03507a-cf54-48a3-99b4-cd5d2d683a05",
   "metadata": {},
   "outputs": [],
   "source": [
    "# ''' type 1 '''\n",
    "# print(text3)"
   ]
  },
  {
   "cell_type": "code",
   "execution_count": null,
   "id": "29275e34-c2c8-45db-9c30-fb1c03b621c5",
   "metadata": {},
   "outputs": [],
   "source": [
    "# # list-like string representation test\n",
    "# parsed = initial_list_checking(text3)\n",
    "# parsed"
   ]
  },
  {
   "cell_type": "code",
   "execution_count": null,
   "id": "b219b4c9-94ad-4169-8b48-4039c5899da2",
   "metadata": {},
   "outputs": [],
   "source": [
    "# test_interval = I(*parsed)\n",
    "# test_interval"
   ]
  },
  {
   "cell_type": "code",
   "execution_count": null,
   "id": "fecea6d8-532b-4623-bd10-1ca67afb7214",
   "metadata": {},
   "outputs": [],
   "source": [
    "# # only one input\n",
    "# parsed = initial_list_checking(text7)\n",
    "# parsed"
   ]
  },
  {
   "cell_type": "code",
   "execution_count": null,
   "id": "12694034-1806-474c-b439-a049f39ee367",
   "metadata": {},
   "outputs": [],
   "source": [
    "# test_interval = PM(parsed[0], 0.5)\n",
    "# test_interval"
   ]
  },
  {
   "cell_type": "code",
   "execution_count": null,
   "id": "87e76fb7-6f2e-4b84-8ff4-15b551b3dffb",
   "metadata": {},
   "outputs": [],
   "source": []
  },
  {
   "cell_type": "code",
   "execution_count": null,
   "id": "6c07e0d5-cd7b-4869-bee2-a3090a48b6c6",
   "metadata": {},
   "outputs": [],
   "source": [
    "''' type 2 '''"
   ]
  },
  {
   "cell_type": "code",
   "execution_count": null,
   "id": "66038876-5c56-4eec-9a14-f6f8100ebe3d",
   "metadata": {},
   "outputs": [],
   "source": [
    "print(text5)"
   ]
  },
  {
   "cell_type": "code",
   "execution_count": null,
   "id": "5d564f8f-eb17-46c0-961f-69c9dd9bf8a3",
   "metadata": {},
   "outputs": [],
   "source": [
    "bad_list_checking(text5)"
   ]
  },
  {
   "cell_type": "code",
   "execution_count": null,
   "id": "cc22c345-5ea2-4b8e-b54f-51120631c7c2",
   "metadata": {},
   "outputs": [],
   "source": [
    "PlusMinus_parser(text5)\n",
    "# append with 'parser3' and then it will work\n",
    "# not this time we use the interval \"mid + range\" style to instantiate"
   ]
  },
  {
   "cell_type": "code",
   "execution_count": null,
   "id": "a41e34d6-a85c-4371-8d33-e8d014d4e3cf",
   "metadata": {},
   "outputs": [],
   "source": [
    "# if it contains '%'\n",
    "percentage_finder(text5)"
   ]
  },
  {
   "cell_type": "code",
   "execution_count": null,
   "id": "dd11d65f-323e-4876-8af3-57f740479ea8",
   "metadata": {},
   "outputs": [],
   "source": [
    "parser4(text5)"
   ]
  },
  {
   "cell_type": "code",
   "execution_count": null,
   "id": "ad75cf51-0a8b-4c63-b8e3-9bfc9cfae06d",
   "metadata": {},
   "outputs": [],
   "source": [
    "''' type 3 '''"
   ]
  },
  {
   "cell_type": "code",
   "execution_count": null,
   "id": "c0069344-8faf-449c-b347-762d8e5ce3b3",
   "metadata": {},
   "outputs": [],
   "source": [
    "print(text6)"
   ]
  },
  {
   "cell_type": "code",
   "execution_count": null,
   "id": "32dc0b1e-66e7-4958-ad05-d77abd50091a",
   "metadata": {},
   "outputs": [],
   "source": [
    "bad_list_checking(text6)"
   ]
  },
  {
   "cell_type": "code",
   "execution_count": null,
   "id": "b4969790-1b90-424d-94d1-71bf917a2a77",
   "metadata": {},
   "outputs": [],
   "source": [
    "PlusMinus_parser(text6)"
   ]
  },
  {
   "cell_type": "code",
   "execution_count": null,
   "id": "259b85ff-dbd8-456f-99ac-335646e41366",
   "metadata": {},
   "outputs": [],
   "source": [
    "# if it contains '%'\n",
    "percentage_finder(text6)"
   ]
  },
  {
   "cell_type": "code",
   "execution_count": null,
   "id": "06d2169e-a4a1-4bf1-8a44-90a82e6d9d1e",
   "metadata": {},
   "outputs": [],
   "source": [
    "# if a percentage parse the mid range\n",
    "mid_range = percentage_converter(text6)\n",
    "mid_range"
   ]
  },
  {
   "cell_type": "code",
   "execution_count": null,
   "id": "f1f85fb1-e58c-4afc-b6c1-0a6c16c495b7",
   "metadata": {},
   "outputs": [],
   "source": [
    "# then continue with the mid +- mid_range thing"
   ]
  },
  {
   "cell_type": "markdown",
   "id": "212f5f72-ce56-4c56-8523-1f820cce678e",
   "metadata": {},
   "source": [
    "# pool"
   ]
  },
  {
   "cell_type": "code",
   "execution_count": null,
   "id": "cfa4d29f-cb5d-42c9-8f8f-e570661a5894",
   "metadata": {},
   "outputs": [],
   "source": [
    "# ast.literal_eval('[\"A\",\"B\" ,\"C\" ,\" D\"]') # template"
   ]
  },
  {
   "cell_type": "code",
   "execution_count": null,
   "id": "f0d2020c-bd70-4129-b7dc-f4c7f796ecc0",
   "metadata": {},
   "outputs": [],
   "source": [
    "def parser3(s):\n",
    "    return [int(c) for c in s if c.isdigit()]"
   ]
  },
  {
   "cell_type": "code",
   "execution_count": null,
   "id": "c643dfee-77b2-49a7-a9a7-361946022037",
   "metadata": {},
   "outputs": [],
   "source": [
    "# # list-like string representation test\n",
    "# parsed = initial_list_checking(text3)\n",
    "# parsed"
   ]
  },
  {
   "cell_type": "code",
   "execution_count": null,
   "id": "562cf4fa-17a9-499e-9b6f-db2500fd6984",
   "metadata": {},
   "outputs": [],
   "source": [
    "# test_interval = I(*parsed)\n",
    "# test_interval"
   ]
  },
  {
   "cell_type": "code",
   "execution_count": null,
   "id": "0068b259-acc5-4de0-9d91-d9e05acde6a0",
   "metadata": {},
   "outputs": [],
   "source": [
    "# test_interval = PM(parsed[0], 0.5)\n",
    "# test_interval"
   ]
  }
 ],
 "metadata": {
  "kernelspec": {
   "display_name": "Python 3 (ipykernel)",
   "language": "python",
   "name": "python3"
  },
  "language_info": {
   "codemirror_mode": {
    "name": "ipython",
    "version": 3
   },
   "file_extension": ".py",
   "mimetype": "text/x-python",
   "name": "python",
   "nbconvert_exporter": "python",
   "pygments_lexer": "ipython3",
   "version": "3.10.14"
  }
 },
 "nbformat": 4,
 "nbformat_minor": 5
}
