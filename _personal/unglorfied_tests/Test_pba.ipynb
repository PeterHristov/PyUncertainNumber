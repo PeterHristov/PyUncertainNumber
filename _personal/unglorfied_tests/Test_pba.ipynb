{
 "cells": [
  {
   "cell_type": "markdown",
   "id": "5c4c0425-01b0-44ce-85cf-15e584f0a1b9",
   "metadata": {},
   "source": [
    "# Introduction\n",
    "\n",
    "\n",
    "- the most fundamental test on Nick's pba package\n",
    "- To test if the implementations of the `pba`is anyhow problematic\n",
    "- A few things need to be tested"
   ]
  },
  {
   "cell_type": "code",
   "execution_count": 1,
   "id": "fc28612e-4342-40e9-952b-d46ed4f7bcfc",
   "metadata": {},
   "outputs": [],
   "source": [
    "import matplotlib.pyplot as plt\n",
    "from PyUncertainNumber import pba\n",
    "import numpy as np\n",
    "from PyUncertainNumber.UC.utils import *\n",
    "import json\n",
    "import scipy.stats as sps\n",
    "import matplotlib as mpl"
   ]
  },
  {
   "cell_type": "code",
   "execution_count": 9,
   "id": "1b0fab2d-de83-4bb5-9540-f70d5854853a",
   "metadata": {},
   "outputs": [],
   "source": [
    "from PyUncertainNumber.pba.pbox_np import *\n",
    "from PyUncertainNumber.pba.params import Params\n",
    "from PyUncertainNumber.pba.utils import plot_intervals, plot_DS_structure\n",
    "from PyUncertainNumber.pba.pbox_base import mixture"
   ]
  },
  {
   "cell_type": "code",
   "execution_count": 3,
   "id": "aadea9c2-dfd9-4255-ae4f-eb8909c35b3f",
   "metadata": {},
   "outputs": [],
   "source": [
    "def quick_check(UN_object):\n",
    "\n",
    "    print(UN_object)\n",
    "    UN_object.show()"
   ]
  },
  {
   "cell_type": "code",
   "execution_count": 4,
   "id": "c2d6b4fb-6957-4826-a770-f5cebcddc14f",
   "metadata": {},
   "outputs": [],
   "source": [
    "%load_ext autoreload\n",
    "%autoreload 2\n",
    "%load_ext rich\n",
    "%matplotlib inline"
   ]
  },
  {
   "cell_type": "markdown",
   "id": "52d16cc9-adbf-40bf-8213-ad470a405bae",
   "metadata": {
    "jp-MarkdownHeadingCollapsed": true
   },
   "source": [
    "# test `Interval`"
   ]
  },
  {
   "cell_type": "code",
   "execution_count": null,
   "id": "7bee9307-bf17-4ad8-98d6-3eadb69457f3",
   "metadata": {},
   "outputs": [],
   "source": [
    "# test basic `Interval` instantiation and Interval arithmetic\n",
    "\n",
    "a = pba.Interval(0,1)\n",
    "b = pba.I(3,4)\n",
    "c = pba.I(10,20)\n",
    "d = pba.Interval(5,8)\n",
    "\n",
    "e = a+b\n",
    "f = b-2\n",
    "g = c*d\n",
    "h = d/c\n",
    "\n",
    "print(e)\n",
    "print(f)\n",
    "print(g)\n",
    "print(h)"
   ]
  },
  {
   "cell_type": "markdown",
   "id": "013591b7-dce9-45f1-bb0a-75773047e1b9",
   "metadata": {
    "jp-MarkdownHeadingCollapsed": true
   },
   "source": [
    "# test `distribution`"
   ]
  },
  {
   "cell_type": "code",
   "execution_count": null,
   "id": "ea166fba-4f89-4b07-9f57-0b868f5cabff",
   "metadata": {},
   "outputs": [],
   "source": [
    "# a gaussian test"
   ]
  },
  {
   "cell_type": "code",
   "execution_count": null,
   "id": "87e9cacf-0e7f-4c49-99c4-7058b240e1fe",
   "metadata": {},
   "outputs": [],
   "source": [
    "gausian_dist = pba.N(0,1)"
   ]
  },
  {
   "cell_type": "code",
   "execution_count": null,
   "id": "0f281227-eee3-4fb9-a0be-b43ac6d6a67b",
   "metadata": {},
   "outputs": [],
   "source": [
    "gausian_dist"
   ]
  },
  {
   "cell_type": "code",
   "execution_count": null,
   "id": "3b795230-faf9-45a8-82c7-5dd699a73f2d",
   "metadata": {},
   "outputs": [],
   "source": [
    "# dir(gausian_dist)"
   ]
  },
  {
   "cell_type": "code",
   "execution_count": null,
   "id": "dab95dce-a013-4d74-a8aa-262581624c90",
   "metadata": {},
   "outputs": [],
   "source": [
    "gausian_dist.ppf(95)"
   ]
  },
  {
   "cell_type": "code",
   "execution_count": null,
   "id": "ce641ef2-c220-460a-847b-6fa7ca930f70",
   "metadata": {},
   "outputs": [],
   "source": [
    "# gausian_dist.left.min()\n",
    "# gausian_dist.left.max()"
   ]
  },
  {
   "attachments": {},
   "cell_type": "markdown",
   "id": "f9f223d9-56cd-49fb-be18-435b662d1caf",
   "metadata": {},
   "source": [
    "- **Question**: what's the range for a Gaussian distribution?"
   ]
  },
  {
   "cell_type": "code",
   "execution_count": null,
   "id": "43cbb156-f548-4d92-ba3f-3ad3975fe568",
   "metadata": {},
   "outputs": [],
   "source": [
    "gausian_dist.rangel\n",
    "# which is gausian_dist._range_list under the hood"
   ]
  },
  {
   "cell_type": "code",
   "execution_count": null,
   "id": "5bace1d1-d884-4776-ac12-c3d0fc394e6f",
   "metadata": {},
   "outputs": [],
   "source": [
    "# gausian_dist.show()\n",
    "\n",
    "gausian_dist.quick_plot()"
   ]
  },
  {
   "cell_type": "code",
   "execution_count": null,
   "id": "b1c64dcc-6ef6-4285-8b3f-93d53e1e9631",
   "metadata": {},
   "outputs": [],
   "source": [
    "gausian_dist.mean_left\n",
    "# gausian_dist.mean_right"
   ]
  },
  {
   "cell_type": "code",
   "execution_count": null,
   "id": "ae981f4b-66b7-49ac-b59e-89c5ed488ae1",
   "metadata": {},
   "outputs": [],
   "source": [
    "# type(gausian_dist.__dict__['left'])"
   ]
  },
  {
   "cell_type": "code",
   "execution_count": null,
   "id": "c61e3a14-eaae-4210-99a8-adc7ddf52dca",
   "metadata": {},
   "outputs": [],
   "source": [
    "# out_dict =  gausian_dist.__dict__"
   ]
  },
  {
   "cell_type": "code",
   "execution_count": null,
   "id": "507e5f44-9d71-4565-85bf-af1fa967b389",
   "metadata": {},
   "outputs": [],
   "source": [
    "# gausian_dist.__dict__"
   ]
  },
  {
   "cell_type": "code",
   "execution_count": null,
   "id": "b95c900c-47c5-4980-9c46-73d0871285e6",
   "metadata": {},
   "outputs": [],
   "source": [
    "# out_dict.keys()"
   ]
  },
  {
   "cell_type": "code",
   "execution_count": null,
   "id": "aa82560e-433f-4761-a12f-986dfb8bab16",
   "metadata": {},
   "outputs": [],
   "source": [
    "# def choose_right_keys(out_dict):\n",
    "#     out_dict.pop('left', 'right')\n",
    "#     return out_dict"
   ]
  },
  {
   "cell_type": "code",
   "execution_count": null,
   "id": "3e5a0cfa-efbf-4139-9fdf-4a267d67f4e9",
   "metadata": {},
   "outputs": [],
   "source": [
    "# removed_dict = choose_right_keys(out_dict)\n",
    "\n",
    "# removed_dict2 = entries_to_remove(entries = ['left', 'right'], the_dict=out_dict)"
   ]
  },
  {
   "cell_type": "code",
   "execution_count": null,
   "id": "9a0bef0f-fbf8-4c9d-a45f-167b6d84ea15",
   "metadata": {},
   "outputs": [],
   "source": [
    "# the JSON object\n",
    "gaussian_json = json.dumps(gausian_dist, cls=ClassEncoder)"
   ]
  },
  {
   "cell_type": "code",
   "execution_count": null,
   "id": "4b7e2cf9-9804-4ccf-896d-0e1ddb45990d",
   "metadata": {},
   "outputs": [],
   "source": [
    "# a uniform test"
   ]
  },
  {
   "cell_type": "code",
   "execution_count": null,
   "id": "3c11dc1e-6c76-47b0-a77c-c76aed1eee1f",
   "metadata": {},
   "outputs": [],
   "source": [
    "uniform_dist = pba.U(0,1, steps=200)"
   ]
  },
  {
   "cell_type": "code",
   "execution_count": null,
   "id": "c931c24d-1130-4c47-9531-422ab8c60177",
   "metadata": {},
   "outputs": [],
   "source": [
    "uniform_dist"
   ]
  },
  {
   "cell_type": "code",
   "execution_count": null,
   "id": "70dfc430-81d7-4200-beb3-3bd009b6ae78",
   "metadata": {},
   "outputs": [],
   "source": [
    "uniform_dist.show()"
   ]
  },
  {
   "cell_type": "code",
   "execution_count": null,
   "id": "ed72109f-4370-43bb-9a6a-e0f4ad50f5f9",
   "metadata": {},
   "outputs": [],
   "source": [
    "uniform_json = json.dumps(uniform_dist, cls=ClassEncoder)"
   ]
  },
  {
   "cell_type": "code",
   "execution_count": null,
   "id": "beca71e3-9421-4241-b7d6-33ce6606cb97",
   "metadata": {},
   "outputs": [],
   "source": [
    "# test dump 2 objects to json"
   ]
  },
  {
   "cell_type": "code",
   "execution_count": null,
   "id": "2d270557-1527-42a3-bdd6-e636ea277293",
   "metadata": {},
   "outputs": [],
   "source": [
    "# globals()"
   ]
  },
  {
   "cell_type": "code",
   "execution_count": null,
   "id": "9d163f2d-f0c6-4b8f-a5fe-bb728caea98c",
   "metadata": {},
   "outputs": [],
   "source": [
    "json_data = {\n",
    "    'first_one': gaussian_json,\n",
    "    'word_list': uniform_json,\n",
    "    # ...\n",
    "}"
   ]
  },
  {
   "cell_type": "code",
   "execution_count": null,
   "id": "3b17dbbe-75b9-475a-85fd-ae8a688b6352",
   "metadata": {},
   "outputs": [],
   "source": [
    "with open('data.json', 'w') as fp:\n",
    "    json.dump(json_data, fp, indent=4)"
   ]
  },
  {
   "cell_type": "code",
   "execution_count": null,
   "id": "0af08818-843c-4b54-a9f3-1f2766a47650",
   "metadata": {},
   "outputs": [],
   "source": [
    "# test P-box instantiation"
   ]
  },
  {
   "cell_type": "markdown",
   "id": "0d67b32e-535c-4184-a6e7-1b4bce77134f",
   "metadata": {},
   "source": [
    "# test `p-box`"
   ]
  },
  {
   "cell_type": "markdown",
   "id": "c1de4740-f192-4aee-88c7-aa57fc72628d",
   "metadata": {},
   "source": [
    "## parametric pbox construction"
   ]
  },
  {
   "cell_type": "markdown",
   "id": "4961ca67-bf4b-483f-aaee-8a58d77de496",
   "metadata": {},
   "source": [
    "**Uniform P-Box**"
   ]
  },
  {
   "cell_type": "code",
   "execution_count": null,
   "id": "c2d7edd3-cbdd-47a2-9580-36a58b27aab9",
   "metadata": {},
   "outputs": [],
   "source": [
    "# Erroflag: uniform pbox steps is 50 --> already solved\n",
    "\n",
    "uniform_pbox = pba.U(pba.I(0,1), pba.I(2,3))"
   ]
  },
  {
   "cell_type": "code",
   "execution_count": null,
   "id": "470acd3c-5c72-4d77-9e39-04a009cb1500",
   "metadata": {},
   "outputs": [],
   "source": [
    "uniform_pbox"
   ]
  },
  {
   "cell_type": "code",
   "execution_count": null,
   "id": "478eaf9d-4d5b-4ce6-a630-ceada7d45a83",
   "metadata": {},
   "outputs": [],
   "source": [
    "# # so the problem happens at instantiation\n",
    "# # uniform_pbox.show()\n",
    "\n",
    "# uniform_pbox.quick_plot()"
   ]
  },
  {
   "cell_type": "markdown",
   "id": "3e199188-56a0-46f4-921b-eb5b51753030",
   "metadata": {
    "jp-MarkdownHeadingCollapsed": true
   },
   "source": [
    "**Gaussian P-Box**"
   ]
  },
  {
   "cell_type": "code",
   "execution_count": null,
   "id": "58dcbe3f-b5e7-42d5-82fa-0264abd5e345",
   "metadata": {},
   "outputs": [],
   "source": [
    "pbox_g1 = pba.N(pba.I(-1,1),1)\n",
    "print(pbox_g1)\n",
    "pbox_g1.quick_plot()"
   ]
  },
  {
   "cell_type": "code",
   "execution_count": null,
   "id": "69357bd0-f8af-42e0-bc92-87bc5b2154ef",
   "metadata": {},
   "outputs": [],
   "source": [
    "# to get the range\n",
    "pbox_g1.rangel"
   ]
  },
  {
   "cell_type": "code",
   "execution_count": null,
   "id": "e49fbdf4-a507-4d1b-89a1-fcfbca5b9799",
   "metadata": {},
   "outputs": [],
   "source": [
    "# # show some basic info\n",
    "# pbox_g1.steps"
   ]
  },
  {
   "cell_type": "code",
   "execution_count": null,
   "id": "8817756b-671c-45cb-97fc-f44dedcdac82",
   "metadata": {},
   "outputs": [],
   "source": [
    "pbox_g2 = pba.N(pba.I(-1,1),3)\n",
    "print(pbox_g2)\n",
    "pbox_g2.show()"
   ]
  },
  {
   "cell_type": "code",
   "execution_count": null,
   "id": "b5610d27-a342-4ed7-b01d-0dea840b3488",
   "metadata": {},
   "outputs": [],
   "source": [
    "p_values = np.linspace(0, 1, 200)\n",
    "fig, ax = plt.subplots()\n",
    "ax.plot(pbox_g2.left, p_values, 'x')\n",
    "ax.plot(pbox_g2.right, p_values, '.')"
   ]
  },
  {
   "cell_type": "code",
   "execution_count": null,
   "id": "27b245a4-4b15-4f5d-a230-a89d88ac5a7e",
   "metadata": {},
   "outputs": [],
   "source": [
    "# ''' work on the step-by-step codes '''\n",
    "\n",
    "# L = pbox_g2.left\n",
    "# R = pbox_g2.right\n",
    "# steps = 200\n",
    "\n",
    "# L.shape\n",
    "# R[-1]\n",
    "# y_axis = np.linspace(0, 1, 201)\n",
    "# LL_n = np.concatenate((L, np.array([R[-1]])))\n",
    "# RR_n = np.concatenate((np.array([L[0]]), R))\n",
    "\n",
    "# fig, ax = plt.subplots()\n",
    "# ax.plot(LL_n, y_axis)\n",
    "# ax.plot(RR_n, y_axis)"
   ]
  },
  {
   "cell_type": "markdown",
   "id": "a8fe1218-cdff-4b47-9e74-a0a5bc472923",
   "metadata": {},
   "source": [
    "**beta P-Box**"
   ]
  },
  {
   "cell_type": "code",
   "execution_count": null,
   "id": "65559c2c-30ad-45b1-a3d7-cc2f35114b52",
   "metadata": {},
   "outputs": [],
   "source": [
    "quick_check(pba.beta([0.7, 1], [3, 4]))"
   ]
  },
  {
   "cell_type": "code",
   "execution_count": null,
   "id": "9f420d3f-b40b-4a81-8e24-2fe00593b931",
   "metadata": {},
   "outputs": [],
   "source": [
    "pba.beta([0.7, 1], [3, 4]).display(style='band')"
   ]
  },
  {
   "cell_type": "markdown",
   "id": "614bb0de-a4cf-46a0-a254-2a0f9c768740",
   "metadata": {},
   "source": [
    "**a grid of Poxes**"
   ]
  },
  {
   "cell_type": "code",
   "execution_count": null,
   "id": "32a6978e-af4e-4c8b-b58f-a92021ce4b8b",
   "metadata": {},
   "outputs": [],
   "source": []
  },
  {
   "cell_type": "code",
   "execution_count": null,
   "id": "5890d6c8-baa7-40cd-a43e-25f8c66b0eed",
   "metadata": {},
   "outputs": [],
   "source": [
    "with mpl.rc_context({\"text.usetex\": True}):\n",
    "    fig, axs = plt.subplots(nrows=2,\n",
    "                            ncols=4,  \n",
    "                            figsize=(12, 7),\n",
    "                            layout=\"constrained\")\n",
    "    \n",
    "    # first row\n",
    "    pba.normal([0, 1], [2, 3]).display(style='band', ax=axs[0, 0], title='N([0,1],[2,3])')\n",
    "    pba.uniform([0, 1], 3).display(style='band', ax= axs[0, 1], title='U([0,1], 3)')\n",
    "    pba.beta([0.7, 1], [3, 4]).display(style='band', ax=axs[0, 2], title='Beta([0.7,1],[3,4])')\n",
    "    pba.gamma([5,6], 2).display(style='band', ax=axs[0, 3], title='Gamma([5,6],2)')\n",
    "    \n",
    "    # second row\n",
    "    pba.lognormal([2, 3], [1, 5]).display(style='band', ax=axs[1, 0], title='Lognormal([2,3],[1,5])')\n",
    "    pba.expon([0.4, 0.6]).display(style='band', ax=axs[1, 1], title='Exp([0.4, 0.6])')\n",
    "    pba.chi2([20, 50]).display(style='band', ax=axs[1, 2], title='Chisquared([20, 50])')\n",
    "    pba.cauchy([1, 100], 1).display(style='band', ax=axs[1, 3], title='Cauchy([1,100], 1)')\n",
    "    plt.show()"
   ]
  },
  {
   "cell_type": "markdown",
   "id": "f099e2ef-e725-480a-b355-787a545d29ba",
   "metadata": {},
   "source": [
    "## nonparametric pbox construction\n",
    "\n",
    "- from known statistical properties"
   ]
  },
  {
   "cell_type": "code",
   "execution_count": null,
   "id": "e454f9ec-8d29-42f6-8772-73b5c8781e86",
   "metadata": {},
   "outputs": [],
   "source": [
    "with mpl.rc_context({\"text.usetex\": True}):\n",
    "    fig, axes = plt.subplots(nrows=1, ncols=4, figsize=(12, 3), layout=\"constrained\")\n",
    "    mean_var(0,1).display(style='band', title='MeanVar(0,1)', ax=axes[0])\n",
    "    min_mean(0, 1).display(style='band', title='MeanMin(1,0)', ax=axes[1])\n",
    "    min_max_mean(0,2,1).display(style='band', title='MeanMinMax(1,0,2)', ax=axes[2])\n",
    "    min_max_mean_var(0, 2, 1, 0.5).display(style='band', title='MinMaxMeanVar(0, 2, 1, 0.5)', ax=axes[3])"
   ]
  },
  {
   "cell_type": "markdown",
   "id": "6ebba977-4083-4f6f-8f62-26af47363211",
   "metadata": {},
   "source": [
    "## Data-based pbox construction"
   ]
  },
  {
   "cell_type": "markdown",
   "id": "666dda22-76e7-4958-991d-11f52f81744a",
   "metadata": {},
   "source": [
    "### data-based free pbox\n",
    "\n",
    "- the bounds of a free p-box by KS confidence limits as follows:\n",
    "- While the Kolmogorov–Smirnov test is usually used to test whether a given F(x) is the underlying probability distribution of Fn(x), the procedure may be inverted to give confidence limits on F(x) itself. If one chooses a critical value of the test statistic Dα such that P(Dn > Dα) = α, then a band of width ±Dα around Fn(x) will entirely contain F(x) with probability 1 − α."
   ]
  },
  {
   "cell_type": "code",
   "execution_count": null,
   "id": "5fa9e641-5432-4566-9e86-e5dc28621097",
   "metadata": {},
   "outputs": [],
   "source": [
    "# use the the dataset from `Surrogate models for uncertainty quantification in the context of imprecise probability modelling`\n",
    "# Params.s"
   ]
  },
  {
   "cell_type": "code",
   "execution_count": null,
   "id": "05ff93dd-4760-4d65-a99c-c43de74c5f18",
   "metadata": {},
   "outputs": [],
   "source": [
    "''' an attempt to compute ks_test statistics as the `dn` '''\n",
    "\n",
    "# ks_result = sps.kstest(s, sps.norm.cdf)\n",
    "# ks_result"
   ]
  },
  {
   "cell_type": "code",
   "execution_count": null,
   "id": "06da980e-88ac-4122-bbf0-696b2a824f59",
   "metadata": {},
   "outputs": [],
   "source": [
    "dn = 0.22"
   ]
  },
  {
   "cell_type": "code",
   "execution_count": null,
   "id": "edda4378-f4a1-4513-8b9a-7f6574462195",
   "metadata": {},
   "outputs": [],
   "source": [
    "ecdf_l, ecdf_r = c_data2freepbox(s, dn, display=True)\n",
    "plt.show()"
   ]
  },
  {
   "cell_type": "markdown",
   "id": "8d0ad27b-9bf7-4f6e-9e5c-f0f0ea28370c",
   "metadata": {},
   "source": [
    "### from interval-valued pbox\n"
   ]
  },
  {
   "cell_type": "code",
   "execution_count": 5,
   "id": "b808ffd7-3a63-4dd4-be3f-c042554237c9",
   "metadata": {},
   "outputs": [],
   "source": [
    "l_bounds = np.array(Params.s) - 0.5\n",
    "u_bounds = np.array(Params.s) + 0.5"
   ]
  },
  {
   "cell_type": "code",
   "execution_count": 6,
   "id": "49f5a355-b143-41f7-ac82-465a2243a6b7",
   "metadata": {},
   "outputs": [],
   "source": [
    "b = [pba.I(couple) for couple in zip(l_bounds, u_bounds)]"
   ]
  },
  {
   "cell_type": "code",
   "execution_count": 7,
   "id": "5e7eb045-675d-41e5-914d-83f7b82eb12f",
   "metadata": {},
   "outputs": [
    {
     "data": {
      "text/html": [
       "<pre style=\"white-space:pre;overflow-x:auto;line-height:normal;font-family:Menlo,'DejaVu Sans Mono',consolas,'Courier New',monospace\"></pre>\n"
      ],
      "text/plain": []
     },
     "metadata": {},
     "output_type": "display_data"
    },
    {
     "data": {
      "text/plain": [
       "\u001b[1;35mText\u001b[0m\u001b[1m(\u001b[0m\u001b[1;36m0.5\u001b[0m, \u001b[1;36m1.0\u001b[0m, \u001b[32m'30 interval measurements'\u001b[0m\u001b[1m)\u001b[0m"
      ]
     },
     "execution_count": 7,
     "metadata": {},
     "output_type": "execute_result"
    },
    {
     "data": {
      "text/html": [
       "<pre style=\"white-space:pre;overflow-x:auto;line-height:normal;font-family:Menlo,'DejaVu Sans Mono',consolas,'Courier New',monospace\"></pre>\n"
      ],
      "text/plain": []
     },
     "metadata": {},
     "output_type": "display_data"
    },
    {
     "data": {
      "image/png": "[encoded data removed]",
      "text/plain": [
       "\u001b[1m<\u001b[0m\u001b[1;95mFigure\u001b[0m\u001b[39m size 64\u001b[0m\u001b[1;36m0x480\u001b[0m\u001b[39m with \u001b[0m\u001b[1;36m1\u001b[0m\u001b[39m Axes\u001b[0m\u001b[1m>\u001b[0m"
      ]
     },
     "metadata": {},
     "output_type": "display_data"
    }
   ],
   "source": [
    "ax = plot_intervals(b)\n",
    "ax.set_title('30 interval measurements')"
   ]
  },
  {
   "cell_type": "code",
   "execution_count": 10,
   "id": "ddb9f568-23c8-4429-8415-9d5dde64e095",
   "metadata": {},
   "outputs": [],
   "source": [
    "pbox_from_imprecise_measurements = mixture(*b)"
   ]
  },
  {
   "cell_type": "code",
   "execution_count": 12,
   "id": "7c87caa3-d6e5-480e-bbdd-f0f4ee696c76",
   "metadata": {},
   "outputs": [
    {
     "data": {
      "text/html": [
       "<pre style=\"white-space:pre;overflow-x:auto;line-height:normal;font-family:Menlo,'DejaVu Sans Mono',consolas,'Courier New',monospace\"></pre>\n"
      ],
      "text/plain": []
     },
     "metadata": {},
     "output_type": "display_data"
    },
    {
     "data": {
      "image/png": "[encoded data removed]",
      "text/plain": [
       "\u001b[1m<\u001b[0m\u001b[1;95mFigure\u001b[0m\u001b[39m size 64\u001b[0m\u001b[1;36m0x480\u001b[0m\u001b[39m with \u001b[0m\u001b[1;36m1\u001b[0m\u001b[39m Axes\u001b[0m\u001b[1m>\u001b[0m"
      ]
     },
     "metadata": {},
     "output_type": "display_data"
    }
   ],
   "source": [
    "_ = pbox_from_imprecise_measurements.display(style='band')"
   ]
  },
  {
   "cell_type": "code",
   "execution_count": null,
   "id": "180bb9ab-9b52-42a8-a435-fc895e9e7cb6",
   "metadata": {},
   "outputs": [],
   "source": []
  },
  {
   "cell_type": "markdown",
   "id": "9b732cd4-87bd-4076-9fd1-2e8d933e3cf7",
   "metadata": {},
   "source": [
    "### data-based parametric pbox\n",
    "\n",
    "Statistical methods exist to estimatet the confidence intervals for fitting a distribution to sample data. Below shows an example of a Gaussian distribution"
   ]
  },
  {
   "cell_type": "code",
   "execution_count": null,
   "id": "ed74912a-6c32-4db0-9fb0-4fdfd90fb89b",
   "metadata": {},
   "outputs": [],
   "source": []
  },
  {
   "cell_type": "code",
   "execution_count": null,
   "id": "fb61dd93-c4fb-408a-b1e4-b14fa1741c4c",
   "metadata": {},
   "outputs": [],
   "source": []
  },
  {
   "cell_type": "code",
   "execution_count": null,
   "id": "67c16e7e-a3a7-4433-9c4f-2a73deb321df",
   "metadata": {},
   "outputs": [],
   "source": []
  },
  {
   "cell_type": "code",
   "execution_count": null,
   "id": "1d718f63-4882-4259-b4bd-0181cb459dd7",
   "metadata": {},
   "outputs": [],
   "source": []
  },
  {
   "cell_type": "code",
   "execution_count": null,
   "id": "aa4c22ae-e3f8-4e49-8952-d854506c6bf0",
   "metadata": {},
   "outputs": [],
   "source": []
  },
  {
   "cell_type": "markdown",
   "id": "3d759b70-940c-4d94-9d1b-8395835f9c1c",
   "metadata": {},
   "source": [
    "### Compound of expert opinions"
   ]
  },
  {
   "cell_type": "code",
   "execution_count": null,
   "id": "687c0664-86d1-459c-9981-6dccba237a9e",
   "metadata": {},
   "outputs": [],
   "source": []
  },
  {
   "cell_type": "code",
   "execution_count": null,
   "id": "2d195fc5-fdcd-4443-8cef-258e0e969666",
   "metadata": {},
   "outputs": [],
   "source": []
  },
  {
   "cell_type": "markdown",
   "id": "a189a405-a656-4dc3-9634-1f9405c54a3e",
   "metadata": {},
   "source": [
    "# Pbox arithmetic !"
   ]
  },
  {
   "cell_type": "markdown",
   "id": "95b47434-6b10-408e-b14d-41e3bedde006",
   "metadata": {},
   "source": [
    "## Pbox unary operations"
   ]
  },
  {
   "cell_type": "code",
   "execution_count": null,
   "id": "d5a3896b-ae27-453f-96b1-4762049eeaed",
   "metadata": {},
   "outputs": [],
   "source": [
    "X = pba.uniform(1,[2,3])\n",
    "X.display(style='band', title='$X \\sim U(1,[2,3])$')"
   ]
  },
  {
   "cell_type": "code",
   "execution_count": null,
   "id": "b08c4fca-85df-4a98-9be6-6a4a1c484222",
   "metadata": {},
   "outputs": [],
   "source": [
    "Y = X**2\n",
    "Y.display(style='band', title='$X^2$')"
   ]
  },
  {
   "cell_type": "code",
   "execution_count": null,
   "id": "865f5736-1110-4a78-a3ae-a7f02e4acd80",
   "metadata": {},
   "outputs": [],
   "source": [
    "# however note that a repeated multiplication will lead to a different result\n",
    "(X * X).display(style='band', title='repeated multiplication: Y = X * X')"
   ]
  },
  {
   "cell_type": "code",
   "execution_count": null,
   "id": "170c3894-2ca8-4b8f-8651-efb2c9a4fc2a",
   "metadata": {},
   "outputs": [],
   "source": [
    "# Y = sin(X)"
   ]
  },
  {
   "cell_type": "code",
   "execution_count": null,
   "id": "85bdf1ff-0126-4232-8e70-a7c4307b0c48",
   "metadata": {},
   "outputs": [],
   "source": [
    "Y = np.sqrt(X)"
   ]
  },
  {
   "cell_type": "code",
   "execution_count": null,
   "id": "526d347e-24e7-478b-a91e-8580eb25f7e5",
   "metadata": {},
   "outputs": [],
   "source": [
    "Y.display(style='band', title='$\\sqrt{X}$')"
   ]
  },
  {
   "cell_type": "code",
   "execution_count": null,
   "id": "950af504-cca2-4551-b921-6eb2c382631c",
   "metadata": {},
   "outputs": [],
   "source": [
    "Y = np.exp(X)"
   ]
  },
  {
   "cell_type": "code",
   "execution_count": null,
   "id": "28e51c93-5bb8-4a7f-b628-78a202d83fb8",
   "metadata": {},
   "outputs": [],
   "source": [
    "Y.display(style='band', title='$e^{X}$')"
   ]
  },
  {
   "cell_type": "markdown",
   "id": "7a97716d-e219-466f-8404-0c14bfe54aeb",
   "metadata": {},
   "source": [
    "..."
   ]
  },
  {
   "cell_type": "code",
   "execution_count": null,
   "id": "7780118e-610f-4e10-b38f-4b6ae71c448e",
   "metadata": {},
   "outputs": [],
   "source": [
    "# native instance methods from Nick ...\n",
    "\n",
    "Y2 = X.exp()"
   ]
  },
  {
   "cell_type": "code",
   "execution_count": null,
   "id": "ea2f6f87-1885-4661-a7a7-e448b58c4bd9",
   "metadata": {},
   "outputs": [],
   "source": [
    "Y2.display()"
   ]
  },
  {
   "cell_type": "code",
   "execution_count": null,
   "id": "4356263d-de91-4cab-9167-0fe58eed9634",
   "metadata": {},
   "outputs": [],
   "source": [
    "''' failed '''\n",
    "\n",
    "# Y = np.sin(X)\n",
    "# Y.display(style='band', title='$\\ln{X}$')"
   ]
  },
  {
   "cell_type": "code",
   "execution_count": null,
   "id": "0b2b13ba-5c4f-4fad-8755-e751b842c61c",
   "metadata": {},
   "outputs": [],
   "source": []
  },
  {
   "cell_type": "code",
   "execution_count": null,
   "id": "5cbd8b3d-98d6-434c-b3e7-19ee24221679",
   "metadata": {},
   "outputs": [],
   "source": []
  },
  {
   "cell_type": "code",
   "execution_count": null,
   "id": "42aa6a3d-92bc-4d6b-bd58-b95bf78f5891",
   "metadata": {},
   "outputs": [],
   "source": []
  },
  {
   "cell_type": "markdown",
   "id": "b3b27d95-d6b5-41b7-90fa-23c8135b4ec3",
   "metadata": {},
   "source": [
    "## pbox binary operations"
   ]
  },
  {
   "cell_type": "code",
   "execution_count": null,
   "id": "4caf1379-029e-473d-8d09-ecf2313bf427",
   "metadata": {},
   "outputs": [],
   "source": []
  },
  {
   "cell_type": "code",
   "execution_count": null,
   "id": "0c971acd-a409-4d48-9eea-e38c7b5ef3b0",
   "metadata": {},
   "outputs": [],
   "source": []
  },
  {
   "cell_type": "markdown",
   "id": "f97fc0a9-a90f-4612-8013-d13571ac53ef",
   "metadata": {},
   "source": []
  },
  {
   "cell_type": "markdown",
   "id": "fd2d3f11-0bf6-459a-879e-8d3b6749c580",
   "metadata": {},
   "source": [
    "## unary operations"
   ]
  },
  {
   "cell_type": "code",
   "execution_count": null,
   "id": "52a6766b-3f15-4cb2-8aca-6220b93aa727",
   "metadata": {},
   "outputs": [],
   "source": [
    "# the base pbox\n"
   ]
  },
  {
   "cell_type": "code",
   "execution_count": null,
   "id": "459e185c-9526-46b4-b00c-c8c5bad4882a",
   "metadata": {},
   "outputs": [],
   "source": []
  },
  {
   "cell_type": "code",
   "execution_count": null,
   "id": "50608857-aa75-4734-9925-b1256a021498",
   "metadata": {},
   "outputs": [],
   "source": []
  },
  {
   "cell_type": "code",
   "execution_count": null,
   "id": "95a0aebb-e9c5-4f33-807b-caefd2abb456",
   "metadata": {},
   "outputs": [],
   "source": []
  },
  {
   "cell_type": "code",
   "execution_count": null,
   "id": "45d4ebb0-f9bc-4bcd-b8fb-56d99ae26fc5",
   "metadata": {},
   "outputs": [],
   "source": [
    "# addition"
   ]
  },
  {
   "cell_type": "code",
   "execution_count": null,
   "id": "9d9879db-ebe9-4503-92f8-3a51afca4ac7",
   "metadata": {},
   "outputs": [],
   "source": [
    "X = pba.U(pba.I(1,2), 4)\n",
    "Y = pba.U(pba.I(1,2), 4)"
   ]
  },
  {
   "cell_type": "code",
   "execution_count": null,
   "id": "79eaf6ae-dbe9-41ae-9a67-a0b101b44edd",
   "metadata": {},
   "outputs": [],
   "source": [
    "X.display(style='band', title='X,Y ~ U([1,2], 4)')"
   ]
  },
  {
   "cell_type": "code",
   "execution_count": null,
   "id": "427ee8a9-78b9-470d-b437-6c58e755650f",
   "metadata": {},
   "outputs": [],
   "source": [
    "# Z = X+Y\n",
    "Z = X+Y\n",
    "Z.display(style='band')"
   ]
  },
  {
   "cell_type": "code",
   "execution_count": null,
   "id": "9856a140-b5ce-4487-8d64-95b24a9e2467",
   "metadata": {},
   "outputs": [],
   "source": [
    "# Z = X * Y\n",
    "Z2 = X * Y\n",
    "Z2.display(style='band')"
   ]
  },
  {
   "cell_type": "code",
   "execution_count": null,
   "id": "8ef15195-f2ff-4dca-a728-3346a570bdea",
   "metadata": {},
   "outputs": [],
   "source": []
  },
  {
   "cell_type": "code",
   "execution_count": null,
   "id": "64e54019-db2d-42f2-8f82-077d3feae6bd",
   "metadata": {},
   "outputs": [],
   "source": []
  },
  {
   "cell_type": "code",
   "execution_count": null,
   "id": "3d1495db-857a-4eed-afc8-7bba0eb76d18",
   "metadata": {},
   "outputs": [],
   "source": [
    "# test pbox addition\n",
    "pbox_addition = pbox_g1 + pbox_g2\n",
    "\n",
    "print(pbox_addition)\n",
    "pbox_addition.show()"
   ]
  },
  {
   "cell_type": "code",
   "execution_count": null,
   "id": "70ce52a3-39f3-424d-877e-81e63545686e",
   "metadata": {},
   "outputs": [],
   "source": [
    "# test pbox addition\n",
    "pbox_sub = pbox_g1 - pbox_g2\n",
    "\n",
    "quick_check(pbox_sub)"
   ]
  },
  {
   "cell_type": "code",
   "execution_count": null,
   "id": "e44db5f7-2811-4b32-bc04-639412983d83",
   "metadata": {},
   "outputs": [],
   "source": [
    "## mixed-type arithmetic (i.e. Interval + PBox)"
   ]
  },
  {
   "cell_type": "code",
   "execution_count": null,
   "id": "79577e5d-60e8-45f3-bafa-3fd81b5edbdf",
   "metadata": {},
   "outputs": [],
   "source": [
    "# quick_check(b)"
   ]
  },
  {
   "cell_type": "code",
   "execution_count": null,
   "id": "f060da1a-5a01-4a24-8679-f49b23b54f2b",
   "metadata": {},
   "outputs": [],
   "source": [
    "print(b)"
   ]
  },
  {
   "cell_type": "code",
   "execution_count": null,
   "id": "4565e3bb-99ce-478d-a597-a2bf34be4a47",
   "metadata": {},
   "outputs": [],
   "source": [
    "pbox_g1"
   ]
  },
  {
   "cell_type": "code",
   "execution_count": null,
   "id": "233f2aca-1792-49a5-a7d4-5bfdba686dc7",
   "metadata": {},
   "outputs": [],
   "source": [
    "mixed_addition = pbox_g1 + b"
   ]
  },
  {
   "cell_type": "code",
   "execution_count": null,
   "id": "458e9435-5e85-4a54-bae8-11ba0833dd98",
   "metadata": {},
   "outputs": [],
   "source": [
    "quick_check(mixed_addition)"
   ]
  },
  {
   "cell_type": "code",
   "execution_count": null,
   "id": "19dbe878-12e6-41fa-9058-487e93eb7e7d",
   "metadata": {},
   "outputs": [],
   "source": [
    "mixed_sub = pbox_g1 - b\n",
    "quick_check(mixed_sub)"
   ]
  },
  {
   "cell_type": "markdown",
   "id": "5cf0dad2-0460-4b52-be1a-078574fbb2ef",
   "metadata": {},
   "source": [
    "# pool"
   ]
  },
  {
   "cell_type": "code",
   "execution_count": null,
   "id": "ba01db93-9cea-460a-99b0-d0cdade670c7",
   "metadata": {},
   "outputs": [],
   "source": [
    "''' json dumps testing '''\n",
    "\n",
    "import json\n",
    "\n",
    "# a Python object (dict):\n",
    "x = {\n",
    "  \"name\": \"John\",\n",
    "  \"age\": 30,\n",
    "  \"city\": \"New York\"\n",
    "}\n",
    "\n",
    "# convert into JSON:\n",
    "y = json.dumps(x)\n",
    "\n",
    "# the result is a JSON string:\n",
    "print(y)\n",
    "\n",
    "with open('test.json', 'w') as f:\n",
    "    json.dump(y, f, indent=4)"
   ]
  },
  {
   "cell_type": "code",
   "execution_count": null,
   "id": "d6323cf8-1190-442e-a969-6d21d0b49691",
   "metadata": {},
   "outputs": [],
   "source": []
  },
  {
   "cell_type": "code",
   "execution_count": null,
   "id": "d57909d9-231a-4949-ae0d-9c43a518e9ce",
   "metadata": {},
   "outputs": [],
   "source": []
  }
 ],
 "metadata": {
  "kernelspec": {
   "display_name": "Python 3 (ipykernel)",
   "language": "python",
   "name": "python3"
  },
  "language_info": {
   "codemirror_mode": {
    "name": "ipython",
    "version": 3
   },
   "file_extension": ".py",
   "mimetype": "text/x-python",
   "name": "python",
   "nbconvert_exporter": "python",
   "pygments_lexer": "ipython3",
   "version": "3.10.14"
  }
 },
 "nbformat": 4,
 "nbformat_minor": 5
}
