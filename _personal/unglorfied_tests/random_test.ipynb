{
 "cells": [
  {
   "cell_type": "code",
   "execution_count": 1,
   "id": "982fce3b-e79a-44d3-912d-030a75563ab8",
   "metadata": {},
   "outputs": [],
   "source": [
    "a = [1,2]"
   ]
  },
  {
   "cell_type": "code",
   "execution_count": 2,
   "id": "f5e39105-922d-465a-bd58-2474f6192c7f",
   "metadata": {},
   "outputs": [],
   "source": [
    "b = [[1,2],[3,4]]"
   ]
  },
  {
   "cell_type": "code",
   "execution_count": 3,
   "id": "fee20f0f-ff2c-4cf3-bed0-43f0636716ea",
   "metadata": {},
   "outputs": [
    {
     "data": {
      "text/plain": [
       "2"
      ]
     },
     "execution_count": 3,
     "metadata": {},
     "output_type": "execute_result"
    }
   ],
   "source": [
    "len(b)"
   ]
  },
  {
   "cell_type": "code",
   "execution_count": null,
   "id": "1a720a9d-c803-491a-b469-3c102dd01333",
   "metadata": {},
   "outputs": [],
   "source": []
  }
 ],
 "metadata": {
  "kernelspec": {
   "display_name": "Python 3 (ipykernel)",
   "language": "python",
   "name": "python3"
  },
  "language_info": {
   "codemirror_mode": {
    "name": "ipython",
    "version": 3
   },
   "file_extension": ".py",
   "mimetype": "text/x-python",
   "name": "python",
   "nbconvert_exporter": "python",
   "pygments_lexer": "ipython3",
   "version": "3.10.14"
  }
 },
 "nbformat": 4,
 "nbformat_minor": 5
}
