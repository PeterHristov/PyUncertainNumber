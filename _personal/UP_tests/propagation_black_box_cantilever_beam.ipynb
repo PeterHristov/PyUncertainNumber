{
 "cells": [
  {
   "cell_type": "markdown",
   "metadata": {},
   "source": [
    "# Import the libraries"
   ]
  },
  {
   "cell_type": "code",
   "execution_count": 28,
   "metadata": {},
   "outputs": [
    {
     "data": {
      "text/plain": [
       "<module 'PyUncertainNumber.UP.main' from 'C:\\\\Users\\\\Ioanna\\\\Documents\\\\GitHub\\\\daws2\\\\src\\\\PyUncertainNumber\\\\UP\\\\main.py'>"
      ]
     },
     "execution_count": 28,
     "metadata": {},
     "output_type": "execute_result"
    }
   ],
   "source": [
    "\n",
    "#from PyUncertainNumber.UC.uncertainNumber import UncertainNumber\n",
    "#from PyUncertainNumber.UC.utils import UNEncoder, cd_root_dir\n",
    "\n",
    "import numpy as np\n",
    "\n",
    "import importlib\n",
    "#import PyUncertainNumber.UP.local_optimisation as up\n",
    "#from PyUncertainNumber.UP.main import up_bb\n",
    "from PyUncertainNumber.UP.local_optimisation import local_optimisation_method \n",
    "import PyUncertainNumber.UP.main as main\n",
    "#importlib.reload(up)\n",
    "importlib.reload(main)\n",
    "\n"
   ]
  },
  {
   "cell_type": "markdown",
   "metadata": {},
   "source": [
    "# Problem setup\n",
    "\n",
    "The numerical example models a simple cantilever beam with length, L, distance to the neutral axis y, Young’s modulus, E, second moment of inertia, I, and load, F. We will compute the stress σ, and the displacement d, in the beam assumign the above input parameters are uncertain numbers.\n",
    "\n",
    "We will use this example throughout the document to illustrate the differences among uncertainty quantification approaches.\n",
    "\n",
    "![alt text](cantilever.png)\n",
    "\n",
    "Fig.1. Cantilever beam with input parameters.  "
   ]
  },
  {
   "cell_type": "markdown",
   "metadata": {},
   "source": [
    "# Create the function\n",
    "\n",
    "A function is created which calculates the stress, σ, as a function of L, y, E, I, and F.\n",
    "- The function's input is only the uncertain numbers.\n",
    "- As sampling techniques are used it is likely that for a certain input combination the airfoil will fail to reach a solution. we use the try function to accomodate for this. "
   ]
  },
  {
   "cell_type": "code",
   "execution_count": 29,
   "metadata": {},
   "outputs": [],
   "source": [
    "def cantilever_beam_deflection(x):\n",
    "    \"\"\"Calculates deflection and stress for a cantilever beam.\n",
    "\n",
    "    Args:\n",
    "        x (np.array): Array of input parameters:\n",
    "            x[0]: Length of the beam (m)\n",
    "            x[1]: Second moment of area (mm^4)\n",
    "            x[2]: Applied force (N)\n",
    "            x[3]: Young's modulus (MPa)\n",
    "\n",
    "    Returns:\n",
    "        float: deflection (m)\n",
    "               Returns np.nan if calculation error occurs.\n",
    "    \"\"\"\n",
    "\n",
    "    beam_length = x[0]\n",
    "    I = x[1]\n",
    "    F = x[2]\n",
    "    E = x[3]\n",
    "    try:  # try is used to account for cases where the input combinations leads to error in fun due to bugs\n",
    "        deflection = F * beam_length**3 / (3 * E * 10**6 * I)  # deflection in m\n",
    "        \n",
    "    except:\n",
    "        deflection = np.nan\n",
    "\n",
    "    return deflection\n",
    "\n",
    "\n"
   ]
  },
  {
   "cell_type": "markdown",
   "metadata": {},
   "source": [
    "## Test the function\n",
    "\n",
    "To ensure that the function yields meaningful results. We consider that input has the nominal values seen below.\n",
    "\n",
    "The function should yield deflection equal to 0.162m.\n",
    " "
   ]
  },
  {
   "cell_type": "code",
   "execution_count": 30,
   "metadata": {},
   "outputs": [
    {
     "name": "stdout",
     "output_type": "stream",
     "text": [
      "0.1621665786917099\n"
     ]
    }
   ],
   "source": [
    "# test the function\n",
    "\n",
    "y  = 0.155 # m\n",
    "L  = 10.05 # m\n",
    "I = 0.000386 # m**4\n",
    "F = 37 # kN\n",
    "E = 200 # GPa\n",
    "\n",
    "x = np.array([L, I, F, E])\n",
    "deflection = cantilever_beam_deflection(x)\n",
    "\n",
    "print(deflection) # 0.162m"
   ]
  },
  {
   "cell_type": "markdown",
   "metadata": {},
   "source": [
    "# Propagate epistemic uncertainty \n"
   ]
  },
  {
   "cell_type": "markdown",
   "metadata": {},
   "source": [
    "\n",
    "## Uncertainty Characterisation\n",
    "\n",
    "Create 5 uncertain numbers assuming they are intervals with the lower and upper values are seen below\n",
    "\n",
    "y = [0.145, 0.155] m\n",
    "\n",
    "L = [9.95, 10.05] m\n",
    "\n",
    "I = [0.0003861591, 0.0005213425] m**4\n",
    "\n",
    "F = [11, 37] kN\n",
    "\n",
    "E = [200, 220] GPa\n",
    " "
   ]
  },
  {
   "cell_type": "code",
   "execution_count": null,
   "metadata": {},
   "outputs": [
    {
     "name": "stdout",
     "output_type": "stream",
     "text": [
      "[[9.950000e+00 1.005000e+01]\n",
      " [3.861591e-04 5.213425e-04]\n",
      " [1.100000e+01 3.700000e+01]\n",
      " [2.000000e+02 2.200000e+02]]\n"
     ]
    }
   ],
   "source": [
    "# %% Inputs\n",
    "#Define input intervals\n",
    "\n",
    "#y = np.array([0.145, 0.155]) #m\n",
    "\n",
    "L =  np.array([9.95, 10.05]) # m\n",
    "\n",
    "I =  np.array([0.0003861591, 0.0005213425])# m**4\n",
    "\n",
    "F =  np.array([11, 37]) # kN\n",
    "\n",
    "E =  np.array([200, 220]) # GPa\n",
    "\n",
    "# Create a 2D np.array with all uncertain input parameters in the **correct** order.\n",
    "xInt = np.array([L, I, F, E])\n",
    "print(xInt)"
   ]
  },
  {
   "cell_type": "markdown",
   "metadata": {},
   "source": [
    "## Uncertainty Propagation methods \n",
    "\n",
    "Choose multiple black box techniques to propagate the intervals through the model. "
   ]
  },
  {
   "cell_type": "markdown",
   "metadata": {},
   "source": [
    "### Endpoint propagation\n",
    "\n",
    "The endpoint propagation method (Dong and Shah, 1987) is a straightforward way to project intervals through the code, by projecting all input combinations produced by the Cartesian product of the interval bounds. This results in a total of n = 2**d. \n",
    "\n",
    "For the working example, there are d = 5 intervals which results in n = 2**5 = 32 input combinations.\n",
    "\n",
    "#### Assumptions\n",
    "\n",
    "\n"
   ]
  },
  {
   "cell_type": "code",
   "execution_count": 32,
   "metadata": {},
   "outputs": [
    {
     "name": "stdout",
     "output_type": "stream",
     "text": [
      "Total number of input combinations for the endpoint method: 16\n"
     ]
    }
   ],
   "source": [
    "# How many input combinations are expected from the endpoint propagation?\n",
    "d = xInt.shape[0] # is the number of uncertain input expressed as intervals.\n",
    "n = 2**d # The total number of combinations \n",
    "print(\"Total number of input combinations for the endpoint method:\", n) "
   ]
  },
  {
   "cell_type": "code",
   "execution_count": null,
   "metadata": {},
   "outputs": [
    {
     "name": "stdout",
     "output_type": "stream",
     "text": [
      "<class 'numpy.float64'>\n"
     ]
    },
    {
     "name": "stderr",
     "output_type": "stream",
     "text": [
      "100%|██████████| 15/15 [00:00<00:00, 10958.82it/s]"
     ]
    },
    {
     "name": "stdout",
     "output_type": "stream",
     "text": [
      "[0.03149161]\n",
      "[0.16209977]\n"
     ]
    },
    {
     "name": "stderr",
     "output_type": "stream",
     "text": [
      "\n"
     ]
    }
   ],
   "source": [
    "method = \"endpoint\"\n",
    "base_path = \"C:\\\\Users\\\\Ioanna\\\\Documents\\\\GitHub\\\\daws2\\\\cantilever_beam\"\n",
    "min_y, max_y, x_miny, x_maxy = main.up_bb(xInt, cantilever_beam_deflection, n = None, method= method, save_raw_data = \"no\", base_path = base_path)\n",
    "\n",
    "#TODO envelope the results of min_y nad max_y \n",
    "# plot the extremities for each input variable\n",
    "print(min_y)\n",
    "print(max_y)\n"
   ]
  },
  {
   "cell_type": "code",
   "execution_count": 34,
   "metadata": {},
   "outputs": [
    {
     "name": "stderr",
     "output_type": "stream",
     "text": [
      "100%|██████████| 15/15 [00:00<?, ?it/s]"
     ]
    },
    {
     "name": "stdout",
     "output_type": "stream",
     "text": [
      "There are no NA values produced by the input\n"
     ]
    },
    {
     "name": "stderr",
     "output_type": "stream",
     "text": [
      "\n"
     ]
    }
   ],
   "source": [
    "# The endpoint method is being called \n",
    "\n",
    "method = \"endpoint\"\n",
    "base_path = \"C:\\\\Users\\\\Ioanna\\\\Documents\\\\GitHub\\\\daws2\\\\cantilever_beam\"\n",
    "a = main.up_bb(xInt, cantilever_beam_deflection, n = None, method= method, save_raw_data=\"yes\", base_path = base_path)\n",
    "              \n",
    "\n",
    "#min_y, max_y, x_miny, x_maxy = up.endpoints_method(xInt, cantilever_beam_deflection, save_raw_data = 'no')\n",
    "\n",
    "# check the results.\n",
    "# print(min_y)\n",
    "# print(max_y)\n",
    "# print(x_miny)\n",
    "# print(x_maxy)\n"
   ]
  },
  {
   "cell_type": "code",
   "execution_count": 35,
   "metadata": {},
   "outputs": [
    {
     "name": "stderr",
     "output_type": "stream",
     "text": [
      "100%|██████████| 9/9 [00:00<?, ?it/s]\n"
     ]
    }
   ],
   "source": [
    "method = \"montecarlo\"\n",
    "base_path = \"C:\\\\Users\\\\Ioanna\\\\Documents\\\\GitHub\\\\daws2\\\\cantilever_beam\"\n",
    "a = main.up_bb(xInt, cantilever_beam_deflection, n = 10, method= method, save_raw_data=\"no\", base_path = base_path)\n",
    "              \n",
    "\n",
    "#min_y, max_y, x_miny, x_maxy = up.endpoints_method(xInt, cantilever_beam_deflection, save_raw_data = 'no')\n",
    "\n",
    "# check the results.\n",
    "# print(min_y)\n",
    "# print(max_y)\n",
    "# print(x_miny)\n",
    "# print(x_maxy)\n"
   ]
  },
  {
   "cell_type": "code",
   "execution_count": 36,
   "metadata": {},
   "outputs": [
    {
     "name": "stdout",
     "output_type": "stream",
     "text": [
      "(array([0.03628297]), array([0.13800991]), array([[1.00387387e+01, 5.19537641e-04, 1.22817906e+01, 2.19714154e+02]]), array([[1.00387734e+01, 4.36176576e-04, 3.67322999e+01, 2.05776705e+02]]))\n"
     ]
    }
   ],
   "source": [
    "print(a)"
   ]
  },
  {
   "cell_type": "code",
   "execution_count": 42,
   "metadata": {},
   "outputs": [
    {
     "name": "stdout",
     "output_type": "stream",
     "text": [
      "The intermediate steps cannot be saved for local optimisation\n",
      "minimisation: Optimization terminated successfully.\n",
      "maximisation: Optimization terminated successfully.\n"
     ]
    }
   ],
   "source": [
    "method = \"local_optimisation\"\n",
    "#base_path = \"C:\\\\Users\\\\Ioanna\\\\Documents\\\\GitHub\\\\daws2\\\\cantilever_beam\"\n",
    "a = main.up_bb(xInt, cantilever_beam_deflection, x0 = None, method = method, method_loc = 'Nelder-Mead')\n",
    "              \n",
    "#print(a)"
   ]
  },
  {
   "cell_type": "code",
   "execution_count": 38,
   "metadata": {},
   "outputs": [
    {
     "name": "stdout",
     "output_type": "stream",
     "text": [
      "(np.float64(-0.16209976503208137), np.float64(0.031491609802257306), array([1.005000e+01, 3.861591e-04, 3.700000e+01, 2.000000e+02]), array([9.950000e+00, 5.213425e-04, 1.100000e+01, 2.200000e+02]), 'Optimization terminated successfully.', 'Optimization terminated successfully.', 26, 26, 41, 40, (array([[1.005000e+01, 3.861591e-04, 3.700000e+01, 2.000000e+02],\n",
      "       [1.005000e+01, 3.861591e-04, 3.700000e+01, 2.000000e+02],\n",
      "       [1.005000e+01, 3.861591e-04, 3.700000e+01, 2.000000e+02],\n",
      "       [1.005000e+01, 3.861591e-04, 3.700000e+01, 2.000000e+02],\n",
      "       [1.005000e+01, 3.861591e-04, 3.700000e+01, 2.000000e+02]]), array([-0.16209977, -0.16209977, -0.16209977, -0.16209977, -0.16209977])), (array([[9.950000e+00, 5.213425e-04, 1.100000e+01, 2.200000e+02],\n",
      "       [9.950000e+00, 5.213425e-04, 1.100000e+01, 2.200000e+02],\n",
      "       [9.950000e+00, 5.213425e-04, 1.100000e+01, 2.200000e+02],\n",
      "       [9.950000e+00, 5.213425e-04, 1.100000e+01, 2.200000e+02],\n",
      "       [9.950000e+00, 5.213425e-04, 1.100000e+01, 2.200000e+02]]), array([0.03149161, 0.03149161, 0.03149161, 0.03149161, 0.03149161])))\n"
     ]
    }
   ],
   "source": [
    "# The local_optimisation is being called \n",
    "a = local_optimisation_method(xInt, cantilever_beam_deflection, x0 = None, method_loc = 'Nelder-Mead')\n",
    "\n",
    "# check the results.\n",
    "print(a)"
   ]
  },
  {
   "cell_type": "markdown",
   "metadata": {},
   "source": [
    "### Subinterval reconstitution propagation\n",
    "\n",
    "The input intervals are partitioned into smaller intervals, which are then propagated through the model using endpoint propagation and the output interval can be reassembled (Ferson and Hajagos, 2004)."
   ]
  },
  {
   "cell_type": "code",
   "execution_count": 39,
   "metadata": {},
   "outputs": [
    {
     "name": "stdout",
     "output_type": "stream",
     "text": [
      "Total number of input combinations for the subinterval reconstitution method: 3125\n"
     ]
    }
   ],
   "source": [
    "# How many input combinations are expected from the subinterval reconstitution propagation?\n",
    "d = 5 # is the number of uncertain input expressed as intervals.\n",
    "m = 4 # is the number of partitions. \n",
    "n = (m+1)**d # The total number of combinations \n",
    "print(\"Total number of input combinations for the subinterval reconstitution method:\", n) "
   ]
  },
  {
   "cell_type": "code",
   "execution_count": null,
   "metadata": {},
   "outputs": [],
   "source": []
  },
  {
   "cell_type": "markdown",
   "metadata": {},
   "source": [
    "### Sampling propagation\n",
    "\n",
    "- Brute Monte Carlo\n",
    "- Latin Hypercube"
   ]
  },
  {
   "cell_type": "code",
   "execution_count": null,
   "metadata": {},
   "outputs": [],
   "source": []
  },
  {
   "cell_type": "code",
   "execution_count": 40,
   "metadata": {},
   "outputs": [],
   "source": [
    "# Check the results"
   ]
  },
  {
   "cell_type": "markdown",
   "metadata": {},
   "source": [
    "### Optimisation\n",
    "\n",
    "- Local optimisation\n",
    "- Genetic algorithm\n"
   ]
  }
 ],
 "metadata": {
  "kernelspec": {
   "display_name": "Python 3",
   "language": "python",
   "name": "python3"
  },
  "language_info": {
   "codemirror_mode": {
    "name": "ipython",
    "version": 3
   },
   "file_extension": ".py",
   "mimetype": "text/x-python",
   "name": "python",
   "nbconvert_exporter": "python",
   "pygments_lexer": "ipython3",
   "version": "3.12.4"
  }
 },
 "nbformat": 4,
 "nbformat_minor": 2
}
