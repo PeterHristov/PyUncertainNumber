{
 "cells": [
  {
   "cell_type": "code",
   "execution_count": 1,
   "id": "ef908103-c8d3-4948-88f1-7d48e7f57ea7",
   "metadata": {},
   "outputs": [],
   "source": [
    "import numpy as np\n",
    "from scipy.stats import norm\n",
    "import matplotlib.pyplot as plt"
   ]
  },
  {
   "cell_type": "code",
   "execution_count": 2,
   "id": "80c6bac3-9bfe-4b8e-a087-1b3fa9d2437e",
   "metadata": {},
   "outputs": [
    {
     "data": {
      "text/plain": [
       "scipy.stats._continuous_distns.norm_gen"
      ]
     },
     "execution_count": 2,
     "metadata": {},
     "output_type": "execute_result"
    }
   ],
   "source": [
    "type(norm)"
   ]
  },
  {
   "cell_type": "code",
   "execution_count": null,
   "id": "52d924c0-1f21-4f68-9ca1-32f219fbebc2",
   "metadata": {},
   "outputs": [],
   "source": [
    "# x=norm.ppf(0.01)\n",
    "# norm.pdf(x, loc=1., scale=2)"
   ]
  },
  {
   "cell_type": "code",
   "execution_count": null,
   "id": "756e1ad4-fb80-49b4-880b-d5013a0c1cfb",
   "metadata": {},
   "outputs": [],
   "source": [
    "# generate samples\n",
    "s = norm.rvs(loc=1, scale=2, size=1000)"
   ]
  },
  {
   "cell_type": "code",
   "execution_count": null,
   "id": "c7a098d2-5d5f-4f78-9958-58639e0e1d57",
   "metadata": {},
   "outputs": [],
   "source": [
    "s.shape"
   ]
  },
  {
   "cell_type": "code",
   "execution_count": null,
   "id": "1c484579-00dd-4d6e-9c49-e5d1d408d20b",
   "metadata": {},
   "outputs": [],
   "source": [
    "fig, ax = plt.subplots()\n",
    "ax.hist(s, density=True, bins='auto', histtype='stepfilled', alpha=0.2, label='samples')\n",
    "# ax.set_xlim([x[0], x[-1]])\n",
    "ax.legend(loc='best', frameon=False)\n",
    "plt.show()"
   ]
  },
  {
   "cell_type": "code",
   "execution_count": null,
   "id": "6a5261e1-b7fb-4014-8188-54a88f042ff9",
   "metadata": {},
   "outputs": [],
   "source": [
    "# get the PDF line\n",
    "\n",
    "x = np.linspace(norm.ppf(0.01), norm.ppf(0.99), 100)"
   ]
  },
  {
   "cell_type": "code",
   "execution_count": null,
   "id": "99a0fff1-4eb6-456e-ac0f-94cc92a260df",
   "metadata": {},
   "outputs": [],
   "source": [
    "_pdf = norm.pdf(x)"
   ]
  },
  {
   "cell_type": "code",
   "execution_count": null,
   "id": "a9b8c59a-f920-4cca-a3a4-dbc9e81cf9b9",
   "metadata": {},
   "outputs": [],
   "source": [
    "_pdf.shape"
   ]
  },
  {
   "cell_type": "code",
   "execution_count": null,
   "id": "dd7c594c-a732-446c-a2b3-93ea06bab5b3",
   "metadata": {},
   "outputs": [],
   "source": []
  },
  {
   "cell_type": "code",
   "execution_count": null,
   "id": "5c2cc58e-513a-439a-bf59-3ff31df2960f",
   "metadata": {},
   "outputs": [],
   "source": []
  },
  {
   "cell_type": "code",
   "execution_count": 3,
   "id": "1415114e-8a78-42d0-b213-c8c33318dfc9",
   "metadata": {},
   "outputs": [],
   "source": [
    "t_norm = norm(1,2)"
   ]
  },
  {
   "cell_type": "code",
   "execution_count": 4,
   "id": "a1fc441d-d4fc-4e4b-af61-f91bdf90fa19",
   "metadata": {},
   "outputs": [
    {
     "data": {
      "text/plain": [
       "<scipy.stats._distn_infrastructure.rv_continuous_frozen at 0x7fe989752740>"
      ]
     },
     "execution_count": 4,
     "metadata": {},
     "output_type": "execute_result"
    }
   ],
   "source": [
    "t_norm"
   ]
  },
  {
   "cell_type": "code",
   "execution_count": null,
   "id": "39f9e8d9-a48d-42f9-b6c5-aac8bc3f0e42",
   "metadata": {},
   "outputs": [],
   "source": []
  }
 ],
 "metadata": {
  "kernelspec": {
   "display_name": "pyun",
   "language": "python",
   "name": "pyun"
  },
  "language_info": {
   "codemirror_mode": {
    "name": "ipython",
    "version": 3
   },
   "file_extension": ".py",
   "mimetype": "text/x-python",
   "name": "python",
   "nbconvert_exporter": "python",
   "pygments_lexer": "ipython3",
   "version": "3.10.14"
  }
 },
 "nbformat": 4,
 "nbformat_minor": 5
}
